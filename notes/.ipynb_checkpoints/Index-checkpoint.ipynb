{
 "cells": [
  {
   "cell_type": "markdown",
   "metadata": {},
   "source": [
    "<!--BOOK_INFORMATION-->\n",
    "<img align=\"left\" style=\"padding-right:10px;\" src=\"http://nbviewer.jupyter.org/github/jakevdp/WhirlwindTourOfPython/blob/master/fig/cover-small.jpg\">\n",
    "*This notebook contains an excerpt from the [Whirlwind Tour of Python](http://www.oreilly.com/programming/free/a-whirlwind-tour-of-python.csp) by Jake VanderPlas; the content is available [on GitHub](https://github.com/jakevdp/WhirlwindTourOfPython).*\n",
    "\n",
    "*The text and code are released under the [CC0](https://github.com/jakevdp/WhirlwindTourOfPython/blob/master/LICENSE) license; see also the companion project, the [Python Data Science Handbook](https://github.com/jakevdp/PythonDataScienceHandbook).*\n"
   ]
  },
  {
   "cell_type": "markdown",
   "metadata": {},
   "source": [
    "<!--NAVIGATION-->\n",
    "| [Spis treści](Index.ipynb) | [Uruchamiamy pierwszy skrypt](01-How-to-Run-Python-Code.ipynb) >"
   ]
  },
  {
   "cell_type": "markdown",
   "metadata": {},
   "source": [
    "# 1. Wprowadzenie"
   ]
  },
  {
   "cell_type": "markdown",
   "metadata": {},
   "source": [
    "Python został stworzony pod koniec lat osiemdziesiątych jako język do nauki i pisania skryptów, jednakże od tamtego czasu Python stał się niezbędnym narzędziem dla wielu programistów, inżynierów, badaczy i naukowców zajmujących się danymi w środowisku akademickim i przemysłowym.\n",
    "Autor tej książki jako astronom, który skupił się na budowaniu i promowaniu wolnych, otwartych narzędzi dla intensywnie wykorzystujących dane naukowe, odkrył, że Python jest niemal idealnie dopasowany do problemów, z jakimi boryka się z dnia na dzień, niezależnie od tego, czy analizuje on ogromne astronomicznne zbiory danych, przetwarza dane z sieci lub opracowuje skrypty automatyzacji codziennych zadań badawczych.\n",
    "\n",
    "Atrakcyjność Pythona wynika z jego prostoty i wygody korzystania z dużego ekosystemu narzędzi specyficznych dla wielu zastosowań, które zostały zbudowane na nim.\n",
    "\n",
    "Na przykład większość kodu Pythona w dziedzinach obliczeniowych i naukach o danych zbudowana została wokół grupy rozbudowanych i użytecznych pakietów (często otwartoźródłowych):\n",
    "\n",
    "- [NumPy](http://numpy.org) zapewnia wydajne przechowywanie i obliczanie wielowymiarowych macierzy danych.\n",
    "- [SciPy](http://scipy.org) zawiera szeroki wachlarz narzędzi numerycznych, takich jak numeryczne całkowanie i interpolacja.\n",
    "- [Pandas](http://pandas.pydata.org) zapewnia obiekt typu DataFrame wraz z potężnym zestawem metod do manipulowania, filtrowania, grupowania i przekształcania danych.\n",
    "- [Matplotlib](http://matplotlib.org) zapewnia użyteczny interfejs do tworzenia wykresów i liczb o jakości publikacji.\n",
    "- [Scikit-Learn](http://scikit-learn.org) zapewnia jednolity zestaw narzędzi do stosowania typowych algorytmów uczenia maszynowego do danych.\n",
    "- [IPython/Jupyter](http://jupyter.org) zapewnia rozszerzony terminal i interaktywne środowisko notatników, które są przydatne do wszalekiej analizy danych, a także do tworzenia interaktywnych, wykonywalnych dokumentów, jak na przykład ten kurs.\n",
    "\n",
    "Nie mniej ważne są liczne inne narzędzia i pakiety, które im towarzyszą: jeśli istnieje zadanie naukowe lub analiza danych, które chcesz wykonać, istnieje szansa, że ktoś napisał pakiet, który zrobi to za ciebie.\n",
    "\n",
    "Korzystanie z możliwości tych bibliotek wymaga jednak najpierw znajomości samego języka Python.\n",
    "Często spotykamy studentów i kolegów, którzy mają (czasami rozległe) doświadczenie w informatyce w jakimś języku - MATLAB, R, Java, C ++ itd. - i szukają krótkiego, ale kompleksowego kursu języka Python, który szanuje ich poziom wiedza zamiast zaczynać od zera. Ten podręcznik został napisany, w celu wypełnienie tej niszy.\n",
    "\n",
    "Kurs ten pozwoli na zaznajomienie się z podstawową składnią i semantyką Pythona, opowie o wbudowanych typach i strukturach danych, definicji funkcji, instrukcji sterujących i innych aspektach tego języka.\n",
    "Celem tego kursu jest, aby czytelnicy otrzymali solidne fundamenty, pozwalające na dalszą naukę."
   ]
  },
  {
   "attachments": {},
   "cell_type": "markdown",
   "metadata": {},
   "source": [
    "## Więc czym jest Python?\n",
    "\n",
    "<ul>\n",
    "    <li>Język programowania</li>\n",
    "    <li>Interpretowano-kompilowany</li>\n",
    "    <li>Elastyczny</li>\n",
    "    <li>Łatwy do nauki</li>\n",
    "    <li>O bogatej funkcjonalności</li>\n",
    "    <li>Posiada wydajne wysoko poziomowe struktury danych </li>\n",
    "    <li>Proste, ale efektywne podejście do programowania zorientowanego obiektowo</li>\n",
    "    <li>Elegancka składni, dynamiczne typowanie czynią i interpretowany charakter cynią go idealnym w RAD i do pisania skryptów</li>\n",
    "    <li>Open source, wiele bibliotek standardowych</li>\n",
    "    <li>Posiada interfejsy do wielu języków programowania</li>\n",
    "    <li>Bardzo łatwo można rozbudować interpreter o funkcje i typy zaimplementowane w C lub C++</li>\n",
    "    <li>Uwaga w użyciu są dwie niekompatybilne wersje języka:\n",
    "        2.x i 3.x</li>\n",
    "    <li>Będziemy mówić głównie o wersji 3 (za wyjątkiem BioPython-a)</li>\n",
    "    <li>Nazwa pochodzi od “Monty Python’s Flying Circus” i nie ma nic wspólnego z gadami ;)</li>\n",
    "</ul>\n"
   ]
  },
  {
   "cell_type": "markdown",
   "metadata": {},
   "source": [
    "### Materiały dodatkowe\n",
    "\n",
    "Oryginalne materały dodatkowe można pobrać z: \n",
    "https://github.com/jakevdp/WhirlwindTourOfPython/.\n",
    "\n",
    "Zadania do naszego kursu:\n",
    "\n",
    "https://github.com/kkingstoun/Kurs-Pythona\n"
   ]
  },
  {
   "cell_type": "markdown",
   "metadata": {},
   "source": [
    "## Instalacja środowiska\n",
    "\n",
    "Instalowanie Pythona i pakietu bibliotek, które umożliwiają naukowe przetwarzanie danych, jest proste, bez względu na to, czy korzystasz z systemu Windows, Linux czy Mac OS X. W tej sekcji omówiono niektóre z rozważań podczas konfigurowania komputera."
   ]
  },
  {
   "cell_type": "markdown",
   "metadata": {},
   "source": [
    "### Python 2 vs Python 3\n",
    "\n",
    "Ten kurs używa składni Pythona 3, który zawiera ulepszenia językowe, które nie są kompatybilne z serią Python 2.x. Chociaż Python 3.0 został po raz pierwszy wydany w 2008 roku, jego wdrożenie było stosunkowo powolne, szczególnie w społecznościach naukowych i związanych z tworzeniem stron internetowych. Dzieje się tak przede wszystkim dlatego, że wiele niezbędnych pakietów i zestawów narzędziowych zostało dostosowanych do nowych języków wewnętrznych. Jednak od początku 2014 roku stabilne wydania najważniejszych narzędzi w ekosystemie nauki o danych były w pełni kompatybilne zarówno z Pythonem 2, jak i 3, więc ta książka będzie używać nowszej składni Pythona 3. Mimo że w tym przypadku znaczna większość fragmentów kodu w tej książce również będzie działała bez modyfikacji w Pythonie 2: w przypadkach, w których używana jest składnia niekompatybilna z Py2, dołożę wszelkich starań, aby wyraźnie to zauważyć."
   ]
  },
  {
   "cell_type": "markdown",
   "metadata": {},
   "source": [
    "### Conda\n",
    "\n",
    "Chociaż istnieje wiele sposobów na zainstalowanie Pythona, ten, który proponujemy to (szczególnie jeśli chciałbyś w końcu użyć wspomnianych wyżej narzędzi do nauki danych) użycie wieloplatformowej dystrybucji Anacondy.\n",
    "\n",
    "Istnieją dwa typy dystrybucji Anaconda:\n",
    "\n",
    "- [Miniconda](http://conda.pydata.org/miniconda.html) daje ci sam interpreter Pythona wraz z narzędziem wiersza poleceń o nazwie ``conda``, które działa jako wieloplatformowy menedżer pakietów dostosowany do pakietów Pythona, podobny duchowo do narzędzi` `apt`` lub` `yum`` użytkownicy Linuksa mogą być zaznajomieni.\n",
    "- [Anaconda](https://www.continuum.io/downloads) obejmuje zarówno język Python, jak i \"conda\", a ponadto zawiera pakiet innych wstępnie zainstalowanych pakietów przeznaczonych do obliczeń naukowych.\n",
    "\n",
    "Każdy z pakietów dołączonych do Anacondy można również zainstalować ręcznie na Minicondzie; z tego powodu proponuję zacząć od Minicondy.\n",
    "\n",
    "Aby rozpocząć, pobierz i zainstaluj pakiet Miniconda - wybierz wersję z Pythonem 3 - a następnie zainstaluj pakiet notebook IPython:\n",
    "\n",
    "```\n",
    "[~] $ conda install ipython-notebook\n",
    "```\n",
    "\n",
    "Aby uzyskać więcej informacji na temat `` conda``, w tym informacje na temat tworzenia i używania środowisk conda, zapoznaj się z dokumentacją pakietu Miniconda połączoną na powyższej stronie."
   ]
  },
  {
   "cell_type": "markdown",
   "metadata": {},
   "source": [
    "## Ciekaowstka\n",
    "\n",
    "Otwórzcie konsole (BASH / WINDOWS POWERSHELL) a w niej wpiszcie:\n",
    "\n",
    "\n",
    "```\n",
    "python\n",
    "```\n",
    "\n",
    ", jeśli pojawią się komunikaty interpretera pythona, będzie to oznaczało, że instalacja środowiska python przebiegła pomyślnie.\n",
    "\n",
    "Następnie wpiszcie:"
   ]
  },
  {
   "cell_type": "markdown",
   "metadata": {},
   "source": [
    "```\n",
    "import this\n",
    "```"
   ]
  },
  {
   "cell_type": "markdown",
   "metadata": {},
   "source": [
    "Mając to na uwadze, zacznijmy naszą podróż po języku Python"
   ]
  },
  {
   "cell_type": "markdown",
   "metadata": {},
   "source": [
    "<!--NAVIGATION-->\n",
    "| [Spis treści](Index.ipynb) | [Uruchamiamy pierwszy skrypt](01-How-to-Run-Python-Code.ipynb) >"
   ]
  },
  {
   "cell_type": "code",
   "execution_count": null,
   "metadata": {},
   "outputs": [],
   "source": []
  },
  {
   "cell_type": "code",
   "execution_count": null,
   "metadata": {},
   "outputs": [],
   "source": []
  }
 ],
 "metadata": {
  "anaconda-cloud": {},
  "kernelspec": {
   "display_name": "Python 3",
   "language": "python",
   "name": "python3"
  },
  "language_info": {
   "codemirror_mode": {
    "name": "ipython",
    "version": 3
   },
   "file_extension": ".py",
   "mimetype": "text/x-python",
   "name": "python",
   "nbconvert_exporter": "python",
   "pygments_lexer": "ipython3",
   "version": "3.6.4"
  }
 },
 "nbformat": 4,
 "nbformat_minor": 1
}
