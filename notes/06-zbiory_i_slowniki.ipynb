{
 "cells": [
  {
   "cell_type": "markdown",
   "id": "c0519d54",
   "metadata": {},
   "source": [
    "\n",
    "## Słowniki\n",
    "\n",
    "#### Wprowadzenie\n",
    "\n",
    "Słowniki w Pythonie pozwalają na indeksowanie za pomocą kluczy, co ułatwia dostęp do wartości.\n",
    "    "
   ]
  },
  {
   "cell_type": "code",
   "execution_count": null,
   "id": "e8bc8325",
   "metadata": {},
   "outputs": [],
   "source": [
    "\n",
    "slownik_pol_ang = { 'pies': 'dog', 'kot': 'cat', 'adres': 'address'}\n",
    "print(slownik_pol_ang['kot'])\n",
    "    "
   ]
  },
  {
   "cell_type": "markdown",
   "id": "7a0c5508",
   "metadata": {},
   "source": [
    "Jak jednak znaleźć teraz tłumaczenie słowa 'kot'? Musimy przejść po całej\n",
    "liście i sprawdzać pierwszy element każdej krotki:\n"
   ]
  },
  {
   "cell_type": "code",
   "execution_count": null,
   "id": "3efc0628",
   "metadata": {},
   "outputs": [],
   "source": [
    "for para in pol_ang:\n",
    "    if para[0] == 'kot':\n",
    "        print(para[1])\n"
   ]
  },
  {
   "cell_type": "markdown",
   "id": "5ba52a52",
   "metadata": {},
   "source": [
    "Tymczasem, wykorzystując typ zwany słownikiem, możemy to zrobić w nieco\n",
    "przyjemniejszy sposób:"
   ]
  },
  {
   "cell_type": "code",
   "execution_count": 10,
   "id": "37a3e804",
   "metadata": {},
   "outputs": [
    {
     "name": "stdout",
     "output_type": "stream",
     "text": [
      "cat\n"
     ]
    }
   ],
   "source": [
    "slownik_pol_ang = { 'pies': 'dog',\n",
    "                    'kot': 'cat',\n",
    "                    'adres': 'address'}\n",
    "# tłumaczenie słowa kot\n",
    "print(slownik_pol_ang['kot'])\n"
   ]
  },
  {
   "cell_type": "markdown",
   "id": "a6fc3bea",
   "metadata": {},
   "source": [
    "...i znacznie szybszy. Jak widzimy, słowniki można indeksować napisami. Ale nie\n",
    "tylko, o czym za chwilę. Najpierw, jak robiliśmy w przypadku poprzednio\n",
    "omawianych typów, powiedzmy trochę o ich inicjalizacji."
   ]
  },
  {
   "cell_type": "markdown",
   "id": "b8751a0b",
   "metadata": {},
   "source": [
    "\n",
    "### Tworzenie słowników\n",
    "\n",
    "Słowniki definiuje się podobnie do list czy krotek, korzystając z nawiasów\n",
    "klamrowych:\n",
    "```python\n",
    "pusty_slownik = {}\n",
    "```\n",
    "\n",
    "Jednak słowniki można tworzyć na kilka sposobów.\n",
    "    "
   ]
  },
  {
   "cell_type": "code",
   "execution_count": 2,
   "id": "0ca67397",
   "metadata": {},
   "outputs": [
    {
     "name": "stdout",
     "output_type": "stream",
     "text": [
      "{'pies': 'dog', 'kot': 'cat', 'adres': 'address'}\n"
     ]
    }
   ],
   "source": [
    "\n",
    "pusty_slownik = {}\n",
    "pol_ang = [('pies', 'dog'), ('kot', 'cat'), ('adres', 'address')]\n",
    "a = dict(pol_ang)\n",
    "print(a)\n",
    "    "
   ]
  },
  {
   "cell_type": "markdown",
   "id": "0031fa9a",
   "metadata": {},
   "source": [
    "Jak widzimy, zmieniła się kolejność elementów - w przypadku słowników nie jest\n",
    "ona określona, nie można więc zapytać, np. jaki jest trzeci element słownika.\n",
    "Odwołujemy się do nich jedynie przez użycie klucza."
   ]
  },
  {
   "cell_type": "markdown",
   "id": "cc765973",
   "metadata": {},
   "source": [
    "\n",
    "### Dostęp do elementów\n",
    "\n",
    "Dostęp do elementów słownika oraz ich modyfikacja.\n",
    "    "
   ]
  },
  {
   "cell_type": "code",
   "execution_count": 3,
   "id": "061cc76b",
   "metadata": {},
   "outputs": [
    {
     "name": "stdout",
     "output_type": "stream",
     "text": [
      "dog\n",
      "wolf\n"
     ]
    }
   ],
   "source": [
    "\n",
    "print(a.get('pies'))\n",
    "a['wilk'] = 'wolf'\n",
    "print(a['wilk'])\n",
    "    "
   ]
  },
  {
   "cell_type": "markdown",
   "id": "b5318419",
   "metadata": {},
   "source": [
    "\n",
    "### Modyfikacja słowników\n",
    "Do pojedynczego elementu słownika możemy się dostać zasadniczo na dwa sposoby:\n",
    "podając klucz w nawiasach kwadratowych oraz korzystając z metody get()."
   ]
  },
  {
   "cell_type": "code",
   "execution_count": 4,
   "id": "c2a50945",
   "metadata": {},
   "outputs": [
    {
     "name": "stdout",
     "output_type": "stream",
     "text": [
      "{'pies': 'dog', 'kot': 'cat', 'adres': 'address', 'wilk': 'wolf'}\n",
      "{'pies': 'dog', 'kot': 'cat', 'adres': 'address'}\n"
     ]
    }
   ],
   "source": [
    "\n",
    "a['wilk'] = 'wolf'\n",
    "print(a)\n",
    "del a['wilk']\n",
    "print(a)\n",
    "    "
   ]
  },
  {
   "cell_type": "markdown",
   "id": "cf16cb90",
   "metadata": {},
   "source": [
    "Jak widać, różnicy w tym przypadku nie widać. Jednak zauważymy ją, gdy\n",
    "spróbujemy dostać się do elementu, którego w słowniku nie ma:"
   ]
  },
  {
   "cell_type": "code",
   "execution_count": 8,
   "id": "ec7cf859",
   "metadata": {},
   "outputs": [],
   "source": [
    "a.get('ciasto')"
   ]
  },
  {
   "cell_type": "code",
   "execution_count": 6,
   "id": "e60b3b82",
   "metadata": {},
   "outputs": [
    {
     "data": {
      "text/plain": [
       "'dog'"
      ]
     },
     "execution_count": 6,
     "metadata": {},
     "output_type": "execute_result"
    }
   ],
   "source": [
    "a.get('pies')"
   ]
  },
  {
   "cell_type": "code",
   "execution_count": 7,
   "id": "5fa1d4eb",
   "metadata": {},
   "outputs": [
    {
     "ename": "KeyError",
     "evalue": "'ciasto'",
     "output_type": "error",
     "traceback": [
      "\u001b[0;31m---------------------------------------------------------------------------\u001b[0m",
      "\u001b[0;31mKeyError\u001b[0m                                  Traceback (most recent call last)",
      "Cell \u001b[0;32mIn[7], line 1\u001b[0m\n\u001b[0;32m----> 1\u001b[0m \u001b[43ma\u001b[49m\u001b[43m[\u001b[49m\u001b[38;5;124;43m'\u001b[39;49m\u001b[38;5;124;43mciasto\u001b[39;49m\u001b[38;5;124;43m'\u001b[39;49m\u001b[43m]\u001b[49m\n",
      "\u001b[0;31mKeyError\u001b[0m: 'ciasto'"
     ]
    }
   ],
   "source": [
    "a['ciasto']"
   ]
  },
  {
   "cell_type": "markdown",
   "id": "c9bd55be",
   "metadata": {},
   "source": [
    "Metoda get() zwraca wartość None i nic poza tym, natomiast korzystając z\n",
    "nawiasów kwadratowych dostaniemy wyjątek KeyError.\n",
    "\n",
    "Słowniki udostępniają kilka metod, które ułatwiają przechodzenie po wszystkich\n",
    "ich elementach:"
   ]
  },
  {
   "cell_type": "code",
   "execution_count": 11,
   "id": "52d97245",
   "metadata": {},
   "outputs": [
    {
     "name": "stdout",
     "output_type": "stream",
     "text": [
      "pies\n",
      "kot\n",
      "adres\n",
      "dog\n",
      "cat\n",
      "address\n",
      "pies to po angielsku dog\n",
      "kot to po angielsku cat\n",
      "adres to po angielsku address\n"
     ]
    }
   ],
   "source": [
    "# klucze, czyli polskie słowa\n",
    "for slowo in slownik_pol_ang.keys():\n",
    "    print(slowo)\n",
    "\n",
    "# wartości, czyli słowa angielskie\n",
    "for word in slownik_pol_ang.values():\n",
    "    print(word)\n",
    "\n",
    "# wszystkie elementy\n",
    "for slowo, word in slownik_pol_ang.items():\n",
    "    print(slowo + ' to po angielsku ' + word)\n"
   ]
  },
  {
   "cell_type": "markdown",
   "id": "59f260ad",
   "metadata": {},
   "source": [
    "## Modyfikacja\n",
    "\n",
    "\n",
    "Elementy możemy modyfikować analogicznie jak w przypadku list, podając klucz w nawiasach\n",
    "kwadratowych. W ten sam sposób możemy też dodawać nowe elementy:"
   ]
  },
  {
   "cell_type": "code",
   "execution_count": 13,
   "id": "ee03a506",
   "metadata": {},
   "outputs": [
    {
     "data": {
      "text/plain": [
       "'wlf'"
      ]
     },
     "execution_count": 13,
     "metadata": {},
     "output_type": "execute_result"
    }
   ],
   "source": [
    "a['wilk'] = 'wlf'\n",
    "a['wilk']\n"
   ]
  },
  {
   "cell_type": "markdown",
   "id": "3913bb48",
   "metadata": {},
   "source": [
    "Inną możliwością jest użycie metody update():"
   ]
  },
  {
   "cell_type": "code",
   "execution_count": 14,
   "id": "8b49a8d3",
   "metadata": {},
   "outputs": [],
   "source": [
    "b = {}\n",
    "b.update(ania=3, ola=5, bolek=10) # dodajemy trzy pary do słownika"
   ]
  },
  {
   "cell_type": "code",
   "execution_count": 15,
   "id": "1a881bd8",
   "metadata": {},
   "outputs": [
    {
     "name": "stdout",
     "output_type": "stream",
     "text": [
      "{'ania': 3, 'ola': 5, 'bolek': 10}\n",
      "{'ania': 10, 'ola': 5, 'bolek': 10}\n"
     ]
    }
   ],
   "source": [
    "print(b)\n",
    "b.update(ania=10) # zmieniamy wartość pod kluczem 'ania'\n",
    "print(b)"
   ]
  },
  {
   "cell_type": "markdown",
   "id": "0faf665f",
   "metadata": {},
   "source": [
    "Usuwać elementy ze słownika możemy też na kilka sposobów: instrukcją del oraz\n",
    "metodami pop(), popitem() i clear(). Pokażmy na przykładzie działanie dwóch\n",
    "pierwszych - jest podobne. Metoda pop() tak jak del usuwa wskazany element, ale\n",
    "dodatkowo zwraca jego wartość. Mając zdefiniowany słownik z przykładu wyżej:\n",
    "\n"
   ]
  },
  {
   "cell_type": "code",
   "execution_count": 16,
   "id": "5bcf5849",
   "metadata": {},
   "outputs": [
    {
     "data": {
      "text/plain": [
       "0"
      ]
     },
     "execution_count": 16,
     "metadata": {},
     "output_type": "execute_result"
    }
   ],
   "source": [
    "b.pop('kasia', 0) # jako drugi argument podajemy domyślną wartość\n"
   ]
  },
  {
   "cell_type": "code",
   "execution_count": 17,
   "id": "bb192c1f",
   "metadata": {},
   "outputs": [
    {
     "data": {
      "text/plain": [
       "5"
      ]
     },
     "execution_count": 17,
     "metadata": {},
     "output_type": "execute_result"
    }
   ],
   "source": [
    "b.pop('ola') # usuwamy element pod kluczem 'ola'\n"
   ]
  },
  {
   "cell_type": "code",
   "execution_count": 18,
   "id": "3fbca01c",
   "metadata": {},
   "outputs": [
    {
     "data": {
      "text/plain": [
       "{'ania': 10, 'bolek': 10}"
      ]
     },
     "execution_count": 18,
     "metadata": {},
     "output_type": "execute_result"
    }
   ],
   "source": [
    "b"
   ]
  },
  {
   "cell_type": "code",
   "execution_count": 19,
   "id": "a5ebcc2f",
   "metadata": {},
   "outputs": [
    {
     "name": "stdout",
     "output_type": "stream",
     "text": [
      "{'ania': 10}\n"
     ]
    }
   ],
   "source": [
    "del b['bolek'] # usuwamy element pod kluczem 'bolek', bez zwracania wartości\n",
    "print(b)"
   ]
  },
  {
   "cell_type": "markdown",
   "id": "62cb0cda",
   "metadata": {},
   "source": [
    "Więcej o słownikach i dostępnych metodach znaleźć można tu i tam:\n",
    "\n",
    "https://docs.python.org/3/library/stdtypes.html?highlight=dict#dict\n",
    "\n",
    "https://docs.python.org/3/tutorial/datastructures.html#dictionaries\n"
   ]
  },
  {
   "cell_type": "markdown",
   "id": "fdfd632b",
   "metadata": {},
   "source": [
    "\n",
    "## Zbiory\n",
    "\n",
    "Ostatnimi kontenerami jakie poznamy, będą zbiory. Są one odpowiednikiem zbiorów\n",
    "znanych nam z matematyki. W Pythonie występują dwa rodzaje:\n",
    "\n",
    "* set - modyfikowalny\n",
    "* frozenset - niemodyfikowalny (dzięki czemu może być użyty jako klucz w\n",
    "słowniku)\n",
    "\n",
    "Mając doświadczenie z poprzednich lekcji, łatwo możemy domyślić się tego jak tworzymy\n",
    "zbiory - możemy użyć konstruktora, któremu podamy iterowalny obiekt (m.in. krotkę,\n",
    "listę, zasięg - range(), napis) lub odpowiednich nawiasów (tylko w przypadku\n",
    "modyfikowalnego zbioru):\n",
    "\n",
    "Zbiory w Pythonie pozwalają na przechowywanie unikalnych elementów.\n",
    "    "
   ]
  },
  {
   "cell_type": "code",
   "execution_count": 21,
   "id": "42879743",
   "metadata": {},
   "outputs": [
    {
     "name": "stdout",
     "output_type": "stream",
     "text": [
      "{'a', 'k', 's', 'n'}\n",
      "frozenset({8, 2, 4, 6})\n"
     ]
    }
   ],
   "source": [
    "print(set('skakanka'))\n",
    "print(frozenset([i for i in range(1, 10) if i % 2 == 0]))\n",
    "   "
   ]
  },
  {
   "cell_type": "markdown",
   "id": "ec7e15b3",
   "metadata": {},
   "source": [
    "Jak widzimy wyżej i jak można było się spodziewać po przywołaniu zbiorów\n",
    "matematycznych, set i frozenset nie zawierają duplikatów (więc możemy je\n",
    "wykorzystać do ich usuwania)."
   ]
  },
  {
   "cell_type": "markdown",
   "id": "873f546c",
   "metadata": {},
   "source": [
    "\n",
    "### Dodawanie i usuwanie elementów\n",
    "\n",
    "Metody służące do tego nazywają się tak jak te znane nam z list, mianowicie:\n",
    "add(a), remove(a), discard(a), pop(), clear().\n",
    "Wypadałoby tu tylko zwrócić uwagę na różnicę między trzema środkowymi.\n",
    "Wszystkie usuwają pojedynczy element, ale:\n",
    "\n",
    "\n",
    "* remove(a) i discard(a) usuwają element podany jako argument i jeśli go nie ma w\n",
    "zbiorze, remove wyrzuca wyjątek, natomiast discard(a) to przemilcza,\n",
    "\n",
    "* pop() usuwa losowy element i zwraca go jako wynik\n",
    "\n",
    "Przykład:\n",
    "    "
   ]
  },
  {
   "cell_type": "code",
   "execution_count": 22,
   "id": "992e1fb0",
   "metadata": {},
   "outputs": [
    {
     "name": "stdout",
     "output_type": "stream",
     "text": [
      "{2, 3, 4, 6, 8, 10, 12}\n",
      "{2, 3, 6, 8, 10, 12}\n"
     ]
    }
   ],
   "source": [
    "\n",
    "zbior = set([2, 4, 6, 8, 10, 12])\n",
    "zbior.add(3)\n",
    "print(zbior)\n",
    "zbior.remove(4)\n",
    "print(zbior)\n",
    "    "
   ]
  },
  {
   "cell_type": "markdown",
   "id": "9beb2a83",
   "metadata": {},
   "source": [
    "\n",
    "### Operacje na zbiorach\n",
    "\n",
    "Przykłady operacji na zbiorach.\n",
    "    "
   ]
  },
  {
   "cell_type": "code",
   "execution_count": null,
   "id": "9e62cfd0",
   "metadata": {},
   "outputs": [],
   "source": [
    "\n",
    "a = {3, 1, 4, 10, 6, 7}\n",
    "b = {2, 5, 0, 1, 4, 3}\n",
    "print(a | b)\n",
    "print(a & b)\n",
    "print(a - b)\n",
    "    "
   ]
  },
  {
   "cell_type": "markdown",
   "id": "1e2f2bbb",
   "metadata": {},
   "source": [
    "Oczywiście istnienie danego elementu w zbiorze możemy sprawdzić za pomocą in,\n",
    "do czego już powinniśmy się przyzwyczaić.\n",
    "\n",
    "\n",
    "Python wspiera wszystkie znane nam z matematyki operacje na zbiorach, a ich\n",
    "nazwy są wprost zaczerpnięte z angielskiego: isdisjoint(other),\n",
    "issubset(other), issuperset(other), union(other), intersection(other),\n",
    "difference(other), symmetric_difference(other), oznaczane z pomocą symboli,\n",
    "kolejno (od issubset): <=, >=, |, &, -, ^."
   ]
  },
  {
   "cell_type": "code",
   "execution_count": 23,
   "id": "2471440f",
   "metadata": {},
   "outputs": [
    {
     "data": {
      "text/plain": [
       "False"
      ]
     },
     "execution_count": 23,
     "metadata": {},
     "output_type": "execute_result"
    }
   ],
   "source": [
    "a = {3, 1, 4, 10, 6, 7}\n",
    "b = {2, 5, 0, 1, 4, 3}\n",
    "a >= b\n"
   ]
  },
  {
   "cell_type": "code",
   "execution_count": 24,
   "id": "6861ad79",
   "metadata": {},
   "outputs": [
    {
     "data": {
      "text/plain": [
       "{0, 1, 2, 3, 4, 5, 6, 7, 10}"
      ]
     },
     "execution_count": 24,
     "metadata": {},
     "output_type": "execute_result"
    }
   ],
   "source": [
    " a | b\n",
    "\n"
   ]
  },
  {
   "cell_type": "code",
   "execution_count": 25,
   "id": "6d19cd2d",
   "metadata": {},
   "outputs": [
    {
     "data": {
      "text/plain": [
       "{1, 3, 4}"
      ]
     },
     "execution_count": 25,
     "metadata": {},
     "output_type": "execute_result"
    }
   ],
   "source": [
    "a.intersection(b)\n"
   ]
  },
  {
   "cell_type": "code",
   "execution_count": 26,
   "id": "de5cbf12",
   "metadata": {},
   "outputs": [
    {
     "data": {
      "text/plain": [
       "{6, 7, 10}"
      ]
     },
     "execution_count": 26,
     "metadata": {},
     "output_type": "execute_result"
    }
   ],
   "source": [
    "a - b\n"
   ]
  },
  {
   "cell_type": "markdown",
   "id": "43dee682",
   "metadata": {},
   "source": [
    "Metoda symmetric_difference() dla zbiorów w języku Python zwraca nowy zbiór, który zawiera wszystkie elementy z obu zbiorów, ale pomija te, które występują w obu zbiorach jednocześnie. Innymi słowy, zwraca różnicę symetryczną dwóch zbiorów, czyli zbiór elementów należących do jednego lub drugiego zbioru, ale nie do obu naraz."
   ]
  },
  {
   "cell_type": "code",
   "execution_count": 27,
   "id": "60b202b5",
   "metadata": {},
   "outputs": [
    {
     "data": {
      "text/plain": [
       "{0, 2, 5, 6, 7, 10}"
      ]
     },
     "execution_count": 27,
     "metadata": {},
     "output_type": "execute_result"
    }
   ],
   "source": [
    "a.symmetric_difference(b)"
   ]
  },
  {
   "cell_type": "markdown",
   "id": "004702df",
   "metadata": {},
   "source": [
    "\n",
    "## Zadania\n",
    "\n",
    "- Zadania podstawowe:\n",
    "    - [xor słowników](https://github.com/kkingstoun/Kurs-Pythona/blob/main/exercises/zbiory_i_slowniki/xor_slownikow.py)\n",
    "    - [usuwanie ogonków](https://github.com/kkingstoun/Kurs-Pythona/blob/main/exercises/zbiory_i_slowniki/usuwanie_ogonkow.py)\n",
    "\n",
    "- Zadania dodatkowe:\n",
    "    - [operacje na zbiorach](https://github.com/kkingstoun/Kurs-Pythona/blob/main/exercises/zbiory_i_slowniki/operacje_na_zbiorach.py)\n",
    "    "
   ]
  }
 ],
 "metadata": {
  "kernelspec": {
   "display_name": "base",
   "language": "python",
   "name": "python3"
  },
  "language_info": {
   "codemirror_mode": {
    "name": "ipython",
    "version": 3
   },
   "file_extension": ".py",
   "mimetype": "text/x-python",
   "name": "python",
   "nbconvert_exporter": "python",
   "pygments_lexer": "ipython3",
   "version": "3.10.13"
  }
 },
 "nbformat": 4,
 "nbformat_minor": 5
}
