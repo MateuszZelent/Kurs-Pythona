{
 "cells": [
  {
   "cell_type": "markdown",
   "id": "2e037a55",
   "metadata": {},
   "source": [
    "\n",
    "## Listy\n",
    "\n",
    "Lista jest pierwszym z kontenerów, który omówimy. Są modyfikowalne i uporządkowane, co oznacza, że zachowują kolejność przechowywanych elementów.\n",
    "\n",
    "Listy w Pythonie są jednymi z najbardziej wszechstronnych struktur danych dostępnych w języku. Ich modyfikowalność, zdolność do przechowywania elementów różnych typów oraz bogaty zestaw wbudowanych metod sprawiają, że są niezwykle przydatne w różnorodnych zastosowaniach.\n",
    "    \n",
    "### Cechy list\n",
    "1. Dynamiczna alokacja pamięci: Listy w Pythonie mogą dynamicznie zmieniać swój rozmiar, co oznacza, że elementy mogą być dodawane lub usuwane, a Python zajmie się zarządzaniem alokacją pamięci.\n",
    "2. Wsparcie dla slicingu i indeksowania: Operacje te pozwalają na łatwe dostęp do elementów listy, ich modyfikację oraz tworzenie nowych list na podstawie istniejących sekwencji.\n",
    "3. List comprehension: Potężna funkcjonalność, która umożliwia tworzenie nowych list w sposób zwięzły i wydajny, często w jednej linijce kodu.\n",
    "\n",
    "### Zastosowania list\n",
    "\n",
    "Listy znajdują szerokie zastosowanie w programowaniu, od prostych zadań, jak przechowywanie kolekcji elementów, po bardziej zaawansowane, jak operacje na danych w analizie danych, przetwarzanie sekwencji w uczeniu maszynowym, a także w algorytmach sortowania i przeszukiwania."
   ]
  },
  {
   "cell_type": "code",
   "execution_count": null,
   "id": "a552839c",
   "metadata": {},
   "outputs": [],
   "source": [
    "\n",
    "pierwsze = [2, 3, 5, 7, 11, 13, 17, 19]\n",
    "dane = ['drzewo', 2.99, [True, True, False], 2]\n",
    "    "
   ]
  },
  {
   "cell_type": "markdown",
   "id": "af7f26d8",
   "metadata": {},
   "source": [
    "\n",
    "### Indeksowanie\n",
    "    "
   ]
  },
  {
   "cell_type": "code",
   "execution_count": null,
   "id": "c29f8e94",
   "metadata": {},
   "outputs": [],
   "source": [
    "\n",
    "c = [4, 3, 6, 10, -2]\n",
    "print(c[1:3])\n",
    "print(c[1:5:2])\n",
    "print(c[4])\n",
    "\n",
    "imiona = ['Staszek', 'Leszek', 'Maria', 'Daria']\n",
    "print('Staszek' in imiona)\n",
    "print('Iwona' in imiona)\n",
    "print(imiona.index('Maria'))\n",
    "    "
   ]
  },
  {
   "cell_type": "markdown",
   "id": "90e1f973",
   "metadata": {},
   "source": [
    "\n",
    "### Operacje na elementach\n",
    "    "
   ]
  },
  {
   "cell_type": "code",
   "execution_count": null,
   "id": "95994205",
   "metadata": {},
   "outputs": [],
   "source": [
    "\n",
    "a = [5, -1, 3, 2]\n",
    "a[1] = 3\n",
    "print(a)\n",
    "\n",
    "p = [9, 3, -6]\n",
    "p.extend([1, 2])\n",
    "print(p)\n",
    "p.append([1, 2])\n",
    "print(p)\n",
    "    "
   ]
  },
  {
   "cell_type": "markdown",
   "id": "d755cd28",
   "metadata": {},
   "source": [
    "\n",
    "### List comprehension\n",
    "    \n",
    "List comprehension to potężna składnia w Pythonie, która umożliwia tworzenie nowych list poprzez zastosowanie wyrażenia do każdego elementu iterowalnej sekwencji (takiej jak lista, krotka, string) w jednej zwięzłej linii kodu. Jest to wygodny sposób na przefiltrowanie elementów z jednej listy do nowej listy, transformację elementów na podstawie określonego kryterium, lub aplikację funkcji do każdego elementu.\n",
    "\n",
    "```python\n",
    "[wyrażenie for element in sekwencja if warunek]\n",
    "```\n",
    "\n",
    "\n",
    "wyrażenie: dowolne wyrażenie, które opiera się na element, np. operacje matematyczne, wywołania funkcji itp.\n",
    "\n",
    "for element in sekwencja: pętla for, która iteruje przez każdy element w sekwencji.\n",
    "\n",
    "if warunek (opcjonalnie): filtr, który pozwala dołączyć element do nowej listy tylko jeśli spełnia określony warunek.\n",
    "\n",
    "\n",
    "### Przykłady użycia\n",
    "\n",
    "Przykład 1: Kwadraty liczb\n",
    "\n",
    "Tworzenie listy zawierającej kwadraty liczb od 1 do 10.\n",
    "\n",
    "Wytłumaczenie: https://www.w3schools.com/python/python_lists_comprehension.asp"
   ]
  },
  {
   "cell_type": "code",
   "execution_count": 1,
   "id": "401954bc",
   "metadata": {},
   "outputs": [
    {
     "name": "stdout",
     "output_type": "stream",
     "text": [
      "[1, 4, 9, 16, 25, 36, 49, 64, 81, 100]\n"
     ]
    }
   ],
   "source": [
    "squares = [x**2 for x in range(1, 11)]\n",
    "print(squares)\n",
    "# Wynik: [1, 4, 9, 16, 25, 36, 49, 64, 81, 100]"
   ]
  },
  {
   "cell_type": "markdown",
   "id": "0c059a67",
   "metadata": {},
   "source": [
    "### Przykład 2: Filtrowanie listy\n",
    "\n",
    "Tworzenie listy zawierającej tylko parzyste liczby z listy liczb."
   ]
  },
  {
   "cell_type": "code",
   "execution_count": null,
   "id": "96e2acce",
   "metadata": {},
   "outputs": [],
   "source": [
    "numbers = [1, 2, 3, 4, 5, 6, 7, 8, 9, 10]\n",
    "even_numbers = [x for x in numbers if x % 2 == 0]\n",
    "print(even_numbers)\n",
    "# Wynik: [2, 4, 6, 8, 10]"
   ]
  },
  {
   "cell_type": "markdown",
   "id": "d1260e06",
   "metadata": {},
   "source": [
    "### Przykład 3: Zastosowanie funkcji\n",
    "Użycie list comprehension do zamiany wszystkich słów w liście na wielkie litery."
   ]
  },
  {
   "cell_type": "code",
   "execution_count": 3,
   "id": "486cb044",
   "metadata": {},
   "outputs": [
    {
     "name": "stdout",
     "output_type": "stream",
     "text": [
      "['PYTHON', 'IS', 'AWESOME']\n"
     ]
    }
   ],
   "source": [
    "words = ['Python', 'is', 'awesome']\n",
    "uppercase_words = [word.upper() for word in words]\n",
    "print(uppercase_words)\n",
    "# Wynik: ['PYTHON', 'IS', 'AWESOME']"
   ]
  },
  {
   "cell_type": "code",
   "execution_count": null,
   "id": "92c86613",
   "metadata": {},
   "outputs": [],
   "source": [
    "\n",
    "a = [9, -7, 2, 5, 1]\n",
    "b = [k ** 2 for k in a]\n",
    "print(b)\n",
    "\n",
    "c = [k ** 3 for k in a if k > 0]\n",
    "print(c)\n",
    "    "
   ]
  },
  {
   "cell_type": "markdown",
   "id": "0a7fea91",
   "metadata": {},
   "source": [
    "### Zalety i wady\n",
    "Zalety:\n",
    "\n",
    "* Zwięzłość i czytelność: umożliwia zapisanie operacji, które normalnie wymagałyby kilku linii kodu, w jednej linii.\n",
    "* Wydajność: często szybsze niż tradycyjne pętle for ze względu na zoptymalizowaną implementację wewnętrzną.\n",
    "\n",
    "Wady:\n",
    "\n",
    "* Czytelność przy skomplikowanych wyrażeniach: dla bardziej złożonych transformacji czy wielokrotnych warunków, list comprehension może stać się trudniejsze do zrozumienia niż tradycyjna pętla for.\n",
    "* List comprehension to potężne narzędzie w Pythonie, które, użyte odpowiednio, może znacznie poprawić czytelność kodu oraz jego wydajność. Jednak w przypadku bardziej złożonych operacji warto rozważyć użycie tradycyjnych pętli lub rozdzielenie wyrażeń dla zachowania przejrzystości kodu."
   ]
  },
  {
   "cell_type": "markdown",
   "id": "ad98e6be",
   "metadata": {},
   "source": [
    "\n",
    "## Krotki\n",
    "\n",
    "Krotki (tuples) to niezmienne sekwencje, które, podobnie jak listy, mogą przechowywać elementy różnych typów. Niezmienność krotek czyni je szybszymi od list w pewnych operacjach i pozwala na ich używanie jako kluczy w słownikach (dictionaries).\n",
    "\n",
    "### Cechy krotek:\n",
    "\n",
    "1. Niezmienność (immutability): Nie można zmieniać elementów krotki po jej utworzeniu. To ograniczenie przynosi jednak pewne korzyści, takie jak możliwość używania krotek jako kluczy w słownikach czy gwarancję, że krotka nie zostanie przypadkowo zmodyfikowana.\n",
    "\n",
    "2. Efektywność pamięciowa: Krotki zajmują mniej miejsca w pamięci niż listy, co jest korzystne, gdy pracujemy z dużą ilością danych i chcemy zoptymalizować zużycie pamięci.\n",
    "\n",
    "### Zastosowania krotek\n",
    "\n",
    "Krotki są idealne do przechowywania danych, które nie powinny być zmieniane, takich jak konfiguracje czy opcje. Są również używane do grupowania danych, umożliwiając zwracanie wielu wartości z funkcji, przekazywanie wielu argumentów do funkcji oraz w operacjach unpackingu.\n",
    "    "
   ]
  },
  {
   "cell_type": "code",
   "execution_count": null,
   "id": "420fc6fe",
   "metadata": {},
   "outputs": [],
   "source": [
    "\n",
    "a = (1, 3, 2)\n",
    "# próba modyfikacji krotki spowoduje błąd\n",
    "\n",
    "# Tworzenie krotek\n",
    "pusta = ()\n",
    "jednoelementowa = (1,)\n",
    "trzyelementowa = ('dad', 'mom', 'plum')\n",
    "    "
   ]
  },
  {
   "cell_type": "markdown",
   "id": "367d919d",
   "metadata": {},
   "source": [
    "\n",
    "### Indeksowanie i inne operacje\n",
    "    "
   ]
  },
  {
   "cell_type": "code",
   "execution_count": null,
   "id": "1741e6a5",
   "metadata": {},
   "outputs": [],
   "source": [
    "\n",
    "a = (4, 1, 6, -3)\n",
    "print(4 in a)\n",
    "print(a[2:])\n",
    "print(len(a))\n",
    "print(a * 3)\n",
    "print(a.index(-3))\n",
    "print((1, 3) + (2, 4))\n",
    "print(min(a))\n",
    "    "
   ]
  },
  {
   "cell_type": "markdown",
   "id": "8e4679f5",
   "metadata": {},
   "source": [
    "## Porównanie list i krotek\n",
    "\n",
    "### Modyfikowalność: Listy są modyfikowalne, krotki nie.\n",
    "\n",
    "1. Wydajność: Krotki są zazwyczaj szybsze od list w dostępie do danych ze względu na ich niezmienność.\n",
    "2. Zastosowanie: Listy są używane tam, gdzie potrzebujemy kolekcji, która będzie modyfikowana. Krotki znajdują zastosowanie, gdy potrzebujemy niezmiennej sekwencji danych.\n",
    "\n",
    "### Bardziej zaawansowane operacje\n",
    "\n",
    "1. Rozpakowywanie (unpacking): listy, jak i krotki pozwalają na rozpakowywanie elementów do zmiennych. Jest to szczególnie przydatne w przypadku krotek, które często używane są do zwracania wielu wartości z funkcji.\n",
    "\n",
    "2. List vs Tuple Comprehension: W Pythonie istnieje tylko list comprehension. Tuple comprehension technicznie nie istnieje, ale podobny efekt można osiągnąć za pomocą generator expressions.\n",
    "\n",
    "3. Użycie w słownikach: Krotki mogą być używane jako klucze w słownikach, co jest niemożliwe w przypadku list ze względu na ich modyfikowalność.\n",
    "\n",
    "Obydwa typy danych są niezwykle użyteczne i znajdują szerokie zastosowanie w różnych dziedzinach programowania. Wybór między listą a krotką często zależy od konkretnego przypadku użycia oraz od potrzeby modyfikacji danych.\n",
    "\n",
    "\n",
    "\n",
    "\n"
   ]
  },
  {
   "cell_type": "markdown",
   "id": "ad3437a7",
   "metadata": {},
   "source": [
    "\n",
    "## Przykłady i Zadania\n",
    "\n",
    "- [Listy - przykłady](https://github.com/kkingstoun/Kurs-Pythona/blob/main/lecture_notes/examples_listy_i_krotki/listy.py)\n",
    "- Zadania podstawowe:\n",
    "    - [xor napisów](https://github.com/kkingstoun/Kurs-Pythona/blob/main/exercises/listy_i_krotki/xor_napisow.py)\n",
    "    - [podzielne](https://github.com/kkingstoun/Kurs-Pythona/blob/main/exercises/listy_i_krotki/podzielne.py)\n",
    "- Zadania dodatkowe:\n",
    "    - [pola i obwody](https://github.com/kkingstoun/Kurs-Pythona/blob/main/exercises/listy_i_krotki/pola_obwody.py)\n",
    "    - [mnożenie macierzy](https://github.com/kkingstoun/Kurs-Pythona/blob/main/exercises/listy_i_krotki/mnozenie_macierzy.py)\n",
    "    "
   ]
  }
 ],
 "metadata": {
  "kernelspec": {
   "display_name": "base",
   "language": "python",
   "name": "python3"
  },
  "language_info": {
   "codemirror_mode": {
    "name": "ipython",
    "version": 3
   },
   "file_extension": ".py",
   "mimetype": "text/x-python",
   "name": "python",
   "nbconvert_exporter": "python",
   "pygments_lexer": "ipython3",
   "version": "3.10.13"
  }
 },
 "nbformat": 4,
 "nbformat_minor": 5
}
