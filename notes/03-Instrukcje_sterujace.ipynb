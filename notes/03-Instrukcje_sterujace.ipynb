{
 "cells": [
  {
   "cell_type": "markdown",
   "id": "cfd2bf58",
   "metadata": {},
   "source": [
    "## Instrukcje warunkowe\n",
    "\n",
    "Instrukcje warunkowe pozwalają programowi na podejmowanie decyzji i wykonywanie różnych działań w zależności od spełnienia określonych warunków. Podstawową instrukcją warunkową jest `if`.\n"
   ]
  },
  {
   "cell_type": "code",
   "execution_count": 1,
   "id": "cbaa480b",
   "metadata": {},
   "outputs": [
    {
     "name": "stdout",
     "output_type": "stream",
     "text": [
      "40 nie dzieli się przez 3\n"
     ]
    }
   ],
   "source": [
    "a = int(input('Podaj liczbę całkowitą z zakresu 1-10\\n'))\n",
    "if a % 3 == 0:\n",
    "    print('Podałeś liczbę podzielną przez 3')\n",
    "else:\n",
    "    print(str(a) + ' nie dzieli się przez 3')\n"
   ]
  },
  {
   "cell_type": "markdown",
   "id": "1089f78a",
   "metadata": {
    "language": "markdown"
   },
   "source": [
    "W powyższym przykładzie program prosi użytkownika o podanie liczby całkowitej, a następnie sprawdza, czy ta liczba dzieli się bez reszty przez 3. Używamy tu operatora modulo (`%`), który zwraca resztę z dzielenia. Jeśli reszta z dzielenia przez 3 wynosi 0, wyświetlany jest komunikat o podzielności przez 3, w przeciwnym wypadku pokazujemy inny komunikat.\n",
    "\n",
    "### Instrukcja elif (else if)\n",
    "\n",
    "Gdy musimy sprawdzić wiele warunków po kolei, możemy użyć konstrukcji `elif` (skrót od \"else if\"). Pozwala ona na sprawdzenie dodatkowych warunków, gdy poprzednie nie zostały spełnione. Ogólna składnia:\n",
    "\n",
    "```python\n",
    "if warunek_1:\n",
    "    # instrukcje wykonywane, gdy warunek_1 jest prawdziwy\n",
    "elif warunek_2:\n",
    "    # instrukcje wykonywane, gdy warunek_1 jest fałszywy, ale warunek_2 jest prawdziwy\n",
    "elif warunek_3:\n",
    "    # instrukcje wykonywane, gdy warunek_1 i warunek_2 są fałszywe, ale warunek_3 jest prawdziwy\n",
    "else:\n",
    "    # instrukcje wykonywane, gdy żaden z powyższych warunków nie jest spełniony\n",
    "    # ...\n",
    "```\n"
   ]
  },
  {
   "cell_type": "code",
   "execution_count": 2,
   "id": "cbaa480b",
   "metadata": {},
   "outputs": [
    {
     "name": "stdout",
     "output_type": "stream",
     "text": [
      "54 jest liczbą złożoną\n"
     ]
    }
   ],
   "source": [
    "a = int(input('Podaj liczbę naturalną do sprawdzenia: '))\n",
    "if a < 2:\n",
    "    print(str(a) + ' nie jest ani liczbą pierwszą, ani liczbą złożoną')\n",
    "elif a % 2 == 0:\n",
    "    print(str(a) + ' jest liczbą złożoną')\n",
    "else:\n",
    "    print(str(a) + ' jest liczbą pierwszą')\n"
   ]
  },
  {
   "cell_type": "markdown",
   "id": "65c7007a",
   "metadata": {},
   "source": [
    "Z instrukcją `if` związana jest pewna konstrukcja, znana niektórym z języka C++\n",
    "(operator trójargumentowy ?:). Mianowicie, możliwe jest zapisanie instrukcji\n",
    "warunkowej, która zwróci wynik (np. żebyśmy mogli przypisać go do zmiennej):\n"
   ]
  },
  {
   "cell_type": "markdown",
   "id": "e572f4ff",
   "metadata": {},
   "source": [
    "Operator trójargumentowy w Pythonie:\n"
   ]
  },
  {
   "cell_type": "code",
   "execution_count": 3,
   "id": "fb7f86ed",
   "metadata": {},
   "outputs": [
    {
     "name": "stdout",
     "output_type": "stream",
     "text": [
      "Nieparzysta\n"
     ]
    }
   ],
   "source": [
    "a = 5\n",
    "b = 'Parzysta' if a % 2 == 0 else 'Nieparzysta'\n",
    "print(b)\n"
   ]
  },
  {
   "cell_type": "markdown",
   "id": "e572f4ff",
   "metadata": {},
   "source": [
    "### Pętle\n",
    "\n",
    "Python, tak jak inne języki udostępnia konstrukcje służące do powtarzania\n",
    "pewnych operacji - pętle. Pierwszą jaką omówimy jest pętla `while`. Działa ona\n",
    "dopóki podany warunek jest prawdziwy. Jako przykład, napiszmy przy użyciu tej\n",
    "pętli funkcję, która wylicza silnię liczby n:\n",
    "\n",
    "```python\n",
    "def fact(n):\n",
    "    f = 1\n",
    "    # wyjdziemy z petli, gdy n bedzie mniejsze badz rowne 1\n",
    "    while n > 1:\n",
    "        f *= n\n",
    "        # n -= 1 to to samo co n = n - 1\n",
    "        n -= 1\n",
    "    return f\n",
    "```\n"
   ]
  },
  {
   "cell_type": "code",
   "execution_count": 4,
   "id": "fb7f86ed",
   "metadata": {},
   "outputs": [
    {
     "name": "stdout",
     "output_type": "stream",
     "text": [
      "120\n"
     ]
    }
   ],
   "source": [
    "def fact(n):\n",
    "    f = 1\n",
    "    while n > 1:\n",
    "        f *= n\n",
    "        n -= 1\n",
    "    return f\n",
    "\n",
    "print(fact(5))\n"
   ]
  },
  {
   "cell_type": "markdown",
   "id": "5c59dfe4",
   "metadata": {},
   "source": [
    "\n",
    "### Pętle\n",
    "\n",
    "Python, tak jak inne języki udostępnia konstrukcje służące do powtarzania\n",
    "pewnych operacji - pętle. Pierwszą jaką omówimy jest pętla `while`. Działa ona\n",
    "dopóki podany warunek jest prawdziwy. Jako przykład, napiszmy przy użyciu tej\n",
    "pętli funkcję, która wylicza silnię liczby n:\n",
    "\n",
    "```python\n",
    "def fact(n):\n",
    "    f = 1\n",
    "    # wyjdziemy z petli, gdy n bedzie mniejsze badz rowne 1\n",
    "    while n > 1:\n",
    "        f *= n\n",
    "        # n -= 1 to to samo co n = n - 1\n",
    "        n -= 1\n",
    "    return f\n",
    "```\n",
    "\n",
    "    "
   ]
  },
  {
   "cell_type": "code",
   "execution_count": 5,
   "id": "47cea127",
   "metadata": {},
   "outputs": [
    {
     "name": "stdout",
     "output_type": "stream",
     "text": [
      "120\n"
     ]
    }
   ],
   "source": [
    "\n",
    "def fact(n):\n",
    "    f = 1\n",
    "    while n > 1:\n",
    "        f *= n\n",
    "        n -= 1\n",
    "    return f\n",
    "\n",
    "print(fact(5))\n",
    "    "
   ]
  },
  {
   "cell_type": "markdown",
   "id": "c21f6103",
   "metadata": {},
   "source": [
    "W przypadku obu pętli mamy do dyspozycji jeszcze dwie instrukcje: `break` i\n",
    "`continue`. Pierwsza z nich pozwala wyjść z pętli w dowolnym momencie, natomiast\n",
    "druga przerywa wykonanie aktualnej iteracji i przechodzi do następnego elementu\n",
    "danego zbioru.\n",
    "\n",
    "Poniższa pętla z dwiema instrukcjami `if` w podanej postaci wypisze 0, 1, 2,\n",
    "następnie pominie 3 (continue) i zakończy wypisywanie przy 5 (nie wypisując\n",
    "tej liczby):\n"
   ]
  },
  {
   "cell_type": "code",
   "execution_count": 6,
   "id": "090b72d1",
   "metadata": {},
   "outputs": [
    {
     "name": "stdout",
     "output_type": "stream",
     "text": [
      "a\n",
      "l\n",
      "a\n"
     ]
    }
   ],
   "source": [
    "napis = 'ala'\n",
    "for znak in napis:\n",
    "    print(znak)\n"
   ]
  },
  {
   "cell_type": "markdown",
   "id": "7fd531bc",
   "metadata": {},
   "source": [
    "```python\n",
    "for i in range(7):\n",
    "    if i == 3:\n",
    "        continue\n",
    "    if i == 5:\n",
    "        break\n",
    "    print(i)\n",
    "```\n",
    "Nowością dla osób, które wcześniej programowały w innym języku może być fakt,\n",
    "że pętle również mogą posiadać klauzulę else. Kod w niej zawarty jest\n",
    "wykonywany po pętli (w przypadku, gdy nie wyjdziemy z niej wcześniej, np.\n",
    "używając instrukcji `break`):\n",
    "```python\n",
    "for i in range(3):\n",
    "    print(i)\n",
    "else:\n",
    "    print('Wszystko wypisane!')\n",
    "```\n",
    "To na razie wszystko, co powinniśmy wiedzieć o pętlach i instrukcji warunkowej.\n",
    "Wrócimy do tego tematu jeszcze przy okazji omawiania kontenerów, tj. list,\n",
    "krotek i słowników. Chcących dowiedzieć się więcej, odsyłamy do dokumentacji. A\n",
    "osoby, dla których coś jest nie jasne mogą zadać pytanie poprzez sekcję `issues`,\n",
    "lub drogą mailową :-).\n",
    "\n",
    "\n",
    "Omówienie pętli `while` i `for`, przykłady użycia.\n"
   ]
  },
  {
   "cell_type": "code",
   "execution_count": 7,
   "id": "3161ca12",
   "metadata": {},
   "outputs": [
    {
     "name": "stdout",
     "output_type": "stream",
     "text": [
      "0\n",
      "1\n",
      "2\n",
      "Wszystko wypisane!\n"
     ]
    }
   ],
   "source": [
    "for i in range(3):\n",
    "    print(i)\n",
    "else:\n",
    "    print('Wszystko wypisane!')\n"
   ]
  },
  {
   "cell_type": "code",
   "execution_count": 8,
   "id": "bf537fb6",
   "metadata": {},
   "outputs": [
    {
     "name": "stdout",
     "output_type": "stream",
     "text": [
      "1\n",
      "4\n",
      "9\n",
      "16\n",
      "25\n",
      "36\n",
      "49\n",
      "64\n",
      "81\n",
      "100\n"
     ]
    }
   ],
   "source": [
    "for i in range(1, 11):\n",
    "    print(i ** 2)\n"
   ]
  },
  {
   "cell_type": "code",
   "execution_count": 9,
   "id": "f9bb2737",
   "metadata": {},
   "outputs": [
    {
     "name": "stdout",
     "output_type": "stream",
     "text": [
      "a\n",
      "l\n",
      "a\n"
     ]
    }
   ],
   "source": [
    "napis = 'ala'\n",
    "for znak in napis:\n",
    "    print(znak)\n"
   ]
  },
  {
   "cell_type": "code",
   "execution_count": 10,
   "id": "bf537fb6",
   "metadata": {},
   "outputs": [
    {
     "name": "stdout",
     "output_type": "stream",
     "text": [
      "0\n",
      "1\n",
      "2\n",
      "4\n"
     ]
    }
   ],
   "source": [
    "for i in range(7):\n",
    "    if i == 3:\n",
    "        continue\n",
    "    if i == 5:\n",
    "        break\n",
    "    print(i)\n"
   ]
  },
  {
   "cell_type": "code",
   "execution_count": 11,
   "id": "7437ba68",
   "metadata": {},
   "outputs": [
    {
     "name": "stdout",
     "output_type": "stream",
     "text": [
      "0\n",
      "1\n",
      "2\n",
      "Wszystko wypisane!\n"
     ]
    }
   ],
   "source": [
    "for i in range(3):\n",
    "    print(i)\n",
    "else:\n",
    "    print('Wszystko wypisane!')\n"
   ]
  },
  {
   "cell_type": "markdown",
   "id": "e595b03b",
   "metadata": {},
   "source": [
    "* zadania podstawowe\n",
    "  * [Weryfikacja adresu email](../exercises/instrukcje_sterujace/weryfikacja_adresu_email.py)\n",
    "  * [Problem Collatza](../exercises/instrukcje_sterujace/problem_collatza.py)\n",
    "\n",
    "* zadania dodatkowe\n",
    "  * [Zadanie odległość napisów](../exercises/instrukcje_sterujace/odleglosc_napisow.py)\n",
    "  * [pochodna arytmetyczna](../exercises/instrukcje_sterujace/pochodna_arytmetyczna.py)\n",
    "  * [zlicz samogłoski](../exercises/instrukcje_sterujace/zlicz_samogloski.py)\n"
   ]
  }
 ],
 "metadata": {
  "kernelspec": {
   "display_name": "numba_sprawna",
   "language": "python",
   "name": "python3"
  },
  "language_info": {
   "codemirror_mode": {
    "name": "ipython",
    "version": 3
   },
   "file_extension": ".py",
   "mimetype": "text/x-python",
   "name": "python",
   "nbconvert_exporter": "python",
   "pygments_lexer": "ipython3",
   "version": "3.10.8"
  }
 },
 "nbformat": 4,
 "nbformat_minor": 5
}
