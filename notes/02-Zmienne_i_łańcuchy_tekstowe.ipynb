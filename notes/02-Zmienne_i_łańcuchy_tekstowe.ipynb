{
 "cells": [
  {
   "cell_type": "markdown",
   "metadata": {},
   "source": [
    "# Wprowadzenie \n",
    "W tym notatniku Jupyter omówimy podstawy zmiennych w Pythonie, w tym ich definicje, typy i operacje na nich. Celem jest zapewnienie solidnych podstaw w zakresie zarządzania danymi i operacji, które można na nich wykonywać, co jest kluczowe dla dalszego programowania.\n",
    "\n",
    "## Zmienne w Pythonie\n",
    "\n",
    "Zmienna to pojemnik na dane, który przechowuje informacje, które mogą być zmieniane podczas działania programu. Każda zmienna ma swoją nazwę, typ i wartość.\n",
    "\n",
    "### Definiowanie zmiennej"
   ]
  },
  {
   "cell_type": "code",
   "execution_count": null,
   "metadata": {},
   "outputs": [],
   "source": [
    "liczba = 5\n",
    "print(\"Wartość liczby:\", liczba)\n"
   ]
  },
  {
   "cell_type": "markdown",
   "metadata": {},
   "source": [
    "### Zmiana wartości zmiennej\n",
    "\n",
    "Jak sama nazwa wskazuje, możemy tę wartość zmienić - po prostu przypisujac (w Pythonie służy do tego operator =) inną:"
   ]
  },
  {
   "cell_type": "code",
   "execution_count": null,
   "metadata": {},
   "outputs": [],
   "source": [
    "liczba = 10\n",
    "print(\"Nowa wartość liczby:\", liczba)"
   ]
  },
  {
   "cell_type": "markdown",
   "metadata": {},
   "source": [
    "### Typy danych w Pythonie\n",
    "\n",
    "W Pythonie dostępnych jest kilkanaście wbudowanych typów zmiennych i wiele dodatkowych w bibliotece standardowej. Tutaj omówimy kilka podstawowych: typ logiczny (bool), typy liczbowe (int - l. całkowite, float - l. zmiennoprzecinkowe, complex - l. zespolone) oraz łańcuchy znaków, czyli napisy (str).\n",
    "\n",
    "### Typ logiczny (bool)\n",
    "\n",
    "Typ logiczny przyjmuje dwie wartości: True i False. Są one wynikiem porównania dwóch wartości.\n",
    "\n",
    "W Pythonie jest osiem operatorów porównania:\n",
    "\n",
    "```python \n",
    "<, <=  - mniejszy, mniejszy bądź równy\n",
    ">, >=  - analogiczne większości\n",
    "==     - równości\n",
    "!=     - różności\n",
    "is     - identyczność (a is b - a jest tym samym obiektem, co b)\n",
    "is not - przeciwny do is\n",
    "```\n",
    "\n",
    "### Przykłady operatorów porównania"
   ]
  },
  {
   "cell_type": "code",
   "execution_count": null,
   "metadata": {},
   "outputs": [
    {
     "ename": "",
     "evalue": "",
     "output_type": "error",
     "traceback": [
      "\u001b[1;31mThe kernel failed to start due to the missing module 'psutil'. Consider installing this module.\n",
      "\u001b[1;31mClick <a href='https://aka.ms/kernelFailuresMissingModule'>here</a> for more info."
     ]
    }
   ],
   "source": [
    "print(5 > 3)  # True\n",
    "print(2 == 3)  # False\n",
    "print(1 != 2)  # True\n"
   ]
  },
  {
   "cell_type": "markdown",
   "metadata": {},
   "source": [
    "Sprawdź ich działanie, korzystając z powłoki Pythona.\n",
    "\n",
    "Ponadto, dla typu logicznego, mamy do dyspozycji operatory koniunkcji, alternatywy i zaprzeczenia: and, or oraz not.\n",
    "\n",
    "\n",
    "### Operatory logiczne"
   ]
  },
  {
   "cell_type": "code",
   "execution_count": null,
   "metadata": {},
   "outputs": [
    {
     "ename": "",
     "evalue": "",
     "output_type": "error",
     "traceback": [
      "\u001b[1;31mThe kernel failed to start due to the missing module 'psutil'. Consider installing this module.\n",
      "\u001b[1;31mClick <a href='https://aka.ms/kernelFailuresMissingModule'>here</a> for more info."
     ]
    }
   ],
   "source": [
    "print(True and False)  # False\n",
    "print(True or False)  # True\n",
    "print(not True)  # False"
   ]
  },
  {
   "cell_type": "markdown",
   "metadata": {},
   "source": [
    "## Zmienne liczbowe\n",
    "\n",
    "### int\n",
    "\n",
    "Zmienne typu int w Pythonie mogą być dowolnej wielkości. Wyglądają i działają jak liczby całkowite - można wykonywać na nich wszystkie podstawowe działania: dodawanie (+), odejmowanie (-), mnożenie (*), dzielenie (/), dzielenie całkowitoliczbowe (//), obliczanie reszty z dzielenia (%) czy też potęgowanie (**)."
   ]
  },
  {
   "cell_type": "code",
   "execution_count": null,
   "metadata": {},
   "outputs": [],
   "source": [
    "x = 5\n",
    "y = 2\n",
    "print(\"Dodawanie:\", x + y)\n",
    "print(\"Odejmowanie:\", x - y)\n",
    "print(\"Mnożenie:\", x * y)\n",
    "print(\"Dzielenie:\", x / y)"
   ]
  },
  {
   "cell_type": "markdown",
   "metadata": {},
   "source": [
    "Poza tymi znanymi operacjami, dla typu int zdefiniowane są operacje bitowe, działające na ich binarnej reprezentacji wewnątrz komputera. Więcej o systemie dwójkowym można przeczytać np. na Wikipedii:\n",
    "\n",
    "http://http://pl.wikipedia.org/wiki/Dw%C3%B3jkowy_system_liczbowy\n"
   ]
  },
  {
   "cell_type": "markdown",
   "metadata": {},
   "source": [
    "My natomiast skupimy się na tym, jakie operacje mamy do dyspozycji i jak one działają.\n",
    "\n",
    "Pierwsze trzy: negacja bitowa (~), alternatywa (|) oraz koniunkcja (&) działają analogicznie do tych dla typu logicznego, z tym że operują na pojedynczych bitach. Negacja odwraca każdy bit na przeciwny. Weźmy np. liczbę 110001(2):\n",
    "```\n",
    "~110001 = 001110\n",
    "```\n",
    "Alternatywa bitowa daje na danym miejscu wynikowej liczby 1, jeśli przynajmniej jedna z dwóch liczb wejściowych ma na danym miejscu 1:\n",
    "```\n",
    "   101011110\n",
    "|  001110001\n",
    "-------------\n",
    "   101111111\n",
    "```\n",
    "Koniunkcja bitowa natomiast wtedy, gdy w obu liczbach na danym miejscu występuje 1:\n",
    "```\n",
    "   101011110\n",
    "&  001110001\n",
    "-------------\n",
    "   001010000\n",
    "```\n",
    "Dodatkowo Python, podobnie jak inne języki programowania, posiada operator ^ (xor) - tzw. alternatywy wykluczającej, którą w przypadku operowania na bitach wygodniej rozumieć jako dodawanie modulo 2:\n",
    "```\n",
    "   101011110\n",
    "^  001110001\n",
    "-------------\n",
    "   100101111\n",
    "```\n",
    "Poza tym są jeszcze przesunięcia bitowe - w lewo (<<) i w prawo (>>) -  które również można rozumieć nieco inaczej. Mianowicie, odpowiadają one mnożeniu i dzieleniu danej liczby przez 2:\n",
    "```python\n",
    ">>> bin(13)\n",
    "'0b1101'\n",
    ">>> 13 << 3\n",
    "104\n",
    ">>> bin(104)\n",
    "'0b1101000'\n",
    "```\n",
    "Jak widać na powyższym wycinku z powłoki Pythona, 13 << 3 oznacza przesunięcie bitowej reprezentacji liczby 13 o trzy miejsca w lewo z dostawieniem zer. Odpowiada to pomnożeniu przez 23, czyli 8.\n",
    "\n",
    "### Float"
   ]
  },
  {
   "cell_type": "code",
   "execution_count": null,
   "metadata": {},
   "outputs": [
    {
     "ename": "",
     "evalue": "",
     "output_type": "error",
     "traceback": [
      "\u001b[1;31mThe kernel failed to start due to the missing module 'psutil'. Consider installing this module.\n",
      "\u001b[1;31mClick <a href='https://aka.ms/kernelFailuresMissingModule'>here</a> for more info."
     ]
    }
   ],
   "source": [
    "z = 2.5\n",
    "print(\"Zmienna zmiennoprzecinkowa:\", z)\n",
    "print(\"Dzielenie:\", z / 2)"
   ]
  },
  {
   "cell_type": "markdown",
   "metadata": {},
   "source": [
    "Liczby zmiennoprzecinkowe różni od liczb całkowitych m.in. reprezentacja komputerowa (więcej tutaj: http://pl.wikipedia.org/wiki/Liczba_zmiennoprzecinkowa ). W Pythonie zmienne typu float posiadają zawsze część dziesiętną, zapisywaną po kropce (nie po przecinku, jak to zwykliśmy robić w szkole). Dostępne są dla nich te same działania, co dla typu int, poza operacjami bitowymi (nawet reszta z dzielenia!).\n",
    "### Complex\n",
    "\n",
    "Liczby zespolone posiadają część urojoną, oznaczaną w Pythonie przez przyrostek j. Poza operacjami dostępnymi dla opisanych wcześniej typów liczbowych (liczb zespolonych nie porządkujemy - nie można ich porównywać operatorami >, >=, <=, <), zmienne typu complex posiadają dodatkowe atrybuty i metody (gdyż, podobnie jak wszystko inne w Pythonie, są obiektami, do czego dojdziemy w dalszej części kursu). Np. każda zmienna typu complex posiada atrybuty real oraz imag zawierające jej część rzeczywistą i zespoloną, jak również można dla takiej zmiennej wywołać metodę conjugate(), która zwróci sprzężenie danej liczby. Biblioteka standardowa zawiera moduł (w Pythonie tak nazywa się pliki źródłowe) cmath, który zawiera funkcje zespolone takie jak cos() i sin() oraz funkcje liczące moduł danej liczby zespolonej czy też jej argument. Aby skorzystać z tych funkcji, należy zaimportować moduł cmath. Dostęp do zawartych w nim funkcji możemy uzyskać poprzedzając ich nazwę nazwą modułu i kropką. O tak:"
   ]
  },
  {
   "cell_type": "code",
   "execution_count": 1,
   "metadata": {},
   "outputs": [
    {
     "name": "stdout",
     "output_type": "stream",
     "text": [
      "Część rzeczywista: 1.0\n",
      "Część urojona: 2.0\n"
     ]
    }
   ],
   "source": [
    "c = 1 + 2j\n",
    "print(\"Część rzeczywista:\", c.real)\n",
    "print(\"Część urojona:\", c.imag)\n"
   ]
  },
  {
   "cell_type": "markdown",
   "metadata": {},
   "source": [
    "# Łańcuchy znaków (str)\n",
    "\n",
    "Zmienne typu str służą do przechowywania danych tekstowych, te natomiast możemy w Pythonie zapisać na wiele sposobów: w apostrofach, cudzysłowie i ich potrójnych odmianach:\n",
    "\n",
    "```python\n",
    ">>> 'to jest napis'\n",
    "'to jest napis'\n",
    ">>> \"to również\"\n",
    "'to również'\n",
    ">>> \"\"\"Także i to - takie napisy\n",
    "...\n",
    "... możemy rozciągać\n",
    "... na kilka\n",
    "... linii... :)\"\"\"\n",
    "'Także i to - takie napisy\\n\\nmożemy rozciągać\\nna kilka\\nlinii... :)'\n",
    "````\n",
    "Ta ostatnia wersja często jest wykorzystywana do tworzenia tzw. docstringów, o czym będzie mowa za kilka tygodni. Nie mamy do dyspozycji osobnego typu na pojedyncze znaki jak w wielu innych językach programowania. Znakiem (zwykle w innych jest to typ char) jest po prostu jednoznakowy napis. Przychodzi pewnie na myśl pytanie: \"jak się dostać do pojedynczego znaku lub fragmentu?\". Spieszę z odpowiedzią...\n",
    "\n",
    "\n",
    "Dane typu str są sekwencjami (podobnie jak np. listy, krotki czy tablice bajtów, do czego dojdziemy) i, jak pozostałe, są indeksowane od zera, a do wybranych elementów możemy się dostać wykorzystując nawiasy kwadratowe:\n",
    "```python\n",
    ">>> a = 'abcdefghijk'\n",
    ">>> a[1] # drugi element - indeksujemy od zera!\n",
    "'b'\n",
    ">>> a[3:6] # fragment od czwartego do szóstego elementu (bez znaku o indeksie 6!)\n",
    "'def'\n",
    ">>> a[1:6:2] # co drugi znak, od drugiego do siódmego\n",
    "'bdf'\n",
    "```\n",
    "Ogólnie wygląda to tak: napis[poczatek, koniec, krok]. Polecam wybróbowanie różnych kombinacji w powłoce, np. z liczbami ujemnymi.\n",
    "\n",
    "\n",
    "\n",
    "Dodatkowo (jak wszystko inne) napisy są obiektami, wobec czego mają metody, które można dla nich wywołać. Podam tu tylko dwa przykłady, po resztę odsyłam do dokumentacji i zadań. Metoda str.upper() zamienia małe litery na wielkie:\n",
    "```python\n",
    ">>> 'cognosce te ipsum'.upper()\n",
    "'COGNOSCE TE IPSUM'\n",
    "```\n",
    "Natomiast metoda str.isnumeric() pozwala sprawdzić, czy napis składa się z samych cyfr (co może się przydać, np. gdy myślimy o rzutowaniu na liczbę):\n",
    "```python\n",
    ">>> '4013'.isnumeric()\n",
    "True\n",
    "```\n",
    "\n",
    "Więcej o typach danych dostępnych w Pythonie można poczytać w dokumentacji:\n",
    "\n",
    "https://docs.python.org/3/library/stdtypes.html\n",
    "\n",
    "\n"
   ]
  },
  {
   "cell_type": "code",
   "execution_count": 2,
   "metadata": {},
   "outputs": [
    {
     "data": {
      "text/plain": [
       "'bdf'"
      ]
     },
     "execution_count": 2,
     "metadata": {},
     "output_type": "execute_result"
    }
   ],
   "source": [
    "a = 'abcdefghijk'\n",
    "\n",
    "a[3:6]\n",
    "a[1:6:2]"
   ]
  },
  {
   "cell_type": "code",
   "execution_count": 3,
   "metadata": {},
   "outputs": [
    {
     "data": {
      "text/plain": [
       "'COGNOSCE TE IPSUM'"
      ]
     },
     "execution_count": 3,
     "metadata": {},
     "output_type": "execute_result"
    }
   ],
   "source": [
    "'cognosce te ipsum'.upper()"
   ]
  },
  {
   "cell_type": "code",
   "execution_count": 4,
   "metadata": {},
   "outputs": [
    {
     "data": {
      "text/plain": [
       "True"
      ]
     },
     "execution_count": 4,
     "metadata": {},
     "output_type": "execute_result"
    }
   ],
   "source": [
    "'4013'.isnumeric()"
   ]
  },
  {
   "cell_type": "markdown",
   "metadata": {},
   "source": [
    "## Podstawowe Operacje na Stringach\n",
    "\n",
    "### Konkatenacja\n",
    "Konkatenacja to łączenie dwóch lub więcej stringów w jeden."
   ]
  },
  {
   "cell_type": "code",
   "execution_count": 5,
   "metadata": {},
   "outputs": [
    {
     "name": "stdout",
     "output_type": "stream",
     "text": [
      "Hello, World!\n"
     ]
    }
   ],
   "source": [
    "hello = \"Hello\"\n",
    "world = \"World\"\n",
    "message = hello + \", \" + world + \"!\"\n",
    "print(message)  # \"Hello, World!\"\n"
   ]
  },
  {
   "cell_type": "markdown",
   "metadata": {},
   "source": [
    "### Powielanie\n",
    "\n",
    "Stringi można powielać, używając operatora *."
   ]
  },
  {
   "cell_type": "code",
   "execution_count": 6,
   "metadata": {},
   "outputs": [
    {
     "name": "stdout",
     "output_type": "stream",
     "text": [
      "echo echo echo \n"
     ]
    }
   ],
   "source": [
    "echo = \"echo \"\n",
    "result = echo * 3\n",
    "print(result)  # \"echo echo echo \""
   ]
  },
  {
   "cell_type": "markdown",
   "metadata": {},
   "source": [
    "### Formatowanie Stringów\n",
    "Python oferuje kilka metod na formatowanie stringów, co jest szczególnie przydatne przy tworzeniu wiadomości, które zawierają zmienne dane.\n",
    "\n",
    "### Formatowanie za pomocą %\n",
    "Metoda tradycyjna, znana z języków C-like."
   ]
  },
  {
   "cell_type": "code",
   "execution_count": 7,
   "metadata": {},
   "outputs": [
    {
     "name": "stdout",
     "output_type": "stream",
     "text": [
      "Hello, John!\n"
     ]
    }
   ],
   "source": [
    "name = \"John\"\n",
    "message = \"Hello, %s!\" % name\n",
    "print(message)  # \"Hello, John!\""
   ]
  },
  {
   "cell_type": "markdown",
   "metadata": {},
   "source": [
    "### Metoda format()\n",
    "\n",
    "Metoda format() jest bardziej elastyczna i czytelna."
   ]
  },
  {
   "cell_type": "code",
   "execution_count": 8,
   "metadata": {},
   "outputs": [
    {
     "name": "stdout",
     "output_type": "stream",
     "text": [
      "Hello, John!\n"
     ]
    }
   ],
   "source": [
    "name = \"John\"\n",
    "message = \"Hello, {}!\".format(name)\n",
    "print(message)  # \"Hello, John!\""
   ]
  },
  {
   "cell_type": "markdown",
   "metadata": {},
   "source": [
    "# Można również używać nazwanych zastępników."
   ]
  },
  {
   "cell_type": "code",
   "execution_count": 9,
   "metadata": {},
   "outputs": [
    {
     "name": "stdout",
     "output_type": "stream",
     "text": [
      "Hello, John!\n"
     ]
    }
   ],
   "source": [
    "message = \"Hello, {name}!\".format(name=\"John\")\n",
    "print(message)  # \"Hello, John!\""
   ]
  },
  {
   "cell_type": "markdown",
   "metadata": {},
   "source": [
    "f-strings (od Python 3.6)\n",
    "\n",
    "f-strings oferują bardzo wygodną składnię do wstawiania wyrażeń wewnątrz stringów."
   ]
  },
  {
   "cell_type": "code",
   "execution_count": 10,
   "metadata": {},
   "outputs": [
    {
     "name": "stdout",
     "output_type": "stream",
     "text": [
      "Hello, John!\n"
     ]
    }
   ],
   "source": [
    "name = \"John\"\n",
    "message = f\"Hello, {name}!\"\n",
    "print(message)  # \"Hello, John!\""
   ]
  },
  {
   "cell_type": "markdown",
   "metadata": {},
   "source": [
    "## Operacje na stringach\n",
    "Sprawdzanie zawartości\n",
    "Python oferuje metody do sprawdzania, czy string zaczyna się lub kończy danym podstringiem.\n",
    "\n",
    "Metoda find() zwraca indeks pierwszego wystąpienia podstringa.\n",
    "Metoda replace() zamienia wszystkie wystąpienia podstringa na inny string.\n",
    "\n",
    "Python oferuje metody do sprawdzania, czy string zaczyna się lub kończy danym podstringiem.\n",
    "\n"
   ]
  },
  {
   "cell_type": "code",
   "execution_count": 11,
   "metadata": {},
   "outputs": [
    {
     "name": "stdout",
     "output_type": "stream",
     "text": [
      "13\n",
      "7\n",
      "Hello, Python!\n",
      "True\n",
      "True\n"
     ]
    }
   ],
   "source": [
    "message = \"Hello, World!\"\n",
    "print(len(message))  # Długość stringa\n",
    "print(message.find(\"World\"))  # Znajdowanie podstringów\n",
    "print(message.replace(\"World\", \"Python\"))  # Zamiana podstringów\n",
    "\n",
    "print(message.startswith(\"Hello\"))  # Sprawdzanie zawartości\n",
    "print(message.endswith(\"World!\"))   # Sprawdzanie zawartości"
   ]
  },
  {
   "cell_type": "markdown",
   "metadata": {},
   "source": [
    "## Praca z wieloma liniami\n",
    "Stringi mogą zawierać wiele linii, jeśli zostaną otoczone potrójnymi cudzysłowami."
   ]
  },
  {
   "cell_type": "code",
   "execution_count": 12,
   "metadata": {},
   "outputs": [
    {
     "name": "stdout",
     "output_type": "stream",
     "text": [
      "This is a string\n",
      "that spans across multiple lines.\n",
      "\n"
     ]
    }
   ],
   "source": [
    "\n",
    "multi_line = \"\"\"This is a string\n",
    "that spans across multiple lines.\n",
    "\"\"\"\n",
    "print(multi_line)\n",
    "    "
   ]
  },
  {
   "cell_type": "markdown",
   "metadata": {},
   "source": [
    "## Cięcie stringów (slicing)\n",
    "Python umożliwia wydobywanie części stringów za pomocą mechanizmu cięcia.\n",
    "\n"
   ]
  },
  {
   "cell_type": "code",
   "execution_count": 13,
   "metadata": {},
   "outputs": [
    {
     "name": "stdout",
     "output_type": "stream",
     "text": [
      "World!\n",
      "Hello\n",
      "World\n"
     ]
    }
   ],
   "source": [
    "\n",
    "text = \"Hello, World!\"\n",
    "print(text[7:])  # \"World!\"\n",
    "print(text[:5])  # \"Hello\"\n",
    "print(text[7:12])  # \"World\"\n",
    "    \n",
    "    "
   ]
  },
  {
   "cell_type": "markdown",
   "metadata": {},
   "source": [
    "\n",
    "## Metody operujące na stringach\n",
    "Python posiada wiele metod, które pozwalają na przeprowadzanie operacji takich jak zmiana wielkości liter, sprawdzanie zawartości czy dzielenie stringów na listę mniejszych stringów."
   ]
  },
  {
   "cell_type": "code",
   "execution_count": 14,
   "metadata": {},
   "outputs": [
    {
     "name": "stdout",
     "output_type": "stream",
     "text": [
      "Hello\n",
      "True\n",
      "['some', 'comma', 'separated', 'values']\n"
     ]
    }
   ],
   "source": [
    "\n",
    "print(\"hello\".capitalize())  # \"Hello\"\n",
    "print(\"123\".isdigit())       # True\n",
    "print(\"some,comma,separated,values\".split(','))  # ['some', 'comma', 'separated', 'values']\n",
    "    "
   ]
  },
  {
   "cell_type": "markdown",
   "metadata": {},
   "source": [
    "Znajomość tych i wielu innych metod (np. strip(), upper(), lower(), join()) pozwala na skuteczne manipulowanie stringami i jest niezbędna w wielu aspektach programowania w Pythonie.\n",
    "\n"
   ]
  },
  {
   "cell_type": "code",
   "execution_count": 15,
   "metadata": {},
   "outputs": [
    {
     "name": "stdout",
     "output_type": "stream",
     "text": [
      "Napis: Hello, world!\n",
      "Dostęp do znaku: w\n",
      "Wycinek napisu: world\n"
     ]
    }
   ],
   "source": [
    "napis = \"Hello, world!\"\n",
    "print(\"Napis:\", napis)\n",
    "print(\"Dostęp do znaku:\", napis[7])\n",
    "print(\"Wycinek napisu:\", napis[7:12])"
   ]
  },
  {
   "cell_type": "markdown",
   "metadata": {},
   "source": [
    "## Wyrównywanie Tekstu i Szerokość Pola\n",
    "\n",
    "### Możemy łatwo wyrównać tekst do lewej, prawej lub do środka, określając szerokość pola."
   ]
  },
  {
   "cell_type": "code",
   "execution_count": 20,
   "metadata": {},
   "outputs": [
    {
     "name": "stdout",
     "output_type": "stream",
     "text": [
      "      Ania\n",
      "Ania      \n",
      "   Ania   \n"
     ]
    }
   ],
   "source": [
    "# Wyrównanie do prawej\n",
    "print(f\"{name:>10}\")\n",
    "\n",
    "# Wyrównanie do lewej\n",
    "print(f\"{name:<10}\")\n",
    "\n",
    "# Wyrównanie do środka\n",
    "print(f\"{name:^10}\")"
   ]
  },
  {
   "cell_type": "markdown",
   "metadata": {},
   "source": [
    "## Wypełnienie i Formatowanie Liczb\n",
    "\n",
    "#### F-stringi umożliwiają wypełnienie dodatkową spacją lub innym znakiem przy formatowaniu liczb."
   ]
  },
  {
   "cell_type": "code",
   "execution_count": 27,
   "metadata": {},
   "outputs": [
    {
     "name": "stdout",
     "output_type": "stream",
     "text": [
      "00123\n",
      "***Ada****\n",
      "_________________Ada\n"
     ]
    }
   ],
   "source": [
    "number = 123\n",
    "# Wypełnienie zerami\n",
    "print(f\"{number:05d}\")\n",
    "\n",
    "# Wypełnienie gwiazdkami i wyrównanie do środka\n",
    "print(f\"{name:*^10}\")\n",
    "\n",
    "name = \"Ada\"\n",
    "width = 20\n",
    "print(f\"{name:_>{width}}\")\n"
   ]
  },
  {
   "cell_type": "markdown",
   "metadata": {},
   "source": [
    "## Obliczenia wewnątrz f-stringa"
   ]
  },
  {
   "cell_type": "code",
   "execution_count": 24,
   "metadata": {},
   "outputs": [
    {
     "name": "stdout",
     "output_type": "stream",
     "text": [
      "Za dwa lata Ania będzie miała 7 lat.\n"
     ]
    }
   ],
   "source": [
    "\n",
    "age = 5\n",
    "print(f\"Za dwa lata {name} będzie miała {age + 2} lat.\")\n"
   ]
  },
  {
   "cell_type": "markdown",
   "metadata": {},
   "source": [
    "## Szybkie wyświetlanie zmiennej"
   ]
  },
  {
   "cell_type": "code",
   "execution_count": 16,
   "metadata": {},
   "outputs": [],
   "source": [
    "name = \"Ania\""
   ]
  },
  {
   "cell_type": "code",
   "execution_count": 29,
   "metadata": {},
   "outputs": [
    {
     "name": "stdout",
     "output_type": "stream",
     "text": [
      "name='Ada'\n",
      "a + b = 3\n"
     ]
    }
   ],
   "source": [
    "print(f\"{name=}\")\n",
    "\n",
    "a =1\n",
    "b=2\n",
    "print(f\"{a + b = }\")"
   ]
  },
  {
   "cell_type": "markdown",
   "metadata": {},
   "source": [
    "## Wyrównywanie i Formatowanie w Zależności od Warunków\n",
    "\n",
    "Dynamiczne formatowanie może być również używane w bardziej złożonych scenariuszach, gdzie sposób formatowania zależy od spełnienia określonych warunków:"
   ]
  },
  {
   "cell_type": "code",
   "execution_count": null,
   "metadata": {},
   "outputs": [],
   "source": [
    "# Wyrównanie w zależności od długości tekstu\n",
    "text = \"Krótki tekst\"\n",
    "align = \"^\" if len(text) < 10 else \"<\"\n",
    "print(f\"{text:{align}20}\")"
   ]
  },
  {
   "cell_type": "code",
   "execution_count": 33,
   "metadata": {},
   "outputs": [
    {
     "name": "stdout",
     "output_type": "stream",
     "text": [
      "        Krót        \n"
     ]
    }
   ],
   "source": [
    "# Wyrównanie w zależności od długości tekstu\n",
    "text = \"Krót\"\n",
    "align = \"^\" if len(text) < 10 else \"<\"\n",
    "print(f\"{text:{align}20}\")"
   ]
  },
  {
   "cell_type": "markdown",
   "metadata": {},
   "source": [
    "W powyższym przykładzie tekst zostanie wyrównany do środka, jeśli jego długość jest mniejsza niż 10 znaków, a w przeciwnym razie zostanie wyrównany do lewej strony w polu o szerokości 20 znaków.\n",
    "\n",
    "Dzięki tym technikom f-stringi w Pythonie stają się jeszcze potężniejszym narzędziem, pozwalającym na bardzo elastyczne formatowanie danych.\n"
   ]
  }
 ],
 "metadata": {
  "kernelspec": {
   "display_name": "Python 3",
   "language": "python",
   "name": "python3"
  },
  "language_info": {
   "codemirror_mode": {
    "name": "ipython",
    "version": 3
   },
   "file_extension": ".py",
   "mimetype": "text/x-python",
   "name": "python",
   "nbconvert_exporter": "python",
   "pygments_lexer": "ipython3",
   "version": "3.10.13"
  }
 },
 "nbformat": 4,
 "nbformat_minor": 2
}
