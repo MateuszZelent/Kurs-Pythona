{
 "cells": [
  {
   "cell_type": "markdown",
   "metadata": {},
   "source": [
    "# Wprowadzenie \n",
    "W tym notatniku Jupyter omówimy podstawy zmiennych w Pythonie, w tym ich definicje, typy i operacje na nich. Celem jest zapewnienie solidnych podstaw w zakresie zarządzania danymi i operacji, które można na nich wykonywać, co jest kluczowe dla dalszego programowania.\n",
    "\n",
    "## Zmienne w Pythonie\n",
    "\n",
    "Zmienna to pojemnik na dane, który przechowuje informacje, które mogą być zmieniane podczas działania programu. Każda zmienna ma swoją nazwę, typ i wartość.\n",
    "\n",
    "### Definiowanie zmiennej"
   ]
  },
  {
   "cell_type": "code",
   "execution_count": null,
   "metadata": {},
   "outputs": [],
   "source": [
    "liczba = 5\n",
    "print(\"Wartość liczby:\", liczba)\n"
   ]
  },
  {
   "cell_type": "markdown",
   "metadata": {},
   "source": [
    "### Zmiana wartości zmiennej\n",
    "\n",
    "Jak sama nazwa wskazuje, możemy tę wartość zmienić - po prostu przypisujac (w Pythonie służy do tego operator =) inną:"
   ]
  },
  {
   "cell_type": "code",
   "execution_count": null,
   "metadata": {},
   "outputs": [],
   "source": [
    "liczba = 10\n",
    "print(\"Nowa wartość liczby:\", liczba)"
   ]
  },
  {
   "cell_type": "markdown",
   "metadata": {},
   "source": [
    "### Typy danych w Pythonie\n",
    "\n",
    "W Pythonie dostępnych jest kilkanaście wbudowanych typów zmiennych i wiele dodatkowych w bibliotece standardowej. Tutaj omówimy kilka podstawowych: typ logiczny (bool), typy liczbowe (int - l. całkowite, float - l. zmiennoprzecinkowe, complex - l. zespolone) oraz łańcuchy znaków, czyli napisy (str).\n",
    "\n",
    "### Typ logiczny (bool)\n",
    "\n",
    "Typ logiczny przyjmuje dwie wartości: True i False. Są one wynikiem porównania dwóch wartości.\n",
    "\n",
    "W Pythonie jest osiem operatorów porównania:\n",
    "\n",
    "```python \n",
    "<, <=  - mniejszy, mniejszy bądź równy\n",
    ">, >=  - analogiczne większości\n",
    "==     - równości\n",
    "!=     - różności\n",
    "is     - identyczność (a is b - a jest tym samym obiektem, co b)\n",
    "is not - przeciwny do is\n",
    "```\n",
    "\n",
    "### Przykłady operatorów porównania"
   ]
  },
  {
   "cell_type": "code",
   "execution_count": null,
   "metadata": {},
   "outputs": [
    {
     "ename": "",
     "evalue": "",
     "output_type": "error",
     "traceback": [
      "\u001b[1;31mThe kernel failed to start due to the missing module 'psutil'. Consider installing this module.\n",
      "\u001b[1;31mClick <a href='https://aka.ms/kernelFailuresMissingModule'>here</a> for more info."
     ]
    }
   ],
   "source": [
    "print(5 > 3)  # True\n",
    "print(2 == 3)  # False\n",
    "print(1 != 2)  # True\n"
   ]
  },
  {
   "cell_type": "markdown",
   "metadata": {},
   "source": [
    "Sprawdź ich działanie, korzystając z powłoki Pythona.\n",
    "\n",
    "Ponadto, dla typu logicznego, mamy do dyspozycji operatory koniunkcji, alternatywy i zaprzeczenia: and, or oraz not.\n",
    "\n",
    "\n",
    "### Operatory logiczne"
   ]
  },
  {
   "cell_type": "code",
   "execution_count": null,
   "metadata": {},
   "outputs": [
    {
     "ename": "",
     "evalue": "",
     "output_type": "error",
     "traceback": [
      "\u001b[1;31mThe kernel failed to start due to the missing module 'psutil'. Consider installing this module.\n",
      "\u001b[1;31mClick <a href='https://aka.ms/kernelFailuresMissingModule'>here</a> for more info."
     ]
    }
   ],
   "source": [
    "print(True and False)  # False\n",
    "print(True or False)  # True\n",
    "print(not True)  # False"
   ]
  },
  {
   "cell_type": "markdown",
   "metadata": {},
   "source": [
    "## Zmienne liczbowe\n",
    "\n",
    "### int\n",
    "\n",
    "Zmienne typu int w Pythonie mogą być dowolnej wielkości. Wyglądają i działają jak liczby całkowite - można wykonywać na nich wszystkie podstawowe działania: dodawanie (+), odejmowanie (-), mnożenie (*), dzielenie (/), dzielenie całkowitoliczbowe (//), obliczanie reszty z dzielenia (%) czy też potęgowanie (**)."
   ]
  },
  {
   "cell_type": "code",
   "execution_count": null,
   "metadata": {},
   "outputs": [],
   "source": [
    "x = 5\n",
    "y = 2\n",
    "print(\"Dodawanie:\", x + y)\n",
    "print(\"Odejmowanie:\", x - y)\n",
    "print(\"Mnożenie:\", x * y)\n",
    "print(\"Dzielenie:\", x / y)"
   ]
  },
  {
   "cell_type": "markdown",
   "metadata": {},
   "source": [
    "Poza tymi znanymi operacjami, dla typu int zdefiniowane są operacje bitowe, działające na ich binarnej reprezentacji wewnątrz komputera. Więcej o systemie dwójkowym można przeczytać np. na Wikipedii:\n",
    "\n",
    "http://http://pl.wikipedia.org/wiki/Dw%C3%B3jkowy_system_liczbowy\n"
   ]
  },
  {
   "cell_type": "markdown",
   "metadata": {},
   "source": [
    "My natomiast skupimy się na tym, jakie operacje mamy do dyspozycji i jak one działają.\n",
    "\n",
    "Pierwsze trzy: negacja bitowa (~), alternatywa (|) oraz koniunkcja (&) działają analogicznie do tych dla typu logicznego, z tym że operują na pojedynczych bitach. Negacja odwraca każdy bit na przeciwny. Weźmy np. liczbę 110001(2):\n",
    "```\n",
    "~110001 = 001110\n",
    "```\n",
    "Alternatywa bitowa daje na danym miejscu wynikowej liczby 1, jeśli przynajmniej jedna z dwóch liczb wejściowych ma na danym miejscu 1:\n",
    "```\n",
    "   101011110\n",
    "|  001110001\n",
    "-------------\n",
    "   101111111\n",
    "```\n",
    "Koniunkcja bitowa natomiast wtedy, gdy w obu liczbach na danym miejscu występuje 1:\n",
    "```\n",
    "   101011110\n",
    "&  001110001\n",
    "-------------\n",
    "   001010000\n",
    "```\n",
    "Dodatkowo Python, podobnie jak inne języki programowania, posiada operator ^ (xor) - tzw. alternatywy wykluczającej, którą w przypadku operowania na bitach wygodniej rozumieć jako dodawanie modulo 2:\n",
    "```\n",
    "   101011110\n",
    "^  001110001\n",
    "-------------\n",
    "   100101111\n",
    "```\n",
    "Poza tym są jeszcze przesunięcia bitowe - w lewo (<<) i w prawo (>>) -  które również można rozumieć nieco inaczej. Mianowicie, odpowiadają one mnożeniu i dzieleniu danej liczby przez 2:\n",
    "```python\n",
    ">>> bin(13)\n",
    "'0b1101'\n",
    ">>> 13 << 3\n",
    "104\n",
    ">>> bin(104)\n",
    "'0b1101000'\n",
    "```\n",
    "Jak widać na powyższym wycinku z powłoki Pythona, 13 << 3 oznacza przesunięcie bitowej reprezentacji liczby 13 o trzy miejsca w lewo z dostawieniem zer. Odpowiada to pomnożeniu przez 23, czyli 8.\n",
    "\n",
    "### Float"
   ]
  },
  {
   "cell_type": "code",
   "execution_count": null,
   "metadata": {},
   "outputs": [
    {
     "ename": "",
     "evalue": "",
     "output_type": "error",
     "traceback": [
      "\u001b[1;31mThe kernel failed to start due to the missing module 'psutil'. Consider installing this module.\n",
      "\u001b[1;31mClick <a href='https://aka.ms/kernelFailuresMissingModule'>here</a> for more info."
     ]
    }
   ],
   "source": [
    "z = 2.5\n",
    "print(\"Zmienna zmiennoprzecinkowa:\", z)\n",
    "print(\"Dzielenie:\", z / 2)"
   ]
  },
  {
   "cell_type": "markdown",
   "metadata": {},
   "source": [
    "Liczby zmiennoprzecinkowe różni od liczb całkowitych m.in. reprezentacja komputerowa (więcej tutaj: http://pl.wikipedia.org/wiki/Liczba_zmiennoprzecinkowa ). W Pythonie zmienne typu float posiadają zawsze część dziesiętną, zapisywaną po kropce (nie po przecinku, jak to zwykliśmy robić w szkole). Dostępne są dla nich te same działania, co dla typu int, poza operacjami bitowymi (nawet reszta z dzielenia!).\n",
    "### Complex\n",
    "\n",
    "Liczby zespolone posiadają część urojoną, oznaczaną w Pythonie przez przyrostek j. Poza operacjami dostępnymi dla opisanych wcześniej typów liczbowych (liczb zespolonych nie porządkujemy - nie można ich porównywać operatorami >, >=, <=, <), zmienne typu complex posiadają dodatkowe atrybuty i metody (gdyż, podobnie jak wszystko inne w Pythonie, są obiektami, do czego dojdziemy w dalszej części kursu). Np. każda zmienna typu complex posiada atrybuty real oraz imag zawierające jej część rzeczywistą i zespoloną, jak również można dla takiej zmiennej wywołać metodę conjugate(), która zwróci sprzężenie danej liczby. Biblioteka standardowa zawiera moduł (w Pythonie tak nazywa się pliki źródłowe) cmath, który zawiera funkcje zespolone takie jak cos() i sin() oraz funkcje liczące moduł danej liczby zespolonej czy też jej argument. Aby skorzystać z tych funkcji, należy zaimportować moduł cmath. Dostęp do zawartych w nim funkcji możemy uzyskać poprzedzając ich nazwę nazwą modułu i kropką. O tak:"
   ]
  },
  {
   "cell_type": "code",
   "execution_count": null,
   "metadata": {},
   "outputs": [
    {
     "ename": "",
     "evalue": "",
     "output_type": "error",
     "traceback": [
      "\u001b[1;31mThe kernel failed to start due to the missing module 'psutil'. Consider installing this module.\n",
      "\u001b[1;31mClick <a href='https://aka.ms/kernelFailuresMissingModule'>here</a> for more info."
     ]
    }
   ],
   "source": [
    "c = 1 + 2j\n",
    "print(\"Część rzeczywista:\", c.real)\n",
    "print(\"Część urojona:\", c.imag)\n"
   ]
  },
  {
   "cell_type": "markdown",
   "metadata": {},
   "source": [
    "# Łańcuchy znaków (str)\n",
    "\n",
    "Stringi w Pythonie są niezmiennymi sekwencjami znaków, co oznacza, że raz utworzone, ich zawartość nie może być zmieniona. Mimo tej niezmienności, Python oferuje bogaty zestaw operacji i metod, które umożliwiają efektywną pracę z napisami.\n",
    "\n",
    "Zmienne typu str służą do przechowywania danych tekstowych, te natomiast możemy w Pythonie zapisać na wiele sposobów: w apostrofach, cudzysłowie i ich potrójnych odmianach:\n",
    "\n",
    "```python\n",
    ">>> 'to jest napis'\n",
    "'to jest napis'\n",
    ">>> \"to również\"\n",
    "'to również'\n",
    ">>> \"\"\"Także i to - takie napisy\n",
    "...\n",
    "... możemy rozciągać\n",
    "... na kilka\n",
    "... linii... :)\"\"\"\n",
    "'Także i to - takie napisy\\n\\nmożemy rozciągać\\nna kilka\\nlinii... :)'\n",
    "````\n",
    "Ta ostatnia wersja często jest wykorzystywana do tworzenia tzw. docstringów, o czym będzie mowa za kilka tygodni. Nie mamy do dyspozycji osobnego typu na pojedyncze znaki jak w wielu innych językach programowania. Znakiem (zwykle w innych jest to typ char) jest po prostu jednoznakowy napis. Przychodzi pewnie na myśl pytanie: \"jak się dostać do pojedynczego znaku lub fragmentu?\". Spieszę z odpowiedzią...\n",
    "\n",
    "\n",
    "Dane typu str są sekwencjami (podobnie jak np. listy, krotki czy tablice bajtów, do czego dojdziemy) i, jak pozostałe, są indeksowane od zera, a do wybranych elementów możemy się dostać wykorzystując nawiasy kwadratowe:\n",
    "```python\n",
    ">>> a = 'abcdefghijk'\n",
    ">>> a[1] # drugi element - indeksujemy od zera!\n",
    "'b'\n",
    ">>> a[3:6] # fragment od czwartego do szóstego elementu (bez znaku o indeksie 6!)\n",
    "'def'\n",
    ">>> a[1:6:2] # co drugi znak, od drugiego do siódmego\n",
    "'bdf'\n",
    "```\n",
    "Ogólnie wygląda to tak: napis[poczatek, koniec, krok]. Polecam wybróbowanie różnych kombinacji w powłoce, np. z liczbami ujemnymi.\n",
    "\n",
    "\n",
    "\n",
    "Dodatkowo (jak wszystko inne) napisy są obiektami, wobec czego mają metody, które można dla nich wywołać. Podam tu tylko dwa przykłady, po resztę odsyłam do dokumentacji i zadań. Metoda str.upper() zamienia małe litery na wielkie:\n",
    "```python\n",
    ">>> 'cognosce te ipsum'.upper()\n",
    "'COGNOSCE TE IPSUM'\n",
    "```\n",
    "Natomiast metoda str.isnumeric() pozwala sprawdzić, czy napis składa się z samych cyfr (co może się przydać, np. gdy myślimy o rzutowaniu na liczbę):\n",
    "```python\n",
    ">>> '4013'.isnumeric()\n",
    "True\n",
    "```\n",
    "\n",
    "Więcej o typach danych dostępnych w Pythonie można poczytać w dokumentacji:\n",
    "\n",
    "https://docs.python.org/3/library/stdtypes.html\n",
    "\n",
    "\n"
   ]
  },
  {
   "cell_type": "code",
   "execution_count": null,
   "metadata": {},
   "outputs": [
    {
     "ename": "",
     "evalue": "",
     "output_type": "error",
     "traceback": [
      "\u001b[1;31mRunning cells with 'base' requires the ipykernel package.\n",
      "\u001b[1;31mRun the following command to install 'ipykernel' into the Python environment. \n",
      "\u001b[1;31mCommand: 'conda install -n base ipykernel --update-deps --force-reinstall'"
     ]
    }
   ],
   "source": [
    "a = 'abcdefghijk'\n",
    "\n",
    "a[3:6]\n",
    "a[1:6:2]"
   ]
  },
  {
   "cell_type": "code",
   "execution_count": null,
   "metadata": {},
   "outputs": [
    {
     "ename": "",
     "evalue": "",
     "output_type": "error",
     "traceback": [
      "\u001b[1;31mRunning cells with 'base' requires the ipykernel package.\n",
      "\u001b[1;31mRun the following command to install 'ipykernel' into the Python environment. \n",
      "\u001b[1;31mCommand: 'conda install -n base ipykernel --update-deps --force-reinstall'"
     ]
    }
   ],
   "source": [
    "'cognosce te ipsum'.upper()"
   ]
  },
  {
   "cell_type": "code",
   "execution_count": null,
   "metadata": {},
   "outputs": [
    {
     "ename": "",
     "evalue": "",
     "output_type": "error",
     "traceback": [
      "\u001b[1;31mRunning cells with 'base' requires the ipykernel package.\n",
      "\u001b[1;31mRun the following command to install 'ipykernel' into the Python environment. \n",
      "\u001b[1;31mCommand: 'conda install -n base ipykernel --update-deps --force-reinstall'"
     ]
    }
   ],
   "source": [
    "'4013'.isnumeric()"
   ]
  },
  {
   "cell_type": "markdown",
   "metadata": {},
   "source": [
    "## Podstawowe Operacje na Stringach\n",
    "\n",
    "### Konkatenacja\n",
    "Konkatenacja to łączenie dwóch lub więcej stringów w jeden."
   ]
  },
  {
   "cell_type": "code",
   "execution_count": null,
   "metadata": {},
   "outputs": [
    {
     "ename": "",
     "evalue": "",
     "output_type": "error",
     "traceback": [
      "\u001b[1;31mThe kernel failed to start due to the missing module 'psutil'. Consider installing this module.\n",
      "\u001b[1;31mClick <a href='https://aka.ms/kernelFailuresMissingModule'>here</a> for more info."
     ]
    }
   ],
   "source": [
    "hello = \"Hello\"\n",
    "world = \"World\"\n",
    "message = hello + \", \" + world + \"!\"\n",
    "print(message)  # \"Hello, World!\"\n"
   ]
  },
  {
   "cell_type": "markdown",
   "metadata": {},
   "source": [
    "### Powielanie\n",
    "\n",
    "Stringi można powielać, używając operatora *."
   ]
  },
  {
   "cell_type": "code",
   "execution_count": null,
   "metadata": {},
   "outputs": [
    {
     "ename": "",
     "evalue": "",
     "output_type": "error",
     "traceback": [
      "\u001b[1;31mThe kernel failed to start due to the missing module 'psutil'. Consider installing this module.\n",
      "\u001b[1;31mClick <a href='https://aka.ms/kernelFailuresMissingModule'>here</a> for more info."
     ]
    }
   ],
   "source": [
    "echo = \"echo \"\n",
    "result = echo * 3\n",
    "print(result)  # \"echo echo echo \""
   ]
  },
  {
   "cell_type": "markdown",
   "metadata": {},
   "source": [
    "### Formatowanie Stringów\n",
    "Python oferuje kilka metod na formatowanie stringów, co jest szczególnie przydatne przy tworzeniu wiadomości, które zawierają zmienne dane.\n",
    "\n",
    "### Formatowanie za pomocą %\n",
    "Metoda tradycyjna, znana z języków C-like."
   ]
  },
  {
   "cell_type": "code",
   "execution_count": null,
   "metadata": {},
   "outputs": [],
   "source": [
    "name = \"John\"\n",
    "message = \"Hello, %s!\" % name\n",
    "print(message)  # \"Hello, John!\""
   ]
  },
  {
   "cell_type": "markdown",
   "metadata": {},
   "source": [
    "### Metoda format()\n",
    "\n",
    "Metoda format() jest bardziej elastyczna i czytelna."
   ]
  },
  {
   "cell_type": "code",
   "execution_count": null,
   "metadata": {},
   "outputs": [
    {
     "ename": "",
     "evalue": "",
     "output_type": "error",
     "traceback": [
      "\u001b[1;31mThe kernel failed to start due to the missing module 'psutil'. Consider installing this module.\n",
      "\u001b[1;31mClick <a href='https://aka.ms/kernelFailuresMissingModule'>here</a> for more info."
     ]
    }
   ],
   "source": [
    "name = \"John\"\n",
    "message = \"Hello, {}!\".format(name)\n",
    "print(message)  # \"Hello, John!\""
   ]
  },
  {
   "cell_type": "markdown",
   "metadata": {},
   "source": [
    "# Można również używać nazwanych zastępników."
   ]
  },
  {
   "cell_type": "code",
   "execution_count": null,
   "metadata": {},
   "outputs": [],
   "source": [
    "message = \"Hello, {name}!\".format(name=\"John\")\n",
    "print(message)  # \"Hello, John!\""
   ]
  },
  {
   "cell_type": "markdown",
   "metadata": {},
   "source": [
    "f-strings (od Python 3.6)\n",
    "\n",
    "f-strings oferują bardzo wygodną składnię do wstawiania wyrażeń wewnątrz stringów."
   ]
  },
  {
   "cell_type": "code",
   "execution_count": null,
   "metadata": {},
   "outputs": [
    {
     "ename": "",
     "evalue": "",
     "output_type": "error",
     "traceback": [
      "\u001b[1;31mThe kernel failed to start due to the missing module 'psutil'. Consider installing this module.\n",
      "\u001b[1;31mClick <a href='https://aka.ms/kernelFailuresMissingModule'>here</a> for more info."
     ]
    }
   ],
   "source": [
    "name = \"John\"\n",
    "message = f\"Hello, {name}!\"\n",
    "print(message)  # \"Hello, John!\""
   ]
  },
  {
   "cell_type": "markdown",
   "metadata": {},
   "source": [
    "## Operacje na stringach\n",
    "Sprawdzanie zawartości\n",
    "Python oferuje metody do sprawdzania, czy string zaczyna się lub kończy danym podstringiem.\n",
    "\n",
    "Metoda find() zwraca indeks pierwszego wystąpienia podstringa.\n",
    "Metoda replace() zamienia wszystkie wystąpienia podstringa na inny string.\n",
    "\n",
    "Python oferuje metody do sprawdzania, czy string zaczyna się lub kończy danym podstringiem.\n",
    "\n"
   ]
  },
  {
   "cell_type": "code",
   "execution_count": null,
   "metadata": {},
   "outputs": [],
   "source": [
    "message = \"Hello, World!\"\n",
    "print(len(message))  # Długość stringa\n",
    "print(message.find(\"World\"))  # Znajdowanie podstringów\n",
    "print(message.replace(\"World\", \"Python\"))  # Zamiana podstringów\n",
    "\n",
    "print(message.startswith(\"Hello\"))  # Sprawdzanie zawartości\n",
    "print(message.endswith(\"World!\"))   # Sprawdzanie zawartości"
   ]
  },
  {
   "cell_type": "markdown",
   "metadata": {},
   "source": [
    "## Praca z wieloma liniami\n",
    "Stringi mogą zawierać wiele linii, jeśli zostaną otoczone potrójnymi cudzysłowami."
   ]
  },
  {
   "cell_type": "code",
   "execution_count": null,
   "metadata": {},
   "outputs": [],
   "source": [
    "\n",
    "multi_line = \"\"\"This is a string\n",
    "that spans across multiple lines.\n",
    "\"\"\"\n",
    "print(multi_line)\n",
    "    "
   ]
  },
  {
   "cell_type": "markdown",
   "metadata": {},
   "source": [
    "## Cięcie stringów (slicing)\n",
    "Python umożliwia wydobywanie części stringów za pomocą mechanizmu cięcia.\n",
    "\n"
   ]
  },
  {
   "cell_type": "code",
   "execution_count": null,
   "metadata": {},
   "outputs": [],
   "source": [
    "\n",
    "text = \"Hello, World!\"\n",
    "print(text[7:])  # \"World!\"\n",
    "print(text[:5])  # \"Hello\"\n",
    "print(text[7:12])  # \"World\"\n",
    "    \n",
    "    "
   ]
  },
  {
   "cell_type": "markdown",
   "metadata": {},
   "source": [
    "\n",
    "## Metody operujące na stringach\n",
    "Python posiada wiele metod, które pozwalają na przeprowadzanie operacji takich jak zmiana wielkości liter, sprawdzanie zawartości czy dzielenie stringów na listę mniejszych stringów."
   ]
  },
  {
   "cell_type": "code",
   "execution_count": null,
   "metadata": {},
   "outputs": [],
   "source": [
    "\n",
    "print(\"hello\".capitalize())  # \"Hello\"\n",
    "print(\"123\".isdigit())       # True\n",
    "print(\"some,comma,separated,values\".split(','))  # ['some', 'comma', 'separated', 'values']\n",
    "    "
   ]
  },
  {
   "cell_type": "markdown",
   "metadata": {},
   "source": [
    "Znajomość tych i wielu innych metod (np. strip(), upper(), lower(), join()) pozwala na skuteczne manipulowanie stringami i jest niezbędna w wielu aspektach programowania w Pythonie.\n",
    "\n"
   ]
  },
  {
   "cell_type": "code",
   "execution_count": null,
   "metadata": {},
   "outputs": [
    {
     "ename": "",
     "evalue": "",
     "output_type": "error",
     "traceback": [
      "\u001b[1;31mThe kernel failed to start due to the missing module 'psutil'. Consider installing this module.\n",
      "\u001b[1;31mClick <a href='https://aka.ms/kernelFailuresMissingModule'>here</a> for more info."
     ]
    }
   ],
   "source": [
    "napis = \"Hello, world!\"\n",
    "print(\"Napis:\", napis)\n",
    "print(\"Dostęp do znaku:\", napis[7])\n",
    "print(\"Wycinek napisu:\", napis[7:12])"
   ]
  },
  {
   "cell_type": "code",
   "execution_count": null,
   "metadata": {},
   "outputs": [],
   "source": []
  },
  {
   "cell_type": "code",
   "execution_count": null,
   "metadata": {},
   "outputs": [],
   "source": []
  },
  {
   "cell_type": "code",
   "execution_count": null,
   "metadata": {},
   "outputs": [],
   "source": []
  },
  {
   "cell_type": "code",
   "execution_count": null,
   "metadata": {},
   "outputs": [],
   "source": []
  },
  {
   "cell_type": "code",
   "execution_count": null,
   "metadata": {},
   "outputs": [],
   "source": []
  },
  {
   "cell_type": "code",
   "execution_count": null,
   "metadata": {},
   "outputs": [],
   "source": []
  }
 ],
 "metadata": {
  "kernelspec": {
   "display_name": "Python 3",
   "language": "python",
   "name": "python3"
  },
  "language_info": {
   "name": "python",
   "version": "3.11.4"
  }
 },
 "nbformat": 4,
 "nbformat_minor": 2
}
