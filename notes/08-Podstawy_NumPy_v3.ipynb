{
 "cells": [
  {
   "cell_type": "markdown",
   "id": "bcdb446a",
   "metadata": {},
   "source": [
    "\n",
    "# Podstawy NumPy\n",
    "\n",
    "NumPy jest biblioteką Pythona służącą do obliczeń naukowych. Jako biblioteka NumPy dostarcza matematyczne funkcje użytecze w takich zagadnieniach jak:\n",
    "\n",
    "* algebra linionwa,\n",
    "* transformacje Fouriera,\n",
    "* generowanie liczb losowych,\n",
    "* oraz wszystkie potrzebne do operowania na tablicach i macierzach, które to są podstawowymi obiektami w Numpy.\n",
    "\n",
    "\n",
    "# Dokumentacja: \n",
    "https://numpy.org/doc/2.2/user/basics.indexing.html\n"
   ]
  },
  {
   "cell_type": "markdown",
   "id": "e9a19572",
   "metadata": {},
   "source": [
    "\n",
    "## Dlaczego NumPy?\n",
    "\n",
    "- **Wydajność:** Operacje są zaimplementowane w C, co sprawia, że są znacznie szybsze niż czysty Python.\n",
    "- **Funkcjonalność:** Obsługuje szeroki zakres operacji na tablicach, w tym matematyczne, logiczne, kształtowanie, sortowanie, wybieranie, I/O, operacje dyskretne, podstawowe statystyki, i wiele więcej.\n",
    "- **Współpraca:** Jest dobrze zintegrowany z innymi bibliotekami naukowymi Pythona jak SciPy, Matplotlib, pandas, itp.\n"
   ]
  },
  {
   "cell_type": "markdown",
   "id": "5e100af4",
   "metadata": {},
   "source": [
    "\n",
    "## Instalacja NumPy\n",
    "\n",
    "Aby zainstalować NumPy, wystarczy uruchomić poniższą komendę:\n"
   ]
  },
  {
   "cell_type": "code",
   "execution_count": null,
   "id": "a65bd3d4",
   "metadata": {},
   "outputs": [],
   "source": [
    "!pip install numpy"
   ]
  },
  {
   "cell_type": "markdown",
   "id": "fcdf8891",
   "metadata": {},
   "source": [
    "\n",
    "## Importowanie biblioteki do środowiska pracy\n",
    "Przed przystąpieniem do właściwej pracy należy zaimportować NumPy. Można to zrobić na wiele sposobów. Na użytek tego skryptu zaprezentujemy dwie możliwości: Po pierwsze:\n",
    "\n"
   ]
  },
  {
   "cell_type": "code",
   "execution_count": null,
   "id": "95401d8d",
   "metadata": {},
   "outputs": [],
   "source": [
    "from numpy import *"
   ]
  },
  {
   "cell_type": "markdown",
   "id": "4f71c878",
   "metadata": {},
   "source": [
    "\n",
    "Po drugie:"
   ]
  },
  {
   "cell_type": "code",
   "execution_count": 2,
   "id": "6489c672",
   "metadata": {},
   "outputs": [],
   "source": [
    "import numpy as np"
   ]
  },
  {
   "cell_type": "markdown",
   "id": "c63bf6ff",
   "metadata": {},
   "source": [
    "\n",
    "Są różnice między jednym a drugim sposobem importowania. W pierwszym przypadku funkcje NumPy są dostępne bezpośrednio. W drugim są one wywoływane z przedrostkiem `np`. Przeanalizujmy to na przykładzie.\n",
    "Importując bibliotekę NumPy, `pi` będzie już posiadało zawsze wartość liczbową. Jeśli zaimportujesz ją w pierwszy sposób, wywołasz ją wpisując po prostu:\n"
   ]
  },
  {
   "cell_type": "code",
   "execution_count": null,
   "id": "1f797f57",
   "metadata": {},
   "outputs": [],
   "source": [
    "pi"
   ]
  },
  {
   "cell_type": "markdown",
   "id": "a4a2e09f",
   "metadata": {},
   "source": [
    "\n",
    "jeśli zaimportujesz bibliotekę Numpy w drugi podany sposób, do `pi` odwołasz się przez:"
   ]
  },
  {
   "cell_type": "code",
   "execution_count": null,
   "id": "a362583c",
   "metadata": {},
   "outputs": [],
   "source": [
    "np.pi"
   ]
  },
  {
   "cell_type": "markdown",
   "id": "6d6dce43",
   "metadata": {},
   "source": [
    "\n",
    "Podobnie z wszystkimi innymi funkcjami dostępnymi z poziomu tej biblioteki.\n",
    "\n",
    "**Uwaga**: Oczywiście importujemy bibliotekę tylko raz jednym z wybranych sposobów na początku dokumentu! W dalszej części przyjmijmy, że importujemy bibliotekę NumPy przy użyciu drugiego sposobu.\n",
    "\n",
    "## Tworzenie tablic NumPy\n",
    "\n",
    "Tablice NumPy można tworzyć na wiele sposobów. Oto kilka przykładów:\n"
   ]
  },
  {
   "cell_type": "code",
   "execution_count": 3,
   "id": "01ab0927",
   "metadata": {},
   "outputs": [],
   "source": [
    "\n",
    "import numpy as np\n",
    "\n",
    "# Tworzenie tablicy z listy Python\n",
    "a = np.array([1, 2, 3])\n",
    "print(\"Tablica z listy:\", a)\n",
    "\n",
    "# Tworzenie tablicy z zakresu\n",
    "b = np.arange(10)\n",
    "print(\"Tablica z zakresu:\", b)\n",
    "\n",
    "# Tworzenie tablicy wypełnionej zerami\n",
    "c = np.zeros((2, 3))\n",
    "print(\"Tablica wypełniona zerami:\", c)\n",
    "\n",
    "# Tworzenie tablicy wypełnionej jedynkami\n",
    "d = np.ones((3, 2))\n",
    "print(\"Tablica wypełniona jedynkami:\", d)\n",
    "\n",
    "# Tworzenie tablicy wypełnionej stałą wartością\n",
    "e = np.full((2,2), 7)\n",
    "print(\"Tablica wypełniona stałą wartością:\", e)\n",
    "\n",
    "# Tworzenie macierzy jednostkowej\n",
    "f = np.eye(3)\n",
    "print(\"Macierz jednostkowa:\", f)\n",
    "\n",
    "# Tworzenie tablicy z losowymi wartościami\n",
    "g = np.random.random((2,2))\n",
    "print(\"Tablica z losowymi wartościami:\", g)"
   ]
  },
  {
   "cell_type": "markdown",
   "id": "b1cb1824",
   "metadata": {},
   "source": [
    "\n",
    "Aby stworzyć prostą jednowymiarową tablicę używamy funkcji \"array\" :\n"
   ]
  },
  {
   "cell_type": "code",
   "execution_count": 4,
   "id": "4ff20e6d",
   "metadata": {},
   "outputs": [],
   "source": [
    "a = np.array( [1,2,3] )\n",
    "print(a)\n"
   ]
  },
  {
   "cell_type": "markdown",
   "id": "3b2d037d",
   "metadata": {},
   "source": [
    "\n",
    "podobnie dwuwymiarową:\n",
    "\n"
   ]
  },
  {
   "cell_type": "code",
   "execution_count": 5,
   "id": "a3e7d4a9",
   "metadata": {},
   "outputs": [],
   "source": [
    "b = np.array([[1,2,3] , [4,5,6]] )\n",
    "print(b)\n"
   ]
  },
  {
   "cell_type": "markdown",
   "id": "baf56f23",
   "metadata": {},
   "source": [
    "\n",
    "a przez analogie dowolnie wielowymiarową:"
   ]
  },
  {
   "cell_type": "code",
   "execution_count": 6,
   "id": "e875ca64",
   "metadata": {},
   "outputs": [],
   "source": [
    "\n",
    "c = np.array( [ [ [1,1,1],[1,1,1] ], [ [2,2,2],[2,2,2] ] ] )\n",
    "print(c)\n"
   ]
  },
  {
   "cell_type": "markdown",
   "id": "6ad38def",
   "metadata": {},
   "source": [
    "\n",
    "`c` jest tablicą trójwymiarową.\n",
    "\n",
    "Przy tworzeniu tablicy istnieje możliwość zadeklarowania jej typu:"
   ]
  },
  {
   "cell_type": "code",
   "execution_count": 7,
   "id": "c12afddb",
   "metadata": {},
   "outputs": [],
   "source": [
    "e = np.array( [ [1,0], [0,1] ], dtype=complex )\n",
    "print(e)"
   ]
  },
  {
   "cell_type": "markdown",
   "id": "393c4d68",
   "metadata": {},
   "source": [
    "W ten sposób utworzona tablica będzie zawierała liczby zespolone.\n",
    "\n",
    "W praktyce rzadko wpisujemy do tablicy element po elemencie. Aby zautomatyzować ten proces możemy odwołać się na przykład do takich poleceń:"
   ]
  },
  {
   "cell_type": "markdown",
   "id": "2e394f12",
   "metadata": {},
   "source": [
    "### Przykład zastosowania `arange` i `linspace`\n",
    "\n",
    "#### `numpy.arange([start, ]stop, [step, ]dtype=None)`\n",
    "\n",
    "Funkcja `arange` zwraca równomiernie rozmieszczone wartości w danym przedziale. Wartości są generowane w przedziale `[start, stop)`. Krok między wartościami jest określony przez `step`.\n",
    "\n",
    "- `start` (opcjonalny): Początek przedziału. Domyślnie 0.\n",
    "- `stop`: Koniec przedziału (wartość nie jest włączana do wyniku).\n",
    "- `step` (opcjonalny): Odstęp między wartościami. Domyślnie 1.\n",
    "- `dtype` (opcjonalny): Typ danych wynikowej tablicy. Jeśli nie podano, typ jest wnioskowany z innych argumentów wejściowych."
   ]
  },
  {
   "cell_type": "code",
   "execution_count": 8,
   "id": "769ccbbe",
   "metadata": {},
   "outputs": [],
   "source": [
    "# Generowanie liczb od 0 do 9\n",
    "arr_arange1 = np.arange(10)\n",
    "print(arr_arange1)\n",
    "# Wynik: [0 1 2 3 4 5 6 7 8 9]\n",
    "\n",
    "# Generowanie liczb od 1 do 10 z krokiem 2\n",
    "arr_arange2 = np.arange(1, 11, 2)\n",
    "print(arr_arange2)\n",
    "# Wynik: [1 3 5 7 9]\n",
    "\n",
    "# Generowanie liczb zmiennoprzecinkowych\n",
    "arr_arange3 = np.arange(0, 1, 0.1, dtype=float)\n",
    "print(arr_arange3)\n",
    "# Wynik: [0.  0.1 0.2 0.3 0.4 0.5 0.6 0.7 0.8 0.9]"
   ]
  },
  {
   "cell_type": "markdown",
   "id": "2c75b1ec",
   "metadata": {},
   "source": [
    "#### `numpy.linspace(start, stop, num=50, endpoint=True, retstep=False, dtype=None, axis=0)`\n",
    "\n",
    "Funkcja `linspace` zwraca równomiernie rozmieszczone liczby w określonym przedziale. W przeciwieństwie do `arange`, `linspace` używa liczby punktów (`num`) do wygenerowania, a nie kroku.\n",
    "\n",
    "- `start`: Początkowa wartość sekwencji.\n",
    "- `stop`: Końcowa wartość sekwencji. Jeśli `endpoint=True` (domyślnie), `stop` jest ostatnią próbką. W przeciwnym razie nie jest włączana.\n",
    "- `num` (opcjonalny): Liczba próbek do wygenerowania. Domyślnie 50. Musi być nieujemna.\n",
    "- `endpoint` (opcjonalny): Jeśli `True`, `stop` jest ostatnią próbką. W przeciwnym razie nie jest włączana. Domyślnie `True`.\n",
    "- `retstep` (opcjonalny): Jeśli `True`, zwraca `(samples, step)`, gdzie `step` to odstęp między próbkami. Domyślnie `False`.\n",
    "- `dtype` (opcjonalny): Typ danych wynikowej tablicy. Jeśli nie podano, typ jest wnioskowany z `start` i `stop`.\n",
    "- `axis` (opcjonalny): Oś, wzdłuż której próbki są przechowywane w wyniku (dotyczy tylko przypadków, gdy `start` lub `stop` są tablicami). Domyślnie 0.\n"
   ]
  },
  {
   "cell_type": "code",
   "execution_count": 9,
   "id": "57ea48b4",
   "metadata": {},
   "outputs": [],
   "source": [
    "# Generowanie 5 równomiernie rozmieszczonych punktów między 0 a 10\n",
    "arr_linspace1 = np.linspace(0, 10, 5)\n",
    "print(arr_linspace1)\n",
    "# Wynik: [ 0.   2.5  5.   7.5 10. ]\n",
    "\n",
    "# Generowanie 5 punktów między 0 a 10, bez włączania końca przedziału\n",
    "arr_linspace2 = np.linspace(0, 10, 5, endpoint=False)\n",
    "print(arr_linspace2)\n",
    "# Wynik: [0. 2. 4. 6. 8.]\n",
    "\n",
    "# Generowanie punktów i zwrócenie kroku\n",
    "arr_linspace3, step = np.linspace(0, 10, 5, retstep=True)\n",
    "print(arr_linspace3)\n",
    "print(step)\n",
    "# Wynik:\n",
    "# [ 0.   2.5  5.   7.5 10. ]\n",
    "# 2.5"
   ]
  },
  {
   "cell_type": "code",
   "execution_count": 10,
   "id": "c26fb8b5",
   "metadata": {},
   "outputs": [],
   "source": [
    "tablica1 = np.arange(1, 11, 1)\n",
    "tablica2 = np.arange(1.,11.,1.)"
   ]
  },
  {
   "cell_type": "markdown",
   "id": "220f9908",
   "metadata": {},
   "source": [
    "\n",
    "**Uwaga**: Zapewne zauważasz różnice w deklaracji tablic: tablica1 i tablica2. Czy jednak wiesz w czym się to objawia?\n",
    "\n",
    "Sprawdźmy to:\n"
   ]
  },
  {
   "cell_type": "code",
   "execution_count": 11,
   "id": "79298c5a",
   "metadata": {},
   "outputs": [],
   "source": [
    "print (tablica1.dtype)\n",
    "\n",
    "# dtype('int64')\n",
    "\n",
    "print(tablica2.dtype)\n",
    "\n",
    "# dtype('float64')"
   ]
  },
  {
   "cell_type": "markdown",
   "id": "fa3aeed6",
   "metadata": {},
   "source": [
    "Jaki stąd wniosek?\n",
    "\n",
    "W tablicy w naturalny sposób możemy implementować elementy  zmiennoprzecinkowe. Daje to konkretne zalety, ale ma również swoje wady! Przy wielu zagadnieniach będzie konieczność używania liczb zmiennoprzecinkowych, należy jednak pamiętać o ograniczeniach nałożonych na ten typ zapisu.\n",
    "\n",
    "W szczególności, jeśli zadeklarujemy \"krok\" w postaci zmiennoprzecinkowej, przy dużych tablicach, możemy nie być pewni wartości ostatnich elementów tablicy.\n",
    "\n",
    "Aby poradzić sobie z powyższą uwagą, możemy odwołać się do funkcji \"linspace\". Przyjmuje ona jako argumenty wartość początkową, końcową i ilość elementów pomiędzy nimi.\n"
   ]
  },
  {
   "cell_type": "code",
   "execution_count": 14,
   "id": "ec50976e",
   "metadata": {},
   "outputs": [],
   "source": [
    "np.linspace(0., 10., 3)"
   ]
  },
  {
   "cell_type": "markdown",
   "id": "7a4a6f0b",
   "metadata": {},
   "source": [
    "\n",
    "\n",
    "### Zadanie:\n",
    "\n",
    "czas: 1 min.\n",
    "\n",
    "Przy użyciu powyższych funkcji oblicz wartość `sin(x)` dla kolejnych 100 punktów pomiędzy (0,2Π).\n",
    "\n"
   ]
  },
  {
   "cell_type": "code",
   "execution_count": null,
   "id": "ff28b100",
   "metadata": {},
   "outputs": [],
   "source": []
  },
  {
   "cell_type": "markdown",
   "id": "aa3f70fb",
   "metadata": {},
   "source": [
    "                          \n",
    "## 2.2 Tworzenie \"typowych\" tablic\n",
    "Biblioteka Numpy oferuje wiele możliwości. Łatwo przy jej użyciu tworzyć najczęściej używane tablice.\n"
   ]
  },
  {
   "cell_type": "code",
   "execution_count": 15,
   "id": "34d05922",
   "metadata": {},
   "outputs": [],
   "source": [
    "tablica3 = np.ones((3,3)) # Utworzy dwuwymiarową  tablice (3x3) wypełniona jedynkami.\n",
    "print(tablica3)\n",
    "\n",
    "# [[ 1.  1.  1.]\n",
    "#  [ 1.  1.  1.]\n",
    "#  [ 1.  1.  1.]]\n",
    "\n",
    "tablica4 = np.zeros((3,3,3)) # Utworzy trójwymiarową tablicę wypełnioną zerami.\n",
    "print(tablica4)\n",
    "\n",
    "# [[[ 0.  0.  0.]\n",
    "#   [ 0.  0.  0.]\n",
    "#   [ 0.  0.  0.]]\n",
    "#\n",
    "#  [[ 0.  0.  0.]\n",
    "#   [ 0.  0.  0.]\n",
    "#   [ 0.  0.  0.]]\n",
    "#\n",
    "#  [[ 0.  0.  0.]\n",
    "#   [ 0.  0.  0.]\n",
    "#   [ 0.  0.  0.]]]\n",
    "\n",
    "np.eye(4) # Utworzy jednostkową macierz 4x4.\n",
    "\n",
    "# array([[ 1.,  0.,  0.,  0.],\n",
    "#        [ 0.,  1.,  0.,  0.],\n",
    "#        [ 0.,  0.,  1.,  0.],\n",
    "#        [ 0.,  0.,  0.,  1.]])"
   ]
  },
  {
   "cell_type": "markdown",
   "id": "ac7a0603",
   "metadata": {},
   "source": [
    "Wspomnieliśmy powyżej, że rzadko zdarza się  wpisywać elementy tablic ręcznie. NumPy oferuje polecenia pozwalające manipulować rozmiarem tablicy. W połączeniu z poznanymi wyżej poleceniami `arange` i `linspace` łatwo tworzyć wielowymiarowe tablice wypełnione zadaną sekwencją:\n"
   ]
  },
  {
   "cell_type": "code",
   "execution_count": 17,
   "id": "b6df3b84",
   "metadata": {},
   "outputs": [],
   "source": [
    "tablica5 = np.arange(12).reshape(4,3) # Utworzy tablicę 12 elementów a następnie\n",
    "                                      # ułoży ją w 4 kolumnach i 3 wierszach.\n",
    "print(tablica5)\n",
    "\n",
    "# [[ 0  1  2]\n",
    "#  [ 3  4  5]\n",
    "#  [ 6  7  8]\n",
    "#  [ 9 10 11]]\n",
    "\n",
    "tablica6 =  np.arange(24).reshape(2,3,4) # Przykład rozlokowania 24 elementów\n",
    "                                         # w trójwymiarową tablicę.\n",
    "print(tablica6)\n",
    "\n",
    "# [[[ 0  1  2  3]\n",
    "#   [ 4  5  6  7]\n",
    "#   [ 8  9 10 11]]\n",
    "#\n",
    "#  [[12 13 14 15]\n",
    "#   [16 17 18 19]\n",
    "#   [20 21 22 23]]]"
   ]
  },
  {
   "cell_type": "markdown",
   "id": "1a22af90",
   "metadata": {},
   "source": [
    "##  Indeksowanie, iteracje, obcinanie\n",
    "\n",
    "W tej części skryptu zapoznamy się z metodami indeksowania, iterowania i obcinania tablic.\n",
    "\n",
    "Na początek weźmy na warsztat jednowymiarową tablice:\n"
   ]
  },
  {
   "cell_type": "code",
   "execution_count": 18,
   "id": "84336dea",
   "metadata": {},
   "outputs": [],
   "source": [
    "tablica7 = np.arange(20)\n",
    "print(tablica7)\n",
    "\n",
    "# [ 0  1  2  3  4  5  6  7  8  9 10 11 12 13 14 15 16 17 18 19]"
   ]
  },
  {
   "cell_type": "markdown",
   "id": "bcc62635",
   "metadata": {},
   "source": [
    "W poniższym przykładzie wyświetlamy kolejno pierwszy (pamiętajmy, że NumPy wszystkie indeksy liczy od 0!!), trzeci licząc od początku listy  oraz przedostatni i ostatni od końca element tablicy.\n",
    "\n",
    "Zatem dla `n` wymiarowej tablicy polecenie tablica[n] wyświetla `n−1` element.\n"
   ]
  },
  {
   "cell_type": "code",
   "execution_count": 19,
   "id": "8946f841",
   "metadata": {},
   "outputs": [],
   "source": [
    "tablica7[0], tablica7[2], tablica7[-1], tablica7[-2]\n",
    "\n",
    "# (0, 2, 19, 18)"
   ]
  },
  {
   "cell_type": "markdown",
   "id": "efb20169",
   "metadata": {},
   "source": [
    "**Uwaga**: Istotne jest abyśmy pamiętali, że takie operacje nie zmieniają zawartości tablicy!!"
   ]
  },
  {
   "cell_type": "code",
   "execution_count": 20,
   "id": "3bbde51a",
   "metadata": {},
   "outputs": [],
   "source": [
    "print(tablica7)\n",
    "\n",
    "# [ 0  1  2  3  4  5  6  7  8  9 10 11 12 13 14 15 16 17 18 19]"
   ]
  },
  {
   "cell_type": "markdown",
   "id": "bd6afa3e",
   "metadata": {},
   "source": [
    "Aby wyświetlić fragment tablicy  od `n−1` -go do `m−1`  elementu używamy składni: `tablica[n:m]`,analogicznie aby wyświetlić elementy tablicy pomiędzy  `n−1` -ym  a (`m−1`) -szym przesuwając sie o wartość k używamy składni: `tablica[n:m:k]`.\n"
   ]
  },
  {
   "cell_type": "code",
   "execution_count": 21,
   "id": "0618cfd5",
   "metadata": {},
   "outputs": [],
   "source": [
    "tablica7[1:10] # Wyświetli elementy od drugiego do dziewiątego.\n",
    "\n",
    "# array([1, 2, 3, 4, 5, 6, 7, 8, 9])"
   ]
  },
  {
   "cell_type": "code",
   "execution_count": 22,
   "id": "4f539b47",
   "metadata": {},
   "outputs": [],
   "source": [
    "tablica7[2:18:2] # Wyświetli elementy od trzeciego do siedemnastego, co dwa.\n",
    "\n",
    "# array([ 2,  4,  6,  8, 10, 12, 14, 16])"
   ]
  },
  {
   "cell_type": "markdown",
   "id": "6b75177e",
   "metadata": {},
   "source": [
    "Sprawdźmy działania dla wielowymiarowych tablic, na przykładzie dwuwymiarowym:\n"
   ]
  },
  {
   "cell_type": "code",
   "execution_count": 23,
   "id": "113b838f",
   "metadata": {},
   "outputs": [],
   "source": [
    "tablica8 = np.arange(25).reshape(5,5) # tworzymy 25 elementową tablicę\n",
    "print(tablica8)\n",
    "\n",
    "# [[ 0  1  2  3  4]\n",
    "#  [ 5  6  7  8  9]\n",
    "#  [10 11 12 13 14]\n",
    "#  [15 16 17 18 19]\n",
    "#  [20 21 22 23 24]]\n",
    "\n",
    "tablica8[2,3] # Wyświetlamy element w trzecim wierszu i czwartej kolumnie.\n",
    "# 13\n",
    "\n",
    "tablica8[2][3] # W inny sposób element z trzeciego wiersza i czwartej kolumny.\n",
    "# 13\n",
    "\n",
    "tablica8[4] # Wyświetlamy piąty wiersz.\n",
    "\n",
    "# array([20, 21, 22, 23, 24])\n",
    "\n",
    "tablica8[2:4] # Wyświetlamy  wiersze od trzeciego do czwartego.\n",
    "\n",
    "# array([[10, 11, 12, 13, 14],\n",
    "#        [15, 16, 17, 18, 19]])"
   ]
  },
  {
   "cell_type": "markdown",
   "id": "483c384a",
   "metadata": {},
   "source": [
    "Nie! W opisie powyższego przykładu nie ma błedu. Zwróćmy uwagę jak wywoływaliśmy elementy tablic jednowymiarowych. W przypadku wielowymiarowym jest podobnie.\n"
   ]
  },
  {
   "cell_type": "code",
   "execution_count": 24,
   "id": "4129846c",
   "metadata": {},
   "outputs": [],
   "source": [
    "tablica8[:,4] # Wyświetlamy elementy z piątej kolumny.\n",
    "\n",
    "# array([ 4,  9, 14, 19, 24])\n",
    "\n",
    "tablica8[:,2:4]# Wyświetlmy trzecią i czwartą kolumnę.\n",
    "\n",
    "# array([[ 2,  3],\n",
    "#        [ 7,  8],\n",
    "#        [12, 13],\n",
    "#        [17, 18],\n",
    "#        [22, 23]])"
   ]
  },
  {
   "cell_type": "markdown",
   "id": "ba104ba5",
   "metadata": {},
   "source": [
    "Z analizy powyższego przykładu wynika, że przecinek (`[:,2:4]` tu zaznaczony na czerwono) w składni rozdziela poszczególne wymiary (w oryginalnej dokumentacji NymPy nazywane są one \"osiami\").\n",
    "\n",
    "Mając w pamięci ten fakt, czytelne powinny być poniższe przykłady:\n"
   ]
  },
  {
   "cell_type": "code",
   "execution_count": 25,
   "id": "6ab49a96",
   "metadata": {},
   "outputs": [],
   "source": [
    "print(tablica8[1,1:5])  # Wyświetli elementy w drugim wierszu i w drugiej do piątej kolumnie.\n",
    "\n",
    "# array([6, 7, 8, 9])\n",
    "\n",
    "print(tablica8[1::3,:2]) # Wyświetli elementy od drugiego do trzeciego wiersza,\n",
    "                  # znajdujące się w kolumnach od pierwszej do  drugiej.\n",
    "\n",
    "# array([[ 5,  6],\n",
    "#         [20, 21]])\n",
    "\n",
    "print(tablica8[1,0:5:2]) # Wyświetli elementy drugiego wiersza i\n",
    "                  # biorąc kolumny od pierwszej do piątej co dwie.\n",
    "\n",
    "# array([5, 7, 9])\n",
    "\n",
    "print(tablica8[0:2,0:5:2]) # Wyświetli elementy w wierszach od pierwszego do drugiego\n",
    "                    # które znajdują się w  co drugiej kolumnie licząc od pierwszej do piątej.\n",
    "\n",
    "# array([[0, 2, 4],\n",
    "#         [5, 7, 9]])"
   ]
  },
  {
   "cell_type": "markdown",
   "id": "a2867d2d",
   "metadata": {},
   "source": [
    "Jeszcze raz zwróćmy uwagę na to, że operacje powyższe nie zmieniły zawartości `tablica8`:\n"
   ]
  },
  {
   "cell_type": "code",
   "execution_count": 26,
   "id": "fef08de4",
   "metadata": {},
   "outputs": [],
   "source": [
    "print(tablica8)\n",
    "\n",
    "# array([[ 0,  1,  2,  3,  4],\n",
    "#     [ 5,  6,  7,  8,  9],\n",
    "#     [10, 11, 12, 13, 14],\n",
    "#     [15, 16, 17, 18, 19],\n",
    "#     [20, 21, 22, 23, 24]])"
   ]
  },
  {
   "cell_type": "markdown",
   "id": "2cb09a74",
   "metadata": {},
   "source": [
    "Zaprezentujmy bardziej skomplikowany przykład:\n",
    "\n"
   ]
  },
  {
   "cell_type": "code",
   "execution_count": 27,
   "id": "b1d12187",
   "metadata": {},
   "outputs": [],
   "source": [
    "\n",
    "tablica9 = np.arange(35).reshape(5,7)\n",
    "tablica10 = tablica9[np.array([0,2,4]), np.array([0,1,2])]\n",
    "\n",
    "print(tablica9)\n"
   ]
  },
  {
   "cell_type": "markdown",
   "id": "263a23c3",
   "metadata": {},
   "source": [
    "\n",
    "Wynik:\n",
    "```\n",
    "array([[ 0  1  2  3  4  5  6]\n",
    " [ 7  8  9 10 11 12 13]\n",
    " [14 15 16 17 18 19 20]\n",
    " [21 22 23 24 25 26 27]\n",
    " [28 29 30 31 32 33 34]])\n",
    "```\n"
   ]
  },
  {
   "cell_type": "code",
   "execution_count": 28,
   "id": "442f2ef2",
   "metadata": {},
   "outputs": [],
   "source": [
    "\n",
    "print(tablica10)\n"
   ]
  },
  {
   "cell_type": "markdown",
   "id": "407689e3",
   "metadata": {},
   "source": [
    "\n",
    "Wynik:\n",
    "```\n",
    "array([ 0 15 30])\n",
    "```\n",
    "\n",
    "Co się stało w powyższym przykładzie?\n",
    "\n",
    "Stworzyliśmy tablice 35 elementów, ułożyliśmy ją w pięć wierszy i siedem kolumn.\n",
    "\n",
    "Nastepnie do `tablica10` wpisaliśmy element `{1,1}` element `{3,2}` i element `{5,3}` z `tablica9`.\n",
    "\n",
    "Skorzystajmy z powyższego przykładu i w `tablica9` wyzerujmy elementy `{1,1}`, `{3,2}`, `{5,3}`:\n",
    "\n"
   ]
  },
  {
   "cell_type": "code",
   "execution_count": 29,
   "id": "ed1f34c0",
   "metadata": {},
   "outputs": [],
   "source": [
    "\n",
    "tablica9[np.array([0,2,4]), np.array([0,1,2])]=0\n",
    "print(tablica9 )\n"
   ]
  },
  {
   "cell_type": "markdown",
   "id": "ba69aa11",
   "metadata": {},
   "source": [
    "\n",
    "Wynik:\n",
    "```\n",
    "array[[ 0  1  2  3  4  5  6]\n",
    " [ 7  8  9 10 11 12 13]\n",
    " [14  0 16 17 18 19 20]\n",
    " [21 22 23 24 25 26 27]\n",
    " [28 29  0 31 32 33 34]])\n",
    "```\n",
    "\n",
    "A teraz wyzerujmy piątą kolumnę:\n"
   ]
  },
  {
   "cell_type": "code",
   "execution_count": 30,
   "id": "e32be2dd",
   "metadata": {},
   "outputs": [],
   "source": [
    "y = tablica9 # Przypisanie dla czytelności\n",
    "y[4]=0\n",
    "print(y)"
   ]
  },
  {
   "cell_type": "markdown",
   "id": "2724e17b",
   "metadata": {},
   "source": [
    "Wynik:\n",
    "```\n",
    "array[[ 0  1  2  3  4  5  6]\n",
    " [ 7  8  9 10 11 12 13]\n",
    " [14  0 16 17 18 19 20]\n",
    " [21 22 23 24 25 26 27]\n",
    " [ 0  0  0  0  0  0  0]])\n",
    "```\n",
    "\n",
    ".... i piaty wiersz:\n"
   ]
  },
  {
   "cell_type": "code",
   "execution_count": 31,
   "id": "6315bb08",
   "metadata": {},
   "outputs": [],
   "source": [
    "y[:,4]=0\n",
    "print(y)"
   ]
  },
  {
   "cell_type": "markdown",
   "id": "6d03b4e2",
   "metadata": {},
   "source": [
    "Wynik:\n",
    "```\n",
    "array[[ 0  1  2  3  0  5  6]\n",
    " [ 7  8  9 10  0 12 13]\n",
    " [14  0 16 17  0 19 20]\n",
    " [21 22 23 24  0 26 27]\n",
    " [ 0  0  0  0  0  0  0]])\n",
    "```\n",
    "\n",
    "\n",
    "Do manipulowania na tablicach możemy używać tablic indeksów.\n",
    "\n",
    "W poniższym przykładzie wyświetlamy odpowiednie kwadraty liczb:\n",
    "\n"
   ]
  },
  {
   "cell_type": "code",
   "execution_count": 32,
   "id": "19003798",
   "metadata": {},
   "outputs": [],
   "source": [
    "\n",
    "tablica11=np.arange(12)**2\n",
    "tablica_indeksow = np.array( [0,1,1,2,7,6,11] )\n",
    "print(\"Tablica 11:\", tablica11)\n",
    "print(\"Tablica indeksów:\", tablica_indeksow)\n",
    "print(\"Elementy tablicy 11 wg indeksów:\", tablica11[tablica_indeksow])\n"
   ]
  },
  {
   "cell_type": "markdown",
   "id": "a904435d",
   "metadata": {},
   "source": [
    "     \n",
    "           \n",
    "### Zmiana kształtu tablic\n",
    "W tej części skryptu zapoznamy się z kilkoma metodami transformacji kształtu tablic.\n"
   ]
  },
  {
   "cell_type": "code",
   "execution_count": 33,
   "id": "caf060eb",
   "metadata": {},
   "outputs": [],
   "source": [
    "tablica12 = np.arange(15)  #zadeklarujmy tablicę piętnastu elementów\n",
    "print(tablica12)\n",
    "# [ 0  1  2  3  4  5  6  7  8  9 10 11 12 13 14]\n",
    "\n",
    "print(tablica12.reshape(3,5)) # zmieńmy jej kształt\n",
    "\n",
    "# array([[ 0,  1,  2,  3,  4],\n",
    "#        [ 5,  6,  7,  8,  9],\n",
    "#        [10, 11, 12, 13, 14]])\n",
    "\n",
    "print(tablica12)\n",
    "\n",
    "# [ 0  1  2  3  4  5  6  7  8  9 10 11 12 13 14]"
   ]
  },
  {
   "cell_type": "markdown",
   "id": "a5ba3a26",
   "metadata": {},
   "source": [
    "**Uwaga**: Operacja \"reshape\" nie zmieni zawartości oryginalnej tablicy, pokaże jedynie jej elementy w zadanej postaci!\n",
    "\n",
    "Aby w istocie zmienić kształt tablicy możemy postąpić tak:\n"
   ]
  },
  {
   "cell_type": "code",
   "execution_count": 34,
   "id": "25ead9b4",
   "metadata": {},
   "outputs": [],
   "source": [
    "tablica13 = tablica12.reshape(3,5) # przypiszmy uzyskany widok do nowej tablicy\n",
    "print(tablica13)\n",
    "\n",
    "# [[ 0  1  2  3  4]\n",
    "#  [ 5  6  7  8  9]\n",
    "#  [10 11 12 13 14]]"
   ]
  },
  {
   "cell_type": "markdown",
   "id": "e96db691",
   "metadata": {},
   "source": [
    ".... lub odwołać się do polecenia `resize`.\n"
   ]
  },
  {
   "cell_type": "code",
   "execution_count": 35,
   "id": "15808374",
   "metadata": {},
   "outputs": [],
   "source": [
    "tablica12_copy = np.arange(15) # Tworzymy kopię, bo resize działa w miejscu\n",
    "tablica12_copy.resize(3,5)\n",
    "print(tablica12_copy)\n",
    "\n",
    "# [[ 0  1  2  3  4]\n",
    "#  [ 5  6  7  8  9]\n",
    "#  [10 11 12 13 14]]\n",
    "\n",
    "print(tablica13.shape) # sprawdźmy wymiar tablicy\n",
    "\n",
    "# (3, 5)\n",
    "print(tablica13.shape[0]) # sprawdźmy pierwszy wymiar\n",
    "\n",
    "# 3\n",
    "\n",
    "print(tablica13.shape[1]) # sprawdźmy drugi wymiar\n",
    "\n",
    "# 5\n",
    "\n",
    "print(tablica13.size) # oraz ilość wszystkich elementów w tablicy\n",
    "\n",
    "# 15"
   ]
  },
  {
   "cell_type": "markdown",
   "id": "8fdc7b69",
   "metadata": {},
   "source": [
    "NumPy oferuje polecenia znane z algebry liniowej, takie jak na przykład transpozycja:\n"
   ]
  },
  {
   "cell_type": "code",
   "execution_count": 38,
   "id": "b041e954",
   "metadata": {},
   "outputs": [],
   "source": [
    "print(np.transpose(tablica13)) # Używamy tablica13, która ma kształt (3,5)\n",
    "\n",
    "# array([[ 0,  5, 10],\n",
    "#        [ 1,  6, 11],\n",
    "#        [ 2,  7, 12],\n",
    "#        [ 3,  8, 13],\n",
    "#        [ 4,  9, 14]])\n",
    "\n",
    "print(tablica13)\n",
    "\n",
    "# [[ 0  1  2  3  4]\n",
    "#  [ 5  6  7  8  9]\n",
    "#  [10 11 12 13 14]]"
   ]
  },
  {
   "cell_type": "markdown",
   "id": "b393c46f",
   "metadata": {},
   "source": [
    "podobnie jednak jak przy funkcji `reshape`, aby zachować wynik musimy go przypisać do nowej zmiennej. Podobnie jest z poleceniem:\n",
    "\n",
    "`swapaxes(tablica, wymiar1, wymiar2)`\n",
    "\n",
    "które wyświetli  zmienione wiersze z kolumnami dla tablicy dwuwymiarowej. Dla wielowymiarowych tablic zmieni ono elementy dla zadanych osi.\n"
   ]
  },
  {
   "cell_type": "code",
   "execution_count": 39,
   "id": "33e30e93",
   "metadata": {},
   "outputs": [],
   "source": [
    "print(np.swapaxes(tablica13,0,1))\n",
    "\n",
    "# array([[ 0,  5, 10],\n",
    "#        [ 1,  6, 11],\n",
    "#        [ 2,  7, 12],\n",
    "#        [ 3,  8, 13],\n",
    "#        [ 4,  9, 14]])"
   ]
  },
  {
   "cell_type": "markdown",
   "id": "7f8701af",
   "metadata": {},
   "source": [
    "Aby zmienić tablicę na jednowymiarową, możemy sie odwołać do polecenia \"ravel\":\n"
   ]
  },
  {
   "cell_type": "code",
   "execution_count": 40,
   "id": "6ae2105e",
   "metadata": {},
   "outputs": [],
   "source": [
    "tablica14 = np.ravel(tablica13)\n",
    "print(tablica14)\n",
    "\n",
    "# [ 0  1  2  3  4  5  6  7  8  9 10 11 12 13 14]"
   ]
  },
  {
   "cell_type": "markdown",
   "id": "8984fd35",
   "metadata": {},
   "source": [
    "Natomiast aby zmienić jej typ na standardową listę użyjemy polecenia \"tolist()\"\n"
   ]
  },
  {
   "cell_type": "code",
   "execution_count": 41,
   "id": "9421d2b5",
   "metadata": {},
   "outputs": [],
   "source": [
    "print(tablica14.tolist())\n",
    "\n",
    "# [0, 1, 2, 3, 4, 5, 6, 7, 8, 9, 10, 11, 12, 13, 14]"
   ]
  },
  {
   "cell_type": "markdown",
   "id": "d40aeba3",
   "metadata": {},
   "source": [
    "                       \n",
    "                                  "
   ]
  },
  {
   "cell_type": "markdown",
   "id": "36c88d0f",
   "metadata": {},
   "source": [
    "\n",
    "## Podstawowe operacje na tablicach\n",
    "\n",
    "Zaprezentujmy teraz podstawowe operacje na elementach tablic i na samych tablicach. Zwróćmy uwagę, że we wszystkich poniżej zaprezentowanych przykładach wszystkie  operacje wykonywane są na elementach tablic.\n",
    "\n",
    "\n"
   ]
  },
  {
   "cell_type": "code",
   "execution_count": 42,
   "id": "b5983bc4",
   "metadata": {},
   "outputs": [],
   "source": [
    "tablica15 = np.array([10,20,30,40,50])\n",
    "tablica16 = np.array([1,2,3,4,5])\n",
    "tablica17=tablica15+tablica16 # przykład sumy\n",
    "print(tablica17)\n",
    "\n",
    "# array([11, 22, 33, 44, 55])\n",
    "\n",
    "tablica18=tablica15-tablica16  # przykład dla różnicy\n",
    "print(tablica18)\n",
    "\n",
    "# [ 9 18 27 36 45]\n",
    "\n",
    "tablica19=np.sqrt(tablica15) # przykład dla pierwiastków\n",
    "tablica20 = np.sqrt(tablica15) # Użycie np.sqrt jest preferowane\n",
    "print(tablica19)\n",
    "\n",
    "# [ 3.16227766  4.47213595  5.47722558  6.32455532  7.07106781]\n",
    "\n",
    "print(tablica20)\n",
    "\n",
    "# [ 3.16227766  4.47213595  5.47722558  6.32455532  7.07106781]\n",
    "\n",
    "tablica21 = tablica16**2 # kwadrat elementów tablicy\n",
    "print(tablica21)\n",
    "\n",
    "# [ 1  4  9 16 25]\n",
    "\n",
    "tablica22=  10*np.cos(tablica16)# cosinus z kolejnych elementów tablicy i mnożenie\n",
    "                                #wyniku przez skalar\n",
    "print(tablica22)\n",
    "\n",
    "# [ 5.40302306 -4.16146837 -9.89992497 -6.53643621  2.83662185]"
   ]
  },
  {
   "cell_type": "code",
   "execution_count": 43,
   "id": "440ec613",
   "metadata": {},
   "outputs": [],
   "source": [
    "# Przykłady z poprzedniej komórki (dla spójności)\n",
    "a = np.array([1, 2, 3])\n",
    "b = np.arange(10)\n",
    "\n",
    "# Dodawanie\n",
    "print(\"Dodawanie:\", np.add(a, b[:3]))\n",
    "\n",
    "# Odejmowanie\n",
    "print(\"Odejmowanie:\", np.subtract(b[5:8], a)) # Poprawiono indeksowanie b dla zgodności rozmiarów\n",
    "\n",
    "# Mnożenie\n",
    "print(\"Mnożenie:\", np.multiply(a, 2))\n",
    "\n",
    "# Dzielenie\n",
    "print(\"Dzielenie:\", np.divide(a, 2))\n",
    "\n",
    "# Pierwiastek kwadratowy\n",
    "print(\"Pierwiastek kwadratowy:\", np.sqrt(a))\n"
   ]
  },
  {
   "cell_type": "markdown",
   "id": "2dd71477",
   "metadata": {},
   "source": [
    "\n",
    "## Wycinki i indeksowanie\n",
    "\n",
    "Manipulowanie tablicami i dostęp do ich części jest kluczową umiejętnością.\n"
   ]
  },
  {
   "cell_type": "code",
   "execution_count": 44,
   "id": "28cb6976",
   "metadata": {},
   "outputs": [],
   "source": [
    "\n",
    "# Wycinek tablicy\n",
    "h = np.array([0, 1, 2, 3, 4, 5, 6, 7, 8, 9])\n",
    "print(\"Wycinek tablicy:\", h[1:8:2])\n",
    "\n",
    "# Zmiana kształtu tablicy\n",
    "i = np.arange(15).reshape(3, 5)\n",
    "print(\"Zmieniony kształt tablicy:\\n\", i)\n",
    "\n",
    "# Dostęp do elementów\n",
    "print(\"Element (2,3):\", i[2,3])\n"
   ]
  },
  {
   "cell_type": "markdown",
   "id": "2873f5ba",
   "metadata": {},
   "source": [
    "\n",
    "                                  \n",
    "                                  \n",
    "                                  ##### Porównania elementów tablic:\n"
   ]
  },
  {
   "cell_type": "code",
   "execution_count": 45,
   "id": "ba1d651e",
   "metadata": {},
   "outputs": [],
   "source": [
    "tablica15 = np.array([10,20,30,40,50])\n",
    "tablica16 = np.array([1,2,3,4,5])\n",
    "\n",
    "print(tablica16>tablica15)\n",
    "\n",
    "# array([False, False, False, False, False], dtype=bool)\n",
    "\n",
    "print(tablica15<tablica16)\n",
    "\n",
    "# array([False, False, False, False, False], dtype=bool)\n",
    "\n",
    "print(tablica15 < 30)\n",
    "\n",
    "# array([ True,  True, False, False, False], dtype=bool)\n",
    "\n",
    "print(tablica16 == 1)\n",
    "\n",
    "# array([ True, False, False, False, False], dtype=bool)\n",
    "\n",
    "print(np.any( tablica15 > 6 )) # prawdziwe, jeśli jakikolwiek element spełnia warunek\n",
    "\n",
    "# True\n",
    "\n",
    "print(np.all( tablica15 != tablica16 )) # prawdziwe jeśli wszystkie elementy spełniają warunek\n",
    "\n",
    "# True\n",
    "\n",
    "i = np.identity( 3 )\n",
    "print(i)\n",
    "\n",
    "# [[ 1.  0.  0.]\n",
    "#  [ 0.  1.  0.]\n",
    "#  [ 0.  0.  1.]]\n",
    "\n",
    "print(i+i) # dodawanie dwóch tablic\n",
    "\n",
    "# [[ 2.  0.  0.]\n",
    "#  [ 0.  2.  0.]\n",
    "#  [ 0.  0.  2.]]\n",
    "\n",
    "print(i+4)     # dodawanie skalara do tablicy, zwróć uwagę, że 4 została\n",
    "              #  dodana do każdego elementu tablicy.\n",
    "\n",
    "# [[ 5.  4.  4.]\n",
    "#  [ 4.  5.  4.]\n",
    "#  [ 4.  4.  5.]]\n",
    "\n",
    "k =  (i+4)*2\n",
    "print(k)\n",
    "\n",
    "# [[ 10.   8.   8.]\n",
    "#  [  8.  10.   8.]\n",
    "#  [  8.   8.  10.]]\n",
    "\n",
    "print(k*k) # mnożony jest element przez element!\n",
    "\n",
    "# array([[ 100.,   64.,   64.],\n",
    "#        [  64.,  100.,   64.],\n",
    "#        [  64.,   64.,  100.]])"
   ]
  },
  {
   "cell_type": "markdown",
   "id": "ff8210aa",
   "metadata": {},
   "source": [
    "**Uwaga**: W odróżnieniu od powyższego przykładu aby pomnożyć tablicę dwuwymiarową tak jak mnoży się macierze musimy użyć polecenia `dot`:\n"
   ]
  },
  {
   "cell_type": "code",
   "execution_count": 47,
   "id": "1fcbb72e",
   "metadata": {},
   "outputs": [],
   "source": [
    "i = np.identity( 3 ) # Ponowne zdefiniowanie i oraz k\n",
    "k =  (i+4)*2\n",
    "print(np.dot(k,k))\n",
    "\n",
    "# array([[ 228.,  224.,  224.],\n",
    "#        [ 224.,  228.,  224.],\n",
    "#        [ 224.,  224.,  228.]])"
   ]
  },
  {
   "cell_type": "markdown",
   "id": "caf5192d",
   "metadata": {},
   "source": [
    "Co się stanie, jesli będziemy próbować wykonywać operację na tablicach różniących się rozmiarami? Sprawdźmy to:\n"
   ]
  },
  {
   "cell_type": "code",
   "execution_count": 48,
   "id": "d1bb72e6",
   "metadata": {},
   "outputs": [],
   "source": [
    "a = np.arange(0, 40, 10)\n",
    "a = a.reshape((4,1))\n",
    "print(a)\n",
    "b = np.arange(0, 3)\n",
    "print(b)\n",
    "\n",
    "# [[ 0]\n",
    "#  [10]\n",
    "#  [20]\n",
    "#  [30]]\n",
    "# [0 1 2]\n",
    "print(a+b)\n",
    "\n",
    "# [[ 0  1  2]\n",
    "#  [10 11 12]\n",
    "#  [20 21 22]\n",
    "#  [30 31 32]]"
   ]
  },
  {
   "cell_type": "markdown",
   "id": "2df75a49",
   "metadata": {},
   "source": [
    "Jak już zobaczyliśmy, podstawowe operacje (sumowanie, etc.) w NumPy są wykonywane element po elemencie. Wcześniej przekonaliśmy się, że świetnie działa to dla tablic o tych samych wymiarach.\n",
    "\n",
    "Jak widać z powyższego przykładu, dokonywanie tych samych operacji na tablicach różniących się rozmiarem jest możliwe. NumPy automatycznie przetransformuje je tak, by wymiary się zgadzały.\n",
    "\n",
    "Takie zachowanie nazywane jest broadcasting-iem.\n",
    "\n",
    "### Referencje\n",
    "\n",
    "* https://sage3.icse.us.edu.pl/home/pub/21/\n",
    "* https://docs.scipy.org/doc/numpy/user/quickstart.html\n",
    "\n",
    "\n"
   ]
  }
 ],
 "metadata": {
  "kernelspec": {
   "display_name": "numba_sprawna",
   "language": "python",
   "name": "python3"
  },
  "language_info": {
   "codemirror_mode": {
    "name": "ipython",
    "version": 3
   },
   "file_extension": ".py",
   "mimetype": "text/x-python",
   "name": "python",
   "nbconvert_exporter": "python",
   "pygments_lexer": "ipython3",
   "version": "3.10.8"
  }
 },
 "nbformat": 4,
 "nbformat_minor": 5
}
