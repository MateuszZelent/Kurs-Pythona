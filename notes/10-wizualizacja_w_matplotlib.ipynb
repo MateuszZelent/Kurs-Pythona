{
 "cells": [
  {
   "cell_type": "markdown",
   "id": "596efad9",
   "metadata": {},
   "source": [
    "\n",
    "# Moduł matplotlib (matplotlib.org)\n",
    "\n",
    "Matplotlib słuzy do wizualizacji wszelkiego rodzaju danych. Jego zaletami jest prostota, ogromne mozliwości, wieloplatformowość oraz łatwa integracja z graficznymi interfejsami użytkownika.\n",
    "MatPlotLib jest częścią pakietu PyLab, który warto zaimportować w całości aby mieć dostęp do wielu dodatkowych, bardzo użytecznych funkcji:"
   ]
  },
  {
   "cell_type": "code",
   "execution_count": null,
   "id": "09b7e535",
   "metadata": {},
   "outputs": [],
   "source": [
    "import matplotlib.pyplot as plt \n",
    "import numpy as np"
   ]
  },
  {
   "cell_type": "markdown",
   "metadata": {},
   "source": [
    "### Słowniczek:\n",
    "\n",
    "- ```plt.figure()``` - Tworzy nowy rysunek (figurę), na której można umieszczać wykresy, tekst, etykiety, itd.\n",
    "- ```plt.plot()``` - Rysuje dane w formie wykresu liniowego.\n",
    "- ```plt.scatter()``` - Rysuje dane w formie wykresu punktowego.\n",
    "- ```plt.bar()``` - Tworzy wykres słupkowy pionowy.\n",
    "- ```plt.barh()``` - Tworzy wykres słupkowy poziomy.\n",
    "- ```plt.hist()``` - Rysuje histogram, który pokazuje rozkład danych.\n",
    "- ```plt.subplot()``` - Dodaje subplot do figury (umożliwia rysowanie kilku wykresów na jednym rysunku).\n",
    "- ```plt.subplots()``` - Tworzy figurę i zwraca obiekt(y) osi, które są gotowe do użycia.\n",
    "- ```plt.xlabel()``` - Dodaje etykietę do osi X.\n",
    "- ```plt.ylabel()``` - Dodaje etykietę do osi Y.\n",
    "- ```plt.title()``` - Dodaje tytuł do wykresu lub subplota.\n",
    "- ```plt.legend()``` - Dodaje legendę do wykresu.\n",
    "- ```plt.grid()``` - Dodaje siatkę do wykresu, co ułatwia odczytanie wartości.\n",
    "- ```plt.xlim()``` - Ustawia lub pobiera granice osi X.\n",
    "- ```plt.ylim()``` - Ustawia lub pobiera granice osi Y.\n",
    "- ```plt.xticks()``` - Ustawia lub pobiera położenie i etykiety na osi X.\n",
    "- ```plt.yticks()``` - Ustawia lub pobiera położenie i etykiety na osi Y.\n",
    "- ```plt.show()``` - Wyświetla wszystkie figury i wykresy.\n",
    "- ```plt.close()``` - Zamyka okno z rysunkiem, zwalniając zasoby.\n",
    "- ```plt.savefig()``` - Zapisuje rysunek do pliku.\n",
    "- ```plt.text()``` - Dodaje tekst w dowolnym miejscu wykresu.\n",
    "- ```plt.annotate()``` - Dodaje adnotacje z opcjonalną strzałką w określonej lokalizacji.\n",
    "- ```plt.style.use()``` - Pozwala na wybór stylu wykresów z predefiniowanych stylów.\n",
    "- ```plt.figure(figsize=(width, height)) - Ustawia rozmiar figury.\n",
    "- ```plt.errorbar()``` - Rysuje wykres z błędami (paski błędów).\n",
    "- ```plt.fill_between()``` - Wypełnia obszar między dwiema krzywymi.\n",
    "- ```plt.pie()``` - Tworzy wykres kołowy.\n",
    "- ```plt.imshow()``` - Wyświetla dane jako obraz (np. heatmapy, zdjęcia).\n",
    "- ```plt.colorbar()``` - Dodaje pasek kolorów do wykresu, zazwyczaj dla wykresów typu imshow.\n",
    "- ```plt.cla()``` - Czyści osie, usuwając wszystkie elementy z obecnych osi.\n"
   ]
  },
  {
   "cell_type": "markdown",
   "id": "c1f9a1b1",
   "metadata": {},
   "source": [
    "# Tworzenie subplotów z użyciem Matplotlib\n",
    "\n",
    "## Wprowadzenie do subplots\n",
    "Subplots to funkcja w Matplotlib, która pozwala na rysowanie wielu wykresów na jednym obszarze rysowania, czyli w jednym oknie. Subplots są bardzo przydatne, gdy chcemy porównać kilka zestawów danych lub różne aspekty tego samego zbioru danych.\n",
    "\n",
    "Funkcje używane przy tworzeniu subplotów:\n",
    "\n",
    "- ```figure()```: Tworzy nowe okno figury, gdzie możemy dodawać różne subplots.\n",
    "- ```subplot(nrows, ncols, index)```: Dodaje subplot do figury. nrows i ncols określają ilość rzędów i kolumn w siatce subplotów, a index to numer pozycji w tej siatce, licząc od lewej do prawej i od góry do dołu.\n",
    "- ```plot()```: Rysuje dane na aktywnym subplot.\n",
    "- ```title(), xlabel(), ylabel()```: Dodają tytuł do wykresu oraz etykiety do osi X i Y.\n",
    "- ```show()```: Wyświetla wszystkie wykresy utworzone do tego momentu."
   ]
  },
  {
   "cell_type": "markdown",
   "id": "787ec49e",
   "metadata": {},
   "source": [
    "## Podstawowa stylizacja wykresów\n",
    "\n",
    "Stylizowanie wykresów to istotny element wizualizacji danych, pozwalający na lepsze zrozumienie prezentowanych informacji oraz zwiększenie ich estetycznego aspektu. Matplotlib oferuje szeroki zakres możliwości modyfikacji wyglądu wykresów, od zmiany kolorów i typów linii, po dostosowywanie czcionek i layoutów.\n",
    "\n",
    "Kluczowe funkcje do stylizacji wykresów:\n",
    "\n",
    "- ```plot()```: Funkcja, która poza rysowaniem danych, pozwala na łatwe stylizowanie poprzez dodatkowe parametry jak color, linewidth, linestyle, marker, itp.\n",
    "- ```scatter()```: Służy do tworzenia wykresów punktowych, gdzie styl każdego punktu może być indywidualnie dostosowany.\n",
    "- ```bar(), barh()```: Tworzą wykresy słupkowe pionowe lub poziome, z możliwością dostosowania kolorów, grubości obramowania itp.\n",
    "- ```hist()```: Rysuje histogramy, z możliwościami stylizacji podobnymi do wykresów słupkowych.\n",
    "- ```grid()```: Dodaje siatkę do wykresu, której styl można kontrolować (kolor linii, styl linii, itp.).\n",
    "- ```legend()```: Dodaje legendę do wykresu, z opcjami personalizacji położenia, obramowania, tła i wielkości czcionki.\n",
    "- ```title(), xlabel(), ylabel()```: Pozwalają na dodanie tekstów, z możliwością dostosowania stylu czcionki, wielkości i koloru."
   ]
  },
  {
   "cell_type": "code",
   "execution_count": null,
   "id": "f3e37c39",
   "metadata": {},
   "outputs": [],
   "source": [
    "import matplotlib.pyplot as plt\n",
    "import numpy as np\n",
    "\n",
    "# Dane\n",
    "x = np.linspace(0, 10, 100)\n",
    "y1 = np.sin(x)\n",
    "y2 = np.cos(x)\n",
    "\n",
    "# Tworzenie wykresu\n",
    "plt.figure(figsize=(10, 6))\n",
    "\n",
    "# Seria pierwsza - sinus\n",
    "plt.plot(x, y1, color='blue', linestyle='-', linewidth=2, label='sin(x)')\n",
    "\n",
    "# Seria druga - cosinus\n",
    "plt.plot(x, y2, color='red', linestyle='--', linewidth=2, label='cos(x)')\n",
    "\n",
    "# Dodanie legendy\n",
    "plt.legend(loc='upper right')\n",
    "\n",
    "# Dodanie siatki\n",
    "plt.grid(True, linestyle=':', color='gray')\n",
    "\n",
    "# Tytuł i etykiety osi\n",
    "plt.title('Przykład stylizacji wykresów w Matplotlib', fontsize=14)\n",
    "plt.xlabel('x', fontsize=12)\n",
    "plt.ylabel('y', fontsize=12)\n",
    "\n",
    "# Wyświetlenie wykresu\n",
    "plt.show()\n"
   ]
  },
  {
   "cell_type": "markdown",
   "id": "668cc517",
   "metadata": {},
   "source": [
    "## Ograniczanie zakresów osi na wykresach w Matplotlib\n",
    "Wprowadzenie do ograniczania zakresów osi\n",
    "Ograniczanie zakresów osi w wykresach jest użyteczną techniką, która pozwala na skupienie uwagi na szczególnie interesujących fragmentach danych. Dzięki temu można lepiej zobaczyć detale, które mogłyby zostać utracone na wykresie obejmującym szerszy zakres wartości.\n",
    "\n",
    "Kluczowe funkcje do ograniczania zakresów osi:\n",
    "- ```xlim()``` i ylim()```: Te funkcje pozwalają na ustawienie granic dla osi X i Y. Można podać wartości graniczne w formie (min, max).\n",
    "- ```axis()```: Pozwala na jednoczesne ustawienie ograniczeń dla obu osi za pomocą jednego wywołania funkcji.\n",
    "\n",
    "Przykład ograniczenia zakresów osi:"
   ]
  },
  {
   "cell_type": "code",
   "execution_count": null,
   "id": "a9676e9a",
   "metadata": {},
   "outputs": [],
   "source": [
    "import matplotlib.pyplot as plt\n",
    "import numpy as np\n",
    "\n",
    "# Generowanie danych\n",
    "x = np.linspace(-10, 10, 400)\n",
    "y = np.sinc(x)\n",
    "\n",
    "# Tworzenie wykresu\n",
    "plt.figure(figsize=(10, 6))\n",
    "\n",
    "# Rysowanie wykresu\n",
    "plt.plot(x, y, label='sinc(x)')\n",
    "\n",
    "# Ograniczenie zakresu osi X\n",
    "plt.xlim(-5, 5)\n",
    "\n",
    "# Ograniczenie zakresu osi Y\n",
    "plt.ylim(-0.2, 1)\n",
    "\n",
    "# Dodanie legendy\n",
    "plt.legend()\n",
    "\n",
    "# Dodanie siatki\n",
    "plt.grid(True)\n",
    "\n",
    "# Tytuł i etykiety osi\n",
    "plt.title('Wykres funkcji sinc(x) z ograniczonym zakresem osi', fontsize=14)\n",
    "plt.xlabel('x', fontsize=12)\n",
    "plt.ylabel('y', fontsize=12)\n",
    "\n",
    "# Wyświetlenie wykresu\n",
    "plt.show()\n"
   ]
  },
  {
   "cell_type": "markdown",
   "id": "11fa7b15",
   "metadata": {},
   "source": [
    "## Zrozumienie i wykorzystanie osi (ax) w Matplotlib"
   ]
  },
  {
   "cell_type": "markdown",
   "id": "220383a3",
   "metadata": {},
   "source": [
    "W Matplotlib, obiekt Axes jest bardzo ważnym elementem, gdyż to na nim rysowane są wszystkie rodzaje danych (jak wykresy liniowe, punktowe, słupkowe itd.). Wizualizacja danych nie odbywa się bezpośrednio na poziomie okna (Figure), ale za pośrednictwem tych właśnie osi.\n",
    "\n",
    "### Podstawy obiektu Axes:\n",
    "\n",
    "Obiekt Axes: Jest to obszar wykresu, który zawiera osie z etykietami, linie siatki, markerami itd. Każdy obiekt Axes jest osadzony w obiekcie Figure.\n",
    "\n",
    "Tworzenie obiektu Axes: Można go utworzyć za pomocą funkcji subplot(), która automatycznie dodaje Axes do Figure, lub za pomocą funkcji add_subplot()``` na istniejącej Figure.\n",
    "\n",
    "Przykłady użycia ax i axs[i]:\n",
    "\n",
    "- ```ax```: Zmienna ```ax``` często jest używana, gdy pracujemy z pojedynczym wykresem na rysunku. Na przykład, \n",
    "  ```python \n",
    "  fig, ax = plt.subplots()\n",
    "  ``` \n",
    "  tworzy Figure oraz jedne Axes.\n",
    "\n",
    "- ```axs[i]```: Kiedy tworzymy wiele wykresów (subplotów), axs jest tablicą obiektów Axes, gdzie każdy element ```axs[i]``` odpowiada poszczególnym Axes. Na przykład, \n",
    "  ```python \n",
    "  fig, axs = plt.subplots(2, 2) \n",
    "  ```\n",
    "  tworzy 2x2 siatkę wykresów, gdzie ```axs[0, 1]``` odwołuje się do wykresu w pierwszym rzędzie i drugiej kolumnie.\n",
    "\n",
    "Zrozumienie i korzystanie z ax:\n",
    "\n",
    "Kiedy korzystasz z ax, każde polecenie dotyczące stylizacji, dodawania danych czy modyfikacji wykresu jest wykonywane bezpośrednio na obiekcie Axes. Na przykład, ax.plot()``` rysuje dane na wykresie, ax.set_xlabel()``` ustawia etykietę osi X itd."
   ]
  },
  {
   "cell_type": "code",
   "execution_count": null,
   "id": "d3ce2307",
   "metadata": {},
   "outputs": [],
   "source": [
    "import matplotlib.pyplot as plt\n",
    "import numpy as np\n",
    "\n",
    "# Tworzenie figury i osi\n",
    "fig, axs = plt.subplots(2, 1, figsize=(10, 8))\n",
    "\n",
    "# Dane\n",
    "x = np.linspace(0, 10, 100)\n",
    "y1 = np.sin(x)\n",
    "y2 = np.cos(x)\n",
    "\n",
    "# Używanie pierwszego subplota\n",
    "axs[0].plot(x, y1, 'r-')  # rysowanie na pierwszym subplocie\n",
    "axs[0].set_title('Sinus x')\n",
    "axs[0].set_ylabel('Sin(x)')\n",
    "\n",
    "# Używanie drugiego subplota\n",
    "axs[1].plot(x, y2, 'b-')  # rysowanie na drugim subplocie\n",
    "axs[1].set_title('Cosinus x')\n",
    "axs[1].set_xlabel('x')\n",
    "axs[1].set_ylabel('Cos(x)')\n",
    "\n",
    "# Wyświetlenie wykresu\n",
    "plt.tight_layout()\n",
    "plt.show()\n"
   ]
  },
  {
   "cell_type": "markdown",
   "id": "a0d6148d",
   "metadata": {},
   "source": [
    "### Porównanie plt.xlim() i ax.set_xlim() w Matplotlib\n",
    "\n",
    "```python\n",
    "plt.xlim()\n",
    "```\n",
    "\n",
    "# Interfejs pyplot: Proceduralny i globalnie zarządza \"aktualnie aktywną\" osią.\n",
    "\n",
    "Zastosowanie: Skuteczne w prostych skryptach i jednoosiowych wykresach, gdzie zarządzanie stanem osi nie jest skomplikowane.\n",
    "\n",
    "Ograniczenia: Może być mylące w złożonych układach wykresów z wieloma osiami, gdzie kontrola nad konkretną osią jest potrzebna.\n",
    "```python\n",
    "\n",
    "ax.set_xlim()\n",
    "```\n",
    "\n",
    "# Obiektowe API: Pozwala na dokładne i jasne ustawienia dla określonej osi Axes.\n",
    "\n",
    "Zastosowanie: Preferowane w złożonych lub wieloosiowych wykresach, gdzie precyzyjna kontrola nad każdą osią jest wymagana.\n",
    "\n",
    "Kontrola: Umożliwia precyzyjne ustawienia dla specyficznych subplotów lub konfiguracji wykresów, eliminując ryzyko wpływu na inne osie.\n",
    "\n",
    "W skrócie, ```plt.xlim()``` jest użyteczne dla szybkich, prostych wykresów, podczas gdy ```ax.set_xlim()``` jest lepsze dla bardziej złożonych wizualizacji, wymagających specyficznej kontroli nad poszczególnymi osiami."
   ]
  },
  {
   "cell_type": "markdown",
   "id": "c5516e9c",
   "metadata": {},
   "source": [
    "### Zaawansowany przykład wykorzystania subplots i różnych funkcji\n"
   ]
  },
  {
   "cell_type": "code",
   "execution_count": null,
   "id": "5f068b68",
   "metadata": {},
   "outputs": [],
   "source": [
    "import matplotlib.pyplot as plt\n",
    "import numpy as np\n",
    "\n",
    "# Ustawienia figury\n",
    "fig = plt.figure(figsize=(12, 8))  # Okno o rozmiarze 1200x800 pikseli\n",
    "\n",
    "# Dane do wykresów\n",
    "x = np.linspace(-2 * np.pi, 2 * np.pi, 100)\n",
    "functions = [\n",
    "    np.sin(x),\n",
    "    np.cos(x),\n",
    "    np.exp(-x**2),\n",
    "    np.sqrt(np.clip(1 - x**2, 0, 1))  # Funkcja sqrt jest zdefiniowana tylko dla wartości x>=0\n",
    "]\n",
    "\n",
    "# Tytuły dla subplots\n",
    "titles = ['sin(x)', 'cos(x)', 'exp(-x^2)', 'sqrt(1 - x^2)']\n",
    "\n",
    "# Generowanie subplots\n",
    "for i in range(4):\n",
    "    ax = fig.add_subplot(2, 2, i + 1)\n",
    "    ax.plot(x, functions[i])\n",
    "    ax.set_title(titles[i])\n",
    "    ax.set_xlabel('x')\n",
    "    ax.set_ylabel('y')\n",
    "    ax.grid(True)\n",
    "\n",
    "# Wyświetlenie wykresów\n",
    "plt.tight_layout()\n",
    "plt.show()\n"
   ]
  },
  {
   "cell_type": "markdown",
   "id": "4859a71c",
   "metadata": {},
   "source": [
    "Ten kod generuje cztery różne funkcje matematyczne na oddzielnych subplotach w jednym oknie. Każdy subplot zawiera siatkę oraz odpowiednie etykiety osi, co ułatwia porównanie wykresów. Użyto tutaj również tight_layout(), aby zapewnić odpowiednie odstępy między subplotami i uniknąć nakładania się tytułów osi."
   ]
  },
  {
   "cell_type": "markdown",
   "id": "de978edb",
   "metadata": {},
   "source": [
    "Wykres jednej zmiennej"
   ]
  },
  {
   "cell_type": "code",
   "execution_count": null,
   "id": "643b1f96",
   "metadata": {},
   "outputs": [],
   "source": [
    "# tablica liczb o równomiernym rozkładzie\n",
    "x = np.linspace(-10, 10, 100)\n",
    "# funkcja do wyrysowania\n",
    "y = np.sin(x) * np.cos(x / 2)\n",
    "\n",
    "plt.figure()\n",
    "plt.plot(x, y)  # rysowanie funkcji y(x)\n",
    "plt.show()"
   ]
  },
  {
   "cell_type": "code",
   "execution_count": null,
   "id": "66e7a6bf",
   "metadata": {},
   "outputs": [],
   "source": [
    "x = np.linspace(-10, 10, 100)\n",
    "y = np.sin(x)* np.cos(x / 2)\n",
    "z = np.sin(x) / x\n",
    "p = np.exp(-x**2)\n",
    "# wiele funkcji w jednym plocie\n",
    "plt.figure()\n",
    "plt.plot(x, y, x, z, x, p)\n",
    "plt.show()\n"
   ]
  },
  {
   "cell_type": "code",
   "execution_count": null,
   "id": "54d52ef8",
   "metadata": {},
   "outputs": [],
   "source": [
    "# rozmiar okna i rozdzielczość\n",
    "plt.figure(figsize=(12, 8) , dpi=100) # 1200x800 pikseli\n",
    "x = np.linspace(-10, 10, 100)\n",
    "y = np.sin(x) * np.cos(x / 2)\n",
    "z = np.sin(x) / x\n",
    "# punkt(marker) zamiast linii\n",
    "plt.plot(x, y, ls =\"\", marker =\"o\", markersize =5 , c=\"brown\")\n",
    "plt.plot(x, z, ls =\"\", marker =\"+\", markersize =15 , c=\"orange\")\n",
    "plt.title(u\" Title\")\n",
    "plt.xlabel(u\"x\")\n",
    "plt.ylabel(u\"y\")\n",
    "plt.show()\n"
   ]
  },
  {
   "cell_type": "markdown",
   "id": "898ac6aa",
   "metadata": {},
   "source": [
    "Aby uprościć kod we wszystkich przykładach poniżej uprośimy zaimprtujemy bezpośrednio niezbędne funckje"
   ]
  },
  {
   "cell_type": "code",
   "execution_count": null,
   "id": "83ef563b",
   "metadata": {},
   "outputs": [],
   "source": [
    "from numpy import linspace, pi, sin, cos, exp, sqrt\n",
    "from matplotlib.pyplot import figure, subplot, plot, show"
   ]
  },
  {
   "cell_type": "code",
   "execution_count": null,
   "id": "f356fb92",
   "metadata": {},
   "outputs": [],
   "source": [
    "figure(figsize =(12, 8), dpi=100) # 1200 x800 pikseli\n",
    "x = linspace (-2*pi, 2*pi, 100)\n",
    "# subplot czyli siatka wykresów\n",
    "# opcje : liczba wierszy i kolumn oraz numer aktualnego wykresu\n",
    "subplot(2 , 2, 1)\n",
    "plot(x, sin (x ))\n",
    "subplot(2, 2, 2)\n",
    "plot(x, sin (x )/ x)\n",
    "subplot(2, 2, 3)\n",
    "plot(x, exp (-x **2))\n",
    "subplot(2, 2, 4) # można podać parametry bez przecinków!\n",
    "plot(x, sqrt(1 - x**2))\n",
    "show()\n"
   ]
  },
  {
   "cell_type": "code",
   "execution_count": null,
   "id": "6a92fa95",
   "metadata": {},
   "outputs": [],
   "source": [
    "import numpy as np\n",
    "import matplotlib.pyplot as plt\n",
    "plt.style.use('dracula')\n",
    "\n",
    "x = np.linspace(0, 1)\n",
    "y = 13 + x**4 + x**2 - np.sin(5*x)\n",
    "z = 13*x + np.log10(y)\n",
    "\n",
    "\n",
    "fig, ax1 = plt.subplots()\n",
    "ax1.set_title(r'$Title$')\n",
    "ax1.set_xlabel(r'$x$')\n",
    "ax1.set_ylabel(r'$y$', color='C1')\n",
    "ax1.tick_params('y', colors='C1')\n",
    "ax1.plot(x, y, c='C1')\n",
    "\n",
    "for i in ax1.get_ygridlines():\n",
    "    i.set_color('C1')\n",
    "\n",
    "\n",
    "ax2 = ax1.twinx()\n",
    "ax2.set_ylabel(r'$z$', color='C0')\n",
    "ax2.tick_params('y', colors='C0')\n",
    "ax2.plot(x, z, c='C0')\n",
    "ax2.grid(color='C0', alpha=0.5)\n",
    "fig.tight_layout()\n",
    "plt.show()\n"
   ]
  },
  {
   "cell_type": "markdown",
   "id": "2f389e9e",
   "metadata": {},
   "source": [
    "#  Wykorzystanie imshow() w Matplotlib"
   ]
  },
  {
   "cell_type": "markdown",
   "id": "416cebd7",
   "metadata": {},
   "source": [
    "Funkcja ```imshow()``` w Matplotlib to potężne narzędzie do wyświetlania obrazów w ramach analizy danych. Jest często używana do prezentacji macierzy jako obrazów, co sprawia, że jest niezastąpiona przy wizualizacji danych obrazowych, map cieplnych oraz innych form danych dwuwymiarowych.\n",
    "\n",
    "# Kluczowe cechy imshow():\n",
    "\n",
    "- Prezentacja macierzy: Każdy element macierzy jest przedstawiany jako piksel na obrazie, gdzie wartość elementu określa kolor piksela.\n",
    "- Skalowanie kolorów: Automatycznie skaluje wartości w macierzy do przestrzeni kolorów, co pozwala na intuicyjne porównania wartości. Można też ręcznie ustawić skalę kolorów.\n",
    "- Interpolacja: Pozwala na wybór metody interpolacji, co jest kluczowe przy powiększaniu obrazów o niskiej rozdzielczości.\n",
    "\n",
    "Przykładowe zastosowania ```imshow()```:\n",
    "\n",
    "- Wizualizacja danych 2D: Idealna do pokazywania macierzy jako obrazów, na przykład w przetwarzaniu obrazów, naukach o Ziemi, oraz wszędzie tam, gdzie dane można przedstawić jako obrazy.\n",
    "- Mapy cieplne: Używana do tworzenia map cieplnych, które ilustrują wielkość wartości w różnych regionach macierzy.\n",
    "- Analiza obrazów: Można wykorzystać do analizy obrazów, wyświetlając różne przekształcenia i efekty."
   ]
  },
  {
   "cell_type": "code",
   "execution_count": null,
   "id": "b1813fc7",
   "metadata": {},
   "outputs": [],
   "source": [
    "import matplotlib.pyplot as plt\n",
    "import numpy as np\n",
    "\n",
    "# Generowanie danych: macierz 10x10 z losowymi wartościami\n",
    "data = np.random.rand(10, 10)\n",
    "\n",
    "# Tworzenie wykresu\n",
    "plt.figure(figsize=(8, 6))\n",
    "\n",
    "# Wyświetlanie danych jako obrazu\n",
    "plt.imshow(data, cmap='hot', interpolation='nearest')\n",
    "\n",
    "# Dodanie paska kolorów\n",
    "plt.colorbar()\n",
    "\n",
    "# Dodanie tytułu i etykiet\n",
    "plt.title('Przykładowa wizualizacja danych 2D z użyciem imshow()')\n",
    "plt.xlabel('Indeks X')\n",
    "plt.ylabel('Indeks Y')\n",
    "\n",
    "# Wyświetlenie wykresu\n",
    "plt.show()\n"
   ]
  },
  {
   "cell_type": "markdown",
   "id": "2af9839e",
   "metadata": {},
   "source": [
    "# Wykorzystanie map kolorów w Matplotlib"
   ]
  },
  {
   "cell_type": "markdown",
   "id": "96bbb9d3",
   "metadata": {},
   "source": [
    "Mapy kolorów (colormaps) w Matplotlib służą do mapowania wartości numerycznych na kolory, co jest szczególnie przydatne przy wizualizacji danych przestrzennych i statystycznych, takich jak mapy cieplne, wykresy konturowe i obrazy. Mapy kolorów pozwalają na intuicyjne przedstawienie zróżnicowania danych poprzez zastosowanie różnych odcieni kolorów.\n",
    "\n",
    "### Rodzaje map kolorów:\n",
    "- Sequentjalne: Przeznaczone do reprezentowania danych, które mają porządek, np. od najniższych do najwyższych wartości. Przykłady: viridis, plasma, inferno.\n",
    "- Różnicowe (Diverging): Stosowane do danych z naturalnym środkiem, idealne do pokazywania odchyleń od tego środka. Przykłady: coolwarm, seismic.\n",
    "- Kategoryczne: Używane do danych kategorycznych, gdzie kolory mają odróżniać poszczególne kategorie bez sugerowania hierarchii. Przykłady: tab10, paired.\n",
    "\n",
    "### Jak wybrać odpowiednią mapę kolorów?\n",
    "\n",
    "Wybór mapy kolorów zależy od rodzaju danych:\n",
    "\n",
    "- Dane sekwencyjne: Użyj sekwencyjnej mapy kolorów, która pokazuje gradację intensywności.\n",
    "- Dane z punktem centralnym: Wybierz różnicową mapę kolorów, aby podkreślić wartości powyżej i poniżej punktu odniesienia.\n",
    "- Dane kategoryczne: Zastosuj kategoryczną mapę kolorów, aby wyróżnić różne grupy danych."
   ]
  },
  {
   "cell_type": "code",
   "execution_count": null,
   "id": "cae87357",
   "metadata": {},
   "outputs": [],
   "source": [
    "import matplotlib.pyplot as plt\n",
    "import numpy as np\n",
    "\n",
    "# Generowanie danych: macierz 10x10 z wartościami od 0 do 1\n",
    "data = np.random.rand(10, 10)\n",
    "\n",
    "# Tworzenie wykresu\n",
    "plt.figure(figsize=(8, 6))\n",
    "\n",
    "# Użycie mapy kolorów 'viridis'\n",
    "plt.imshow(data, cmap='viridis')\n",
    "plt.colorbar()  # Dodanie paska kolorów\n",
    "\n",
    "# Tytuł i etykiety\n",
    "plt.title('Wizualizacja z użyciem mapy kolorów \"viridis\"')\n",
    "plt.xlabel('Indeks X')\n",
    "plt.ylabel('Indeks Y')\n",
    "\n",
    "# Wyświetlenie wykresu\n",
    "plt.show()\n"
   ]
  },
  {
   "cell_type": "code",
   "execution_count": null,
   "id": "5e4ab6be",
   "metadata": {},
   "outputs": [],
   "source": [
    "import matplotlib.pyplot as plt\n",
    "import numpy as np\n",
    "\n",
    "# Generowanie danych: macierz 10x10 z wartościami od 0 do 1\n",
    "data = np.random.rand(10, 10)\n",
    "\n",
    "# Lista 10 różnych map kolorów\n",
    "colormaps = ['viridis', 'plasma', 'inferno', 'magma', 'cividis', \n",
    "             'Greys', 'Purples', 'Blues', 'Greens', 'Oranges']\n",
    "\n",
    "# Tworzenie wykresu\n",
    "fig, axs = plt.subplots(2, 5, figsize=(20, 8))  # 2 rzędy, 5 kolumn\n",
    "\n",
    "# Iteracja przez listę map kolorów i tworzenie subplotów\n",
    "for ax, cmap in zip(axs.flat, colormaps):\n",
    "    im = ax.imshow(data, cmap=cmap)\n",
    "    ax.set_title(f'Mapa kolorów: {cmap}')\n",
    "    ax.axis('off')  # Wyłączenie osi dla czystszego wyglądu\n",
    "\n",
    "# Dodanie paska kolorów\n",
    "fig.colorbar(im, ax=axs, orientation='horizontal', fraction=.02)\n",
    "\n",
    "# Dopasowanie layoutu\n",
    "plt.tight_layout()\n",
    "plt.show()\n"
   ]
  },
  {
   "cell_type": "markdown",
   "id": "29594aba",
   "metadata": {},
   "source": [
    "Wyjaśnienie kodu\n",
    "\n",
    "1. Generowanie danych: Tworzymy macierz 10x10 z losowymi wartościami.\n",
    "2. Definicja map kolorów: Lista colormaps zawiera nazwy 10 różnych map kolorów, które chcemy użyć.\n",
    "3. Tworzenie figur i osi: Używamy ```plt.subplots()``` do stworzenia siatki subplotów, gdzie każdy subplot będzie używał innej mapy kolorów.\n",
    "4. Wypełnianie subplotów: Pętla iteruje przez osie (axs) i mapy kolorów (colormaps), stosując każdą mapę kolorów do danych i ukrywając osie dla lepszej czytelności.\n",
    "5. Dodawanie paska kolorów: Umieszczamy wspólny pasek kolorów dla wszystkich subplotów na dole figury.\n",
    "6. Wyświetlenie wykresu: Wywołanie ```plt.show()``` wyświetla całą figurę z subplotami.\n",
    "\n"
   ]
  }
 ],
 "metadata": {
  "kernelspec": {
   "display_name": "numba_sprawna",
   "language": "python",
   "name": "python3"
  },
  "language_info": {
   "codemirror_mode": {
    "name": "ipython",
    "version": 3
   },
   "file_extension": ".py",
   "mimetype": "text/x-python",
   "name": "python",
   "nbconvert_exporter": "python",
   "pygments_lexer": "ipython3",
   "version": "3.10.8"
  }
 },
 "nbformat": 4,
 "nbformat_minor": 5
}
