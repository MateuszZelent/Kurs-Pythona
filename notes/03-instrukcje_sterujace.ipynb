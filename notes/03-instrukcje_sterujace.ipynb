{
 "cells": [
  {
   "cell_type": "markdown",
   "id": "cfd2bf58",
   "metadata": {},
   "source": [
    "\n",
    "## Instrukcje sterujące\n",
    "\n",
    "### Instrukcja warunkowa if\n",
    "\n",
    "Czasami chcielibyśmy, by nasz program reagował na różne sposoby w zależności od otrzymanych danych, np. wpisanej przez użytkownika liczby bądź informacji o systemie operacyjnym. Do tego celu używamy instrukcji `if`:\n",
    "    "
   ]
  },
  {
   "cell_type": "code",
   "execution_count": null,
   "id": "cbaa480b",
   "metadata": {},
   "outputs": [],
   "source": [
    "\n",
    "a = int(input('Podaj liczbę całkowitą z zakresu 1-10\\n'))\n",
    "if a % 3 == 0:\n",
    "    print('Podałeś liczbę podzielną przez 3')\n",
    "else:\n",
    "    print(str(a) + ' nie dzieli się przez 3')\n",
    "    "
   ]
  },
  {
   "cell_type": "markdown",
   "id": "65c7007a",
   "metadata": {},
   "source": [
    "\n",
    "Przykładowo, używając instrukcji `elif`:\n",
    "    "
   ]
  },
  {
   "cell_type": "code",
   "execution_count": null,
   "id": "e3ed5d02",
   "metadata": {},
   "outputs": [],
   "source": [
    "\n",
    "a = int(input('Podaj liczbę naturalną do sprawdzenia: '))\n",
    "if a < 2:\n",
    "    print(str(a) + ' nie jest ani liczbą pierwszą, ani liczbą złożoną')\n",
    "elif a % 2 == 0:\n",
    "    print(str(a) + ' jest liczbą złożoną')\n",
    "else:\n",
    "    print(str(a) + ' jest liczbą pierwszą')\n",
    "    "
   ]
  },
  {
   "cell_type": "markdown",
   "id": "e572f4ff",
   "metadata": {},
   "source": [
    "\n",
    "Operator trójargumentowy w Pythonie:\n",
    "    "
   ]
  },
  {
   "cell_type": "code",
   "execution_count": null,
   "id": "fb7f86ed",
   "metadata": {},
   "outputs": [],
   "source": [
    "\n",
    "a = 5\n",
    "b = 'Parzysta' if a % 2 == 0 else 'Nieparzysta'\n",
    "print(b)\n",
    "    "
   ]
  },
  {
   "cell_type": "markdown",
   "id": "5c59dfe4",
   "metadata": {},
   "source": [
    "\n",
    "### Pętle\n",
    "\n",
    "Omówienie pętli `while` i `for`, przykłady użycia.\n",
    "    "
   ]
  },
  {
   "cell_type": "code",
   "execution_count": null,
   "id": "47cea127",
   "metadata": {},
   "outputs": [],
   "source": [
    "\n",
    "def fact(n):\n",
    "    f = 1\n",
    "    while n > 1:\n",
    "        f *= n\n",
    "        n -= 1\n",
    "    return f\n",
    "\n",
    "print(fact(5))\n",
    "    "
   ]
  },
  {
   "cell_type": "code",
   "execution_count": null,
   "id": "bf537fb6",
   "metadata": {},
   "outputs": [],
   "source": [
    "\n",
    "for i in range(1, 11):\n",
    "    print(i ** 2)\n",
    "    "
   ]
  },
  {
   "cell_type": "code",
   "execution_count": null,
   "id": "7437ba68",
   "metadata": {},
   "outputs": [],
   "source": [
    "\n",
    "napis = 'ala'\n",
    "for znak in napis:\n",
    "    print(znak)\n",
    "    "
   ]
  },
  {
   "cell_type": "code",
   "execution_count": null,
   "id": "0b29ac6d",
   "metadata": {},
   "outputs": [],
   "source": [
    "\n",
    "for i in range(7):\n",
    "    if i == 3:\n",
    "        continue\n",
    "    if i == 5:\n",
    "        break\n",
    "    print(i)\n",
    "    "
   ]
  },
  {
   "cell_type": "code",
   "execution_count": null,
   "id": "8b9931e1",
   "metadata": {},
   "outputs": [],
   "source": [
    "\n",
    "for i in range(3):\n",
    "    print(i)\n",
    "else:\n",
    "    print('Wszystko wypisane!')\n",
    "    "
   ]
  },
  {
   "cell_type": "markdown",
   "id": "e595b03b",
   "metadata": {},
   "source": [
    "\n",
    "* zadania podstawowe\n",
    "  * [Weryfikacja adresu email](https://github.com/exampleUser/exampleRepo/weryfikacja_adresu_email.py)\n",
    "  * [Problem Collatza](https://github.com/exampleUser/exampleRepo/problem_collatza.py)\n",
    "\n",
    "* zadania dodatkowe\n",
    "  * [odległość napisów](https://github.com/exampleUser/exampleRepo/odleglosc_napisow.py)\n",
    "  * [pochodna arytmetyczna](https://github.com/exampleUser/exampleRepo/pochodna_arytmetyczna.py)\n",
    "  * [zlicz samogłoski](https://github.com/exampleUser/exampleRepo/zlicz_samogloski.py)\n"
   ]
  }
 ],
 "metadata": {},
 "nbformat": 4,
 "nbformat_minor": 5
}
