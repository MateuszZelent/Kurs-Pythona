{
 "cells": [
  {
   "cell_type": "markdown",
   "id": "cfd2bf58",
   "metadata": {},
   "source": [
    "\n",
    "## Instrukcje sterujące\n",
    "\n",
    "### Instrukcja warunkowa if\n",
    "\n",
    "```python\n",
    "if warunek:\n",
    "    # instrukcje\n",
    "    # ...\n",
    "else:\n",
    "    # w przeciwnym wypadku:\n",
    "    # ...\n",
    "```\n",
    "\n",
    "Czasami chcielibyśmy, by nasz program reagował na różne sposoby w zależności od otrzymanych danych, np. wpisanej przez użytkownika liczby bądź informacji o systemie operacyjnym. Do tego celu używamy instrukcji `if`:\n",
    "    "
   ]
  },
  {
   "cell_type": "code",
   "execution_count": null,
   "id": "cbaa480b",
   "metadata": {},
   "outputs": [],
   "source": [
    "\n",
    "a = int(input('Podaj liczbę całkowitą z zakresu 1-10\\n'))\n",
    "if a % 3 == 0:\n",
    "    print('Podałeś liczbę podzielną przez 3')\n",
    "else:\n",
    "    print(str(a) + ' nie dzieli się przez 3')\n",
    "    "
   ]
  },
  {
   "cell_type": "markdown",
   "id": "65c7007a",
   "metadata": {},
   "source": [
    "\n",
    "Przykładowo, używając instrukcji `elif`:\n",
    "    "
   ]
  },
  {
   "cell_type": "code",
   "execution_count": null,
   "id": "e3ed5d02",
   "metadata": {},
   "outputs": [],
   "source": [
    "\n",
    "a = int(input('Podaj liczbę naturalną do sprawdzenia: '))\n",
    "if a < 2:\n",
    "    print(str(a) + ' nie jest ani liczbą pierwszą, ani liczbą złożoną')\n",
    "elif a % 2 == 0:\n",
    "    print(str(a) + ' jest liczbą złożoną')\n",
    "else:\n",
    "    print(str(a) + ' jest liczbą pierwszą')\n",
    "    "
   ]
  },
  {
   "cell_type": "markdown",
   "id": "b057f338",
   "metadata": {},
   "source": [
    "Z instrukcją `if` związana jest pewna konstrukcja, znana niektórym z języka C++\n",
    "(operator trójargumentowy ?:). Mianowicie, możliwe jest zapisanie instrukcji\n",
    "warunkowej, która zwróci wynik (np. żebyśmy mogli przypisać go do zmiennej):"
   ]
  },
  {
   "cell_type": "markdown",
   "id": "e572f4ff",
   "metadata": {},
   "source": [
    "\n",
    "Operator trójargumentowy w Pythonie:\n",
    "    "
   ]
  },
  {
   "cell_type": "code",
   "execution_count": null,
   "id": "fb7f86ed",
   "metadata": {},
   "outputs": [],
   "source": [
    "\n",
    "a = 5\n",
    "b = 'Parzysta' if a % 2 == 0 else 'Nieparzysta'\n",
    "print(b)\n",
    "    "
   ]
  },
  {
   "cell_type": "markdown",
   "id": "5c59dfe4",
   "metadata": {},
   "source": [
    "\n",
    "### Pętle\n",
    "\n",
    "Python, tak jak inne języki udostępnia konstrukcje służące do powtarzania\n",
    "pewnych operacji - pętle. Pierwszą jaką omówimy jest pętla `while`. Działa ona\n",
    "dopóki podany warunek jest prawdziwy. Jako przykład, napiszmy przy użyciu tej\n",
    "pętli funkcję, która wylicza silnię liczby n:\n",
    "\n",
    "```python\n",
    "def fact(n):\n",
    "    f = 1\n",
    "    # wyjdziemy z petli, gdy n bedzie mniejsze badz rowne 1\n",
    "    while n > 1:\n",
    "        f *= n\n",
    "        # n -= 1 to to samo co n = n - 1\n",
    "        n -= 1\n",
    "    return f\n",
    "```\n",
    "\n",
    "Drugą jest pętla `for`, nieco bardziej skomplikowana, ale jednocześnie\n",
    "bardziej elastyczna. Pozwala na przetwarzanie jeden po drugim elementów\n",
    "wybranego zbioru, np. kilku liczb czy elementów listy.\n",
    "Składnię pokażemy na przykładzie. Założmy, że chcemy wpisać kwadraty kolejnych\n",
    "liczb naturalnych, od 1 do 10. Z aktualną wiedzą, nasze rozwiązanie mogłoby\n",
    "wyglądać tak:\n",
    "```python\n",
    "print(1 ** 2)\n",
    "print(2 ** 2)\n",
    "print(3 ** 2)\n",
    "# ...\n",
    "print(10 ** 2)\n",
    "```\n",
    "W przypadku dziesięciu liczb to nie jest problemem. Jednak jeśli chcielibyśmy\n",
    "wypisać ich, powiedzmy, pięćdziesiąt, stałoby się to uciążliwe i nasz kod\n",
    "rozrósłby się do sporych rozmiarów. Dużo łatwiej uzyskać to przy użyciu pętli:\n",
    "```python\n",
    "for i in range(1, 11):\n",
    "    print(i ** 2)\n",
    "```\n",
    "Pętla `for` pozwala również przechodzić po elementach kontenerów i napisów:\n",
    "```python\n",
    ">>> napis = 'ala'\n",
    ">>> for znak in napis:\n",
    "...     print(znak)\n",
    "...\n",
    "a\n",
    "l\n",
    "a\n",
    "```\n",
    "W przypadku obu pętli mamy do dyspozycji jeszcze dwie instrukcje: `break` i\n",
    "`continue`. Pierwsza z nich pozwala wyjść z pętli w dowolnym momencie, natomiast\n",
    "druga przerywa wykonanie aktualnej iteracji i przechodzi do następnego elementu\n",
    "danego zbioru.\n",
    "\n",
    "Poniższa pętla z dwiema instrukcjami `if` w podanej postaci wypisze 0, 1, 2,\n",
    "następnie pominie 3 (continue) i zakończy wypisywanie przy 5 (nie wypisując\n",
    "tej liczby):\n",
    "```python\n",
    "for i in range(7):\n",
    "    if i == 3:\n",
    "        continue\n",
    "    if i == 5:\n",
    "        break\n",
    "    print(i)\n",
    "```\n",
    "Nowością dla osób, które wcześniej programowały w innym języku może być fakt,\n",
    "że pętle również mogą posiadać klauzulę else. Kod w niej zawarty jest\n",
    "wykonywany po pętli (w przypadku, gdy nie wyjdziemy z niej wcześniej, np.\n",
    "używając instrukcji `break`):\n",
    "```python\n",
    "for i in range(3):\n",
    "    print(i)\n",
    "else:\n",
    "    print('Wszystko wypisane!')\n",
    "```\n",
    "To na razie wszystko, co powinniśmy wiedzieć o pętlach i instrukcji warunkowej.\n",
    "Wrócimy do tego tematu jeszcze przy okazji omawiania kontenerów, tj. list,\n",
    "krotek i słowników. Chcących dowiedzieć się więcej, odsyłamy do dokumentacji. A\n",
    "osoby, dla których coś jest nie jasne mogą zadać pytanie poprzez sekcję `issues`,\n",
    "lub drogą mailową :-).\n",
    "\n",
    "\n",
    "Omówienie pętli `while` i `for`, przykłady użycia.\n",
    "    "
   ]
  },
  {
   "cell_type": "code",
   "execution_count": null,
   "id": "47cea127",
   "metadata": {},
   "outputs": [],
   "source": [
    "\n",
    "def fact(n):\n",
    "    f = 1\n",
    "    while n > 1:\n",
    "        f *= n\n",
    "        n -= 1\n",
    "    return f\n",
    "\n",
    "print(fact(5))\n",
    "    "
   ]
  },
  {
   "cell_type": "code",
   "execution_count": null,
   "id": "bf537fb6",
   "metadata": {},
   "outputs": [],
   "source": [
    "\n",
    "for i in range(1, 11):\n",
    "    print(i ** 2)\n",
    "    "
   ]
  },
  {
   "cell_type": "code",
   "execution_count": null,
   "id": "7437ba68",
   "metadata": {},
   "outputs": [],
   "source": [
    "\n",
    "napis = 'ala'\n",
    "for znak in napis:\n",
    "    print(znak)\n",
    "    "
   ]
  },
  {
   "cell_type": "code",
   "execution_count": null,
   "id": "0b29ac6d",
   "metadata": {},
   "outputs": [],
   "source": [
    "\n",
    "for i in range(7):\n",
    "    if i == 3:\n",
    "        continue\n",
    "    if i == 5:\n",
    "        break\n",
    "    print(i)\n",
    "    "
   ]
  },
  {
   "cell_type": "code",
   "execution_count": null,
   "id": "8b9931e1",
   "metadata": {},
   "outputs": [],
   "source": [
    "\n",
    "for i in range(3):\n",
    "    print(i)\n",
    "else:\n",
    "    print('Wszystko wypisane!')\n",
    "    "
   ]
  },
  {
   "cell_type": "markdown",
   "id": "e595b03b",
   "metadata": {},
   "source": [
    "\n",
    "* zadania podstawowe\n",
    "  * [Weryfikacja adresu email](https://github.com/exampleUser/exampleRepo/weryfikacja_adresu_email.py)\n",
    "  * [Problem Collatza](https://github.com/exampleUser/exampleRepo/problem_collatza.py)\n",
    "\n",
    "* zadania dodatkowe\n",
    "  * [odległość napisów](https://github.com/exampleUser/exampleRepo/odleglosc_napisow.py)\n",
    "  * [pochodna arytmetyczna](https://github.com/exampleUser/exampleRepo/pochodna_arytmetyczna.py)\n",
    "  * [zlicz samogłoski](https://github.com/exampleUser/exampleRepo/zlicz_samogloski.py)\n"
   ]
  }
 ],
 "metadata": {
  "language_info": {
   "name": "python"
  }
 },
 "nbformat": 4,
 "nbformat_minor": 5
}
