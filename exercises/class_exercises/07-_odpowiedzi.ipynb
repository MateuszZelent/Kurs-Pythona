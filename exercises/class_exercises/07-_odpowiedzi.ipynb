{
 "cells": [
  {
   "cell_type": "markdown",
   "metadata": {},
   "source": [
    "# Krok 1: Wczytanie danych z pliku CSV\n",
    "W Pythonie, przy użyciu numpy, możesz łatwo wczytać dane z pliku CSV za pomocą funkcji genfromtxt. Funkcja ta jest elastyczna i pozwala określić typy danych, które mają być wczytane, jak również obsługiwać brakujące dane."
   ]
  },
  {
   "cell_type": "code",
   "execution_count": null,
   "metadata": {},
   "outputs": [],
   "source": [
    "import csv\n",
    "import numpy as np\n",
    "\n",
    "# Wczytanie nagłówków\n",
    "with open(\"/home/kkingstoun/scripts/git/Kurs-Pythona/exercises/class_exercises/example_data.csv\", newline='', encoding='utf-8') as csvfile:\n",
    "    reader = csv.reader(csvfile)\n",
    "    headers = next(reader)\n",
    "\n",
    "# Wczytanie danych numerycznych\n",
    "data = np.genfromtxt(\"/home/kkingstoun/scripts/git/Kurs-Pythona/exercises/class_exercises/example_data.csv\", delimiter=',', skip_header=1, dtype=float)\n",
    "\n",
    "print(\"Nagłówki:\", headers)\n",
    "print(\"Dane numeryczne:\")\n",
    "print(data)"
   ]
  },
  {
   "cell_type": "code",
   "execution_count": null,
   "metadata": {},
   "outputs": [],
   "source": [
    "import numpy as np\n",
    "\n",
    "# Wczytanie danych z pliku CSV\n",
    "data = np.genfromtxt(\"/home/kkingstoun/scripts/git/Kurs-Pythona/exercises/class_exercises/example_data.csv\", delimiter=',', skip_header=1)"
   ]
  },
  {
   "cell_type": "code",
   "execution_count": null,
   "metadata": {},
   "outputs": [],
   "source": [
    "dane = np.genfromtxt(\"/home/kkingstoun/scripts/git/Kurs-Pythona/exercises/class_exercises/example_data.csv\", delimiter=',', names=True)\n",
    "dane = np.genfromtxt(\"/home/kkingstoun/scripts/git/Kurs-Pythona/exercises/class_exercises/example_data.csv\", delimiter=\",\",  dtype=str)\n",
    "# Wyciągnięcie nagłówków\n",
    "headers = dane[0, :]  # pierwszy wiersz\n",
    "\n",
    "print(\"Nazwy kolumn:\")\n",
    "print(headers)"
   ]
  },
  {
   "cell_type": "code",
   "execution_count": null,
   "metadata": {},
   "outputs": [],
   "source": [
    "data.dtype.names"
   ]
  },
  {
   "cell_type": "code",
   "execution_count": null,
   "metadata": {},
   "outputs": [],
   "source": [
    "# Ustalenie liczby kolumn (z wyłączeniem pierwszej kolumny z numerami subiektów)\n",
    "num_columns = data.shape[1] - 1  # odejmujemy 1, aby pominąć pierwszą kolumnę\n",
    "\n",
    "# Tworzenie wykresów dla każdej kolumny z wyjątkiem pierwszej kolumny z numerami subiektów\n",
    "for i in range(1, num_columns + 1):  # zaczynamy od 1, aby pominąć pierwszą kolumnę\n",
    "    plt.figure(figsize=(10, 2))\n",
    "    plt.plot(data[:, i], label=f'Kolumna {i}')\n",
    "    plt.title(f'Wykres dla kolumny {i}')\n",
    "    plt.xlabel('Indeks próbki')\n",
    "    plt.ylabel('Wartość')\n",
    "    plt.legend()\n",
    "    plt.show()"
   ]
  }
 ],
 "metadata": {
  "kernelspec": {
   "display_name": "numba_sprawna",
   "language": "python",
   "name": "python3"
  },
  "language_info": {
   "codemirror_mode": {
    "name": "ipython",
    "version": 3
   },
   "file_extension": ".py",
   "mimetype": "text/x-python",
   "name": "python",
   "nbconvert_exporter": "python",
   "pygments_lexer": "ipython3",
   "version": "3.10.8"
  }
 },
 "nbformat": 4,
 "nbformat_minor": 2
}
