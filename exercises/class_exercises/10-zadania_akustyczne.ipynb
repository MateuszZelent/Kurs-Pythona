{
 "cells": [
  {
   "cell_type": "code",
   "execution_count": null,
   "metadata": {},
   "outputs": [],
   "source": [
    "!pip install ipympl \n",
    "import matplotlib\n",
    "%matplotlib widget"
   ]
  },
  {
   "cell_type": "markdown",
   "metadata": {},
   "source": [
    "# Wczytywanie plików WAV w Pythonie\n",
    "W tym wstępie nauczymy się, jak wczytywać pliki audio w formacie WAV za pomocą Pythona. Wykorzystamy do tego bibliotekę scipy.io.wavfile. Oto przykładowy kod:"
   ]
  },
  {
   "cell_type": "code",
   "execution_count": null,
   "metadata": {},
   "outputs": [],
   "source": [
    "import numpy as np\n",
    "import matplotlib.pyplot as plt\n",
    "from scipy.io import wavfile\n",
    "from scipy.fft import fft, fftfreq\n",
    "\n",
    "def load_audio(filename):\n",
    "    sampling, data = wavfile.read(filename)\n",
    "\n",
    "vowel_files = [\"a.wav\"]\n",
    "load_audio(vowel_files[0])\n"
   ]
  },
  {
   "cell_type": "markdown",
   "metadata": {},
   "source": [
    "Wyjaśnienie krok po kroku\n"
   ]
  },
  {
   "cell_type": "markdown",
   "metadata": {},
   "source": [
    "- numpy: Biblioteka do obliczeń numerycznych.\n",
    "- matplotlib.pyplot: Biblioteka do tworzenia wykresów.\n",
    "- scipy.io.wavfile: Moduł do pracy z plikami audio w formacie WAV.\n",
    "- scipy.fft: Moduł do wykonywania szybkiej transformacji Fouriera."
   ]
  },
  {
   "cell_type": "markdown",
   "metadata": {},
   "source": [
    "- load_audio: Funkcja przyjmująca nazwę pliku jako argument.\n",
    "- wavfile.read(filename): Funkcja odczytująca plik WAV. Zwraca dwie wartości:\n",
    "- sampling: Częstotliwość próbkowania (ilość próbek na sekundę).\n",
    "- data: Dane audio jako tablica NumPy."
   ]
  },
  {
   "cell_type": "markdown",
   "metadata": {},
   "source": [
    "Po wykonaniu powyższego kodu funkcja load_audio wczyta plik audio \"a.wav\" i zapisze częstotliwość próbkowania oraz dane audio do zmiennych sampling i data. Możemy je dalej wykorzystać do analizy sygnału, np. wykonania analizy Fouriera i wizualizacji wyników."
   ]
  },
  {
   "cell_type": "code",
   "execution_count": null,
   "metadata": {},
   "outputs": [],
   "source": [
    "import numpy as np\n",
    "import matplotlib.pyplot as plt\n",
    "from scipy.io import wavfile\n",
    "from scipy.fft import fft, fftfreq\n"
   ]
  },
  {
   "cell_type": "markdown",
   "metadata": {},
   "source": [
    "## Zadanie 1. Analiza samogłosek:\n",
    "\n",
    "Nagraj przez mikrofon w telefonie (używając dyktafonu) swoje wypowiedzi zawierające różne samogłoski: \"a\", \"e\", \"i\", \"o\", \"u\".\n",
    "\n",
    "Upewnij się, że każda samogłoska jest wyraźnie wymówiona i oddzielona krótką przerwą.\n",
    "\n",
    "Wykonaj analizę Fouriera dla każdej nagranej samogłoski.\n",
    "\n",
    "Porównaj uzyskane widma częstotliwościowe i opisz różnice w charakterystyce częstotliwościowej poszczególnych samogłosek.\n",
    "\n"
   ]
  },
  {
   "cell_type": "markdown",
   "metadata": {},
   "source": [
    "# Zadanie 2: Analiza tonu i intonacji:\n",
    "\n",
    "Nagraj przez mikrofon w telefonie (używając dyktafonu) swoje wypowiedzi w różnych tonach: niski, średni, wysoki.\n",
    "\n",
    "Każdy ton powinien być nagrany oddzielnie, przez co najmniej 5 sekund.\n",
    "\n",
    "Wykonaj analizę Fouriera dla każdego nagranego tonu.\n",
    "\n",
    "Porównaj widma częstotliwościowe dla niskiego, średniego i wysokiego tonu. Opisz, jak zmieniają się częstotliwości dominujące wraz ze zmianą tonu głosu."
   ]
  },
  {
   "cell_type": "markdown",
   "metadata": {},
   "source": [
    "# Zadanie 3: Analiza głosek spółgłoskowych\n",
    "\n",
    "Nagraj przez mikrofon w telefonie (używając dyktafonu) swoje wypowiedzi zawierające różne spółgłoski: \"b\", \"d\", \"g\", \"m\", \"n\".\n",
    "\n",
    "Każda spółgłoska powinna być wyraźnie wymówiona w oddzielnych nagraniach.\n",
    "\n",
    "Wykonaj analizę Fouriera dla każdej nagranej spółgłoski.\n",
    "\n",
    "Porównaj uzyskane widma częstotliwościowe i opisz różnice w charakterystyce częstotliwościowej poszczególnych spółgłosek."
   ]
  },
  {
   "cell_type": "markdown",
   "metadata": {},
   "source": [
    "# Zadanie 4: Analiza dźwięków muzycznych\n",
    "\n",
    "Nagraj przez mikrofon w telefonie (używając dyktafonu) swoje śpiewanie pojedynczych dźwięków muzycznych (nut): C, E, G.\n",
    "\n",
    "Każdy dźwięk powinien być śpiewany przez co najmniej 5 sekund.\n",
    "\n",
    "Wykonaj analizę Fouriera dla każdego nagranego dźwięku muzycznego.\n",
    "\n",
    "Porównaj uzyskane widma częstotliwościowe dla dźwięków C, E, G. Opisz, jakie częstotliwości dominują w poszczególnych nagraniach i jak się one różnią między sobą."
   ]
  },
  {
   "cell_type": "code",
   "execution_count": null,
   "metadata": {},
   "outputs": [],
   "source": [
    "#PRZYKŁAD ZAPISANIA DŹWIĘKU\n",
    "\n",
    "from scipy.io import wavfile\n",
    "\n",
    "sample_rate, data = wavfile.read(file_path)\n",
    "filtered_file_path = f'./filtered_sound.wav'\n",
    "wavfile.write(filtered_file_path, sample_rate, data_filtered.astype(np.int16))\n"
   ]
  },
  {
   "cell_type": "markdown",
   "metadata": {},
   "source": [
    "# Zadanie 5: Filtrowanie dźwięku\n",
    "\n",
    "Nagraj przez mikrofon w telefonie (używając dyktafonu) swoje śpiewanie pojedynczych dźwięków muzycznych (nut): C, E, G.\n",
    "\n",
    "Każdy dźwięk powinien być śpiewany przez co najmniej 5 sekund.\n",
    "\n",
    "Wykonaj analizę Fouriera dla każdego nagranego dźwięku muzycznego a następnie odfiltruj wybrane częstltiwości pozostawiając tylko jedną częstotliwość. Porównaj jak brzmią dane (wybrane) pojedyńcze częstotliwośći.  \n"
   ]
  },
  {
   "cell_type": "markdown",
   "metadata": {},
   "source": [
    "# Zadanie 6: 2D zapis dźwięku\n",
    "\n",
    "Nagraj przez mikrofon śpiwając ciągle dźwięki a w róznej tonacji. Wykonaj analizę dźwięku dla każdej częstltiwości, wyznacz spektrum dla każdego dźwięku i przedstaw go w formie 2D mapy kolorów zależności częstotliwości od czasu.\n"
   ]
  }
 ],
 "metadata": {
  "kernelspec": {
   "display_name": "numba_sprawna",
   "language": "python",
   "name": "python3"
  },
  "language_info": {
   "codemirror_mode": {
    "name": "ipython",
    "version": 3
   },
   "file_extension": ".py",
   "mimetype": "text/x-python",
   "name": "python",
   "nbconvert_exporter": "python",
   "pygments_lexer": "ipython3",
   "version": "3.10.8"
  }
 },
 "nbformat": 4,
 "nbformat_minor": 2
}
