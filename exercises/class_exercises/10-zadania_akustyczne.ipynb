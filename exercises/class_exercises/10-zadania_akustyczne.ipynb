{
 "cells": [
  {
   "cell_type": "code",
   "execution_count": 1,
   "metadata": {},
   "outputs": [
    {
     "name": "stdout",
     "output_type": "stream",
     "text": [
      "Requirement already satisfied: ipympl in /home/kkingstoun/software/anaconda3/envs/numba_sprawna/lib/python3.10/site-packages (0.9.2)\n",
      "Requirement already satisfied: traitlets<6 in /home/kkingstoun/software/anaconda3/envs/numba_sprawna/lib/python3.10/site-packages (from ipympl) (5.7.1)\n",
      "Requirement already satisfied: numpy in /home/kkingstoun/software/anaconda3/envs/numba_sprawna/lib/python3.10/site-packages (from ipympl) (1.23.5)\n",
      "Requirement already satisfied: matplotlib<4,>=3.4.0 in /home/kkingstoun/software/anaconda3/envs/numba_sprawna/lib/python3.10/site-packages (from ipympl) (3.6.2)\n",
      "Requirement already satisfied: ipython<9 in /home/kkingstoun/software/anaconda3/envs/numba_sprawna/lib/python3.10/site-packages (from ipympl) (8.8.0)\n",
      "Requirement already satisfied: ipython-genutils in /home/kkingstoun/software/anaconda3/envs/numba_sprawna/lib/python3.10/site-packages (from ipympl) (0.2.0)\n",
      "Requirement already satisfied: ipywidgets<9,>=7.6.0 in /home/kkingstoun/software/anaconda3/envs/numba_sprawna/lib/python3.10/site-packages (from ipympl) (7.6.5)\n",
      "Requirement already satisfied: pillow in /home/kkingstoun/software/anaconda3/envs/numba_sprawna/lib/python3.10/site-packages (from ipympl) (9.3.0)\n",
      "Requirement already satisfied: pygments>=2.4.0 in /home/kkingstoun/software/anaconda3/envs/numba_sprawna/lib/python3.10/site-packages (from ipython<9->ipympl) (2.11.2)\n",
      "Requirement already satisfied: backcall in /home/kkingstoun/software/anaconda3/envs/numba_sprawna/lib/python3.10/site-packages (from ipython<9->ipympl) (0.2.0)\n",
      "Requirement already satisfied: pickleshare in /home/kkingstoun/software/anaconda3/envs/numba_sprawna/lib/python3.10/site-packages (from ipython<9->ipympl) (0.7.5)\n",
      "Requirement already satisfied: decorator in /home/kkingstoun/software/anaconda3/envs/numba_sprawna/lib/python3.10/site-packages (from ipython<9->ipympl) (5.1.1)\n",
      "Requirement already satisfied: stack-data in /home/kkingstoun/software/anaconda3/envs/numba_sprawna/lib/python3.10/site-packages (from ipython<9->ipympl) (0.2.0)\n",
      "Requirement already satisfied: pexpect>4.3 in /home/kkingstoun/software/anaconda3/envs/numba_sprawna/lib/python3.10/site-packages (from ipython<9->ipympl) (4.8.0)\n",
      "Requirement already satisfied: prompt-toolkit<3.1.0,>=3.0.11 in /home/kkingstoun/software/anaconda3/envs/numba_sprawna/lib/python3.10/site-packages (from ipython<9->ipympl) (3.0.36)\n",
      "Requirement already satisfied: jedi>=0.16 in /home/kkingstoun/software/anaconda3/envs/numba_sprawna/lib/python3.10/site-packages (from ipython<9->ipympl) (0.18.1)\n",
      "Requirement already satisfied: matplotlib-inline in /home/kkingstoun/software/anaconda3/envs/numba_sprawna/lib/python3.10/site-packages (from ipython<9->ipympl) (0.1.6)\n",
      "Requirement already satisfied: jupyterlab-widgets>=1.0.0 in /home/kkingstoun/software/anaconda3/envs/numba_sprawna/lib/python3.10/site-packages (from ipywidgets<9,>=7.6.0->ipympl) (3.0.5)\n",
      "Requirement already satisfied: widgetsnbextension~=3.5.0 in /home/kkingstoun/software/anaconda3/envs/numba_sprawna/lib/python3.10/site-packages (from ipywidgets<9,>=7.6.0->ipympl) (3.5.2)\n",
      "Requirement already satisfied: ipykernel>=4.5.1 in /home/kkingstoun/software/anaconda3/envs/numba_sprawna/lib/python3.10/site-packages (from ipywidgets<9,>=7.6.0->ipympl) (6.19.2)\n",
      "Requirement already satisfied: nbformat>=4.2.0 in /home/kkingstoun/software/anaconda3/envs/numba_sprawna/lib/python3.10/site-packages (from ipywidgets<9,>=7.6.0->ipympl) (5.7.0)\n",
      "Requirement already satisfied: pyparsing>=2.2.1 in /home/kkingstoun/software/anaconda3/envs/numba_sprawna/lib/python3.10/site-packages (from matplotlib<4,>=3.4.0->ipympl) (3.0.9)\n",
      "Requirement already satisfied: fonttools>=4.22.0 in /home/kkingstoun/software/anaconda3/envs/numba_sprawna/lib/python3.10/site-packages (from matplotlib<4,>=3.4.0->ipympl) (4.25.0)\n",
      "Requirement already satisfied: kiwisolver>=1.0.1 in /home/kkingstoun/software/anaconda3/envs/numba_sprawna/lib/python3.10/site-packages (from matplotlib<4,>=3.4.0->ipympl) (1.4.4)\n",
      "Requirement already satisfied: cycler>=0.10 in /home/kkingstoun/software/anaconda3/envs/numba_sprawna/lib/python3.10/site-packages (from matplotlib<4,>=3.4.0->ipympl) (0.11.0)\n",
      "Requirement already satisfied: contourpy>=1.0.1 in /home/kkingstoun/software/anaconda3/envs/numba_sprawna/lib/python3.10/site-packages (from matplotlib<4,>=3.4.0->ipympl) (1.0.5)\n",
      "Requirement already satisfied: packaging>=20.0 in /home/kkingstoun/software/anaconda3/envs/numba_sprawna/lib/python3.10/site-packages (from matplotlib<4,>=3.4.0->ipympl) (22.0)\n",
      "Requirement already satisfied: python-dateutil>=2.7 in /home/kkingstoun/software/anaconda3/envs/numba_sprawna/lib/python3.10/site-packages (from matplotlib<4,>=3.4.0->ipympl) (2.8.2)\n",
      "Requirement already satisfied: jupyter-client>=6.1.12 in /home/kkingstoun/software/anaconda3/envs/numba_sprawna/lib/python3.10/site-packages (from ipykernel>=4.5.1->ipywidgets<9,>=7.6.0->ipympl) (7.4.8)\n",
      "Requirement already satisfied: pyzmq>=17 in /home/kkingstoun/software/anaconda3/envs/numba_sprawna/lib/python3.10/site-packages (from ipykernel>=4.5.1->ipywidgets<9,>=7.6.0->ipympl) (23.2.0)\n",
      "Requirement already satisfied: tornado>=6.1 in /home/kkingstoun/software/anaconda3/envs/numba_sprawna/lib/python3.10/site-packages (from ipykernel>=4.5.1->ipywidgets<9,>=7.6.0->ipympl) (6.2)\n",
      "Requirement already satisfied: psutil in /home/kkingstoun/software/anaconda3/envs/numba_sprawna/lib/python3.10/site-packages (from ipykernel>=4.5.1->ipywidgets<9,>=7.6.0->ipympl) (5.9.0)\n",
      "Requirement already satisfied: debugpy>=1.0 in /home/kkingstoun/software/anaconda3/envs/numba_sprawna/lib/python3.10/site-packages (from ipykernel>=4.5.1->ipywidgets<9,>=7.6.0->ipympl) (1.5.1)\n",
      "Requirement already satisfied: nest-asyncio in /home/kkingstoun/software/anaconda3/envs/numba_sprawna/lib/python3.10/site-packages (from ipykernel>=4.5.1->ipywidgets<9,>=7.6.0->ipympl) (1.5.6)\n",
      "Requirement already satisfied: comm>=0.1.1 in /home/kkingstoun/software/anaconda3/envs/numba_sprawna/lib/python3.10/site-packages (from ipykernel>=4.5.1->ipywidgets<9,>=7.6.0->ipympl) (0.1.2)\n",
      "Requirement already satisfied: parso<0.9.0,>=0.8.0 in /home/kkingstoun/software/anaconda3/envs/numba_sprawna/lib/python3.10/site-packages (from jedi>=0.16->ipython<9->ipympl) (0.8.3)\n",
      "Requirement already satisfied: jupyter-core in /home/kkingstoun/software/anaconda3/envs/numba_sprawna/lib/python3.10/site-packages (from nbformat>=4.2.0->ipywidgets<9,>=7.6.0->ipympl) (5.1.1)\n",
      "Requirement already satisfied: jsonschema>=2.6 in /home/kkingstoun/software/anaconda3/envs/numba_sprawna/lib/python3.10/site-packages (from nbformat>=4.2.0->ipywidgets<9,>=7.6.0->ipympl) (4.17.3)\n",
      "Requirement already satisfied: fastjsonschema in /home/kkingstoun/software/anaconda3/envs/numba_sprawna/lib/python3.10/site-packages (from nbformat>=4.2.0->ipywidgets<9,>=7.6.0->ipympl) (2.16.2)\n",
      "Requirement already satisfied: ptyprocess>=0.5 in /home/kkingstoun/software/anaconda3/envs/numba_sprawna/lib/python3.10/site-packages (from pexpect>4.3->ipython<9->ipympl) (0.7.0)\n",
      "Requirement already satisfied: wcwidth in /home/kkingstoun/software/anaconda3/envs/numba_sprawna/lib/python3.10/site-packages (from prompt-toolkit<3.1.0,>=3.0.11->ipython<9->ipympl) (0.2.5)\n",
      "Requirement already satisfied: six>=1.5 in /home/kkingstoun/software/anaconda3/envs/numba_sprawna/lib/python3.10/site-packages (from python-dateutil>=2.7->matplotlib<4,>=3.4.0->ipympl) (1.16.0)\n",
      "Requirement already satisfied: notebook>=4.4.1 in /home/kkingstoun/software/anaconda3/envs/numba_sprawna/lib/python3.10/site-packages (from widgetsnbextension~=3.5.0->ipywidgets<9,>=7.6.0->ipympl) (6.5.2)\n",
      "Requirement already satisfied: pure-eval in /home/kkingstoun/software/anaconda3/envs/numba_sprawna/lib/python3.10/site-packages (from stack-data->ipython<9->ipympl) (0.2.2)\n",
      "Requirement already satisfied: asttokens in /home/kkingstoun/software/anaconda3/envs/numba_sprawna/lib/python3.10/site-packages (from stack-data->ipython<9->ipympl) (2.0.5)\n",
      "Requirement already satisfied: executing in /home/kkingstoun/software/anaconda3/envs/numba_sprawna/lib/python3.10/site-packages (from stack-data->ipython<9->ipympl) (0.8.3)\n",
      "Requirement already satisfied: pyrsistent!=0.17.0,!=0.17.1,!=0.17.2,>=0.14.0 in /home/kkingstoun/software/anaconda3/envs/numba_sprawna/lib/python3.10/site-packages (from jsonschema>=2.6->nbformat>=4.2.0->ipywidgets<9,>=7.6.0->ipympl) (0.18.0)\n",
      "Requirement already satisfied: attrs>=17.4.0 in /home/kkingstoun/software/anaconda3/envs/numba_sprawna/lib/python3.10/site-packages (from jsonschema>=2.6->nbformat>=4.2.0->ipywidgets<9,>=7.6.0->ipympl) (22.1.0)\n",
      "Requirement already satisfied: entrypoints in /home/kkingstoun/software/anaconda3/envs/numba_sprawna/lib/python3.10/site-packages (from jupyter-client>=6.1.12->ipykernel>=4.5.1->ipywidgets<9,>=7.6.0->ipympl) (0.4)\n",
      "Requirement already satisfied: platformdirs>=2.5 in /home/kkingstoun/software/anaconda3/envs/numba_sprawna/lib/python3.10/site-packages (from jupyter-core->nbformat>=4.2.0->ipywidgets<9,>=7.6.0->ipympl) (2.5.2)\n",
      "Requirement already satisfied: jinja2 in /home/kkingstoun/software/anaconda3/envs/numba_sprawna/lib/python3.10/site-packages (from notebook>=4.4.1->widgetsnbextension~=3.5.0->ipywidgets<9,>=7.6.0->ipympl) (3.1.2)\n",
      "Requirement already satisfied: argon2-cffi in /home/kkingstoun/software/anaconda3/envs/numba_sprawna/lib/python3.10/site-packages (from notebook>=4.4.1->widgetsnbextension~=3.5.0->ipywidgets<9,>=7.6.0->ipympl) (21.3.0)\n",
      "Requirement already satisfied: nbconvert>=5 in /home/kkingstoun/software/anaconda3/envs/numba_sprawna/lib/python3.10/site-packages (from notebook>=4.4.1->widgetsnbextension~=3.5.0->ipywidgets<9,>=7.6.0->ipympl) (6.5.4)\n",
      "Requirement already satisfied: Send2Trash>=1.8.0 in /home/kkingstoun/software/anaconda3/envs/numba_sprawna/lib/python3.10/site-packages (from notebook>=4.4.1->widgetsnbextension~=3.5.0->ipywidgets<9,>=7.6.0->ipympl) (1.8.0)\n",
      "Requirement already satisfied: terminado>=0.8.3 in /home/kkingstoun/software/anaconda3/envs/numba_sprawna/lib/python3.10/site-packages (from notebook>=4.4.1->widgetsnbextension~=3.5.0->ipywidgets<9,>=7.6.0->ipympl) (0.17.1)\n",
      "Requirement already satisfied: nbclassic>=0.4.7 in /home/kkingstoun/software/anaconda3/envs/numba_sprawna/lib/python3.10/site-packages (from notebook>=4.4.1->widgetsnbextension~=3.5.0->ipywidgets<9,>=7.6.0->ipympl) (0.4.8)\n",
      "Requirement already satisfied: prometheus-client in /home/kkingstoun/software/anaconda3/envs/numba_sprawna/lib/python3.10/site-packages (from notebook>=4.4.1->widgetsnbextension~=3.5.0->ipywidgets<9,>=7.6.0->ipympl) (0.14.1)\n",
      "Requirement already satisfied: jupyter-server>=1.8 in /home/kkingstoun/software/anaconda3/envs/numba_sprawna/lib/python3.10/site-packages (from nbclassic>=0.4.7->notebook>=4.4.1->widgetsnbextension~=3.5.0->ipywidgets<9,>=7.6.0->ipympl) (1.23.4)\n",
      "Requirement already satisfied: notebook-shim>=0.1.0 in /home/kkingstoun/software/anaconda3/envs/numba_sprawna/lib/python3.10/site-packages (from nbclassic>=0.4.7->notebook>=4.4.1->widgetsnbextension~=3.5.0->ipywidgets<9,>=7.6.0->ipympl) (0.2.2)\n",
      "Requirement already satisfied: pandocfilters>=1.4.1 in /home/kkingstoun/software/anaconda3/envs/numba_sprawna/lib/python3.10/site-packages (from nbconvert>=5->notebook>=4.4.1->widgetsnbextension~=3.5.0->ipywidgets<9,>=7.6.0->ipympl) (1.5.0)\n",
      "Requirement already satisfied: beautifulsoup4 in /home/kkingstoun/software/anaconda3/envs/numba_sprawna/lib/python3.10/site-packages (from nbconvert>=5->notebook>=4.4.1->widgetsnbextension~=3.5.0->ipywidgets<9,>=7.6.0->ipympl) (4.11.1)\n",
      "Requirement already satisfied: nbclient>=0.5.0 in /home/kkingstoun/software/anaconda3/envs/numba_sprawna/lib/python3.10/site-packages (from nbconvert>=5->notebook>=4.4.1->widgetsnbextension~=3.5.0->ipywidgets<9,>=7.6.0->ipympl) (0.5.13)\n",
      "Requirement already satisfied: mistune<2,>=0.8.1 in /home/kkingstoun/software/anaconda3/envs/numba_sprawna/lib/python3.10/site-packages (from nbconvert>=5->notebook>=4.4.1->widgetsnbextension~=3.5.0->ipywidgets<9,>=7.6.0->ipympl) (0.8.4)\n",
      "Requirement already satisfied: jupyterlab-pygments in /home/kkingstoun/software/anaconda3/envs/numba_sprawna/lib/python3.10/site-packages (from nbconvert>=5->notebook>=4.4.1->widgetsnbextension~=3.5.0->ipywidgets<9,>=7.6.0->ipympl) (0.1.2)\n",
      "Requirement already satisfied: MarkupSafe>=2.0 in /home/kkingstoun/software/anaconda3/envs/numba_sprawna/lib/python3.10/site-packages (from nbconvert>=5->notebook>=4.4.1->widgetsnbextension~=3.5.0->ipywidgets<9,>=7.6.0->ipympl) (2.1.1)\n",
      "Requirement already satisfied: lxml in /home/kkingstoun/software/anaconda3/envs/numba_sprawna/lib/python3.10/site-packages (from nbconvert>=5->notebook>=4.4.1->widgetsnbextension~=3.5.0->ipywidgets<9,>=7.6.0->ipympl) (4.9.1)\n",
      "Requirement already satisfied: bleach in /home/kkingstoun/software/anaconda3/envs/numba_sprawna/lib/python3.10/site-packages (from nbconvert>=5->notebook>=4.4.1->widgetsnbextension~=3.5.0->ipywidgets<9,>=7.6.0->ipympl) (4.1.0)\n",
      "Requirement already satisfied: defusedxml in /home/kkingstoun/software/anaconda3/envs/numba_sprawna/lib/python3.10/site-packages (from nbconvert>=5->notebook>=4.4.1->widgetsnbextension~=3.5.0->ipywidgets<9,>=7.6.0->ipympl) (0.7.1)\n",
      "Requirement already satisfied: tinycss2 in /home/kkingstoun/software/anaconda3/envs/numba_sprawna/lib/python3.10/site-packages (from nbconvert>=5->notebook>=4.4.1->widgetsnbextension~=3.5.0->ipywidgets<9,>=7.6.0->ipympl) (1.2.1)\n",
      "Requirement already satisfied: argon2-cffi-bindings in /home/kkingstoun/software/anaconda3/envs/numba_sprawna/lib/python3.10/site-packages (from argon2-cffi->notebook>=4.4.1->widgetsnbextension~=3.5.0->ipywidgets<9,>=7.6.0->ipympl) (21.2.0)\n",
      "Requirement already satisfied: anyio<4,>=3.1.0 in /home/kkingstoun/software/anaconda3/envs/numba_sprawna/lib/python3.10/site-packages (from jupyter-server>=1.8->nbclassic>=0.4.7->notebook>=4.4.1->widgetsnbextension~=3.5.0->ipywidgets<9,>=7.6.0->ipympl) (3.5.0)\n",
      "Requirement already satisfied: websocket-client in /home/kkingstoun/software/anaconda3/envs/numba_sprawna/lib/python3.10/site-packages (from jupyter-server>=1.8->nbclassic>=0.4.7->notebook>=4.4.1->widgetsnbextension~=3.5.0->ipywidgets<9,>=7.6.0->ipympl) (0.58.0)\n",
      "Requirement already satisfied: cffi>=1.0.1 in /home/kkingstoun/software/anaconda3/envs/numba_sprawna/lib/python3.10/site-packages (from argon2-cffi-bindings->argon2-cffi->notebook>=4.4.1->widgetsnbextension~=3.5.0->ipywidgets<9,>=7.6.0->ipympl) (1.15.1)\n",
      "Requirement already satisfied: soupsieve>1.2 in /home/kkingstoun/software/anaconda3/envs/numba_sprawna/lib/python3.10/site-packages (from beautifulsoup4->nbconvert>=5->notebook>=4.4.1->widgetsnbextension~=3.5.0->ipywidgets<9,>=7.6.0->ipympl) (2.3.2.post1)\n",
      "Requirement already satisfied: webencodings in /home/kkingstoun/software/anaconda3/envs/numba_sprawna/lib/python3.10/site-packages (from bleach->nbconvert>=5->notebook>=4.4.1->widgetsnbextension~=3.5.0->ipywidgets<9,>=7.6.0->ipympl) (0.5.1)\n",
      "Requirement already satisfied: idna>=2.8 in /home/kkingstoun/software/anaconda3/envs/numba_sprawna/lib/python3.10/site-packages (from anyio<4,>=3.1.0->jupyter-server>=1.8->nbclassic>=0.4.7->notebook>=4.4.1->widgetsnbextension~=3.5.0->ipywidgets<9,>=7.6.0->ipympl) (3.4)\n",
      "Requirement already satisfied: sniffio>=1.1 in /home/kkingstoun/software/anaconda3/envs/numba_sprawna/lib/python3.10/site-packages (from anyio<4,>=3.1.0->jupyter-server>=1.8->nbclassic>=0.4.7->notebook>=4.4.1->widgetsnbextension~=3.5.0->ipywidgets<9,>=7.6.0->ipympl) (1.2.0)\n",
      "Requirement already satisfied: pycparser in /home/kkingstoun/software/anaconda3/envs/numba_sprawna/lib/python3.10/site-packages (from cffi>=1.0.1->argon2-cffi-bindings->argon2-cffi->notebook>=4.4.1->widgetsnbextension~=3.5.0->ipywidgets<9,>=7.6.0->ipympl) (2.21)\n"
     ]
    }
   ],
   "source": [
    "!pip install ipympl \n",
    "import matplotlib\n",
    "%matplotlib widget"
   ]
  },
  {
   "cell_type": "markdown",
   "metadata": {},
   "source": [
    "# Wczytywanie plików WAV w Pythonie\n",
    "W tym wstępie nauczymy się, jak wczytywać pliki audio w formacie WAV za pomocą Pythona. Wykorzystamy do tego bibliotekę scipy.io.wavfile. Oto przykładowy kod:"
   ]
  },
  {
   "cell_type": "code",
   "execution_count": null,
   "metadata": {},
   "outputs": [],
   "source": [
    "import numpy as np\n",
    "import matplotlib.pyplot as plt\n",
    "from scipy.io import wavfile\n",
    "from scipy.fft import fft, fftfreq\n",
    "\n",
    "def load_audio(filename):\n",
    "    sampling, data = wavfile.read(filename)\n",
    "\n",
    "vowel_files = [\"a.wav\"]\n",
    "load_audio(vowel_files[0])\n"
   ]
  },
  {
   "cell_type": "markdown",
   "metadata": {},
   "source": [
    "Wyjaśnienie krok po kroku\n"
   ]
  },
  {
   "cell_type": "markdown",
   "metadata": {},
   "source": [
    "- numpy: Biblioteka do obliczeń numerycznych.\n",
    "- matplotlib.pyplot: Biblioteka do tworzenia wykresów.\n",
    "- scipy.io.wavfile: Moduł do pracy z plikami audio w formacie WAV.\n",
    "- scipy.fft: Moduł do wykonywania szybkiej transformacji Fouriera."
   ]
  },
  {
   "cell_type": "markdown",
   "metadata": {},
   "source": [
    "- load_audio: Funkcja przyjmująca nazwę pliku jako argument.\n",
    "- wavfile.read(filename): Funkcja odczytująca plik WAV. Zwraca dwie wartości:\n",
    "- sampling: Częstotliwość próbkowania (ilość próbek na sekundę).\n",
    "- data: Dane audio jako tablica NumPy."
   ]
  },
  {
   "cell_type": "markdown",
   "metadata": {},
   "source": [
    "Po wykonaniu powyższego kodu funkcja load_audio wczyta plik audio \"a.wav\" i zapisze częstotliwość próbkowania oraz dane audio do zmiennych sampling i data. Możemy je dalej wykorzystać do analizy sygnału, np. wykonania analizy Fouriera i wizualizacji wyników."
   ]
  },
  {
   "cell_type": "code",
   "execution_count": null,
   "metadata": {},
   "outputs": [],
   "source": [
    "import numpy as np\n",
    "import matplotlib.pyplot as plt\n",
    "from scipy.io import wavfile\n",
    "from scipy.fft import fft, fftfreq\n"
   ]
  },
  {
   "cell_type": "markdown",
   "metadata": {},
   "source": [
    "## Zadanie 1. Analiza samogłosek:\n",
    "\n",
    "Nagraj przez mikrofon w telefonie (używając dyktafonu) swoje wypowiedzi zawierające różne samogłoski: \"a\", \"e\", \"i\", \"o\", \"u\".\n",
    "\n",
    "Upewnij się, że każda samogłoska jest wyraźnie wymówiona i oddzielona krótką przerwą.\n",
    "\n",
    "Wykonaj analizę Fouriera dla każdej nagranej samogłoski.\n",
    "\n",
    "Porównaj uzyskane widma częstotliwościowe i opisz różnice w charakterystyce częstotliwościowej poszczególnych samogłosek.\n",
    "\n"
   ]
  },
  {
   "cell_type": "markdown",
   "metadata": {},
   "source": [
    "# Zadanie 2: Analiza tonu i intonacji:\n",
    "\n",
    "Nagraj przez mikrofon w telefonie (używając dyktafonu) swoje wypowiedzi w różnych tonach: niski, średni, wysoki.\n",
    "\n",
    "Każdy ton powinien być nagrany oddzielnie, przez co najmniej 5 sekund.\n",
    "\n",
    "Wykonaj analizę Fouriera dla każdego nagranego tonu.\n",
    "\n",
    "Porównaj widma częstotliwościowe dla niskiego, średniego i wysokiego tonu. Opisz, jak zmieniają się częstotliwości dominujące wraz ze zmianą tonu głosu."
   ]
  },
  {
   "cell_type": "markdown",
   "metadata": {},
   "source": [
    "# Zadanie 3: Analiza głosek spółgłoskowych\n",
    "\n",
    "Nagraj przez mikrofon w telefonie (używając dyktafonu) swoje wypowiedzi zawierające różne spółgłoski: \"b\", \"d\", \"g\", \"m\", \"n\".\n",
    "\n",
    "Każda spółgłoska powinna być wyraźnie wymówiona w oddzielnych nagraniach.\n",
    "\n",
    "Wykonaj analizę Fouriera dla każdej nagranej spółgłoski.\n",
    "\n",
    "Porównaj uzyskane widma częstotliwościowe i opisz różnice w charakterystyce częstotliwościowej poszczególnych spółgłosek."
   ]
  },
  {
   "cell_type": "markdown",
   "metadata": {},
   "source": [
    "# Zadanie 4: Analiza dźwięków muzycznych\n",
    "\n",
    "Nagraj przez mikrofon w telefonie (używając dyktafonu) swoje śpiewanie pojedynczych dźwięków muzycznych (nut): C, E, G.\n",
    "\n",
    "Każdy dźwięk powinien być śpiewany przez co najmniej 5 sekund.\n",
    "\n",
    "Wykonaj analizę Fouriera dla każdego nagranego dźwięku muzycznego.\n",
    "\n",
    "Porównaj uzyskane widma częstotliwościowe dla dźwięków C, E, G. Opisz, jakie częstotliwości dominują w poszczególnych nagraniach i jak się one różnią między sobą."
   ]
  }
 ],
 "metadata": {
  "kernelspec": {
   "display_name": "numba_sprawna",
   "language": "python",
   "name": "python3"
  },
  "language_info": {
   "codemirror_mode": {
    "name": "ipython",
    "version": 3
   },
   "file_extension": ".py",
   "mimetype": "text/x-python",
   "name": "python",
   "nbconvert_exporter": "python",
   "pygments_lexer": "ipython3",
   "version": "3.10.8"
  }
 },
 "nbformat": 4,
 "nbformat_minor": 2
}
