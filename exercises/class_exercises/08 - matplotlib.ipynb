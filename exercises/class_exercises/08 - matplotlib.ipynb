{
 "cells": [
  {
   "cell_type": "markdown",
   "id": "a3e3f3e2",
   "metadata": {},
   "source": [
    "\n",
    "# Ćwiczenia z wykorzystaniem Matplotlib\n",
    "\n",
    "W ramach tego kursu nauczysz się tworzyć zaawansowane wizualizacje danych przy użyciu Matplotlib.\n"
   ]
  },
  {
   "cell_type": "code",
   "execution_count": 3,
   "id": "4c86e4cb",
   "metadata": {},
   "outputs": [],
   "source": [
    "import numpy as np\n",
    "import matplotlib.pyplot as plt"
   ]
  },
  {
   "cell_type": "markdown",
   "id": "7380b97c",
   "metadata": {},
   "source": [
    "\n",
    "## Ćwiczenie 1: Wygenerowanie funkcji sinus, cosinus i ich sumy\n",
    "\n",
    "Użyj Matplotlib do wygenerowania i wyświetlenia wykresów funkcji sinus, cosinus oraz ich sumy na jednym wykresie.\n"
   ]
  },
  {
   "cell_type": "code",
   "execution_count": null,
   "id": "3ec57148",
   "metadata": {},
   "outputs": [],
   "source": []
  },
  {
   "cell_type": "markdown",
   "id": "002a25dc",
   "metadata": {},
   "source": [
    "\n",
    "## Ćwiczenie 2: Generowanie przesuniętej w fazie sumy funkcji sinus i cosinus\n",
    "\n",
    "Zmodyfikuj poprzedni kod, aby suma funkcji sinus i cosinus była przesunięta w fazie o \\( \\pi/4 \\).\n"
   ]
  },
  {
   "cell_type": "code",
   "execution_count": null,
   "id": "7b44d647",
   "metadata": {},
   "outputs": [],
   "source": []
  },
  {
   "cell_type": "markdown",
   "id": "392c4df3",
   "metadata": {},
   "source": [
    "## Cwiczenie 3: Wykorzystanie subplotów do prezentacji funkcji matematycznych\n",
    "\n",
    "Stwórz trzy subplots pionowo: pierwszy dla funkcji sinus, drugi dla cosinus, trzeci dla ich sumy oraz sumy ich kwadratów. Każdy wykres powinien mieć odpowiednie etykiety, podpisy osi, siatkę i legendę."
   ]
  },
  {
   "cell_type": "code",
   "execution_count": null,
   "id": "42839182",
   "metadata": {},
   "outputs": [],
   "source": []
  },
  {
   "cell_type": "markdown",
   "id": "ddc67a65",
   "metadata": {},
   "source": [
    "## Ćwiczenie 5: Wykresy z parametrami linii i punktami danych\n",
    "\n",
    "twórz wykres, który będzie zawierał dwie funkcje: \\( e^{-x} \\) i \\( \\log(x+1) \\). Użyj różnych stylów linii, kolorów i markerów dla każdej z funkcji. Dodaj legendę oraz odpowiednie etykiety dla osi."
   ]
  },
  {
   "cell_type": "code",
   "execution_count": null,
   "id": "dcd42762",
   "metadata": {},
   "outputs": [],
   "source": []
  },
  {
   "cell_type": "markdown",
   "id": "5083bf33",
   "metadata": {},
   "source": [
    "## Ćwiczenie 6: Wykresy punktowe (Scatter Plots)\n",
    "\n",
    "Stwórz wykres punktowy przedstawiający zależności między dwoma zestawami danych. \n",
    "\n",
    "Użyj różnych kolorów dla punktów w zależności od ich wartości. \n",
    "\n",
    "Dodaj kolorową legendę, która pomoże zrozumieć zależności wartości.\n",
    "\n",
    "Dla uzyskania efektu kolorystycznego dodaj parametr alpha=0.5 - transparentność. "
   ]
  },
  {
   "cell_type": "markdown",
   "id": "a6cc0fd6",
   "metadata": {},
   "source": [
    "W funkcji ```scatter()``` z Matplotlib, parametry c (color) i s (size) są wykorzystywane do kontrolowania kolorów i rozmiarów poszczególnych punktów na wykresie. Umożliwiają one dodanie dodatkowej warstwy informacji do wizualizacji danych, co jest szczególnie przydatne przy eksploracji złożonych zbiorów danych.\n",
    "\n",
    "### Parametr c (color):\n",
    "\n",
    "- Opis: Parametr c pozwala na określenie kolorów punktów na wykresie. Można podać pojedynczy kolor dla wszystkich punktów lub listę/serię kolorów, co pozwala na ich indywidualne dostosowanie.\n",
    "- Zastosowanie: Używając c z wartościami numerycznymi i mapą kolorów (cmap), możemy kodować dane numeryczne jako kolory, co ułatwia zrozumienie zależności i rozkładów w danych.\n",
    "\n",
    "### Parametr s (size)\n",
    "- Opis: Parametr s kontroluje rozmiar punktów na wykresie. Podobnie jak w przypadku c, można ustawić stały rozmiar dla wszystkich punktów lub zdefiniować różne rozmiary dla każdego punktu indywidualnie, co może być zależne od innej zmiennej w danych.\n",
    "- Zastosowanie: Rozmiar punktów można wykorzystać do przedstawienia dodatkowego wymiaru danych, na przykład wielkości populacji, wydatków, częstotliwości itp., co pozwala na łatwiejsze wychwycenie ważnych cech w danych."
   ]
  },
  {
   "cell_type": "code",
   "execution_count": null,
   "id": "a10b8145",
   "metadata": {},
   "outputs": [],
   "source": []
  },
  {
   "cell_type": "markdown",
   "id": "3e131178",
   "metadata": {},
   "source": [
    "\n",
    "## Ćwiczenie 7: Wykorzystanie różnych map kolorów do wizualizacji danych 2D\n",
    "\n",
    "Utwórz wykres z użyciem funkcji `imshow()`, na którym pokażesz tę samą macierz danych z wykorzystaniem różnych map kolorów.\n"
   ]
  },
  {
   "cell_type": "code",
   "execution_count": null,
   "id": "aff809f8",
   "metadata": {},
   "outputs": [],
   "source": []
  }
 ],
 "metadata": {
  "kernelspec": {
   "display_name": "numba_sprawna",
   "language": "python",
   "name": "python3"
  },
  "language_info": {
   "codemirror_mode": {
    "name": "ipython",
    "version": 3
   },
   "file_extension": ".py",
   "mimetype": "text/x-python",
   "name": "python",
   "nbconvert_exporter": "python",
   "pygments_lexer": "ipython3",
   "version": "3.10.8"
  }
 },
 "nbformat": 4,
 "nbformat_minor": 5
}
