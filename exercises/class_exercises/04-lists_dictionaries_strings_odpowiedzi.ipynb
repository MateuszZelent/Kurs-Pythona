{
 "cells": [
  {
   "cell_type": "markdown",
   "metadata": {},
   "source": [
    "# Zadanie 1: Formatowanie Stringów\n",
    "\n",
    "Cel: Zapoznanie się z f-stringami oraz podstawowymi operacjami na stringach.\n",
    "\n",
    "Treść: Utwórz zmienną imie przechowującą Twoje imię oraz zmienną wiek przechowującą Twój wiek jako liczbę. Następnie, używając f-stringa, wyświetl komunikat: \n",
    "\n",
    "\"Cześć, nazywam się [Twoje imię] i mam [Twój wiek] lat.\"\n"
   ]
  },
  {
   "cell_type": "code",
   "execution_count": null,
   "metadata": {},
   "outputs": [],
   "source": [
    "imie = \"Jan\"  \n",
    "wiek = 25  \n",
    "komunikat = f\"Cześć, nazywam się {imie} i mam {wiek} lat.\"\n",
    "print(komunikat)"
   ]
  },
  {
   "cell_type": "markdown",
   "metadata": {},
   "source": [
    "# Zadanie 2: Praca z Listami\n",
    "\n",
    "Cel: Zapoznanie się z podstawowymi operacjami na listach: dodawanie elementów, indeksowanie, slicing.\n",
    "\n",
    "Treść: Utwórz listę owoce zawierającą nazwy trzech dowolnych owoców. Dodaj do tej listy jeszcze jeden owoc, a następnie wyświetl pierwszy i ostatni owoc z listy. Na koniec wyświetl środkowy owoc używając slicing.\n"
   ]
  },
  {
   "cell_type": "code",
   "execution_count": null,
   "metadata": {},
   "outputs": [],
   "source": [
    "owoce = [\"jabłko\", \"banan\", \"gruszka\"]\n",
    "owoce.append(\"kiwi\")  \n",
    "print(owoce[0])  \n",
    "print(owoce[-1])  \n",
    "print(owoce[1:-1])  "
   ]
  },
  {
   "cell_type": "markdown",
   "metadata": {},
   "source": [
    "# Zadanie 3: Słowniki i Typy Zmiennych\n",
    "\n",
    "Cel: Zapoznanie się z tworzeniem słowników oraz pracą z różnymi typami danych.\n",
    "\n",
    "Treść: Utwórz słownik osoba, który będzie zawierał klucze: imie, wiek, i hobby, z odpowiednimi wartościami (string, liczba, lista stringów). Następnie dodaj nowy klucz ulubiony_kolor z wartością będącą Twoim ulubionym kolorem. Wyświetl informacje o osobie w przejrzystym formacie."
   ]
  },
  {
   "cell_type": "code",
   "execution_count": null,
   "metadata": {},
   "outputs": [],
   "source": [
    "osoba = {\n",
    "    \"imie\": \"Kasia\",\n",
    "    \"wiek\": 30,\n",
    "    \"hobby\": [\"czytanie\", \"wspinaczka\", \"programowanie\"]\n",
    "}\n",
    "osoba[\"ulubiony_kolor\"] = \"zielony\"\n",
    "for klucz, wartosc in osoba.items():\n",
    "    print(f\"{klucz}: {wartosc}\")\n"
   ]
  },
  {
   "cell_type": "markdown",
   "metadata": {},
   "source": [
    "# Zadanie 4: Zaawansowane Operacje na Stringach\n",
    "\n",
    "Cel: Praktyka manipulacji stringami i zrozumienie bardziej złożonych metod.\n",
    "\n",
    "Treść: Napisz funkcję zmien_litery, która przyjmuje string i zamienia każdą literę na następującą po niej w alfabecie (np. a na b, z na a). Funkcja powinna ignorować znaki niebędące literami i zachować wielkość liter."
   ]
  },
  {
   "cell_type": "code",
   "execution_count": null,
   "metadata": {},
   "outputs": [],
   "source": [
    "def zmien_litery(tekst):\n",
    "    wynik = \"\"\n",
    "    for znak in tekst:\n",
    "            if znak == 'Z':\n",
    "                wynik += 'A'\n",
    "            elif znak == 'z':\n",
    "                wynik += 'a'\n",
    "            else:\n",
    "                wynik += chr(ord(znak) + 1)\n",
    "    return wynik\n",
    "\n",
    "print(zmien_litery(\"AbcdZ zXy!\"))\n"
   ]
  },
  {
   "cell_type": "markdown",
   "metadata": {},
   "source": [
    "# Zadanie 5: Operacje na Listach i Słownikach\n",
    "Cel: Praca z zaawansowanymi strukturami danych i algorytmami.\n",
    "\n",
    "Treść: Napisz funkcję statystyki_slow, która przyjmuje listę słów i zwraca słownik z literami jako kluczami, a jako wartości ilość ich wystąpień we wszystkich słowach. Funkcja powinna ignorować wielkość liter."
   ]
  },
  {
   "cell_type": "code",
   "execution_count": null,
   "metadata": {},
   "outputs": [],
   "source": [
    "def statystyki_slow(slowa):\n",
    "    statystyki = {}\n",
    "    for slowo in slowa:\n",
    "        for litera in slowo.lower():\n",
    "            if litera.isalpha():  # Sprawdzamy, czy znak jest literą\n",
    "                if litera in statystyki:\n",
    "                    statystyki[litera] += 1\n",
    "                else:\n",
    "                    statystyki[litera] = 1\n",
    "    return statystyki\n",
    "\n",
    "print(statystyki_slow([\"Python\", \"Programowanie\", \"Kurs\"]))\n"
   ]
  },
  {
   "cell_type": "markdown",
   "metadata": {},
   "source": [
    "# Zadanie 6: Analiza Danych\n",
    "\n",
    "Cel: Zastosowanie kombinacji typów zmiennych do analizy danych.\n",
    "\n",
    "Treść: Utwórz funkcję srednia_ocen, która przyjmuje słownik, gdzie klucze to nazwy przedmiotów, a wartości to listy ocen. Funkcja powinna zwrócić nowy słownik z nazwami przedmiotów jako klucze i średnią ocen jako wartości.\n"
   ]
  },
  {
   "cell_type": "code",
   "execution_count": null,
   "metadata": {},
   "outputs": [],
   "source": [
    "def srednia_ocen(oceny_przedmiotow):\n",
    "    srednie = {}\n",
    "    for przedmiot, oceny in oceny_przedmiotow.items():\n",
    "        srednie[przedmiot] = sum(oceny) / len(oceny)\n",
    "    return srednie\n",
    "\n",
    "# Przykładowe wywołanie\n",
    "oceny = {\n",
    "    \"Matematyka\": [4, 5, 3, 4],\n",
    "    \"Fizyka\": [5, 5, 4, 4],\n",
    "    \"Informatyka\": [5, 5, 5, 5]\n",
    "}\n",
    "print(srednia_ocen(oceny))\n"
   ]
  },
  {
   "cell_type": "markdown",
   "metadata": {},
   "source": [
    "# Zadanie 7: Grupowanie danych\n",
    "\n",
    "Cel: Zrozumienie operacji grupowania danych i pracy z zagnieżdżonymi strukturami.\n",
    "\n",
    "Treść: Napisz funkcję grupuj_wedlug_dlugosci, która przyjmuje listę słów i zwraca słownik, gdzie klucze to długości słów, a wartości to listy słów o danej długości, posortowane alfabetycznie."
   ]
  },
  {
   "cell_type": "code",
   "execution_count": null,
   "metadata": {},
   "outputs": [],
   "source": [
    "def grupuj_wedlug_dlugosci(slowa):\n",
    "    grupy = {}\n",
    "    for slowo in sorted(slowa):\n",
    "        dlugosc = len(slowo)\n",
    "        if dlugosc not in grupy:\n",
    "            grupy[dlugosc] = [slowo]\n",
    "        else:\n",
    "            grupy[dlugosc].append(slowo)\n",
    "    return grupy\n",
    "\n",
    "print(grupuj_wedlug_dlugosci([\"python\", \"java\", \"c\", \"scala\", \"javascript\"]))\n"
   ]
  },
  {
   "cell_type": "markdown",
   "metadata": {},
   "source": [
    "# Zadanie 8: Wyszukiwanie i sortowanie\n",
    "\n",
    "Cel: Praktyka algorytmów wyszukiwania i sortowania na bardziej zaawansowanym poziomie.\n",
    "\n",
    "Treść: Napisz funkcję sortuj_i_wyszukaj, która przyjmuje listę krotek (nazwa, wiek) i wiek do wyszukania. Funkcja powinna zwrócić posortowaną alfabetycznie listę nazw osób, które mają dokładnie ten wiek."
   ]
  },
  {
   "cell_type": "code",
   "execution_count": null,
   "metadata": {},
   "outputs": [],
   "source": [
    "def sortuj_i_wyszukaj(dane, szukany_wiek):\n",
    "    wyniki = [nazwa for nazwa, wiek in sorted(dane) if wiek == szukany_wiek]\n",
    "    return wyniki\n",
    "\n",
    "dane_osob = [(\"Anna\", 25), (\"Jan\", 20), (\"Kasia\", 25), (\"Piotr\", 30)]\n",
    "print(sortuj_i_wyszukaj(dane_osob, 25))"
   ]
  },
  {
   "cell_type": "markdown",
   "metadata": {},
   "source": [
    "# Zadanie 9: Zagnieżdżone słowniki\n",
    "\n",
    "Cel: Zrozumienie i manipulacja zagnieżdżonymi strukturami danych.\n",
    "\n",
    "Treść: Utwórz funkcję aktualizuj_dane_osob, która przyjmuje słownik z danymi osób (gdzie klucze to identyfikatory, a wartości to słowniki z kluczami imie, wiek, email) oraz słownik zmian. Funkcja powinna zaktualizować dane osob zgodnie z przekazanymi zmianami i zwrócić zaktualizowany słownik."
   ]
  },
  {
   "cell_type": "code",
   "execution_count": null,
   "metadata": {},
   "outputs": [],
   "source": [
    "def aktualizuj_dane_osob(dane, zmiany):\n",
    "    for id_osoby, zmiana in zmiany.items():\n",
    "        if id_osoby in dane:\n",
    "            for klucz, wartosc in zmiana.items():\n",
    "                dane[id_osoby][klucz] = wartosc\n",
    "    return dane\n",
    "\n",
    "\n",
    "dane_osob = {\n",
    "    1: {\"imie\": \"Jan\", \"wiek\": 25, \"email\": \"jan@domena.com\"},\n",
    "    2: {\"imie\": \"Anna\", \"wiek\": 30, \"email\": \"anna@domena.com\"}\n",
    "}\n",
    "zmiany = {\n",
    "    1: {\"email\": \"nowy.jan@domena.com\"},\n",
    "    2: {\"wiek\": 31}\n",
    "}\n",
    "print(aktualizuj_dane_osob(dane_osob, zmiany))\n"
   ]
  },
  {
   "cell_type": "markdown",
   "metadata": {},
   "source": [
    "# Zadanie 10: Filtrowanie danych\n",
    "\n",
    "Cel: Nauka filtrowania danych w kolekcjach za pomocą funkcji.\n",
    "\n",
    "Treść: Napisz funkcję filtruj_ujemne, która przyjmuje listę liczb i zwraca nową listę zawierającą tylko te liczby, które są dodatnie."
   ]
  },
  {
   "cell_type": "code",
   "execution_count": null,
   "metadata": {},
   "outputs": [],
   "source": [
    "def filtruj_ujemne(liczby):\n",
    "    return [liczba for liczba in liczby if liczba > 0]\n",
    "\n",
    "print(filtruj_ujemne([-5, 3, -1, 0, 7, -3]))\n"
   ]
  },
  {
   "cell_type": "markdown",
   "metadata": {},
   "source": [
    "# Zadanie 12: Mapowanie danych\n",
    "\n",
    "Cel: Zapoznanie się z funkcją map i zastosowaniem jej do przekształcania danych w kolekcji.\n",
    "\n",
    "Treść: Napisz funkcję kwadraty_liczb, która przyjmuje listę liczb i zwraca listę kwadratów tych liczb.\n"
   ]
  },
  {
   "cell_type": "code",
   "execution_count": null,
   "metadata": {},
   "outputs": [],
   "source": [
    "def kwadraty_liczb(liczby):\n",
    "    return [liczba**2 for liczba in liczby]\n",
    "\n",
    "print(kwadraty_liczb([1, 2, 3, 4, 5]))\n"
   ]
  },
  {
   "cell_type": "markdown",
   "metadata": {},
   "source": [
    "# Zadanie 13: Zliczanie elementów\n",
    "\n",
    "Cel: Nauka zliczania wystąpień elementów w kolekcji.\n",
    "\n",
    "Treść: Napisz funkcję zlicz_elementy, która przyjmuje listę elementów i zwraca słownik, gdzie klucze to unikalne elementy z listy, a wartości to liczba ich wystąpień."
   ]
  },
  {
   "cell_type": "code",
   "execution_count": null,
   "metadata": {},
   "outputs": [],
   "source": [
    "def zlicz_elementy(elementy):\n",
    "    zliczenia = {}\n",
    "    for element in elementy:\n",
    "        if element in zliczenia:\n",
    "            zliczenia[element] += 1\n",
    "        else:\n",
    "            zliczenia[element] = 1\n",
    "    return zliczenia\n",
    "\n",
    "print(zlicz_elementy([\"a\", \"b\", \"a\", \"c\", \"b\", \"a\"]))\n"
   ]
  }
 ],
 "metadata": {
  "kernelspec": {
   "display_name": "base",
   "language": "python",
   "name": "python3"
  },
  "language_info": {
   "codemirror_mode": {
    "name": "ipython",
    "version": 3
   },
   "file_extension": ".py",
   "mimetype": "text/x-python",
   "name": "python",
   "nbconvert_exporter": "python",
   "pygments_lexer": "ipython3",
   "version": "3.10.13"
  }
 },
 "nbformat": 4,
 "nbformat_minor": 2
}
