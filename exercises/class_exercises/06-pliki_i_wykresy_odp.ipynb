{
 "cells": [
  {
   "cell_type": "markdown",
   "id": "53c38d6b",
   "metadata": {},
   "source": [
    "\n",
    "# Ćwiczenia z plikami CSV i wykresami w Pythonie\n",
    "Te ćwiczenia pomogą Ci praktycznie zastosować wiedzę na temat odczytu, zapisu danych CSV oraz tworzenia wykresów za pomocą `matplotlib`.\n"
   ]
  },
  {
   "cell_type": "markdown",
   "id": "ea0e1a0a",
   "metadata": {},
   "source": [
    "# Krok 1: Generowanie danych"
   ]
  },
  {
   "cell_type": "code",
   "execution_count": null,
   "id": "4423ab11",
   "metadata": {},
   "outputs": [],
   "source": [
    "import numpy as np\n",
    "import csv\n",
    "\n",
    "# Liczba wierszy danych\n",
    "num_rows = 100\n",
    "\n",
    "# Generowanie przykładowych danych\n",
    "data = np.random.rand(num_rows, 3) * 100  # Trzy kolumny danych, wartości od 0 do 100\n",
    "\n",
    "# Dodajemy etykiety kolumn\n",
    "headers = ['Kolumna1', 'Kolumna2', 'Kolumna3']\n",
    "\n",
    "# Ścieżka do pliku CSV\n",
    "file_path = 'przykladowe_dane.csv'\n",
    "\n"
   ]
  },
  {
   "cell_type": "markdown",
   "id": "6a34c357",
   "metadata": {},
   "source": [
    "## Zadanie 1: Zapisz dane do nowego pliku CSV\n",
    "Stwórz funkcję `zapisz_dane`, która zapisze listę list do pliku CSV.\n",
    "\n",
    "# Pamietaj o zastoswaniu prawidłowych nazw zmiennych.\n",
    "\n",
    "Zastosuj nazwy zmiennych data i file_path z kroku 1."
   ]
  },
  {
   "cell_type": "code",
   "execution_count": null,
   "id": "507f9bbe",
   "metadata": {},
   "outputs": [],
   "source": [
    "def zapisz_dane(dane, sciezka):\n",
    "    with open(sciezka, 'w', newline='') as plik:\n",
    "        writer = csv.writer(plik)\n",
    "        # Zapisz nagłówki\n",
    "        writer.writerow(headers)\n",
    "        # Zapisz dane\n",
    "        writer.writerows(dane)\n",
    "    print(f\"Dane zostały zapisane do pliku {sciezka}\")\n",
    "\n",
    "# Przykładowe użycie\n",
    "zapisz_dane(data, file_path)"
   ]
  },
  {
   "cell_type": "markdown",
   "id": "226fb05a",
   "metadata": {},
   "source": [
    "\n",
    "## Zadanie 2: Wczytaj dane z pliku CSV\n",
    "Stwórz funkcję `wczytaj_dane`, która wczyta dane z pliku CSV do listy list, pomiń pierwszy wiersz (nagłówki).\n"
   ]
  },
  {
   "cell_type": "markdown",
   "id": "b385fb44",
   "metadata": {},
   "source": [
    "Aby zwrócić dane funkcja musi zawierać funkcję \n",
    "```python \n",
    "return wynik\n",
    "```\n",
    "\n"
   ]
  },
  {
   "cell_type": "code",
   "execution_count": null,
   "id": "9650cef2",
   "metadata": {},
   "outputs": [
    {
     "name": "stdout",
     "output_type": "stream",
     "text": [
      "[57.21687252 68.94070222 64.57289057 62.76493974 50.98678419 71.81272681\n",
      " 10.02145091 79.59137539 92.74683622 87.8641537  24.20248469 40.88865109\n",
      " 98.85774427 44.55768275 70.56460683 21.35376875 34.08278369 73.02094934\n",
      "  4.49632941 44.50652326  2.67033838 92.43090001 61.37940096  8.41576454\n",
      " 67.45129269 14.63068148 85.22811824 75.33536034 88.9856844  15.16053556\n",
      " 87.57778932 74.35227712 81.19215127 60.88358316 25.92655562 98.82726417\n",
      " 40.00575655 28.24326832 18.07138668 57.97670356 54.8043515  60.83884261\n",
      " 79.45147761 14.18103655 25.23477146 48.91338826 25.09866815 41.17730531\n",
      " 91.07378642  6.04361029 86.24998605 69.03672222 55.910332   63.21730214\n",
      " 80.48434467 66.9452749  70.27354786 80.83537352  0.83327168 80.294211\n",
      " 61.83501713 74.21698666 25.6959014  77.24873238 77.53009653 28.93765277\n",
      " 81.66442609 13.56531845 42.01247705 23.08996949 83.33004125 98.71720316\n",
      " 84.63554867 24.01059615 53.80676366 85.09893575 52.15225824 63.50070723\n",
      " 39.52313799 26.68681141 56.42772959 17.75975017 59.15684215 57.49762934\n",
      " 76.98097266 58.44052934 56.78382162 25.96189251 50.31341311  5.02516412\n",
      " 33.90712844 48.14873517 83.34319595 95.47161339 83.5469335  97.62624912\n",
      " 41.78526592 95.6555271   9.82504806 52.55436429]\n"
     ]
    }
   ],
   "source": [
    "def wczytaj_dane(sciezka):\n",
    "    wynik = []\n",
    "    with open(sciezka, 'r') as plik:\n",
    "        reader = csv.reader(plik)\n",
    "        # Pomiń pierwszy wiersz (nagłówki)\n",
    "        next(reader)\n",
    "        # Wczytaj dane\n",
    "        for wiersz in reader:\n",
    "            # Konwersja tekstowych wartości na liczby zmiennoprzecinkowe\n",
    "            wynik.append([float(wartosc) for wartosc in wiersz])\n",
    "    return wynik\n",
    "\n",
    "# Przykładowe użycie\n",
    "dane = wczytaj_dane(file_path)\n",
    "print(dane[:5])  # Wyświetlenie pierwszych 5 wierszy danych"
   ]
  },
  {
   "cell_type": "markdown",
   "id": "901e9af9",
   "metadata": {},
   "source": []
  },
  {
   "cell_type": "markdown",
   "id": "d67c9127",
   "metadata": {},
   "source": [
    "\n",
    "## Zadanie 3: Wygeneruj wykres liniowy dla jednej kolumny danych\n",
    "Załaduj dane za pomocą wcześniej stworzonej funkcji i stwórz wykres liniowy dla pierwszej kolumny danych.\n"
   ]
  },
  {
   "cell_type": "code",
   "execution_count": null,
   "id": "a94e6f9a",
   "metadata": {},
   "outputs": [],
   "source": [
    "import matplotlib.pyplot as plt\n",
    "\n",
    "def rysuj_wykres():   \n",
    "    dane = wczytaj_dane(\"przykladowe_dane.csv\")\n",
    "    \n",
    "    # Ekstrakcja pierwszej kolumny danych\n",
    "    pierwsza_kolumna = [wiersz[0] for wiersz in dane]\n",
    "    \n",
    "    # Tworzenie wykresu liniowego\n",
    "    plt.figure(figsize=(10, 6))\n",
    "    plt.plot(pierwsza_kolumna, color='blue', marker='o', linestyle='-', linewidth=1, markersize=3)\n",
    "    plt.title('Wykres liniowy pierwszej kolumny danych')\n",
    "    plt.xlabel('Indeks')\n",
    "    plt.ylabel('Wartość')\n",
    "    plt.grid(True)\n",
    "    plt.show()\n",
    "\n",
    "rysuj_wykres()"
   ]
  },
  {
   "cell_type": "markdown",
   "id": "41f569fb",
   "metadata": {},
   "source": [
    "\n",
    "## Zadanie 4: Wygeneruj wykres punktowy (scatter plot) porównujący dwie kolumny danych\n",
    "Załaduj dane i wygeneruj wykres porównujący dwie kolumny danych.\n"
   ]
  },
  {
   "cell_type": "code",
   "execution_count": null,
   "id": "aea3b61f",
   "metadata": {},
   "outputs": [],
   "source": [
    "import matplotlib.pyplot as plt\n",
    "\n",
    "def rysuj_wykres():   \n",
    "    dane = wczytaj_dane(\"przykladowe_dane.csv\")\n",
    "    \n",
    "    # Ekstrakcja pierwszej i drugiej kolumny danych\n",
    "    pierwsza_kolumna = [wiersz[0] for wiersz in dane]\n",
    "    druga_kolumna = [wiersz[1] for wiersz in dane]\n",
    "    \n",
    "    # Tworzenie wykresu punktowego\n",
    "    plt.figure(figsize=(10, 6))\n",
    "    plt.scatter(pierwsza_kolumna, druga_kolumna, color='purple', alpha=0.7)\n",
    "    plt.title('Wykres punktowy porównujący pierwszą i drugą kolumnę')\n",
    "    plt.xlabel('Kolumna 1')\n",
    "    plt.ylabel('Kolumna 2')\n",
    "    plt.grid(True)\n",
    "    plt.show()\n",
    "\n",
    "rysuj_wykres()"
   ]
  },
  {
   "cell_type": "markdown",
   "id": "5cfc2e0e",
   "metadata": {},
   "source": [
    "\n",
    "## Zadanie 5: Stwórz histogram jednej z kolumn\n",
    "Wygeneruj histogram dla wybranej kolumny danych.\n"
   ]
  },
  {
   "cell_type": "markdown",
   "id": "26424a82",
   "metadata": {},
   "source": [
    "```python\n",
    "plt.hist(kolumna, color='green')\n",
    "```"
   ]
  },
  {
   "cell_type": "code",
   "execution_count": null,
   "id": "7c8fa167",
   "metadata": {},
   "outputs": [],
   "source": [
    "import matplotlib.pyplot as plt\n",
    "\n",
    "def rysuj_wykres():   \n",
    "    dane = wczytaj_dane(\"przykladowe_dane.csv\")\n",
    "    \n",
    "    # Ekstrakcja trzeciej kolumny danych\n",
    "    trzecia_kolumna = [wiersz[2] for wiersz in dane]\n",
    "    \n",
    "    # Tworzenie histogramu\n",
    "    plt.figure(figsize=(10, 6))\n",
    "    plt.hist(trzecia_kolumna, bins=20, color='green', alpha=0.7)\n",
    "    plt.title('Histogram trzeciej kolumny danych')\n",
    "    plt.xlabel('Wartość')\n",
    "    plt.ylabel('Częstotliwość')\n",
    "    plt.grid(True)\n",
    "    plt.show()\n",
    "\n",
    "rysuj_wykres()"
   ]
  }
 ],
 "metadata": {
  "kernelspec": {
   "display_name": "numba_sprawna",
   "language": "python",
   "name": "python3"
  },
  "language_info": {
   "codemirror_mode": {
    "name": "ipython",
    "version": 3
   },
   "file_extension": ".py",
   "mimetype": "text/x-python",
   "name": "python",
   "nbconvert_exporter": "python",
   "pygments_lexer": "ipython3",
   "version": "3.10.8"
  }
 },
 "nbformat": 4,
 "nbformat_minor": 5
}
