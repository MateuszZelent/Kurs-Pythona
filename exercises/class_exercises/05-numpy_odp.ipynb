{
 "cells": [
  {
   "cell_type": "markdown",
   "metadata": {},
   "source": [
    "# Dokumentacja: \n",
    "\n",
    "https://numpy.org/doc/2.2/user/basics.indexing.html\n",
    "\n",
    "#Liczby losowe typu int:\n",
    "\n",
    "https://numpy.org/doc/stable/reference/random/generated/numpy.random.randint.html\n",
    "\n",
    "#Suma liczb:\n",
    "\n",
    "https://numpy.org/doc/stable/reference/generated/numpy.sum.html"
   ]
  },
  {
   "cell_type": "code",
   "execution_count": 1,
   "metadata": {},
   "outputs": [],
   "source": [
    "import numpy as np"
   ]
  },
  {
   "cell_type": "markdown",
   "metadata": {},
   "source": [
    "# Zadanie 1: Tworzenie tablic\n",
    "Zadanie: Stwórz tablicę jednowymiarową zawierającą liczby od 1 do 10.\n"
   ]
  },
  {
   "cell_type": "code",
   "execution_count": null,
   "metadata": {},
   "outputs": [],
   "source": [
    "def zad1():\n",
    "    # Tworzę tablicę od 1 do 10\n",
    "    tablica = np.arange(1, 11)\n",
    "    print(tablica)\n",
    "    return tablica\n",
    "    \n",
    "zad1()"
   ]
  },
  {
   "cell_type": "markdown",
   "metadata": {},
   "source": [
    "# Zadanie 2: Operacje na tablicach\n",
    "Zadanie: Oblicz sumę, średnią, oraz odchylenie standardowe elementów tablicy z ćwiczenia 1.\n"
   ]
  },
  {
   "cell_type": "code",
   "execution_count": null,
   "metadata": {},
   "outputs": [],
   "source": [
    "def zad2():\n",
    "    # Tworzę tablicę z zadania 1\n",
    "    tablica = np.arange(1, 11)\n",
    "    \n",
    "    # Obliczam sumę elementów\n",
    "    suma = np.sum(tablica)\n",
    "    \n",
    "    # Obliczam średnią elementów\n",
    "    srednia = np.mean(tablica)\n",
    "    \n",
    "    # Obliczam odchylenie standardowe\n",
    "    odchylenie = np.std(tablica)\n",
    "    \n",
    "    print(f\"Suma: {suma}\")\n",
    "    print(f\"Średnia: {srednia}\")\n",
    "    print(f\"Odchylenie standardowe: {odchylenie}\")\n",
    "    \n",
    "    return suma, srednia, odchylenie\n",
    "        \n",
    "zad2()"
   ]
  },
  {
   "cell_type": "markdown",
   "metadata": {},
   "source": [
    "# Zadanie 3: Przekształcenia tablic\n",
    "Zadanie: Zmień kształt tablicy z ćwiczenia 1 na 2x5."
   ]
  },
  {
   "cell_type": "code",
   "execution_count": null,
   "metadata": {},
   "outputs": [],
   "source": [
    "def zad3():\n",
    "    # Tworzę tablicę z zadania 1\n",
    "    tablica = np.arange(1, 11)\n",
    "    \n",
    "    # Zmieniam kształt na 2x5\n",
    "    tablica_2x5 = tablica.reshape(2, 5)\n",
    "    \n",
    "    print(tablica_2x5)\n",
    "    \n",
    "    return tablica_2x5\n",
    "        \n",
    "zad3()"
   ]
  },
  {
   "cell_type": "markdown",
   "metadata": {},
   "source": [
    "# Zadanie 4: Indeksowanie i wycinanie\n",
    "Zadanie: Z tablicy utworzonej w ćwiczeniu 3 wybierz drugi wiersz"
   ]
  },
  {
   "cell_type": "code",
   "execution_count": null,
   "metadata": {},
   "outputs": [],
   "source": [
    "def zad4():\n",
    "    # Tworzę tablicę z zadania 1\n",
    "    tablica = np.arange(1, 11)\n",
    "    \n",
    "    # Zmieniam kształt na 2x5\n",
    "    tablica_2x5 = tablica.reshape(2, 5)\n",
    "    \n",
    "    # Wybieram drugi wiersz (indeks 1)\n",
    "    drugi_wiersz = tablica_2x5[1]\n",
    "    \n",
    "    print(drugi_wiersz)\n",
    "    \n",
    "    return drugi_wiersz\n",
    "        \n",
    "zad4()"
   ]
  },
  {
   "cell_type": "markdown",
   "metadata": {},
   "source": [
    "# Zadanie 5: Operacje na macierzach\n",
    "Zadanie: Stwórz dwie macierze 3x3 i oblicz ich iloczyn.\n",
    "\n",
    "Skorzystaj z dokumentacji numpy: https://numpy.org/doc/stable/reference/generated/numpy.dot.html"
   ]
  },
  {
   "cell_type": "code",
   "execution_count": null,
   "metadata": {},
   "outputs": [],
   "source": [
    "def zad5():\n",
    "    # Tworzę pierwszą macierz 3x3\n",
    "    macierz1 = np.array([[1, 2, 3], [4, 5, 6], [7, 8, 9]])\n",
    "    \n",
    "    # Tworzę drugą macierz 3x3\n",
    "    macierz2 = np.array([[9, 8, 7], [6, 5, 4], [3, 2, 1]])\n",
    "    \n",
    "    # Obliczam iloczyn macierzy (mnożenie macierzy)\n",
    "    iloczyn = np.dot(macierz1, macierz2)\n",
    "    \n",
    "    print(\"Macierz 1:\")\n",
    "    print(macierz1)\n",
    "    print(\"\\nMacierz 2:\")\n",
    "    print(macierz2)\n",
    "    print(\"\\nIloczyn macierzy:\")\n",
    "    print(iloczyn)\n",
    "    \n",
    "    return iloczyn\n",
    "    \n",
    "zad5()"
   ]
  },
  {
   "cell_type": "markdown",
   "metadata": {},
   "source": [
    "# Zadanie 6:  Generowanie danych\n",
    "Zadanie: Utwórz tablicę 3x3 zawierającą losowe wartości z przedziału od 0 do 10.\n"
   ]
  },
  {
   "cell_type": "code",
   "execution_count": null,
   "metadata": {},
   "outputs": [],
   "source": [
    "def zad6():\n",
    "    # Tworzę tablicę 3x3 z losowymi liczbami całkowitymi od 0 do 10\n",
    "    losowa_tablica = np.random.randint(0, 11, size=(3, 3))\n",
    "    \n",
    "    print(losowa_tablica)\n",
    "    \n",
    "    return losowa_tablica\n",
    "\n",
    "zad6()"
   ]
  },
  {
   "cell_type": "markdown",
   "metadata": {},
   "source": [
    "# Zadanie 7: Operacje logiczne\n",
    "Zadanie: Stwórz maskę logiczną dla tablicy z ćwiczenia 7, która identyfikuje wartości większe niż 5."
   ]
  },
  {
   "cell_type": "code",
   "execution_count": null,
   "metadata": {},
   "outputs": [],
   "source": [
    "def zad7():\n",
    "    # Tworzę tablicę 3x3 z losowymi liczbami całkowitymi od 0 do 10\n",
    "    losowa_tablica = np.random.randint(0, 11, size=(3, 3))\n",
    "    \n",
    "    # Tworzę maskę logiczną dla wartości większych niż 5\n",
    "    maska = losowa_tablica > 5\n",
    "    \n",
    "    print(\"Oryginalna tablica:\")\n",
    "    print(losowa_tablica)\n",
    "    print(\"\\nMaska logiczna (wartości > 5):\")\n",
    "    print(maska)\n",
    "    \n",
    "    return losowa_tablica, maska\n",
    "\n",
    "zad7()"
   ]
  },
  {
   "cell_type": "markdown",
   "metadata": {},
   "source": [
    "# Zadanie 8:  Manipulacja danymi\n",
    "Zadanie: Zastąp wszystkie wartości mniejsze niż 5 w tablicy z ćwiczenia 7 wartością -1."
   ]
  },
  {
   "cell_type": "code",
   "execution_count": null,
   "metadata": {},
   "outputs": [],
   "source": [
    "def zad8():\n",
    "    # Tworzę tablicę 3x3 z losowymi liczbami całkowitymi od 0 do 10\n",
    "    losowa_tablica = np.random.randint(0, 11, size=(3, 3))\n",
    "    \n",
    "    print(\"Oryginalna tablica:\")\n",
    "    print(losowa_tablica)\n",
    "    \n",
    "    # Tworzę maskę logiczną dla wartości mniejszych niż 5\n",
    "    maska = losowa_tablica < 5\n",
    "    \n",
    "    # Zastępuję wartości mniejsze niż 5 wartością -1\n",
    "    losowa_tablica[maska] = -1\n",
    "    \n",
    "    print(\"\\nTablica po zastąpieniu wartości < 5 przez -1:\")\n",
    "    print(losowa_tablica)\n",
    "    \n",
    "    return losowa_tablica\n",
    "\n",
    "zad8()"
   ]
  },
  {
   "cell_type": "code",
   "execution_count": null,
   "metadata": {},
   "outputs": [],
   "source": []
  },
  {
   "cell_type": "code",
   "execution_count": null,
   "metadata": {},
   "outputs": [],
   "source": []
  },
  {
   "cell_type": "code",
   "execution_count": null,
   "metadata": {},
   "outputs": [],
   "source": []
  },
  {
   "cell_type": "code",
   "execution_count": null,
   "metadata": {},
   "outputs": [],
   "source": []
  }
 ],
 "metadata": {
  "kernelspec": {
   "display_name": "base",
   "language": "python",
   "name": "python3"
  },
  "language_info": {
   "codemirror_mode": {
    "name": "ipython",
    "version": 3
   },
   "file_extension": ".py",
   "mimetype": "text/x-python",
   "name": "python",
   "nbconvert_exporter": "python",
   "pygments_lexer": "ipython3",
   "version": "3.10.13"
  }
 },
 "nbformat": 4,
 "nbformat_minor": 2
}
