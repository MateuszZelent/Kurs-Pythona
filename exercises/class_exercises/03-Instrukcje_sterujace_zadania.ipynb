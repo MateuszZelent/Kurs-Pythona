{
 "cells": [
  {
   "cell_type": "markdown",
   "metadata": {},
   "source": [
    "# Wskazówki do rozwiązania\n",
    "Do odczytania danych od użytkownika wykorzystaj funkcję `input()`.\n",
    "\n",
    "W zadaniach 1 i 3 użyj operatorów % do sprawdzenia podzielności liczb.\n",
    "\n",
    "W zadaniu 5 użyj `random.randint(1, 100)` do wygenerowania losowej liczby. Pamiętaj o zaimportowaniu modułu random.\n"
   ]
  },
  {
   "cell_type": "markdown",
   "metadata": {
    "vscode": {
     "languageId": "shellscript"
    }
   },
   "source": [
    "# Zadanie 1: Instrukcje warunkowe\n",
    "Napisz program, który przyjmie liczbę całkowitą jako input od użytkownika. \n",
    "\n",
    "Program powinien wyświetlić \"Parzysta\", jeśli liczba jest parzysta, i \"Nieparzysta\" w przeciwnym wypadku.\n",
    "\n",
    "Wartość \"z palca\" od użytkownika przyjmujemy za pomocą:\n",
    "```python\n",
    "\n",
    "liczba = int(input(\"Podaj liczbę: \"))\n",
    "\n",
    "```"
   ]
  },
  {
   "cell_type": "code",
   "execution_count": null,
   "metadata": {},
   "outputs": [],
   "source": []
  },
  {
   "cell_type": "markdown",
   "metadata": {},
   "source": [
    "# Zadanie 2: Pętla while\n",
    "Napisz program, który wykorzystuje pętlę while do wyświetlania liczb od 1 do 10. Po osiągnięciu liczby 10, pętla powinna się zakończyć."
   ]
  },
  {
   "cell_type": "code",
   "execution_count": null,
   "metadata": {},
   "outputs": [],
   "source": []
  },
  {
   "cell_type": "markdown",
   "metadata": {},
   "source": [
    "# Zadanie 3: Pętla for i instrukcje warunkowe\n",
    "Napisz program, który iteruje przez liczby od 1 do 100. Dla każdej liczby:\n",
    "\n",
    "Jeśli liczba jest podzielna przez 3, wyświetl \"Fizz\".\n",
    "\n",
    "Jeśli liczba jest podzielna przez 5, wyświetl \"Buzz\".\n",
    "\n",
    "Jeśli liczba jest podzielna zarówno przez 3, jak i przez 5, wyświetl \"FizzBuzz\".\n",
    "\n",
    "W przeciwnym wypadku, wyświetl samą liczbę."
   ]
  },
  {
   "cell_type": "code",
   "execution_count": null,
   "metadata": {},
   "outputs": [],
   "source": []
  },
  {
   "cell_type": "markdown",
   "metadata": {},
   "source": [
    "# Zadanie 4: Wykorzystanie pętli for do przetwarzania list\n",
    "Napisz program, który zlicza ilość wystąpień poszczególnych elementów w danej liście. Na przykład, dla listy ['a', 'b', 'c', 'a', 'b', 'a'] program powinien wyświetlić:\n",
    "\n",
    "```pyton\n",
    "a - 3\n",
    "b - 2\n",
    "c - 1\n",
    "```"
   ]
  },
  {
   "cell_type": "code",
   "execution_count": 1,
   "metadata": {},
   "outputs": [],
   "source": [
    "lista = ['a', 'b', 'c', 'a', 'b', 'a']\n",
    "licznik = {}\n"
   ]
  },
  {
   "cell_type": "markdown",
   "metadata": {},
   "source": [
    "# Zadanie 5: Pętla while do odgadywania liczby\n",
    "Napisz program, który losowo wybiera liczbę z zakresu od 1 do 100, a następnie prosi użytkownika o jej odgadnięcie. \n",
    "\n",
    "Użytkownik ma nieskończoną ilość prób, a program powinien informować, czy podana liczba jest za duża, za mała, czy prawidłowa. \n",
    "\n",
    "Po odgadnięciu liczby, program kończy działanie."
   ]
  },
  {
   "cell_type": "code",
   "execution_count": 1,
   "metadata": {},
   "outputs": [
    {
     "name": "stdout",
     "output_type": "stream",
     "text": [
      "Zgadnij liczbę od 1 do 100.\n"
     ]
    }
   ],
   "source": [
    "import random\n",
    "\n",
    "losowa_liczba = random.randint(1, 100)\n",
    "zgadnij = 0\n",
    "\n",
    "print(\"Zgadnij liczbę od 1 do 100.\")"
   ]
  },
  {
   "cell_type": "markdown",
   "metadata": {},
   "source": [
    "# Zadanie 6: Kalkulator\n",
    "Napisz prosty kalkulator, który przyjmuje od użytkownika dwa numery oraz operację do wykonania: dodawanie, odejmowanie, mnożenie, dzielenie. \n",
    "\n",
    "Program powinien wykonać odpowiednią operację i wyświetlić wynik. Zapewnij obsługę próby dzielenia przez zero."
   ]
  },
  {
   "cell_type": "code",
   "execution_count": 2,
   "metadata": {},
   "outputs": [],
   "source": [
    "def kalkulator():\n",
    "    num1 = float(input(\"Podaj pierwszy numer: \"))\n",
    "    operacja = input(\"Podaj operację (+, -, *, /): \")\n",
    "    num2 = float(input(\"Podaj drugi numer: \"))\n",
    "\n",
    "kalkulator()"
   ]
  },
  {
   "cell_type": "markdown",
   "metadata": {},
   "source": [
    "# Zadanie 7: Suma liczb w przedziale\n",
    "Napisz program, który oblicza sumę wszystkich liczb całkowitych w przedziale od x do y, gdzie x i y są liczbami podanymi przez użytkownika. \n",
    "\n",
    "Użytkownik może podać x jako większą liczbę od y; program powinien sobie z tym poradzić."
   ]
  },
  {
   "cell_type": "code",
   "execution_count": 3,
   "metadata": {},
   "outputs": [],
   "source": [
    "def suma_przedzialu(x, y):\n",
    "    pass\n",
    "\n",
    "x = int(input(\"Podaj początek przedziału: \"))\n",
    "y = int(input(\"Podaj koniec przedziału: \"))\n",
    "suma_przedzialu(x, y)"
   ]
  },
  {
   "cell_type": "markdown",
   "metadata": {},
   "source": [
    "# Zadanie 8: Sprawdzanie liczby pierwszej - Trudne\n",
    "\n",
    "Napisz funkcję, która przyjmuje liczbę całkowitą i zwraca True jeśli liczba jest pierwsza, a False w przeciwnym przypadku. \n",
    "\n",
    "Następnie, użyj tej funkcji do wyświetlenia wszystkich liczb pierwszych w przedziale od 1 do 100."
   ]
  },
  {
   "cell_type": "markdown",
   "metadata": {},
   "source": [
    "# Podpowiedź:"
   ]
  },
  {
   "cell_type": "markdown",
   "metadata": {},
   "source": [
    "Zadanie 8 dotyczy sprawdzenia, czy dana liczba całkowita jest liczbą pierwszą. Liczba pierwsza to liczba większa niż 1, która ma dokładnie dwa różne dzielniki: 1 i samą siebie. Innymi słowy, liczba pierwsza nie jest podzielna przez żadną inną liczbę poza 1 i samą sobą.\n",
    "\n",
    "### Kluczowe koncepcje matematyczne:\n",
    "\n",
    "1. **Dzielniki**: Liczba \\(a\\) jest dzielnikiem liczby \\(b\\) (innymi słowy, \\(b\\) jest podzielna przez \\(a\\)), jeżeli dzielenie \\(b\\) przez \\(a\\) nie pozostawia reszty. Na przykład, 3 jest dzielnikiem 6, ponieważ \\(6 \\div 3 = 2\\) bez reszty.\n",
    "\n",
    "2. **Liczby pierwsze**: Liczby, które mają dokładnie dwa dzielniki: 1 i samą siebie. Na przykład, 2, 3, 5, 7, 11, 13 są liczbami pierwszymi. 2 jest jedyną parzystą liczbą pierwszą, ponieważ każda inna parzysta liczba jest podzielna przez 2.\n",
    "\n",
    "3. **Testowanie na liczby pierwsze**: Aby stwierdzić, czy liczba \\(n\\) jest pierwsza, można sprawdzić, czy dzieli się ona przez jakąkolwiek liczbę od 2 do \\(n-1\\). Jednakże, z matematycznego punktu widzenia, wystarczy sprawdzić liczby do \\(\\sqrt{n}\\), ponieważ jeśli \\(n\\) ma dzielnik większy niż \\(\\sqrt{n}\\), to musi mieć też dzielnik mniejszy niż \\(\\sqrt{n}\\) (ponieważ dzielniki większe niż \\(\\sqrt{n}\\) są 'partnerami' w mnożeniu z dzielnikami mniejszymi niż \\(\\sqrt{n}\\), a produkt tych partnerów równa się \\(n\\)).\n",
    "\n",
    "### Implementacja:\n",
    "\n",
    "W kontekście zadania, algorytm sprawdzania liczby pierwszej iteruje przez wszystkie liczby od 2 do \\(\\sqrt{n}\\) (zaokrąglając w górę do najbliższej liczby całkowitej). Jeśli \\(n\\) jest podzielne przez którąkolwiek z tych liczb, to nie jest liczbą pierwszą. Jeśli pętla zakończy się bez znalezienia dzielnika, oznacza to, że \\(n\\) jest liczbą pierwszą.\n",
    "\n",
    "Matematyczna efektywność tego podejścia wynika z faktu, że ogranicza ono zakres poszukiwań do niezbędnego minimum, zmniejszając czas potrzebny na przeprowadzenie testu, szczególnie dla dużych liczb.\n",
    " "
   ]
  },
  {
   "cell_type": "markdown",
   "metadata": {},
   "source": [
    "# Zadanie 9: Lista na słownik\n",
    "Napisz program, który przekształca listę krotek w słownik, gdzie pierwszy element krotki jest kluczem, a drugi - wartością.\n",
    "\n",
    "Na przykład, dla listy `[(1, 'a'), (2, 'b'), (3, 'c')]`, wynikowym słownikiem powinno być `{1: 'a', 2: 'b', 3: 'c'}`."
   ]
  },
  {
   "cell_type": "code",
   "execution_count": null,
   "metadata": {},
   "outputs": [],
   "source": []
  },
  {
   "cell_type": "markdown",
   "metadata": {},
   "source": [
    "# Zadanie 10: Rekurencyjne obliczanie silni\n",
    "Napisz funkcję rekurencyjną do obliczania silni z liczby podanej przez użytkownika. \n",
    "Pamiętaj, że silnia z liczby n to iloczyn wszystkich liczb całkowitych dodatnich nie większych niż n (n!)."
   ]
  },
  {
   "cell_type": "markdown",
   "metadata": {},
   "source": [
    "Funkcje rekurencyjne to funkcje, które wywołują same siebie w celu rozwiązania problemu. Rekurencja pozwala na rozkładanie złożonych problemów na mniejsze, bardziej zarządzalne części, co jest szczególnie przydatne w przypadku problemów, które naturalnie nadają się do tego podejścia, takich jak obliczanie silni, przeszukiwanie binarne czy algorytmy sortowania.\n",
    "\n",
    "# Kluczowe cechy funkcji rekurencyjnych:\n",
    "1. Przypadek bazowy: Każda funkcja rekurencyjna musi mieć co najmniej jeden przypadek bazowy, który nie zawiera wywołania rekurencyjnego, aby zapobiec nieskończonej rekurencji. Jest to warunek zakończenia rekurencji.\n",
    "\n",
    "2. Wywołanie rekurencyjne: Funkcja rekurencyjna wywołuje samą siebie z nowym zestawem argumentów, zbliżając się do przypadku bazowego.\n",
    "\n",
    "# Przykład: Obliczanie silni\n",
    "Silnia liczby `n` , oznaczana jako `n!`, jest iloczynem wszystkich dodatnich liczb całkowitych mniejszych lub równych `n`. Na przykład:\n",
    "\n",
    "`5!=5×4×3×2×1=120`\n",
    "\n",
    "Implementacja funkcji rekurencyjnej do obliczania silni w Pythonie:"
   ]
  },
  {
   "cell_type": "code",
   "execution_count": null,
   "metadata": {},
   "outputs": [],
   "source": []
  }
 ],
 "metadata": {
  "kernelspec": {
   "display_name": "base",
   "language": "python",
   "name": "python3"
  },
  "language_info": {
   "codemirror_mode": {
    "name": "ipython",
    "version": 3
   },
   "file_extension": ".py",
   "mimetype": "text/x-python",
   "name": "python",
   "nbconvert_exporter": "python",
   "pygments_lexer": "ipython3",
   "version": "3.10.13"
  }
 },
 "nbformat": 4,
 "nbformat_minor": 2
}
