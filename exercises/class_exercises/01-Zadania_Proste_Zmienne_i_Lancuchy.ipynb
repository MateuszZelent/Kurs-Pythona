{
 "cells": [
  {
   "cell_type": "markdown",
   "metadata": {},
   "source": [
    "# Proste zadania: Zmienne i łańcuchy tekstowe\n",
    "\n",
    "Poniżej znajduje się zestaw 5 zadań dotyczących podstaw Pythona. Zadania ułożone są od najłatwiejszych do nieco trudniejszych, pozwalając stopniowo poznać różne aspekty pracy ze zmiennymi i łańcuchami tekstowymi."
   ]
  },
  {
   "cell_type": "markdown",
   "metadata": {},
   "source": [
    "## Zadanie 1: Prosta arytmetyka\n",
    "\n",
    "Napisz program, który:\n",
    "1. Zdefiniuje dwie zmienne liczbowe: `x = 10` i `y = 3`\n",
    "2. Wyświetli wyniki następujących operacji:\n",
    "   - Suma x + y\n",
    "   - Różnica x - y\n",
    "   - Iloczyn x * y\n",
    "   - Iloraz x / y (dokładny wynik dzielenia)\n",
    "   - Dzielenie całkowitoliczbowe x // y\n",
    "   - Reszta z dzielenia x % y\n",
    "   - x podniesione do potęgi y (x ** y)\n",
    "3. Sprawdź i wyświetl, czy x jest większe od y"
   ]
  },
  {
   "cell_type": "code",
   "execution_count": null,
   "metadata": {},
   "outputs": [],
   "source": [
    "# Miejsce na rozwiązanie zadania 1\n",
    "\n"
   ]
  },
  {
   "cell_type": "markdown",
   "metadata": {},
   "source": [
    "## Zadanie 2: Konwersja typów\n",
    "\n",
    "Napisz program, który:\n",
    "1. Utworzy zmienną `tekst` zawierającą wartość \"3.14\"\n",
    "2. Przekonwertuje zmienną `tekst` na liczbę zmiennoprzecinkową i przypisze do zmiennej `pi`\n",
    "3. Oblicz pole koła o promieniu 5 jednostek używając wzoru π*r² i przypisz wynik do zmiennej `pole`\n",
    "4. Wyświetli tekst: \"Pole koła o promieniu 5 jednostek wynosi X jednostek kwadratowych\", gdzie X to obliczone pole\n",
    "5. Zaokrąglij pole do 2 miejsc po przecinku w wyświetlanym komunikacie"
   ]
  },
  {
   "cell_type": "code",
   "execution_count": null,
   "metadata": {},
   "outputs": [],
   "source": [
    "# Miejsce na rozwiązanie zadania 2\n",
    "\n"
   ]
  },
  {
   "cell_type": "markdown",
   "metadata": {},
   "source": [
    "## Zadanie 3: Manipulacja łańcuchami tekstowymi\n",
    "\n",
    "Pracuj z następującym tekstem: \"Python jest językiem programowania wysokiego poziomu, ogólnego przeznaczenia.\"\n",
    "\n",
    "Napisz program, który:\n",
    "1. Przypisze ten tekst do zmiennej `zdanie`\n",
    "2. Wyświetli długość zdania (liczbę znaków)\n",
    "3. Zamieni wszystkie wystąpienia słowa \"Python\" na \"Python 3\"\n",
    "4. Wyświetli tekst wielkimi literami\n",
    "5. Podzieli zdanie na listę słów i wyświetli trzecie słowo z tej listy\n",
    "6. Sprawdzi, czy fraza \"programowania\" występuje w zdaniu i wyświetli odpowiedni komunikat"
   ]
  },
  {
   "cell_type": "code",
   "execution_count": null,
   "metadata": {},
   "outputs": [],
   "source": [
    "# Miejsce na rozwiązanie zadania 3\n",
    "\n"
   ]
  },
  {
   "cell_type": "markdown",
   "metadata": {},
   "source": [
    "## Zadanie 4: Formatowanie danych osobowych\n",
    "\n",
    "Napisz program, który:\n",
    "1. Poprosi użytkownika (za pomocą funkcji `input()`) o podanie:\n",
    "   - Imienia\n",
    "   - Nazwiska\n",
    "   - Wieku\n",
    "   - Wzrostu w metrach (np. 1.75)\n",
    "2. Na podstawie podanych danych wyświetli sformatowaną wizytówkę:\n",
    "```\n",
    "+----------------------+\n",
    "|       WIZYTÓWKA      |\n",
    "+----------------------+\n",
    "| Imię: Jan            |\n",
    "| Nazwisko: KOWALSKI   |\n",
    "| Wiek: 25 lat         |\n",
    "| Wzrost: 1.75 m       |\n",
    "+----------------------+\n",
    "```\n",
    "\n",
    "Wymagania:\n",
    "- Nazwisko powinno być wyświetlone wielkimi literami\n",
    "- Wzrost powinien być wyświetlony z dokładnością do 2 miejsc po przecinku\n",
    "- Użyj f-stringów do formatowania\n",
    "- Pamiętaj o konwersji wieku na int i wzrostu na float"
   ]
  },
  {
   "cell_type": "code",
   "execution_count": null,
   "metadata": {},
   "outputs": [],
   "source": [
    "# Miejsce na rozwiązanie zadania 4\n",
    "\n"
   ]
  },
  {
   "cell_type": "markdown",
   "metadata": {},
   "source": [
    "## Zadanie 5: Kalkulator czasu\n",
    "\n",
    "Napisz program, który przelicza podaną liczbę sekund na format godziny, minuty i sekundy.\n",
    "\n",
    "1. Poproś użytkownika o podanie liczby sekund (np. 3661)\n",
    "2. Przelicz podaną liczbę sekund na godziny, minuty i pozostałe sekundy\n",
    "   - 1 godzina = 3600 sekund\n",
    "   - 1 minuta = 60 sekund\n",
    "3. Wyświetl wynik w formacie \"X godz. Y min. Z sek.\"\n",
    "4. Dodatkowo, wyświetl ten sam czas w formacie HH:MM:SS (z wiodącymi zerami, np. 01:01:01)\n",
    "\n",
    "Przykład:\n",
    "- Dla 3661 sekund, program powinien wyświetlić:\n",
    "  - \"1 godz. 1 min. 1 sek.\"\n",
    "  - \"01:01:01\"\n",
    "  \n",
    "Wskazówki:\n",
    "- Użyj operatora dzielenia całkowitoliczbowego (//) i operatora modulo (%) do wyodrębnienia godzin, minut i sekund\n",
    "- Pamiętaj o konwersji wprowadzonych danych na typ int\n",
    "- Do formatowania z wiodącymi zerami możesz użyć f-stringa: f\"{liczba:02d}\""
   ]
  },
  {
   "cell_type": "code",
   "execution_count": null,
   "metadata": {},
   "outputs": [],
   "source": [
    "# Miejsce na rozwiązanie zadania 5\n",
    "\n"
   ]
  },
  {
   "cell_type": "code",
   "execution_count": null,
   "metadata": {},
   "outputs": [],
   "source": []
  },
  {
   "cell_type": "code",
   "execution_count": null,
   "metadata": {},
   "outputs": [],
   "source": []
  },
  {
   "cell_type": "code",
   "execution_count": null,
   "metadata": {},
   "outputs": [],
   "source": []
  },
  {
   "cell_type": "code",
   "execution_count": null,
   "metadata": {},
   "outputs": [],
   "source": []
  },
  {
   "cell_type": "code",
   "execution_count": null,
   "metadata": {},
   "outputs": [],
   "source": []
  },
  {
   "cell_type": "code",
   "execution_count": null,
   "metadata": {},
   "outputs": [],
   "source": []
  },
  {
   "cell_type": "code",
   "execution_count": null,
   "metadata": {},
   "outputs": [],
   "source": []
  },
  {
   "cell_type": "code",
   "execution_count": null,
   "metadata": {},
   "outputs": [],
   "source": []
  },
  {
   "cell_type": "code",
   "execution_count": null,
   "metadata": {},
   "outputs": [],
   "source": []
  },
  {
   "cell_type": "code",
   "execution_count": null,
   "metadata": {},
   "outputs": [],
   "source": []
  },
  {
   "cell_type": "code",
   "execution_count": null,
   "metadata": {},
   "outputs": [],
   "source": []
  },
  {
   "cell_type": "code",
   "execution_count": null,
   "metadata": {},
   "outputs": [],
   "source": []
  },
  {
   "cell_type": "code",
   "execution_count": null,
   "metadata": {},
   "outputs": [],
   "source": []
  },
  {
   "cell_type": "code",
   "execution_count": null,
   "metadata": {},
   "outputs": [],
   "source": []
  },
  {
   "cell_type": "code",
   "execution_count": null,
   "metadata": {},
   "outputs": [],
   "source": []
  },
  {
   "cell_type": "code",
   "execution_count": null,
   "metadata": {},
   "outputs": [],
   "source": []
  },
  {
   "cell_type": "code",
   "execution_count": null,
   "metadata": {},
   "outputs": [],
   "source": []
  },
  {
   "cell_type": "code",
   "execution_count": null,
   "metadata": {},
   "outputs": [],
   "source": []
  },
  {
   "cell_type": "markdown",
   "metadata": {},
   "source": [
    "# Rozwiązania\n",
    "\n",
    "Poniżej znajdują się przykładowe rozwiązania zadań. Najpierw spróbuj rozwiązać zadania samodzielnie!"
   ]
  },
  {
   "cell_type": "markdown",
   "metadata": {},
   "source": [
    "## Rozwiązanie Zadania 1"
   ]
  },
  {
   "cell_type": "code",
   "execution_count": 1,
   "metadata": {},
   "outputs": [
    {
     "name": "stdout",
     "output_type": "stream",
     "text": [
      "Suma: 10 + 3 = 13\n",
      "Różnica: 10 - 3 = 7\n",
      "Iloczyn: 10 * 3 = 30\n",
      "Iloraz: 10 / 3 = 3.3333333333333335\n",
      "Dzielenie całkowitoliczbowe: 10 // 3 = 3\n",
      "Reszta z dzielenia: 10 % 3 = 1\n",
      "Potęgowanie: 10 ** 3 = 1000\n",
      "Czy 10 jest większe od 3? True\n"
     ]
    }
   ],
   "source": [
    "# Definiujemy zmienne\n",
    "x = 10\n",
    "y = 3\n",
    "\n",
    "# Wyświetlamy wyniki operacji\n",
    "print(f\"Suma: {x} + {y} = {x + y}\")\n",
    "print(f\"Różnica: {x} - {y} = {x - y}\")\n",
    "print(f\"Iloczyn: {x} * {y} = {x * y}\")\n",
    "print(f\"Iloraz: {x} / {y} = {x / y}\")\n",
    "print(f\"Dzielenie całkowitoliczbowe: {x} // {y} = {x // y}\")\n",
    "print(f\"Reszta z dzielenia: {x} % {y} = {x % y}\")\n",
    "print(f\"Potęgowanie: {x} ** {y} = {x ** y}\")\n",
    "\n",
    "# Sprawdzamy, czy x jest większe od y\n",
    "print(f\"Czy {x} jest większe od {y}? {x > y}\")"
   ]
  },
  {
   "cell_type": "markdown",
   "metadata": {},
   "source": [
    "## Rozwiązanie Zadania 2"
   ]
  },
  {
   "cell_type": "code",
   "execution_count": 3,
   "metadata": {},
   "outputs": [
    {
     "name": "stdout",
     "output_type": "stream",
     "text": [
      "Pole koła o promieniu 5 jednostek wynosi 78.50 jednostek kwadratowych\n"
     ]
    }
   ],
   "source": [
    "# Utworzenie zmiennej tekst\n",
    "tekst = \"3.14\"\n",
    "\n",
    "# Konwersja na liczbę zmiennoprzecinkową\n",
    "pi = float(tekst)\n",
    "\n",
    "# Obliczenie pola koła\n",
    "promien = 5\n",
    "pole = pi * (promien ** 2)\n",
    "\n",
    "# Wyświetlenie wyniku\n",
    "print(f\"Pole koła o promieniu {promien} jednostek wynosi {pole:.2f} jednostek kwadratowych\")"
   ]
  },
  {
   "cell_type": "markdown",
   "metadata": {},
   "source": [
    "## Rozwiązanie Zadania 3"
   ]
  },
  {
   "cell_type": "code",
   "execution_count": 4,
   "metadata": {},
   "outputs": [
    {
     "name": "stdout",
     "output_type": "stream",
     "text": [
      "Długość zdania: 77 znaków\n",
      "Po zamianie: Python 3 jest językiem programowania wysokiego poziomu, ogólnego przeznaczenia.\n",
      "Wielkimi literami: PYTHON JEST JĘZYKIEM PROGRAMOWANIA WYSOKIEGO POZIOMU, OGÓLNEGO PRZEZNACZENIA.\n",
      "Trzecie słowo: językiem\n",
      "Fraza 'programowania' występuje w zdaniu.\n"
     ]
    }
   ],
   "source": [
    "# Przypisanie tekstu do zmiennej\n",
    "zdanie = \"Python jest językiem programowania wysokiego poziomu, ogólnego przeznaczenia.\"\n",
    "\n",
    "# Wyświetlenie długości zdania\n",
    "print(f\"Długość zdania: {len(zdanie)} znaków\")\n",
    "\n",
    "# Zamiana \"Python\" na \"Python 3\"\n",
    "nowe_zdanie = zdanie.replace(\"Python\", \"Python 3\")\n",
    "print(f\"Po zamianie: {nowe_zdanie}\")\n",
    "\n",
    "# Wyświetlenie tekstu wielkimi literami\n",
    "print(f\"Wielkimi literami: {zdanie.upper()}\")\n",
    "\n",
    "# Podział zdania na listę słów i wyświetlenie trzeciego słowa\n",
    "slowa = zdanie.split()\n",
    "print(f\"Trzecie słowo: {slowa[2]}\")\n",
    "\n",
    "# Sprawdzenie, czy fraza \"programowania\" występuje w zdaniu\n",
    "if \"programowania\" in zdanie:\n",
    "    print(\"Fraza 'programowania' występuje w zdaniu.\")\n",
    "else:\n",
    "    print(\"Fraza 'programowania' nie występuje w zdaniu.\")"
   ]
  },
  {
   "cell_type": "markdown",
   "metadata": {},
   "source": [
    "## Rozwiązanie Zadania 4"
   ]
  },
  {
   "cell_type": "code",
   "execution_count": 6,
   "metadata": {},
   "outputs": [
    {
     "name": "stdout",
     "output_type": "stream",
     "text": [
      "+----------------------+\n",
      "|       WIZYTÓWKA      |\n",
      "+----------------------+\n",
      "| Imię: Mateusz         |\n",
      "| Nazwisko: ZELENT     |\n",
      "| Wiek: 11 lat          |\n",
      "| Wzrost: 156.00 m    |\n",
      "+----------------------+\n"
     ]
    }
   ],
   "source": [
    "# Pobranie danych od użytkownika\n",
    "imie = input(\"Podaj imię: \")\n",
    "nazwisko = input(\"Podaj nazwisko: \")\n",
    "wiek = int(input(\"Podaj wiek: \"))\n",
    "wzrost = float(input(\"Podaj wzrost w metrach (np. 1.75): \"))\n",
    "\n",
    "# Wyświetlenie wizytówki\n",
    "print(\"+----------------------+\")\n",
    "print(\"|       WIZYTÓWKA      |\")\n",
    "print(\"+----------------------+\")\n",
    "print(f\"| Imię: {imie:<15} |\")\n",
    "print(f\"| Nazwisko: {nazwisko.upper():<10} |\")\n",
    "print(f\"| Wiek: {wiek} lat{' '*(11-len(str(wiek)))} |\")\n",
    "print(f\"| Wzrost: {wzrost:.2f} m{' '*(9-len(f'{wzrost:.2f}'))} |\")\n",
    "print(\"+----------------------+\")"
   ]
  },
  {
   "cell_type": "markdown",
   "metadata": {},
   "source": [
    "## Rozwiązanie Zadania 5"
   ]
  },
  {
   "cell_type": "code",
   "execution_count": 7,
   "metadata": {},
   "outputs": [
    {
     "name": "stdout",
     "output_type": "stream",
     "text": [
      "0 godz. 0 min. 50 sek.\n",
      "00:00:50\n"
     ]
    }
   ],
   "source": [
    "# Pobranie liczby sekund od użytkownika\n",
    "sekundy = int(input(\"Podaj liczbę sekund: \"))\n",
    "\n",
    "# Obliczenie godzin, minut i sekund\n",
    "godziny = sekundy // 3600  # Liczba pełnych godzin\n",
    "pozostale_sekundy = sekundy % 3600  # Pozostałe sekundy po odjęciu pełnych godzin\n",
    "minuty = pozostale_sekundy // 60  # Liczba pełnych minut\n",
    "sek = pozostale_sekundy % 60  # Pozostałe sekundy po odjęciu pełnych minut\n",
    "\n",
    "# Wyświetlenie wyniku w formacie opisowym\n",
    "print(f\"{godziny} godz. {minuty} min. {sek} sek.\")\n",
    "\n",
    "# Wyświetlenie wyniku w formacie HH:MM:SS\n",
    "print(f\"{godziny:02d}:{minuty:02d}:{sek:02d}\")"
   ]
  }
 ],
 "metadata": {
  "kernelspec": {
   "display_name": "numba_sprawna",
   "language": "python",
   "name": "python3"
  },
  "language_info": {
   "codemirror_mode": {
    "name": "ipython",
    "version": 3
   },
   "file_extension": ".py",
   "mimetype": "text/x-python",
   "name": "python",
   "nbconvert_exporter": "python",
   "pygments_lexer": "ipython3",
   "version": "3.10.8"
  }
 },
 "nbformat": 4,
 "nbformat_minor": 2
}
