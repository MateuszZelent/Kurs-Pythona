{
 "cells": [
  {
   "cell_type": "markdown",
   "metadata": {},
   "source": [
    "# Wskazówki do rozwiązania\n",
    "Do odczytania danych od użytkownika wykorzystaj funkcję `input()`.\n",
    "\n",
    "W zadaniach 1 i 3 użyj operatorów % do sprawdzenia podzielności liczb.\n",
    "\n",
    "W zadaniu 5 użyj `random.randint(1, 100)` do wygenerowania losowej liczby. Pamiętaj o zaimportowaniu modułu random.\n"
   ]
  },
  {
   "cell_type": "code",
   "execution_count": null,
   "metadata": {},
   "outputs": [],
   "source": []
  },
  {
   "cell_type": "markdown",
   "metadata": {
    "vscode": {
     "languageId": "shellscript"
    }
   },
   "source": [
    "# Zadanie 1: Instrukcje warunkowe\n",
    "Napisz program, który przyjmie liczbę całkowitą jako input od użytkownika. \n",
    "\n",
    "Program powinien wyświetlić \"Parzysta\", jeśli liczba jest parzysta, i \"Nieparzysta\" w przeciwnym wypadku.\n",
    "\n",
    "Wartość \"z palca\" od użytkownika przyjmujemy za pomocą:\n",
    "```python\n",
    "\n",
    "liczba = int(input(\"Podaj liczbę: \"))\n",
    "\n",
    "```"
   ]
  },
  {
   "cell_type": "code",
   "execution_count": 7,
   "metadata": {},
   "outputs": [
    {
     "name": "stdout",
     "output_type": "stream",
     "text": [
      "Nieparzysta\n"
     ]
    }
   ],
   "source": [
    "liczba = int(input(\"Podaj liczbę: \"))\n",
    "if liczba % 2 == 0:\n",
    "    print(\"Parzysta\")\n",
    "else:\n",
    "    print(\"Nieparzysta\")\n"
   ]
  },
  {
   "cell_type": "markdown",
   "metadata": {},
   "source": [
    "# Zadanie 2: Pętla while\n",
    "Napisz program, który wykorzystuje pętlę while do wyświetlania liczb od 1 do 10. Po osiągnięciu liczby 10, pętla powinna się zakończyć."
   ]
  },
  {
   "cell_type": "code",
   "execution_count": 8,
   "metadata": {},
   "outputs": [
    {
     "name": "stdout",
     "output_type": "stream",
     "text": [
      "1\n",
      "2\n",
      "3\n",
      "4\n",
      "5\n",
      "6\n",
      "7\n",
      "8\n",
      "9\n",
      "10\n"
     ]
    }
   ],
   "source": [
    "liczba = 1\n",
    "while liczba <= 10:\n",
    "    print(liczba)\n",
    "    liczba += 1\n"
   ]
  },
  {
   "cell_type": "markdown",
   "metadata": {},
   "source": [
    "# Zadanie 3: Pętla for i instrukcje warunkowe\n",
    "Napisz program, który iteruje przez liczby od 1 do 100. Dla każdej liczby:\n",
    "\n",
    "Jeśli liczba jest podzielna przez 3, wyświetl \"Fizz\".\n",
    "\n",
    "Jeśli liczba jest podzielna przez 5, wyświetl \"Buzz\".\n",
    "\n",
    "Jeśli liczba jest podzielna zarówno przez 3, jak i przez 5, wyświetl \"FizzBuzz\".\n",
    "\n",
    "W przeciwnym wypadku, wyświetl samą liczbę."
   ]
  },
  {
   "cell_type": "code",
   "execution_count": 9,
   "metadata": {},
   "outputs": [
    {
     "name": "stdout",
     "output_type": "stream",
     "text": [
      "1\n",
      "2\n",
      "Fizz\n",
      "4\n",
      "Buzz\n",
      "Fizz\n",
      "7\n",
      "8\n",
      "Fizz\n",
      "Buzz\n",
      "11\n",
      "Fizz\n",
      "13\n",
      "14\n",
      "FizzBuzz\n",
      "16\n",
      "17\n",
      "Fizz\n",
      "19\n",
      "Buzz\n",
      "Fizz\n",
      "22\n",
      "23\n",
      "Fizz\n",
      "Buzz\n",
      "26\n",
      "Fizz\n",
      "28\n",
      "29\n",
      "FizzBuzz\n",
      "31\n",
      "32\n",
      "Fizz\n",
      "34\n",
      "Buzz\n",
      "Fizz\n",
      "37\n",
      "38\n",
      "Fizz\n",
      "Buzz\n",
      "41\n",
      "Fizz\n",
      "43\n",
      "44\n",
      "FizzBuzz\n",
      "46\n",
      "47\n",
      "Fizz\n",
      "49\n",
      "Buzz\n",
      "Fizz\n",
      "52\n",
      "53\n",
      "Fizz\n",
      "Buzz\n",
      "56\n",
      "Fizz\n",
      "58\n",
      "59\n",
      "FizzBuzz\n",
      "61\n",
      "62\n",
      "Fizz\n",
      "64\n",
      "Buzz\n",
      "Fizz\n",
      "67\n",
      "68\n",
      "Fizz\n",
      "Buzz\n",
      "71\n",
      "Fizz\n",
      "73\n",
      "74\n",
      "FizzBuzz\n",
      "76\n",
      "77\n",
      "Fizz\n",
      "79\n",
      "Buzz\n",
      "Fizz\n",
      "82\n",
      "83\n",
      "Fizz\n",
      "Buzz\n",
      "86\n",
      "Fizz\n",
      "88\n",
      "89\n",
      "FizzBuzz\n",
      "91\n",
      "92\n",
      "Fizz\n",
      "94\n",
      "Buzz\n",
      "Fizz\n",
      "97\n",
      "98\n",
      "Fizz\n",
      "Buzz\n"
     ]
    }
   ],
   "source": [
    "for liczba in range(1, 101):\n",
    "    if liczba % 3 == 0 and liczba % 5 == 0:\n",
    "        print(\"FizzBuzz\")\n",
    "    elif liczba % 3 == 0:\n",
    "        print(\"Fizz\")\n",
    "    elif liczba % 5 == 0:\n",
    "        print(\"Buzz\")\n",
    "    else:\n",
    "        print(liczba)\n"
   ]
  },
  {
   "cell_type": "markdown",
   "metadata": {},
   "source": [
    "# Zadanie 4: Wykorzystanie pętli for do przetwarzania list\n",
    "Napisz program, który zlicza ilość wystąpień poszczególnych elementów w danej liście. Na przykład, dla listy ['a', 'b', 'c', 'a', 'b', 'a'] program powinien wyświetlić:\n",
    "\n",
    "```pyton\n",
    "a - 3\n",
    "b - 2\n",
    "c - 1\n",
    "```"
   ]
  },
  {
   "cell_type": "code",
   "execution_count": 17,
   "metadata": {},
   "outputs": [
    {
     "name": "stdout",
     "output_type": "stream",
     "text": [
      "a - 3\n",
      "b - 2\n",
      "c - 1\n"
     ]
    }
   ],
   "source": [
    "lista = ['a', 'b', 'c', 'a', 'b', 'a']\n",
    "licznik = {}\n",
    "\n",
    "for element in lista:\n",
    "    if element in licznik:\n",
    "        licznik[element] += 1\n",
    "    else:\n",
    "        licznik[element] = 1\n",
    "\n",
    "for element, ilosc in licznik.items():\n",
    "    print(f\"{element} - {ilosc}\")\n"
   ]
  },
  {
   "cell_type": "markdown",
   "metadata": {},
   "source": [
    "# Zadanie 5: Pętla while do odgadywania liczby\n",
    "Napisz program, który losowo wybiera liczbę z zakresu od 1 do 100, a następnie prosi użytkownika o jej odgadnięcie. \n",
    "\n",
    "Użytkownik ma nieskończoną ilość prób, a program powinien informować, czy podana liczba jest za duża, za mała, czy prawidłowa. \n",
    "\n",
    "Po odgadnięciu liczby, program kończy działanie."
   ]
  },
  {
   "cell_type": "code",
   "execution_count": 16,
   "metadata": {},
   "outputs": [
    {
     "name": "stdout",
     "output_type": "stream",
     "text": [
      "Zgadnij liczbę od 1 do 100.\n",
      "Za mało!\n",
      "Za mało!\n"
     ]
    },
    {
     "ename": "ValueError",
     "evalue": "invalid literal for int() with base 10: ''",
     "output_type": "error",
     "traceback": [
      "\u001b[0;31m---------------------------------------------------------------------------\u001b[0m",
      "\u001b[0;31mValueError\u001b[0m                                Traceback (most recent call last)",
      "Cell \u001b[0;32mIn[16], line 9\u001b[0m\n\u001b[1;32m      6\u001b[0m \u001b[38;5;28mprint\u001b[39m(\u001b[38;5;124m\"\u001b[39m\u001b[38;5;124mZgadnij liczbę od 1 do 100.\u001b[39m\u001b[38;5;124m\"\u001b[39m)\n\u001b[1;32m      8\u001b[0m \u001b[38;5;28;01mwhile\u001b[39;00m zgadnij \u001b[38;5;241m!=\u001b[39m losowa_liczba:\n\u001b[0;32m----> 9\u001b[0m     zgadnij \u001b[38;5;241m=\u001b[39m \u001b[38;5;28;43mint\u001b[39;49m\u001b[43m(\u001b[49m\u001b[38;5;28;43minput\u001b[39;49m\u001b[43m(\u001b[49m\u001b[38;5;124;43m\"\u001b[39;49m\u001b[38;5;124;43mPodaj liczbę: \u001b[39;49m\u001b[38;5;124;43m\"\u001b[39;49m\u001b[43m)\u001b[49m\u001b[43m)\u001b[49m\n\u001b[1;32m     10\u001b[0m     \u001b[38;5;28;01mif\u001b[39;00m zgadnij \u001b[38;5;241m<\u001b[39m losowa_liczba:\n\u001b[1;32m     11\u001b[0m         \u001b[38;5;28mprint\u001b[39m(\u001b[38;5;124m\"\u001b[39m\u001b[38;5;124mZa mało!\u001b[39m\u001b[38;5;124m\"\u001b[39m)\n",
      "\u001b[0;31mValueError\u001b[0m: invalid literal for int() with base 10: ''"
     ]
    }
   ],
   "source": [
    "import random\n",
    "\n",
    "losowa_liczba = random.randint(1, 100)\n",
    "zgadnij = 0\n",
    "\n",
    "print(\"Zgadnij liczbę od 1 do 100.\")\n",
    "\n",
    "while zgadnij != losowa_liczba:\n",
    "    zgadnij = int(input(\"Podaj liczbę: \"))\n",
    "    if zgadnij < losowa_liczba:\n",
    "        print(\"Za mało!\")\n",
    "    elif zgadnij > losowa_liczba:\n",
    "        print(\"Za dużo!\")\n",
    "    else:\n",
    "        print(\"Gratulacje! Zgadłeś.\")\n",
    "\n"
   ]
  },
  {
   "cell_type": "markdown",
   "metadata": {},
   "source": [
    "# Zadanie 6: Kalkulator\n",
    "Napisz prosty kalkulator, który przyjmuje od użytkownika dwa numery oraz operację do wykonania: dodawanie, odejmowanie, mnożenie, dzielenie. \n",
    "\n",
    "Program powinien wykonać odpowiednią operację i wyświetlić wynik. Zapewnij obsługę próby dzielenia przez zero."
   ]
  },
  {
   "cell_type": "code",
   "execution_count": 15,
   "metadata": {},
   "outputs": [
    {
     "name": "stdout",
     "output_type": "stream",
     "text": [
      "Wynik: 22.0\n"
     ]
    }
   ],
   "source": [
    "def kalkulator():\n",
    "    num1 = float(input(\"Podaj pierwszy numer: \"))\n",
    "    operacja = input(\"Podaj operację (+, -, *, /): \")\n",
    "    num2 = float(input(\"Podaj drugi numer: \"))\n",
    "\n",
    "    if operacja == '+':\n",
    "        print(f\"Wynik: {num1 + num2}\")\n",
    "    elif operacja == '-':\n",
    "        print(f\"Wynik: {num1 - num2}\")\n",
    "    elif operacja == '*':\n",
    "        print(f\"Wynik: {num1 * num2}\")\n",
    "    elif operacja == '/':\n",
    "        if num2 == 0:\n",
    "            print(\"Błąd: Dzielenie przez zero!\")\n",
    "        else:\n",
    "            print(f\"Wynik: {num1 / num2}\")\n",
    "    else:\n",
    "        print(\"Niepoprawna operacja!\")\n",
    "\n",
    "kalkulator()\n"
   ]
  },
  {
   "cell_type": "markdown",
   "metadata": {},
   "source": [
    "# Zadanie 7: Suma liczb w przedziale\n",
    "Napisz program, który oblicza sumę wszystkich liczb całkowitych w przedziale od x do y, gdzie x i y są liczbami podanymi przez użytkownika. \n",
    "\n",
    "Użytkownik może podać x jako większą liczbę od y; program powinien sobie z tym poradzić."
   ]
  },
  {
   "cell_type": "code",
   "execution_count": 14,
   "metadata": {},
   "outputs": [
    {
     "name": "stdout",
     "output_type": "stream",
     "text": [
      "Suma liczb w przedziale od 2 do 3 wynosi: 5\n"
     ]
    }
   ],
   "source": [
    "def suma_przedzialu(x, y):\n",
    "    if x > y:\n",
    "        x, y = y, x  # Zamiana wartości, jeśli x jest większe od y\n",
    "    suma = sum(range(x, y + 1))\n",
    "    print(f\"Suma liczb w przedziale od {x} do {y} wynosi: {suma}\")\n",
    "\n",
    "x = int(input(\"Podaj początek przedziału: \"))\n",
    "y = int(input(\"Podaj koniec przedziału: \"))\n",
    "suma_przedzialu(x, y)\n"
   ]
  },
  {
   "cell_type": "markdown",
   "metadata": {},
   "source": [
    "# Zadanie 8: Sprawdzanie liczby pierwszej - Trudne\n",
    "\n",
    "Napisz funkcję, która przyjmuje liczbę całkowitą i zwraca True jeśli liczba jest pierwsza, a False w przeciwnym przypadku. \n",
    "\n",
    "Następnie, użyj tej funkcji do wyświetlenia wszystkich liczb pierwszych w przedziale od 1 do 100."
   ]
  },
  {
   "cell_type": "code",
   "execution_count": null,
   "metadata": {},
   "outputs": [
    {
     "name": "stdout",
     "output_type": "stream",
     "text": [
      "2 jest liczbą pierwszą\n",
      "3 jest liczbą pierwszą\n",
      "5 jest liczbą pierwszą\n",
      "7 jest liczbą pierwszą\n",
      "11 jest liczbą pierwszą\n",
      "13 jest liczbą pierwszą\n",
      "17 jest liczbą pierwszą\n",
      "19 jest liczbą pierwszą\n",
      "23 jest liczbą pierwszą\n",
      "29 jest liczbą pierwszą\n",
      "31 jest liczbą pierwszą\n",
      "37 jest liczbą pierwszą\n",
      "41 jest liczbą pierwszą\n",
      "43 jest liczbą pierwszą\n",
      "47 jest liczbą pierwszą\n",
      "53 jest liczbą pierwszą\n",
      "59 jest liczbą pierwszą\n",
      "61 jest liczbą pierwszą\n",
      "67 jest liczbą pierwszą\n",
      "71 jest liczbą pierwszą\n",
      "73 jest liczbą pierwszą\n",
      "79 jest liczbą pierwszą\n",
      "83 jest liczbą pierwszą\n",
      "89 jest liczbą pierwszą\n",
      "97 jest liczbą pierwszą\n"
     ]
    }
   ],
   "source": [
    "def czy_pierwsza(n):\n",
    "    if n <= 1:\n",
    "        return False\n",
    "    for i in range(2, int(n**0.5) + 1):\n",
    "        if n % i == 0:\n",
    "            return False\n",
    "    return True\n",
    "\n",
    "for liczba in range(1, 101):\n",
    "    if czy_pierwsza(liczba):\n",
    "        print(liczba, \"jest liczbą pierwszą\")\n"
   ]
  },
  {
   "cell_type": "markdown",
   "metadata": {},
   "source": [
    "# Podpowiedź:"
   ]
  },
  {
   "cell_type": "markdown",
   "metadata": {},
   "source": [
    "Zadanie 8 dotyczy sprawdzenia, czy dana liczba całkowita jest liczbą pierwszą. Liczba pierwsza to liczba większa niż 1, która ma dokładnie dwa różne dzielniki: 1 i samą siebie. Innymi słowy, liczba pierwsza nie jest podzielna przez żadną inną liczbę poza 1 i samą sobą.\n",
    "\n",
    "### Kluczowe koncepcje matematyczne:\n",
    "\n",
    "1. **Dzielniki**: Liczba \\(a\\) jest dzielnikiem liczby \\(b\\) (innymi słowy, \\(b\\) jest podzielna przez \\(a\\)), jeżeli dzielenie \\(b\\) przez \\(a\\) nie pozostawia reszty. Na przykład, 3 jest dzielnikiem 6, ponieważ \\(6 \\div 3 = 2\\) bez reszty.\n",
    "\n",
    "2. **Liczby pierwsze**: Liczby, które mają dokładnie dwa dzielniki: 1 i samą siebie. Na przykład, 2, 3, 5, 7, 11, 13 są liczbami pierwszymi. 2 jest jedyną parzystą liczbą pierwszą, ponieważ każda inna parzysta liczba jest podzielna przez 2.\n",
    "\n",
    "3. **Testowanie na liczby pierwsze**: Aby stwierdzić, czy liczba \\(n\\) jest pierwsza, można sprawdzić, czy dzieli się ona przez jakąkolwiek liczbę od 2 do \\(n-1\\). Jednakże, z matematycznego punktu widzenia, wystarczy sprawdzić liczby do \\(\\sqrt{n}\\), ponieważ jeśli \\(n\\) ma dzielnik większy niż \\(\\sqrt{n}\\), to musi mieć też dzielnik mniejszy niż \\(\\sqrt{n}\\) (ponieważ dzielniki większe niż \\(\\sqrt{n}\\) są 'partnerami' w mnożeniu z dzielnikami mniejszymi niż \\(\\sqrt{n}\\), a produkt tych partnerów równa się \\(n\\)).\n",
    "\n",
    "### Implementacja:\n",
    "\n",
    "W kontekście zadania, algorytm sprawdzania liczby pierwszej iteruje przez wszystkie liczby od 2 do \\(\\sqrt{n}\\) (zaokrąglając w górę do najbliższej liczby całkowitej). Jeśli \\(n\\) jest podzielne przez którąkolwiek z tych liczb, to nie jest liczbą pierwszą. Jeśli pętla zakończy się bez znalezienia dzielnika, oznacza to, że \\(n\\) jest liczbą pierwszą.\n",
    "\n",
    "Matematyczna efektywność tego podejścia wynika z faktu, że ogranicza ono zakres poszukiwań do niezbędnego minimum, zmniejszając czas potrzebny na przeprowadzenie testu, szczególnie dla dużych liczb.\n",
    " "
   ]
  },
  {
   "cell_type": "markdown",
   "metadata": {},
   "source": [
    "# Zadanie 9: Lista na słownik\n",
    "Napisz program, który przekształca listę krotek w słownik, gdzie pierwszy element krotki jest kluczem, a drugi - wartością.\n",
    "\n",
    "Na przykład, dla listy `[(1, 'a'), (2, 'b'), (3, 'c')]`, wynikowym słownikiem powinno być `{1: 'a', 2: 'b', 3: 'c'}`."
   ]
  },
  {
   "cell_type": "code",
   "execution_count": 12,
   "metadata": {},
   "outputs": [
    {
     "name": "stdout",
     "output_type": "stream",
     "text": [
      "{1: 'a', 2: 'b', 3: 'c'}\n"
     ]
    }
   ],
   "source": [
    "def lista_na_slownik(lista):\n",
    "    slownik = dict(lista)\n",
    "    print(slownik)\n",
    "\n",
    "lista_krotek = [(1, 'a'), (2, 'b'), (3, 'c')]\n",
    "lista_na_slownik(lista_krotek)\n"
   ]
  },
  {
   "cell_type": "markdown",
   "metadata": {},
   "source": [
    "# Zadanie 10: Rekurencyjne obliczanie silni\n",
    "Napisz funkcję rekurencyjną do obliczania silni z liczby podanej przez użytkownika. \n",
    "Pamiętaj, że silnia z liczby n to iloczyn wszystkich liczb całkowitych dodatnich nie większych niż n (n!)."
   ]
  },
  {
   "cell_type": "code",
   "execution_count": 13,
   "metadata": {},
   "outputs": [
    {
     "name": "stdout",
     "output_type": "stream",
     "text": [
      "Silnia liczby 23 wynosi: 25852016738884976640000\n"
     ]
    }
   ],
   "source": [
    "def silnia(n):\n",
    "    if n == 0:\n",
    "        return 1\n",
    "    else:\n",
    "        return n * silnia(n-1)\n",
    "\n",
    "n = int(input(\"Podaj liczbę, dla której obliczyć silnię: \"))\n",
    "print(f\"Silnia liczby {n} wynosi: {silnia(n)}\")\n"
   ]
  },
  {
   "cell_type": "markdown",
   "metadata": {},
   "source": [
    "Funkcje rekurencyjne to funkcje, które wywołują same siebie w celu rozwiązania problemu. Rekurencja pozwala na rozkładanie złożonych problemów na mniejsze, bardziej zarządzalne części, co jest szczególnie przydatne w przypadku problemów, które naturalnie nadają się do tego podejścia, takich jak obliczanie silni, przeszukiwanie binarne czy algorytmy sortowania.\n",
    "\n",
    "# Kluczowe cechy funkcji rekurencyjnych:\n",
    "1. Przypadek bazowy: Każda funkcja rekurencyjna musi mieć co najmniej jeden przypadek bazowy, który nie zawiera wywołania rekurencyjnego, aby zapobiec nieskończonej rekurencji. Jest to warunek zakończenia rekurencji.\n",
    "\n",
    "2. Wywołanie rekurencyjne: Funkcja rekurencyjna wywołuje samą siebie z nowym zestawem argumentów, zbliżając się do przypadku bazowego.\n",
    "\n",
    "# Przykład: Obliczanie silni\n",
    "Silnia liczby `n` , oznaczana jako `n!`, jest iloczynem wszystkich dodatnich liczb całkowitych mniejszych lub równych `n`. Na przykład:\n",
    "\n",
    "`5!=5×4×3×2×1=120`\n",
    "\n",
    "Implementacja funkcji rekurencyjnej do obliczania silni w Pythonie:"
   ]
  },
  {
   "cell_type": "code",
   "execution_count": null,
   "metadata": {},
   "outputs": [],
   "source": []
  }
 ],
 "metadata": {
  "kernelspec": {
   "display_name": "base",
   "language": "python",
   "name": "python3"
  },
  "language_info": {
   "codemirror_mode": {
    "name": "ipython",
    "version": 3
   },
   "file_extension": ".py",
   "mimetype": "text/x-python",
   "name": "python",
   "nbconvert_exporter": "python",
   "pygments_lexer": "ipython3",
   "version": "3.10.8"
  }
 },
 "nbformat": 4,
 "nbformat_minor": 2
}
