{
 "cells": [
  {
   "cell_type": "markdown",
   "metadata": {},
   "source": [
    "Dzisiejsze zadania pochodzą z kursku SCI UAM: https://lms.amu.edu.pl/sci/course/view.php?id=9"
   ]
  },
  {
   "cell_type": "markdown",
   "metadata": {},
   "source": [
    "## Zadanie 1. Instrukcje warunkowe:\n",
    "\n",
    "Napisz program, który poprosi użytkownika o wartość pomiędzy 0.0 a 1.0. Jeśli wartość jest poza zakresem, wypisz komunikat o błędzie. Jeśli wartość jest między 0.0 a 1.0, wypisz ocenę, korzystając z poniższej tabeli:\n",
    "\n",
    "Wartość   Ocena\n",
    "- \\>= 0.9     5,0\n",
    "- \\>= 0.8     4,5\n",
    "- \\>= 0.7     4,0\n",
    "- \\>= 0.6     3,5\n",
    "- \\>= 0.5     3,0\n",
    "- \\< 0.5     2,0\n",
    "\n",
    "Jeśli użytkownik wprowadzi wartość spoza zakresu, wypisz odpowiedni komunikat o błędzie i zakończ działanie programu. "
   ]
  },
  {
   "cell_type": "markdown",
   "metadata": {},
   "source": [
    "## Zadanie 2. Funkcje:\n",
    "\n",
    "Napisz program, który poprosi użytkownika o podanie liczby godzin oraz stawkę za godzinę pracy, a następnie używając danych wejściowych program obliczy wynagrodzenie. \n",
    "\n",
    "Zapłać normalną stawkę godzinową za maksymalnie 40 godzin i 1,5-krotność stawki godzinowej za wszystkie godziny przepracowane powyżej 40 godzin. \n",
    "\n",
    "Umieść logikę obliczenia wynagrodzenia w funkcji o nazwie computepay(), a następnie użyj tej funkcji. \n",
    "\n",
    "unkcja powinna zwrócić wartość. \n",
    "\n",
    "Powinieneś użyć input() (aby odczytać wprowadzane dane) oraz float() (aby przekonwertować wprowadzony tekst na liczbę). \n",
    "\n",
    "Nie przejmuj się sprawdzaniem błędów przy wprowadzaniu danych przez użytkownika - załóż, że użytkownik wpisuje liczby prawidłowo. \n",
    "\n",
    "Nie nazywaj swojej zmiennej o nazwie sum ani nie używaj funkcji sum().\n",
    "\n",
    "\n",
    "Do przetestowania programu wykorzystaj następujące dane wejściowe:\n",
    "    \n",
    "liczba godzin: 45,\n",
    "stawka godzinowa: 10.50.\n",
    "Obliczone wynagrodzenie powinno wynosić 498.75.\n",
    "\n"
   ]
  },
  {
   "cell_type": "markdown",
   "metadata": {},
   "source": [
    "# Zadanie 3: Słowniki\n",
    "\n",
    "Otwórz plik romeo.txt i odczytaj go wiersz po wierszu. Każdą linię podziel na listę słów, używając metody ```split()```. \n",
    "\n",
    "Program powinien zbudować listę słów. Dla każdego słowa w każdym wierszu sprawdź, czy słowo jest już na liście, a jeśli nie, to dołącz je do listy. \n",
    "\n",
    "Po zakończeniu programu posortuj i wypisz wynikowe słowa w kolejności alfabetycznej.\n",
    "\n",
    "\n",
    "\n",
    "## Podpowiedź:\n",
    "- plik otwórz jako \"./romeo.txt\"; Skorzystaj z funkcji np.genfromtxt(plik, dtype=str,delimeter=\"\\n\")\n",
    "- skorzystaj z funkcji ```split()```. Przykładowe zastosowanie ```string.split(\" \")```;\n",
    "- do sortowania listy skorzystaj z funkcji ```sorted()```. Przykładowe zastosowanie ```sorted(lista)```.\n",
    "- poszukaj materiałów dotyczących słowników i fragmentów kodu gdzie zwiększalismy o jeden \"licznik\" dla danego klucza. \n"
   ]
  },
  {
   "cell_type": "markdown",
   "metadata": {
    "vscode": {
     "languageId": "plaintext"
    }
   },
   "source": [
    "# Zadanie 4: Praca z plikami i parsowanie stringów:\n",
    "\n",
    "\n",
    "Napisz program (funkcję), który odczyta zawartość pliku mbox-short.txt i wskaże kto wysłał największą liczbę wiadomości e-mail. \n",
    "\n",
    "Program powinien wyszukiwać wiersze zaczynające się od 'From ' i wykorzystywać drugie wyrazy z tych wierszy jako osoby, które wysłały wiadomości. \n",
    "\n",
    "W programie utwórz słownik, który odwzorowuje adres e-mail nadawcy na liczbę jego wystąpień w pliku. \n",
    "\n",
    "Po uzupełnieniu słownika, przeszukaj go przy użyciu pętli typu maksymalnej w celu znalezieniu osoby (adresu e-mail), która wystąpiła najwięcej razy.\n",
    "\n",
    "## Podpowiedź:\n",
    "- plik otwórz jako \"./mbox-short.txt\"\n",
    "- skorzystaj z funkcji ```split()```. Przykładowe zastosowanie ```string.split(\"a\")```;\n",
    "- poszukaj materiałów dotyczących słowników i fragmentów kodu gdzie zwiększalismy o jeden \"licznik\" dla danego klucza. \n",
    "\n",
    "## Prawidłowa odpowiedź:\n",
    "\n",
    "\"Najwięcej wiadomości wysłał: cwen@iupui.edu (5 wiadomości)\""
   ]
  },
  {
   "cell_type": "markdown",
   "metadata": {},
   "source": [
    "# Zadanie 5: Analiza FFT sygnału sinusoidalnego\n",
    "\n",
    "Napisz program, który generuje sygnał sinusoidalny o losowej częstotliwości z przedziału od 0 do 1000 Hz. Następnie wykonaj analizę FFT (Fast Fourier Transform) na tym sygnale i wyświetl zarówno sygnał czasowy, jak i jego widmo częstotliwościowe na wykresach za pomocą biblioteki matplotlib (jako jeden rysunek z dwoma pod-wykresami (subplot))."
   ]
  }
 ],
 "metadata": {
  "kernelspec": {
   "display_name": "numba_sprawna",
   "language": "python",
   "name": "python3"
  },
  "language_info": {
   "codemirror_mode": {
    "name": "ipython",
    "version": 3
   },
   "file_extension": ".py",
   "mimetype": "text/x-python",
   "name": "python",
   "nbconvert_exporter": "python",
   "pygments_lexer": "ipython3",
   "version": "3.1.undefined"
  }
 },
 "nbformat": 4,
 "nbformat_minor": 2
}
