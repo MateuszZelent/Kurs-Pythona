{
 "cells": [
  {
   "cell_type": "markdown",
   "metadata": {},
   "source": [
    "Dzisiejsze zadania pochodzą z kursku SCI UAM: https://lms.amu.edu.pl/sci/course/view.php?id=9"
   ]
  },
  {
   "cell_type": "markdown",
   "metadata": {},
   "source": [
    "## Zadanie 1. Instrukcje warunkowe:\n",
    "\n",
    "Napisz program, który poprosi użytkownika o wartość pomiędzy 0.0 a 1.0. Jeśli wartość jest poza zakresem, wypisz komunikat o błędzie. Jeśli wartość jest między 0.0 a 1.0, wypisz ocenę, korzystając z poniższej tabeli:\n",
    "\n",
    "Wartość   Ocena\n",
    "- \\>= 0.9     5,0\n",
    "- \\>= 0.8     4,5\n",
    "- \\>= 0.7     4,0\n",
    "- \\>= 0.6     3,5\n",
    "- \\>= 0.5     3,0\n",
    "- \\< 0.5     2,0\n",
    "\n",
    "Jeśli użytkownik wprowadzi wartość spoza zakresu, wypisz odpowiedni komunikat o błędzie i zakończ działanie programu. "
   ]
  },
  {
   "cell_type": "markdown",
   "metadata": {},
   "source": [
    "## Zadanie 2. Funkcje:\n",
    "\n",
    "Napisz program, który poprosi użytkownika o podanie liczby godzin oraz stawkę za godzinę pracy, a następnie używając danych wejściowych program obliczy wynagrodzenie. \n",
    "\n",
    "Zapłać normalną stawkę godzinową za maksymalnie 40 godzin i 1,5-krotność stawki godzinowej za wszystkie godziny przepracowane powyżej 40 godzin. \n",
    "\n",
    "Umieść logikę obliczenia wynagrodzenia w funkcji o nazwie computepay(), a następnie użyj tej funkcji. \n",
    "\n",
    "unkcja powinna zwrócić wartość. \n",
    "\n",
    "Powinieneś użyć input() (aby odczytać wprowadzane dane) oraz float() (aby przekonwertować wprowadzony tekst na liczbę). \n",
    "\n",
    "Nie przejmuj się sprawdzaniem błędów przy wprowadzaniu danych przez użytkownika - załóż, że użytkownik wpisuje liczby prawidłowo. \n",
    "\n",
    "Nie nazywaj swojej zmiennej o nazwie sum ani nie używaj funkcji sum().\n",
    "\n",
    "\n",
    "Do przetestowania programu wykorzystaj następujące dane wejściowe:\n",
    "    \n",
    "liczba godzin: 45,\n",
    "stawka godzinowa: 10.50.\n",
    "Obliczone wynagrodzenie powinno wynosić 498.75.\n",
    "\n"
   ]
  },
  {
   "cell_type": "markdown",
   "metadata": {},
   "source": [
    "# Zadanie 3: Słowniki i listy\n",
    "\n",
    "Cześć 1: Tworzenie i modyfikacja słownika\n",
    "1. Stwórz słownik oceny_studentow, który będzie przechowywał imiona studentów jako klucze i ich oceny jako wartości.\n",
    "\n",
    "2. Stwórz funkcję, za pomocą której dodasz do słownika następujące pary klucz-wartość:\n",
    "\n",
    "    \"Anna\": 4.5\n",
    "\n",
    "    \"Piotr\": 3.0\n",
    "\n",
    "    \"Maria\": 5.0\n",
    "\n",
    "3. Wypisz ocenę Anny używając klucza.\n",
    "\n",
    "    Zmień ocenę Piotra na 4.0.\n",
    "\n",
    "4. Dodaj nowego studenta \"Tomek\" z oceną 3.5.\n",
    "\n",
    "5. Usuń Marię ze słownika.\n",
    "\n",
    "Cześć 2: Używając słownika z części 1:\n",
    "\n",
    "1. Wypisz wszystkie imiona studentów (klucze).\n",
    "\n",
    "2. Wypisz wszystkie oceny (wartości).\n",
    "\n",
    "3. Wypisz wszystkie pary imię-ocena używając metody items().\n",
    "\n",
    "4. Sprawdź, czy w słowniku jest student o imieniu \"Kasia\" używając metody get().\n",
    "\n",
    "Część 3: Liczenie wystąpień\n",
    "\n",
    "Masz listę owoców: owoce = [\"jabłko\", \"banan\", \"jabłko\", \"pomarańcza\", \"banan\", \"jabłko\"]\n",
    "\n",
    "Napisz kod, który:\n",
    "\n",
    "1. Stworzy słownik licznik_owocow\n",
    "\n",
    "2. Policzy ile razy każdy owoc występuje na liście\n",
    "\n",
    "3. Wypisze wyniki w formacie: \"jabłko: 3\""
   ]
  },
  {
   "cell_type": "markdown",
   "metadata": {
    "vscode": {
     "languageId": "plaintext"
    }
   },
   "source": [
    "# Zadanie 3: Podstawy NumPy\n",
    "\n",
    "## Część A: Tworzenie tablic NumPy\n",
    "\n",
    "1. Zaimportuj bibliotekę NumPy z aliasem `np`.\n",
    "2. Utwórz następujące tablice:\n",
    "    - `tablica_a`: jednowymiarową tablicę z liczb od 0 do 9 używając `np.arange()`\n",
    "    - `tablica_b`: dwuwymiarową tablicę 3x4 wypełnioną zerami używając `np.zeros()`\n",
    "3. Wypisz kształt (shape) każdej z utworzonych tablic.\n",
    "\n",
    "## Część B: Operacje na tablicach\n",
    "\n",
    "Używając tablic z części A:\n",
    "\n",
    "1. Zmień kształt `tablica_a` na tablicę 2x5 i przypisz wynik do `tablica_a_reshaped`.\n",
    "2. Utwórz `tablica_e` jako tablicę liczb od 1 do 10 używając `np.arange()`.\n",
    "3. Utwórz `tablica_f` jako tablicę liczb od 2 do 20 używając `np.arange()` z krokiem 2.\n",
    "4. Wykonaj następujące operacje:\n",
    "    - Dodaj `tablica_e` i `tablica_f`\n",
    "    - Pomnóż `tablica_e` przez 3\n",
    "    - Oblicz pierwiastek kwadratowy z `tablica_f`\n",
    "\n",
    "## Część C: Indeksowanie i wycinki\n",
    "\n",
    "Używając `tablica_g = np.arange(20).reshape(4,5)`:\n",
    "\n",
    "1. Wypisz element z 2. wiersza i 3. kolumny (pamiętaj o indeksowaniu od 0).\n",
    "2. Wypisz cały 3. wiersz.\n",
    "3. Wypisz całą 4. kolumnę.\n",
    "4. Wypisz fragment tablicy zawierający wiersze 1-2 i kolumny 2-4.\n",
    "5. Wypisz co drugi element z pierwszego wiersza.\n",
    "\n",
    "## Część D: Operacje logiczne\n",
    "\n",
    "Używając `tablica_h = np.array([^1])`:\n",
    "\n",
    "1. Znajdź elementy większe od 4.\n",
    "2. Sprawdź, czy wszystkie elementy są większe od 0.\n",
    "3. Sprawdź, czy jakikolwiek element jest większy od 10.\n",
    "4. Znajdź indeksy elementów równych 3.\n",
    "\n",
    "## Podpowiedzi:\n",
    "\n",
    "- Do sprawdzania warunków użyj operatorów: `>`, `<`, `==`, `!=`\n",
    "- Do sprawdzania wszystkich/jakichkolwiek elementów użyj: `np.all()`, `np.any()`\n",
    "- Do znajdowania indeksów użyj: `np.where()`\n",
    "\n",
    "\n",
    "## Oczekiwane wyniki dla części C:\n",
    "\n",
    "```\n",
    "Element (1,2): 7\n",
    "Trzeci wiersz: [10 11 12 13 14]\n",
    "Czwarta kolumna: [ 3  8 13 18]\n",
    "Fragment (1-2, 2-4): [[ 7  8  9]\n",
    "                      [12 13 14]]\n",
    "Co drugi element pierwszego wiersza: [0 2 4]\n",
    "```"
   ]
  },
  {
   "cell_type": "markdown",
   "metadata": {},
   "source": [
    "# Zadanie 5: Analiza FFT sygnału sinusoidalnego\n",
    "\n",
    "Napisz program, który generuje sygnał sinusoidalny o losowej częstotliwości z przedziału od 0 do 1000 Hz. Następnie wykonaj analizę FFT (Fast Fourier Transform) na tym sygnale i wyświetl zarówno sygnał czasowy, jak i jego widmo częstotliwościowe na wykresach za pomocą biblioteki matplotlib (jako jeden rysunek z dwoma pod-wykresami (subplot))."
   ]
  }
 ],
 "metadata": {
  "kernelspec": {
   "display_name": "numba_sprawna",
   "language": "python",
   "name": "python3"
  },
  "language_info": {
   "codemirror_mode": {
    "name": "ipython",
    "version": 3
   },
   "file_extension": ".py",
   "mimetype": "text/x-python",
   "name": "python",
   "nbconvert_exporter": "python",
   "pygments_lexer": "ipython3",
   "version": "3.1.undefined"
  }
 },
 "nbformat": 4,
 "nbformat_minor": 2
}
