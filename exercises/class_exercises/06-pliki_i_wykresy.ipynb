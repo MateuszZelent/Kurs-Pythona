{
 "cells": [
  {
   "cell_type": "markdown",
   "id": "53c38d6b",
   "metadata": {},
   "source": [
    "\n",
    "# Ćwiczenia z plikami CSV i wykresami w Pythonie\n",
    "Te ćwiczenia pomogą Ci praktycznie zastosować wiedzę na temat odczytu, zapisu danych CSV oraz tworzenia wykresów za pomocą `matplotlib`.\n"
   ]
  },
  {
   "cell_type": "markdown",
   "id": "ea0e1a0a",
   "metadata": {},
   "source": [
    "# Krok 1: Generowanie danych"
   ]
  },
  {
   "cell_type": "code",
   "execution_count": null,
   "id": "4423ab11",
   "metadata": {},
   "outputs": [],
   "source": [
    "import numpy as np\n",
    "import csv\n",
    "\n",
    "# Liczba wierszy danych\n",
    "num_rows = 100\n",
    "\n",
    "# Generowanie przykładowych danych\n",
    "data = np.random.rand(num_rows, 3) * 100  # Trzy kolumny danych, wartości od 0 do 100\n",
    "\n",
    "# Dodajemy etykiety kolumn\n",
    "headers = ['Kolumna1', 'Kolumna2', 'Kolumna3']\n",
    "\n",
    "# Ścieżka do pliku CSV\n",
    "file_path = 'przykladowe_dane.csv'\n"
   ]
  },
  {
   "cell_type": "markdown",
   "id": "226fb05a",
   "metadata": {},
   "source": [
    "\n",
    "## Zadanie 1: Wczytaj dane z pliku CSV\n",
    "Stwórz funkcję `wczytaj_dane`, która wczyta dane z pliku CSV do listy list, pomiń pierwszy wiersz (nagłówki).\n"
   ]
  },
  {
   "cell_type": "markdown",
   "id": "b385fb44",
   "metadata": {},
   "source": [
    "Aby zwrócić dane funkcja musi zawierać funkcję \n",
    "```python \n",
    "return wynik\n",
    "```\n",
    "\n"
   ]
  },
  {
   "cell_type": "code",
   "execution_count": null,
   "id": "9650cef2",
   "metadata": {},
   "outputs": [],
   "source": [
    "import csv # Podpowiedz możesz skorzystać CVS lub numpy\n",
    "def wczytaj_dane(sciezka):\n",
    "    # SKASUJ PASS I UZUPELNIJ KOD TUTAJ\n",
    "    pass\n",
    "\n",
    "# Przykładowe użycie\n",
    "dane = wczytaj_dane(file_path)\n",
    "print(dane[:5])  # Wyświetlenie pierwszych 5 wierszy danych\n"
   ]
  },
  {
   "cell_type": "markdown",
   "id": "901e9af9",
   "metadata": {},
   "source": [
    "\n",
    "## Zadanie 2: Zapisz dane do nowego pliku CSV\n",
    "Stwórz funkcję `zapisz_dane`, która zapisze listę list do pliku CSV.\n"
   ]
  },
  {
   "cell_type": "code",
   "execution_count": null,
   "id": "dbad6d5d",
   "metadata": {},
   "outputs": [],
   "source": [
    "\n",
    "def zapisz_dane(dane, sciezka):\n",
    "    # SKASUJ PASS I UZUPELNIJ KOD TUTAJ\n",
    "    pass\n",
    "\n",
    "# Przykładowe użycie\n",
    "zapisz_dane(dane, 'nowy_plik.csv')\n"
   ]
  },
  {
   "cell_type": "markdown",
   "id": "d67c9127",
   "metadata": {},
   "source": [
    "\n",
    "## Zadanie 3: Wygeneruj wykres liniowy dla jednej kolumny danych\n",
    "Załaduj dane za pomocą wcześniej stworzonej funkcji i stwórz wykres liniowy dla pierwszej kolumny danych.\n"
   ]
  },
  {
   "cell_type": "code",
   "execution_count": null,
   "id": "a94e6f9a",
   "metadata": {},
   "outputs": [],
   "source": [
    "\n",
    "import matplotlib.pyplot as plt\n",
    "\n",
    "def rysuj_wykres():   \n",
    "    dane = wczytaj_dane(\"przykladowe_dane.csv\")\n",
    "    # UZUPELNIJ KOD TUTAJ\n",
    "\n",
    "rysuj_wykres()"
   ]
  },
  {
   "cell_type": "markdown",
   "id": "41f569fb",
   "metadata": {},
   "source": [
    "\n",
    "## Zadanie 4: Wygeneruj wykres punktowy (scatter plot) porównujący dwie kolumny danych\n",
    "Załaduj dane i wygeneruj wykres porównujący dwie kolumny danych.\n"
   ]
  },
  {
   "cell_type": "code",
   "execution_count": null,
   "id": "aea3b61f",
   "metadata": {},
   "outputs": [],
   "source": [
    "\n",
    "import matplotlib.pyplot as plt\n",
    "\n",
    "def rysuj_wykres():   \n",
    "    dane = wczytaj_dane(\"przykladowe_dane.csv\")\n",
    "    # UZUPELNIJ KOD TUTAJ\n",
    "\n",
    "rysuj_wykres()"
   ]
  },
  {
   "cell_type": "markdown",
   "id": "5cfc2e0e",
   "metadata": {},
   "source": [
    "\n",
    "## Zadanie 5: Stwórz histogram jednej z kolumn\n",
    "Wygeneruj histogram dla wybranej kolumny danych.\n"
   ]
  },
  {
   "cell_type": "markdown",
   "id": "26424a82",
   "metadata": {},
   "source": [
    "```python\n",
    "plt.hist(kolumna, color='green')\n",
    "```"
   ]
  },
  {
   "cell_type": "code",
   "execution_count": null,
   "id": "7c8fa167",
   "metadata": {},
   "outputs": [],
   "source": [
    "\n",
    "import matplotlib.pyplot as plt\n",
    "\n",
    "def rysuj_wykres():   \n",
    "    dane = wczytaj_dane(\"przykladowe_dane.csv\")\n",
    "    # UZUPELNIJ KOD TUTAJ\n",
    "\n",
    "rysuj_wykres()"
   ]
  }
 ],
 "metadata": {
  "kernelspec": {
   "display_name": "numba_sprawna",
   "language": "python",
   "name": "python3"
  },
  "language_info": {
   "codemirror_mode": {
    "name": "ipython",
    "version": 3
   },
   "file_extension": ".py",
   "mimetype": "text/x-python",
   "name": "python",
   "nbconvert_exporter": "python",
   "pygments_lexer": "ipython3",
   "version": "3.10.8"
  }
 },
 "nbformat": 4,
 "nbformat_minor": 5
}
