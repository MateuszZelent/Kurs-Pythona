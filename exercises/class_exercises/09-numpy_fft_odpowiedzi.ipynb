{
 "cells": [
  {
   "cell_type": "code",
   "execution_count": null,
   "metadata": {},
   "outputs": [],
   "source": [
    "import numpy as np\n",
    "import matplotlib.pyplot as plt\n"
   ]
  },
  {
   "cell_type": "markdown",
   "metadata": {},
   "source": [
    "# Zadanie 1. Generowanie Sygnału Sinusoidalnego:\n",
    "Zadanie: Napisz funkcję do generowania przebiegu sygnału harmonicznego składającego się z wielu sinusów i cosinusów o różnych częstotliwościach i amplitudach.  "
   ]
  },
  {
   "cell_type": "code",
   "execution_count": null,
   "metadata": {},
   "outputs": [],
   "source": [
    "def generate_sinusoidal_signal(fs, duration, frequency, amplitude):\n",
    "    signal =\n",
    "    return signal\n",
    "\n",
    "# Parametry sygnału\n",
    "fs =   # częstotliwość próbkowania [Hz]\n",
    "T =       # czas trwania sygnału [s]\n",
    "f =       # częstotliwość sygnału [Hz]\n",
    "\n",
    "# Generowanie osi czasu\n",
    "t = np.linspace(0, T, int(fs * T), endpoint=False)"
   ]
  },
  {
   "cell_type": "markdown",
   "metadata": {},
   "source": [
    "# Zadanie 2: Pierwsza analiza w domenie częstotiwości:\n",
    "\n",
    "Zaimplementuj funkcję w Pythonie, która wykonuje analizę FFT na podanym sygnale. Następnie wyniki funkcji FFT wyświetl na wykresie. Dodaj podpisy osi x,y itp. \n",
    "\n",
    "Zbadaj jak parametry sinusa, typu sampling, długość sygnału, i amplituda poszczególnych sygnałałów wpływa na spektrum FFT. "
   ]
  },
  {
   "cell_type": "code",
   "execution_count": null,
   "metadata": {},
   "outputs": [],
   "source": [
    "def perform_fft(signal, sampling):\n",
    "\n",
    "    return frequencies, fft_values\n",
    "\n",
    "freq, fft = perform_fft(y,sampling) #sampling - fs\n"
   ]
  },
  {
   "cell_type": "markdown",
   "metadata": {},
   "source": [
    "# Zadanie 3: Pierwsza analiza w domenie częstotiwości:\n",
    "Zapoznaj się z dokumentacją funkcji sinc:\n",
    "\n",
    "https://numpy.org/doc/stable/reference/generated/numpy.sinc.html    \n",
    "    \n",
    "Wygeneruj sygnał sin(x)/x - czyli sinc w dziedzinie czasu. Dobierz czas funkcji tak aby zawierał również czas \"ujemny\" - aby wygeneorwać symetryczną funkcję. \n",
    "\n",
    "Następnie przeprowadź analizę sygnału w dziedzinie częstotliwości. Co zauważyłeś?\n"
   ]
  },
  {
   "cell_type": "markdown",
   "metadata": {},
   "source": [
    "# Zadanie 4: Analiza okien FFT.\n",
    "\n",
    "Wygeneruj funkcję sinc i następnie zastosuj okno hanninga. Wykonaj analizę FFT dla obu przypadków i porównaj wyniki. Co zauważyłeś? "
   ]
  },
  {
   "cell_type": "markdown",
   "metadata": {},
   "source": [
    "# Zadanie 5: Analiza spektralna obrazów z użyciem FFT.\n",
    "\n",
    "https://scikit-image.org/docs/stable/auto_examples/\n",
    "\n",
    "https://scikit-image.org/docs/stable/auto_examples/data/plot_3d.html#sphx-glr-auto-examples-data-plot-3d-py\n",
    "\n",
    "Zapoznaj się z dokumentacją scikit image. Wykonaj analizę spektralną (2D FFT), poszczególnych rysunków. Zastosuj filtry zgodnie ze wskazówkami prowadzącego. \n"
   ]
  },
  {
   "cell_type": "code",
   "execution_count": null,
   "metadata": {},
   "outputs": [],
   "source": [
    "import matplotlib.pyplot as plt\n",
    "import matplotlib\n",
    "import numpy as np\n",
    "from skimage import data\n",
    "\n",
    "#Dostępne zdjęcia\n",
    "\n",
    "# 'hubble_deep_field',\n",
    "# 'immunohistochemistry',\n",
    "# 'lily',\n",
    "# 'microaneurysms',\n",
    "# 'moon',\n",
    "# 'retina',\n",
    "# 'shepp_logan_phantom',\n",
    "# 'skin',\n",
    "# 'cell',\n",
    "# 'human_mitosis',\n",
    "\n",
    "plt.figure()\n",
    "plt.imshow(data.hubble_deep_field()[:,:,0])"
   ]
  }
 ],
 "metadata": {
  "kernelspec": {
   "display_name": "numba_sprawna",
   "language": "python",
   "name": "python3"
  },
  "language_info": {
   "codemirror_mode": {
    "name": "ipython",
    "version": 3
   },
   "file_extension": ".py",
   "mimetype": "text/x-python",
   "name": "python",
   "nbconvert_exporter": "python",
   "pygments_lexer": "ipython3",
   "version": "3.10.8"
  }
 },
 "nbformat": 4,
 "nbformat_minor": 2
}
