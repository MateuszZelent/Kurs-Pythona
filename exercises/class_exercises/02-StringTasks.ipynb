{
 "cells": [
  {
   "cell_type": "markdown",
   "id": "dde94b06",
   "metadata": {},
   "source": [
    "\n",
    "# Zadania na stringach w Pythonie\n",
    "\n",
    "Poniżej znajdują się zadania praktyczne na operacje na stringach w Pythonie. Spróbuj rozwiązać je, korzystając z nabytej wiedzy.\n",
    "    "
   ]
  },
  {
   "cell_type": "markdown",
   "id": "00a76e00",
   "metadata": {},
   "source": [
    "\n",
    "## Zadanie 1: Palindrom\n",
    "\n",
    "Sprawdź, czy dany string jest palindromem. Palindrom to wyraz, który czytany od przodu i od tyłu jest taki sam.\n",
    "\n",
    "**Przykład:**\n",
    "\n",
    "- Wejście: 'kajak'\n",
    "- Wyjście: True\n",
    "\n",
    "- Wejście: 'Python'\n",
    "- Wyjście: False\n",
    "    "
   ]
  },
  {
   "cell_type": "markdown",
   "id": "619ac9d5",
   "metadata": {},
   "source": [
    "\n",
    "## Zadanie 2: Zamiana wielkości liter\n",
    "\n",
    "Zamień w danym stringu wszystkie małe litery na duże i odwrotnie.\n",
    "\n",
    "**Przykład:**\n",
    "\n",
    "- Wejście: 'Hello World'\n",
    "- Wyjście: 'hELLO wORLD'\n",
    "    "
   ]
  },
  {
   "cell_type": "markdown",
   "id": "9789377e",
   "metadata": {},
   "source": [
    "\n",
    "## Zadanie 3: Liczba wystąpień podstringu\n",
    "\n",
    "Znajdź liczbę wystąpień danego podstringu w stringu.\n",
    "\n",
    "**Przykład:**\n",
    "\n",
    "- Wejście: ('na', 'bananana')\n",
    "- Wyjście: 3\n",
    "    "
   ]
  },
  {
   "cell_type": "markdown",
   "id": "b7751a35",
   "metadata": {},
   "source": [
    "\n",
    "## Zadanie 4: Szyfr Cezara - zadanie trudne\n",
    "\n",
    "Napisz funkcję, która szyfruje dany tekst za pomocą szyfru Cezara, przesuwając każdą literę o określoną liczbę miejsc w alfabecie. Zignoruj wielkość liter i zakładaj, że szyfr dotyczy tylko liter alfabetu angielskiego.\n",
    "\n",
    "**Przykład:**\n",
    "\n",
    "- Wejście: ('abc', 3)\n",
    "- Wyjście: 'def'\n",
    "\n",
    "- Wejście: ('xyz', 1)\n",
    "- Wyjście: 'yza'\n",
    "    "
   ]
  },
  {
   "cell_type": "markdown",
   "id": "bc0e0e1f",
   "metadata": {},
   "source": [
    "\n",
    "## Zadanie 5: Najdłuższe słowo\n",
    "\n",
    "Znajdź najdłuższe słowo w danym stringu, który może zawierać różne znaki (nie tylko litery).\n",
    "\n",
    "**Przykład:**\n",
    "\n",
    "- Wejście: 'Python jest świetny, ale JavaScript jest jeszcze lepszy!'\n",
    "- Wyjście: 'JavaScript'\n",
    "    "
   ]
  },
  {
   "cell_type": "markdown",
   "id": "52f5de76",
   "metadata": {},
   "source": [
    "\n",
    "\n",
    "## Zadanie 6: Generowanie Raportu z Użyciem F-stringów, Pętli i Instrukcji Warunkowych\n",
    "\n",
    "Napisz funkcję generuj_raport, która przyjmuje listę słowników reprezentujących wyniki testów. Każdy słownik zawiera klucze nazwa (string) dla nazwy testu i wynik (boolean), gdzie True oznacza zaliczony test, a False niezaliczony. Funkcja powinna zwrócić sformatowany string (raport), który dla każdego testu wypisze linijkę w formacie: \"Test [nazwa testu]: [Status]\", gdzie [Status] to \"Zaliczony\" dla True i \"Niezaliczony\" dla False. Wykorzystaj f-stringi do formatowania tekstu, a także pętle i instrukcje warunkowe."
   ]
  },
  {
   "cell_type": "code",
   "execution_count": null,
   "id": "f822f6f8",
   "metadata": {},
   "outputs": [],
   "source": [
    "testy = [\n",
    "    {'nazwa': 'Test 1', 'wynik': True},\n",
    "    {'nazwa': 'Test 2', 'wynik': False},\n",
    "    {'nazwa': 'Test 3', 'wynik': True}\n",
    "]"
   ]
  },
  {
   "cell_type": "markdown",
   "id": "2db72caa",
   "metadata": {},
   "source": [
    "Oczekiwana odpowiedź:\n",
    "```code\n",
    "Test Test 1: Zaliczony\n",
    "Test Test 2: Niezaliczony\n",
    "Test Test 3: Zaliczony\n",
    "```"
   ]
  }
 ],
 "metadata": {
  "kernelspec": {
   "display_name": "base",
   "language": "python",
   "name": "python3"
  },
  "language_info": {
   "name": "python",
   "version": "3.10.13"
  }
 },
 "nbformat": 4,
 "nbformat_minor": 5
}
