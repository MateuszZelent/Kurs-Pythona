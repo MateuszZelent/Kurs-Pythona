{
 "cells": [
  {
   "cell_type": "markdown",
   "metadata": {},
   "source": [
    "# Zadanie 1\n",
    "\n",
    "Napisz program, w ktorym za pomoca funkcji input() wczytasz trzy liczby\n",
    "rzeczywiste, a nastepnie, korzystajac jedynie z funkcji wbudowanych min() i\n",
    "max(),  znajdziesz i wypiszesz kolejno najmniejsza, najwieksza oraz srodkowa z\n",
    "nich.\n",
    "\n"
   ]
  },
  {
   "cell_type": "code",
   "execution_count": null,
   "metadata": {
    "vscode": {
     "languageId": "plaintext"
    }
   },
   "outputs": [],
   "source": []
  },
  {
   "cell_type": "markdown",
   "metadata": {},
   "source": [
    "# Zadanie 2: Suma i Średnia Arytmetyczna"
   ]
  },
  {
   "cell_type": "markdown",
   "metadata": {},
   "source": [
    "Napisz program, który za pomocą funkcji input() wczyta od użytkownika pięć liczb całkowitych. Następnie, korzystając wyłącznie z podstawowych operacji arytmetycznych oraz funkcji wbudowanych Pythona, oblicz i wypisz sumę oraz średnią arytmetyczną tych liczb."
   ]
  },
  {
   "cell_type": "markdown",
   "metadata": {},
   "source": [
    "# Zadanie 3: Sprawdzenie Równości Sum"
   ]
  }
 ],
 "metadata": {
  "language_info": {
   "name": "python"
  }
 },
 "nbformat": 4,
 "nbformat_minor": 2
}
