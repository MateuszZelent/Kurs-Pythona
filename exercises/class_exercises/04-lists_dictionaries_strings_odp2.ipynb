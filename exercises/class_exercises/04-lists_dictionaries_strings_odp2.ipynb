{
 "cells": [
  {
   "cell_type": "markdown",
   "metadata": {},
   "source": [
    "# Zadanie 1: Formatowanie Stringów\n",
    "\n",
    "Cel: Zapoznanie się z f-stringami oraz podstawowymi operacjami na stringach.\n",
    "\n",
    "Treść: Utwórz zmienną imie przechowującą Twoje imię oraz zmienną wiek przechowującą Twój wiek jako liczbę. Następnie, używając f-stringa, wyświetl komunikat: \n",
    "\n",
    "\"Cześć, nazywam się [Twoje imię] i mam [Twój wiek] lat.\"\n"
   ]
  },
  {
   "cell_type": "code",
   "execution_count": null,
   "metadata": {},
   "outputs": [],
   "source": [
    "imie = \"Andrzej Nowak\"\n",
    "wiek = 3  # Aktualny wiek w 2025 roku\n",
    "print(f\"Cześć, nazywam się {imie} i mam {wiek} lat.\")"
   ]
  },
  {
   "cell_type": "markdown",
   "metadata": {},
   "source": [
    "# Zadanie 2: Praca z Listami\n",
    "\n",
    "Cel: Zapoznanie się z podstawowymi operacjami na listach: dodawanie elementów, indeksowanie, slicing.\n",
    "\n",
    "Treść: Utwórz listę owoce zawierającą nazwy trzech dowolnych owoców. Dodaj do tej listy jeszcze jeden owoc, a następnie wyświetl pierwszy i ostatni owoc z listy. Na koniec wyświetl środkowy owoc używając slicing.\n"
   ]
  },
  {
   "cell_type": "code",
   "execution_count": null,
   "metadata": {},
   "outputs": [],
   "source": [
    "# Utworzenie listy owoców\n",
    "owoce = [\"jabłko\", \"banan\", \"gruszka\"]\n",
    "\n",
    "# Dodanie nowego owocu\n",
    "owoce.append(\"truskawka\")\n",
    "\n",
    "# Wyświetlenie pierwszego i ostatniego owocu\n",
    "print(f\"Pierwszy owoc: {owoce[0]}\")\n",
    "print(f\"Ostatni owoc: {owoce[-1]}\")\n",
    "\n",
    "# Wyświetlenie środkowego owocu\n",
    "print(f\"Środkowy owoc: {owoce[len(owoce)//2]}\")"
   ]
  },
  {
   "cell_type": "markdown",
   "metadata": {},
   "source": [
    "# Zadanie 3: Słowniki i Typy Zmiennych\n",
    "\n",
    "Cel: Zapoznanie się z tworzeniem słowników oraz pracą z różnymi typami danych.\n",
    "\n",
    "Treść: Utwórz słownik osoba, który będzie zawierał klucze: imie, wiek, i hobby, z odpowiednimi wartościami (string, liczba, lista stringów). Następnie dodaj nowy klucz ulubiony_kolor z wartością będącą Twoim ulubionym kolorem. Wyświetl informacje o osobie w przejrzystym formacie."
   ]
  },
  {
   "cell_type": "code",
   "execution_count": null,
   "metadata": {},
   "outputs": [],
   "source": [
    "# Utworzenie słownika z danymi osoby\n",
    "osoba = {\n",
    "    \"imie\": \"GitHub Copilot\",\n",
    "    \"wiek\": 3,\n",
    "    \"hobby\": [\"programowanie\", \"analiza danych\", \"rozwiązywanie problemów\"]\n",
    "}\n",
    "\n",
    "# Dodanie nowego klucza\n",
    "osoba[\"ulubiony_kolor\"] = \"niebieski\"\n",
    "\n",
    "# Wyświetlenie informacji w przejrzystym formacie\n",
    "print(f\"Informacje o osobie:\")\n",
    "print(f\"Imię: {osoba['imie']}\")\n",
    "print(f\"Wiek: {osoba['wiek']} lat\")\n",
    "print(f\"Hobby: {', '.join(osoba['hobby'])}\")\n",
    "print(f\"Ulubiony kolor: {osoba['ulubiony_kolor']}\")"
   ]
  },
  {
   "cell_type": "markdown",
   "metadata": {},
   "source": [
    "# Zadanie 4: Zaawansowane Operacje na Stringach\n",
    "\n",
    "Cel: Praktyka manipulacji stringami i zrozumienie bardziej złożonych metod.\n",
    "\n",
    "Treść: Napisz funkcję zmien_litery, która przyjmuje string i zamienia każdą literę na następującą po niej w alfabecie (np. a na b, z na a - skorzystaj z \"chr(ord(znak) + 1)\" ). Funkcja powinna ignorować znaki niebędące literami i zachować wielkość liter.\n",
    "\n"
   ]
  },
  {
   "cell_type": "code",
   "execution_count": null,
   "metadata": {},
   "outputs": [
    {
     "name": "stdout",
     "output_type": "stream",
     "text": [
      "BcdeA aYz!\n"
     ]
    }
   ],
   "source": [
    "def zmien_litery(tekst):\n",
    "    wynik = \"\"\n",
    "    for znak in tekst:\n",
    "        if znak.isalpha():\n",
    "            if znak.lower() == 'z':\n",
    "                # Jeśli 'z', wracamy do 'a' (zachowując wielkość liter)\n",
    "                nowy_znak = 'a' if znak.islower() else 'A'\n",
    "            else:\n",
    "                # W przeciwnym razie, przejdź do następnej litery\n",
    "                nowy_znak = chr(ord(znak) + 1)\n",
    "            wynik += nowy_znak\n",
    "        else:\n",
    "            # Znaki niebędące literami pozostają bez zmian\n",
    "            wynik += znak\n",
    "    return wynik\n",
    "\n",
    "print(zmien_litery(\"AbcdZ zXy!\"))  # BcdeA aYz!"
   ]
  },
  {
   "cell_type": "markdown",
   "metadata": {},
   "source": [
    "# Zadanie 5: Operacje na Listach i Słownikach\n",
    "Cel: Praca z zaawansowanymi strukturami danych i algorytmami.\n",
    "\n",
    "Treść: Napisz funkcję statystyki_slow, która przyjmuje listę słów i zwraca słownik z literami jako kluczami, a jako wartości ilość ich wystąpień we wszystkich słowach. Funkcja powinna ignorować wielkość liter."
   ]
  },
  {
   "cell_type": "code",
   "execution_count": 4,
   "metadata": {},
   "outputs": [
    {
     "name": "stdout",
     "output_type": "stream",
     "text": [
      "{'p': 2, 'y': 1, 't': 1, 'h': 1, 'o': 3, 'n': 2, 'r': 3, 'g': 1, 'a': 2, 'm': 1, 'w': 1, 'i': 1, 'e': 1, 'k': 1, 'u': 1, 's': 1}\n"
     ]
    }
   ],
   "source": [
    "def statystyki_slow(slowa):\n",
    "    licznik={}\n",
    "    \n",
    "    for slowo in slowa:\n",
    "        #print(slowo)\n",
    "        for znak in slowo.lower():\n",
    "            #print(znak)\n",
    "            if znak in licznik:\n",
    "                licznik[znak]+=1\n",
    "            else:\n",
    "                licznik[znak]=1\n",
    "    return(licznik)\n",
    "\n",
    "print(statystyki_slow([\"Python\", \"Programowanie\", \"Kurs\"]))"
   ]
  },
  {
   "cell_type": "markdown",
   "metadata": {},
   "source": [
    "# Zadanie 6: Analiza Danych\n",
    "\n",
    "Cel: Zastosowanie kombinacji typów zmiennych do analizy danych.\n",
    "\n",
    "Treść: Utwórz funkcję srednia_ocen, która przyjmuje słownik, gdzie klucze to nazwy przedmiotów, a wartości to listy ocen. Funkcja powinna zwrócić nowy słownik z nazwami przedmiotów jako klucze i średnią ocen jako wartości.\n"
   ]
  },
  {
   "cell_type": "code",
   "execution_count": null,
   "metadata": {},
   "outputs": [
    {
     "name": "stdout",
     "output_type": "stream",
     "text": [
      "{'Matematyka': 4.0, 'Fizyka': 4.5, 'Informatyka': 5.0}\n"
     ]
    }
   ],
   "source": [
    "def srednia_ocen(oceny_przedmiotow):\n",
    "    dziennik={}\n",
    "    for przedmiot, lista_ocen in oceny_przedmiotow.items():\n",
    "            dziennik[przedmiot]= sum(lista_ocen) / len(lista_ocen) \n",
    "    return(dziennik)\n",
    "        \n",
    "\n",
    "\n",
    "oceny = {\n",
    "    \"Matematyka\": [4, 5, 3, 4],\n",
    "    \"Fizyka\": [5, 5, 4, 4],\n",
    "    \"Informatyka\": [5, 5, 5, 5]\n",
    "}\n",
    "print(srednia_ocen(oceny))"
   ]
  },
  {
   "cell_type": "markdown",
   "metadata": {},
   "source": [
    "# Zadanie 7: Grupowanie danych\n",
    "\n",
    "Cel: Zrozumienie operacji grupowania danych i pracy z zagnieżdżonymi strukturami.\n",
    "\n",
    "Treść: Napisz funkcję grupuj_wedlug_dlugosci, która przyjmuje listę słów i zwraca słownik, gdzie klucze to długości słów, a wartości to listy słów o danej długości, posortowane alfabetycznie."
   ]
  },
  {
   "cell_type": "code",
   "execution_count": null,
   "metadata": {},
   "outputs": [
    {
     "name": "stdout",
     "output_type": "stream",
     "text": [
      "None\n"
     ]
    }
   ],
   "source": [
    "def grupuj_wedlug_dlugosci(slowa):\n",
    "    grupy = {}\n",
    "    for slowo in slowa:\n",
    "        dlugosc = len(slowo)\n",
    "        if dlugosc not in grupy:\n",
    "            grupy[dlugosc] = []\n",
    "        grupy[dlugosc].append(slowo)\n",
    "    \n",
    "    # Sortowanie każdej grupy alfabetycznie\n",
    "    for dlugosc in grupy:\n",
    "        grupy[dlugosc].sort()\n",
    "    \n",
    "    return grupy\n",
    "\n",
    "print(grupuj_wedlug_dlugosci([\"python\", \"java\", \"c\", \"scal\", \"javascript\"]))"
   ]
  },
  {
   "cell_type": "markdown",
   "metadata": {},
   "source": [
    "# Zadanie 8: Wyszukiwanie i sortowanie\n",
    "\n",
    "Cel: Praktyka algorytmów wyszukiwania i sortowania na bardziej zaawansowanym poziomie.\n",
    "\n",
    "Treść: Napisz funkcję sortuj_i_wyszukaj, która przyjmuje listę krotek (nazwa, wiek) i wiek do wyszukania. Funkcja powinna zwrócić posortowaną alfabetycznie listę nazw osób, które mają dokładnie ten wiek."
   ]
  },
  {
   "cell_type": "code",
   "execution_count": null,
   "metadata": {},
   "outputs": [
    {
     "name": "stdout",
     "output_type": "stream",
     "text": [
      "None\n"
     ]
    }
   ],
   "source": [
    "def sortuj_i_wyszukaj(dane, szukany_wiek):\n",
    "    wynik = []\n",
    "    for nazwa, wiek in dane:\n",
    "        if wiek == szukany_wiek:\n",
    "            wynik.append(nazwa)\n",
    "    wynik.sort()  # Sortowanie alfabetyczne\n",
    "    return wynik\n",
    "\n",
    "# Przykładowe wywołanie\n",
    "dane_osob = [(\"Anna\", 25), (\"Jan\", 20), (\"Kasia\", 25), (\"Piotr\", 30)]\n",
    "print(sortuj_i_wyszukaj(dane_osob, 25))  # ['Anna', 'Kasia']"
   ]
  },
  {
   "cell_type": "markdown",
   "metadata": {},
   "source": [
    "# Zadanie 9: Zagnieżdżone słowniki\n",
    "\n",
    "Cel: Zrozumienie i manipulacja zagnieżdżonymi strukturami danych.\n",
    "\n",
    "Treść: Utwórz funkcję aktualizuj_dane_osob, która przyjmuje słownik z danymi osób (gdzie klucze to identyfikatory, a wartości to słowniki z kluczami imie, wiek, email) oraz słownik zmian. Funkcja powinna zaktualizować dane osob zgodnie z przekazanymi zmianami i zwrócić zaktualizowany słownik."
   ]
  },
  {
   "cell_type": "code",
   "execution_count": null,
   "metadata": {},
   "outputs": [
    {
     "name": "stdout",
     "output_type": "stream",
     "text": [
      "None\n"
     ]
    }
   ],
   "source": [
    "def aktualizuj_dane_osob(dane, zmiany):\n",
    "    # Tworzymy kopię danych, aby nie modyfikować oryginalnego słownika\n",
    "    zaktualizowane_dane = dane.copy()\n",
    "    \n",
    "    for osoba_id, nowe_dane in zmiany.items():\n",
    "        if osoba_id in zaktualizowane_dane:\n",
    "            for klucz, wartosc in nowe_dane.items():\n",
    "                zaktualizowane_dane[osoba_id][klucz] = wartosc\n",
    "    \n",
    "    return zaktualizowane_dane\n",
    "\n",
    "# Przykładowe wywołanie\n",
    "dane_osob = {\n",
    "    1: {\"imie\": \"Jan\", \"wiek\": 25, \"email\": \"jan@domena.com\"},\n",
    "    2: {\"imie\": \"Anna\", \"wiek\": 30, \"email\": \"anna@domena.com\"}\n",
    "}\n",
    "zmiany = {\n",
    "    1: {\"email\": \"nowy.jan@domena.com\"},\n",
    "    2: {\"wiek\": 31}\n",
    "}\n",
    "print(aktualizuj_dane_osob(dane_osob, zmiany))"
   ]
  },
  {
   "cell_type": "markdown",
   "metadata": {},
   "source": [
    "# Zadanie 10: Filtrowanie danych\n",
    "\n",
    "Cel: Nauka filtrowania danych w kolekcjach za pomocą funkcji.\n",
    "\n",
    "Treść: Napisz funkcję filtruj_ujemne, która przyjmuje listę liczb i zwraca nową listę zawierającą tylko te liczby, które są dodatnie."
   ]
  },
  {
   "cell_type": "code",
   "execution_count": null,
   "metadata": {},
   "outputs": [
    {
     "name": "stdout",
     "output_type": "stream",
     "text": [
      "None\n"
     ]
    }
   ],
   "source": [
    "def filtruj_ujemne(liczby):\n",
    "    return [liczba for liczba in liczby if liczba >= 0]\n",
    "\n",
    "# Przykładowe wywołanie\n",
    "print(filtruj_ujemne([-5, 3, -1, 0, 7, -3]))  # [3, 0, 7]"
   ]
  },
  {
   "cell_type": "markdown",
   "metadata": {},
   "source": [
    "# Zadanie 11: Mapowanie danych\n",
    "\n",
    "Cel: Zapoznanie się z funkcją map i zastosowaniem jej do przekształcania danych w kolekcji.\n",
    "\n",
    "Treść: Napisz funkcję kwadraty_liczb, która przyjmuje listę liczb i zwraca listę kwadratów tych liczb.\n"
   ]
  },
  {
   "cell_type": "code",
   "execution_count": null,
   "metadata": {},
   "outputs": [
    {
     "name": "stdout",
     "output_type": "stream",
     "text": [
      "None\n"
     ]
    }
   ],
   "source": [
    "def kwadraty_liczb(liczby):\n",
    "    return [liczba ** 2 for liczba in liczby]\n",
    "\n",
    "# Przykładowe wywołanie\n",
    "print(kwadraty_liczb([1, 2, 3, 4, 5]))  # [1, 4, 9, 16, 25]"
   ]
  },
  {
   "cell_type": "markdown",
   "metadata": {},
   "source": [
    "# Zadanie 12: Zliczanie elementów\n",
    "\n",
    "Cel: Nauka zliczania wystąpień elementów w kolekcji.\n",
    "\n",
    "Treść: Napisz funkcję zlicz_elementy, która przyjmuje listę elementów i zwraca słownik, gdzie klucze to unikalne elementy z listy, a wartości to liczba ich wystąpień."
   ]
  },
  {
   "cell_type": "code",
   "execution_count": null,
   "metadata": {},
   "outputs": [
    {
     "name": "stdout",
     "output_type": "stream",
     "text": [
      "None\n"
     ]
    }
   ],
   "source": [
    "def zlicz_elementy(elementy):\n",
    "    licznik = {}\n",
    "    for element in elementy:\n",
    "        if element in licznik:\n",
    "            licznik[element] += 1\n",
    "        else:\n",
    "            licznik[element] = 1\n",
    "    return licznik\n",
    "\n",
    "print(zlicz_elementy([\"a\", \"b\", \"a\", \"c\", \"b\", \"a\"]))  # {'a': 3, 'b': 2, 'c': 1}"
   ]
  }
 ],
 "metadata": {
  "kernelspec": {
   "display_name": "numba_sprawna",
   "language": "python",
   "name": "python3"
  },
  "language_info": {
   "codemirror_mode": {
    "name": "ipython",
    "version": 3
   },
   "file_extension": ".py",
   "mimetype": "text/x-python",
   "name": "python",
   "nbconvert_exporter": "python",
   "pygments_lexer": "ipython3",
   "version": "3.10.8"
  }
 },
 "nbformat": 4,
 "nbformat_minor": 2
}
