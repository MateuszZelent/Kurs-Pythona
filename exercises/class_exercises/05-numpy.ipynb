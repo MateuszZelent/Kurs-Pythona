{
 "cells": [
  {
   "cell_type": "code",
   "execution_count": 1,
   "metadata": {},
   "outputs": [],
   "source": [
    "import numpy as np"
   ]
  },
  {
   "cell_type": "markdown",
   "metadata": {},
   "source": [
    "# Zadanie 1: Tworzenie tablic\n",
    "Zadanie: Stwórz tablicę jednowymiarową zawierającą liczby od 1 do 10.\n"
   ]
  },
  {
   "cell_type": "code",
   "execution_count": 2,
   "metadata": {},
   "outputs": [],
   "source": [
    "def zad1():\n",
    "    pass\n",
    "    \n",
    "zad1()"
   ]
  },
  {
   "cell_type": "markdown",
   "metadata": {},
   "source": [
    "# Zadanie 2: Operacje na tablicach\n",
    "Zadanie: Oblicz sumę, średnią, oraz odchylenie standardowe elementów tablicy z ćwiczenia 1.\n"
   ]
  },
  {
   "cell_type": "code",
   "execution_count": 3,
   "metadata": {},
   "outputs": [],
   "source": [
    "def zad2():\n",
    "    pass\n",
    "        \n",
    "zad2()"
   ]
  },
  {
   "cell_type": "markdown",
   "metadata": {},
   "source": [
    "# Zadanie 3: Przekształcenia tablic\n",
    "Zadanie: Zmień kształt tablicy z ćwiczenia 1 na 2x5."
   ]
  },
  {
   "cell_type": "code",
   "execution_count": 4,
   "metadata": {},
   "outputs": [],
   "source": [
    "def zad3():\n",
    "    pass\n",
    "        \n",
    "zad3()"
   ]
  },
  {
   "cell_type": "markdown",
   "metadata": {},
   "source": [
    "# Zadanie 4: Indeksowanie i wycinanie\n",
    "Zadanie: Z tablicy utworzonej w ćwiczeniu 3 wybierz drugi wiersz"
   ]
  },
  {
   "cell_type": "code",
   "execution_count": 5,
   "metadata": {},
   "outputs": [],
   "source": [
    "def zad4():\n",
    "    pass\n",
    "        \n",
    "zad4()"
   ]
  },
  {
   "cell_type": "markdown",
   "metadata": {},
   "source": [
    "# Zadanie 5: Operacje na macierzach\n",
    "Zadanie: Stwórz dwie macierze 3x3 i oblicz ich iloczyn.\n",
    "\n",
    "Skorzystaj z dokumentacji numpy: https://numpy.org/doc/stable/reference/generated/numpy.dot.html"
   ]
  },
  {
   "cell_type": "code",
   "execution_count": 6,
   "metadata": {},
   "outputs": [],
   "source": [
    "def zad5():\n",
    "    pass\n",
    "    \n",
    "zad5()"
   ]
  },
  {
   "cell_type": "markdown",
   "metadata": {},
   "source": [
    "# Zadanie 6:  Generowanie danych\n",
    "Zadanie: Utwórz tablicę 3x3 zawierającą losowe wartości z przedziału od 0 do 10.\n"
   ]
  },
  {
   "cell_type": "code",
   "execution_count": 7,
   "metadata": {},
   "outputs": [],
   "source": [
    "def zad6():\n",
    "    pass\n",
    "zad6()"
   ]
  },
  {
   "cell_type": "markdown",
   "metadata": {},
   "source": [
    "# Zadanie 7: Operacje logiczne\n",
    "Zadanie: Stwórz maskę logiczną dla tablicy z ćwiczenia 7, która identyfikuje wartości większe niż 5."
   ]
  },
  {
   "cell_type": "code",
   "execution_count": 8,
   "metadata": {},
   "outputs": [],
   "source": [
    "def zad7():\n",
    "    pass\n",
    "\n",
    "zad7()"
   ]
  },
  {
   "cell_type": "markdown",
   "metadata": {},
   "source": [
    "# Zadanie 8:  Manipulacja danymi\n",
    "Zadanie: Zastąp wszystkie wartości mniejsze niż 5 w tablicy z ćwiczenia 7 wartością -1."
   ]
  },
  {
   "cell_type": "code",
   "execution_count": 9,
   "metadata": {},
   "outputs": [],
   "source": [
    "def zad8():\n",
    "    pass\n",
    "\n",
    "zad8()"
   ]
  },
  {
   "cell_type": "code",
   "execution_count": null,
   "metadata": {},
   "outputs": [],
   "source": []
  },
  {
   "cell_type": "code",
   "execution_count": null,
   "metadata": {},
   "outputs": [],
   "source": []
  },
  {
   "cell_type": "code",
   "execution_count": null,
   "metadata": {},
   "outputs": [],
   "source": []
  },
  {
   "cell_type": "code",
   "execution_count": null,
   "metadata": {},
   "outputs": [],
   "source": []
  }
 ],
 "metadata": {
  "kernelspec": {
   "display_name": "base",
   "language": "python",
   "name": "python3"
  },
  "language_info": {
   "codemirror_mode": {
    "name": "ipython",
    "version": 3
   },
   "file_extension": ".py",
   "mimetype": "text/x-python",
   "name": "python",
   "nbconvert_exporter": "python",
   "pygments_lexer": "ipython3",
   "version": "3.10.13"
  }
 },
 "nbformat": 4,
 "nbformat_minor": 2
}
