{
 "cells": [
  {
   "cell_type": "code",
   "execution_count": 2,
   "metadata": {},
   "outputs": [],
   "source": [
    "import numpy as np"
   ]
  },
  {
   "cell_type": "markdown",
   "metadata": {},
   "source": [
    "# Zadanie 1: Tworzenie tablic\n",
    "Zadanie: Stwórz tablicę jednowymiarową zawierającą liczby od 1 do 10.\n"
   ]
  },
  {
   "cell_type": "code",
   "execution_count": 3,
   "metadata": {},
   "outputs": [
    {
     "name": "stdout",
     "output_type": "stream",
     "text": [
      "[ 1  2  3  4  5  6  7  8  9 10]\n"
     ]
    }
   ],
   "source": [
    "def zad1():\n",
    "    print(np.arange(1, 11))\n",
    "    \n",
    "zad1()"
   ]
  },
  {
   "cell_type": "markdown",
   "metadata": {},
   "source": [
    "# Zadanie 2: Operacje na tablicach\n",
    "Zadanie: Oblicz sumę, średnią, oraz odchylenie standardowe elementów tablicy z ćwiczenia 1.\n"
   ]
  },
  {
   "cell_type": "code",
   "execution_count": null,
   "metadata": {},
   "outputs": [],
   "source": []
  },
  {
   "cell_type": "code",
   "execution_count": 5,
   "metadata": {},
   "outputs": [
    {
     "name": "stdout",
     "output_type": "stream",
     "text": [
      "55 5.5 2.8722813232690143\n"
     ]
    }
   ],
   "source": [
    "def zad2():\n",
    "    a = np.arange(1, 11)\n",
    "    print(a.sum(), a.mean(), a.std())\n",
    "        \n",
    "zad2()"
   ]
  },
  {
   "cell_type": "markdown",
   "metadata": {},
   "source": [
    "# Zadanie 3: Przekształcenia tablic\n",
    "Zadanie: Zmień kształt tablicy z ćwiczenia 1 na 2x5."
   ]
  },
  {
   "cell_type": "code",
   "execution_count": 2,
   "metadata": {},
   "outputs": [],
   "source": [
    "import numpy as np"
   ]
  },
  {
   "cell_type": "code",
   "execution_count": 3,
   "metadata": {},
   "outputs": [
    {
     "name": "stdout",
     "output_type": "stream",
     "text": [
      "10\n",
      "[[ 1  2  3  4  5]\n",
      " [ 6  7  8  9 10]]\n"
     ]
    }
   ],
   "source": [
    "def zad3():\n",
    "    a = np.arange(1, 11)\n",
    "    print(a.size)\n",
    "    print(a.reshape(2, 5))\n",
    "        \n",
    "zad3()"
   ]
  },
  {
   "cell_type": "markdown",
   "metadata": {},
   "source": [
    "# Zadanie 4: Indeksowanie i wycinanie\n",
    "Zadanie: Z tablicy utworzonej w ćwiczeniu 3 wybierz drugi wiersz"
   ]
  },
  {
   "cell_type": "code",
   "execution_count": 13,
   "metadata": {},
   "outputs": [
    {
     "name": "stdout",
     "output_type": "stream",
     "text": [
      "[ 6  7  8  9 10]\n"
     ]
    }
   ],
   "source": [
    "def zad4():\n",
    "    a = np.arange(1, 11)\n",
    "    print(a.reshape(2, 5)[1])\n",
    "        \n",
    "zad4()"
   ]
  },
  {
   "cell_type": "markdown",
   "metadata": {},
   "source": [
    "# Zadanie 5: Operacje na macierzach\n",
    "Zadanie: Stwórz dwie macierze 3x3 i oblicz ich iloczyn.\n",
    "\n",
    "Skorzystaj z dokumentacji numpy: https://numpy.org/doc/stable/reference/generated/numpy.dot.html"
   ]
  },
  {
   "cell_type": "code",
   "execution_count": 16,
   "metadata": {},
   "outputs": [
    {
     "name": "stdout",
     "output_type": "stream",
     "text": [
      "[[ 30  24  18]\n",
      " [ 84  69  54]\n",
      " [138 114  90]]\n"
     ]
    }
   ],
   "source": [
    "def zad5():\n",
    "    m1 = np.array([[1, 2, 3], [4, 5, 6], [7, 8, 9]])\n",
    "    m2 = np.array([[9, 8, 7], [6, 5, 4], [3, 2, 1]])\n",
    "    print(np.dot(m1, m2))\n",
    "    \n",
    "zad5()"
   ]
  },
  {
   "cell_type": "markdown",
   "metadata": {},
   "source": [
    "# Zadanie 6:  Generowanie danych\n",
    "Zadanie: Utwórz tablicę 3x3 zawierającą losowe wartości z przedziału od 0 do 10.\n"
   ]
  },
  {
   "cell_type": "code",
   "execution_count": 17,
   "metadata": {},
   "outputs": [
    {
     "name": "stdout",
     "output_type": "stream",
     "text": [
      "[[ 3  5  9]\n",
      " [ 1  0  7]\n",
      " [10  0 10]]\n"
     ]
    }
   ],
   "source": [
    "def zad6():\n",
    "    print(np.random.randint(0, 11, (3, 3)))\n",
    "zad6()"
   ]
  },
  {
   "cell_type": "markdown",
   "metadata": {},
   "source": [
    "# Zadanie 7: Operacje logiczne\n",
    "Zadanie: Stwórz maskę logiczną dla tablicy z ćwiczenia 7, która identyfikuje wartości większe niż 5."
   ]
  },
  {
   "cell_type": "code",
   "execution_count": 19,
   "metadata": {},
   "outputs": [
    {
     "name": "stdout",
     "output_type": "stream",
     "text": [
      "[[False False False]\n",
      " [False  True False]\n",
      " [False False False]]\n"
     ]
    }
   ],
   "source": [
    "def zad7():\n",
    "    tablica_7 = np.random.randint(0, 11, (3, 3))\n",
    "    print(tablica_7 > 5)\n",
    "\n",
    "zad7()"
   ]
  },
  {
   "cell_type": "markdown",
   "metadata": {},
   "source": [
    "# Zadanie 8:  Manipulacja danymi\n",
    "Zadanie: Zastąp wszystkie wartości mniejsze niż 5 w tablicy z ćwiczenia 7 wartością -1."
   ]
  },
  {
   "cell_type": "code",
   "execution_count": 21,
   "metadata": {},
   "outputs": [
    {
     "name": "stdout",
     "output_type": "stream",
     "text": [
      "[[-1 10  6]\n",
      " [ 8 10 -1]\n",
      " [ 5 10  8]]\n"
     ]
    }
   ],
   "source": [
    "def zad8():\n",
    "    tablica_7 = np.random.randint(0, 11, (3, 3))\n",
    "    tablica_7[tablica_7 < 5] = -1\n",
    "    print(tablica_7)\n",
    "\n",
    "zad8()"
   ]
  }
 ],
 "metadata": {
  "kernelspec": {
   "display_name": "base",
   "language": "python",
   "name": "python3"
  },
  "language_info": {
   "codemirror_mode": {
    "name": "ipython",
    "version": 3
   },
   "file_extension": ".py",
   "mimetype": "text/x-python",
   "name": "python",
   "nbconvert_exporter": "python",
   "pygments_lexer": "ipython3",
   "version": "3.10.13"
  }
 },
 "nbformat": 4,
 "nbformat_minor": 2
}
