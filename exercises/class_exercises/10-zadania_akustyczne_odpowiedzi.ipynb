{
 "cells": [
  {
   "cell_type": "code",
   "execution_count": null,
   "metadata": {},
   "outputs": [],
   "source": [
    "!pip install ipympl \n",
    "import matplotlib\n",
    "%matplotlib widget"
   ]
  },
  {
   "cell_type": "markdown",
   "metadata": {},
   "source": [
    "## Zadanie 1. Analiza samogłosek:\n",
    "\n",
    "Nagraj przez mikrofon w telefonie (używając dyktafonu) swoje wypowiedzi zawierające różne samogłoski: \"a\", \"e\", \"i\", \"o\", \"u\".\n",
    "\n",
    "Upewnij się, że każda samogłoska jest wyraźnie wymówiona i oddzielona krótką przerwą.\n",
    "\n",
    "Wykonaj analizę Fouriera dla każdej nagranej samogłoski.\n",
    "\n",
    "Porównaj uzyskane widma częstotliwościowe i opisz różnice w charakterystyce częstotliwościowej poszczególnych samogłosek.\n",
    "\n"
   ]
  },
  {
   "cell_type": "code",
   "execution_count": null,
   "metadata": {},
   "outputs": [],
   "source": [
    "import numpy as np\n",
    "import matplotlib.pyplot as plt\n",
    "from scipy.io import wavfile\n",
    "from scipy.fft import fft, fftfreq\n",
    "\n",
    "def analyze_vowels(filenames):\n",
    "    for filename in filenames:\n",
    "        sample_rate, data = wavfile.read(filename)\n",
    "        N = len(data)\n",
    "        yf = fft(data)\n",
    "        xf = fftfreq(N, 1 / sample_rate)\n",
    "        \n",
    "        plt.figure()\n",
    "        plt.plot(xf[:N // 2], np.abs(yf[:N // 2]))\n",
    "        plt.title(f\"Fourier Transform of {filename}\")\n",
    "        plt.xlabel('Frequency (Hz)')\n",
    "        plt.ylabel('Magnitude')\n",
    "        plt.show()\n",
    "\n",
    "vowel_files = [\"a.wav\", \"e.wav\", \"i.wav\", \"o.wav\", \"u.wav\"]\n",
    "analyze_vowels(vowel_files)\n"
   ]
  },
  {
   "cell_type": "markdown",
   "metadata": {},
   "source": [
    "# Zadanie 2: Analiza tonu i intonacji:\n",
    "\n",
    "Nagraj przez mikrofon w telefonie (używając dyktafonu) swoje wypowiedzi w różnych tonach: niski, średni, wysoki.\n",
    "\n",
    "Każdy ton powinien być nagrany oddzielnie, przez co najmniej 5 sekund.\n",
    "\n",
    "Wykonaj analizę Fouriera dla każdego nagranego tonu.\n",
    "\n",
    "Porównaj widma częstotliwościowe dla niskiego, średniego i wysokiego tonu. Opisz, jak zmieniają się częstotliwości dominujące wraz ze zmianą tonu głosu."
   ]
  },
  {
   "cell_type": "code",
   "execution_count": null,
   "metadata": {},
   "outputs": [],
   "source": [
    "def analyze_tones(filenames):\n",
    "    for filename in filenames:\n",
    "        sample_rate, data = wavfile.read(filename)\n",
    "        N = len(data)\n",
    "        yf = fft(data)\n",
    "        xf = fftfreq(N, 1 / sample_rate)\n",
    "        \n",
    "        plt.figure()\n",
    "        plt.plot(xf[:N // 2], np.abs(yf[:N // 2]))\n",
    "        plt.title(f\"Fourier Transform of {filename}\")\n",
    "        plt.xlabel('Frequency (Hz)')\n",
    "        plt.ylabel('Magnitude')\n",
    "        plt.show()\n",
    "\n",
    "tone_files = [\"low_tone.wav\", \"mid_tone.wav\", \"high_tone.wav\"]\n",
    "analyze_tones(tone_files)\n"
   ]
  },
  {
   "cell_type": "markdown",
   "metadata": {},
   "source": [
    "# Zadanie 3: Analiza głosek spółgłoskowych\n",
    "\n",
    "Nagraj przez mikrofon w telefonie (używając dyktafonu) swoje wypowiedzi zawierające różne spółgłoski: \"b\", \"d\", \"g\", \"m\", \"n\".\n",
    "\n",
    "Każda spółgłoska powinna być wyraźnie wymówiona w oddzielnych nagraniach.\n",
    "\n",
    "Wykonaj analizę Fouriera dla każdej nagranej spółgłoski.\n",
    "\n",
    "Porównaj uzyskane widma częstotliwościowe i opisz różnice w charakterystyce częstotliwościowej poszczególnych spółgłosek."
   ]
  },
  {
   "cell_type": "code",
   "execution_count": null,
   "metadata": {},
   "outputs": [],
   "source": [
    "def analyze_consonants(filenames):\n",
    "    for filename in filenames:\n",
    "        sample_rate, data = wavfile.read(filename)\n",
    "        N = len(data)\n",
    "        yf = fft(data)\n",
    "        xf = fftfreq(N, 1 / sample_rate)\n",
    "        \n",
    "        plt.figure()\n",
    "        plt.plot(xf[:N // 2], np.abs(yf[:N // 2]))\n",
    "        plt.title(f\"Fourier Transform of {filename}\")\n",
    "        plt.xlabel('Frequency (Hz)')\n",
    "        plt.ylabel('Magnitude')\n",
    "        plt.show()\n",
    "\n",
    "consonant_files = [\"b.wav\", \"d.wav\", \"g.wav\", \"m.wav\", \"n.wav\"]\n",
    "analyze_consonants(consonant_files)\n"
   ]
  },
  {
   "cell_type": "markdown",
   "metadata": {},
   "source": [
    "# Zadanie 4: Analiza dźwięków muzycznych\n",
    "\n",
    "Nagraj przez mikrofon w telefonie (używając dyktafonu) swoje śpiewanie pojedynczych dźwięków muzycznych (nut): C, E, G.\n",
    "\n",
    "Każdy dźwięk powinien być śpiewany przez co najmniej 5 sekund.\n",
    "\n",
    "Wykonaj analizę Fouriera dla każdego nagranego dźwięku muzycznego.\n",
    "\n",
    "Porównaj uzyskane widma częstotliwościowe dla dźwięków C, E, G. Opisz, jakie częstotliwości dominują w poszczególnych nagraniach i jak się one różnią między sobą."
   ]
  },
  {
   "cell_type": "code",
   "execution_count": null,
   "metadata": {},
   "outputs": [],
   "source": [
    "def analyze_musical_notes(filenames):\n",
    "    for filename in filenames:\n",
    "        sample_rate, data = wavfile.read(filename)\n",
    "        N = len(data)\n",
    "        yf = fft(data)\n",
    "        xf = fftfreq(N, 1 / sample_rate)\n",
    "        \n",
    "        plt.figure()\n",
    "        plt.plot(xf[:N // 2], np.abs(yf[:N // 2]))\n",
    "        plt.title(f\"Fourier Transform of {filename}\")\n",
    "        plt.xlabel('Frequency (Hz)')\n",
    "        plt.ylabel('Magnitude')\n",
    "        plt.show()\n",
    "\n",
    "note_files = [\"C_note.wav\", \"E_note.wav\", \"G_note.wav\"]\n",
    "analyze_musical_notes(note_files)\n"
   ]
  }
 ],
 "metadata": {
  "kernelspec": {
   "display_name": "numba_sprawna",
   "language": "python",
   "name": "python3"
  },
  "language_info": {
   "name": "python",
   "version": "3.1.-1"
  }
 },
 "nbformat": 4,
 "nbformat_minor": 2
}
