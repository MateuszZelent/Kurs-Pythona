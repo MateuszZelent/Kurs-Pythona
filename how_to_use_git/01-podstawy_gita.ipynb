{
 "cells": [
  {
   "cell_type": "markdown",
   "metadata": {},
   "source": [
    "# Wprowadzenie do Git i GitHub oraz Klonowanie Repozytorium\n",
    "Git to system kontroli wersji, który umożliwia programistom śledzenie i zarządzanie zmianami w kodzie źródłowym. Jest to narzędzie niezwykle ważne w każdym projekcie programistycznym, szczególnie gdy nad projektem pracuje wielu deweloperów. GitHub natomiast jest serwisem internetowym opartym na Gicie, który oferuje hosting dla repozytoriów kodu oraz dodatkowe narzędzia wspierające rozwój oprogramowania."
   ]
  },
  {
   "cell_type": "markdown",
   "metadata": {},
   "source": [
    "## Co to jest Git?\n",
    "\n",
    "Git jest rozproszonym systemem kontroli wersji, co oznacza, że każdy deweloper pracujący nad projektem posiada pełną kopię repozytorium na swoim lokalnym komputerze. Umożliwia to pracę na własnych zmianach niezależnie, a następnie scalanie ich z główną gałęzią projektu."
   ]
  },
  {
   "cell_type": "markdown",
   "metadata": {},
   "source": [
    "## Co to jest GitHub?\n",
    "\n",
    "GitHub to platforma społecznościowa dla programistów, która umożliwia przechowywanie repozytoriów Git, współpracę nad projektami, śledzenie błędów oraz dzielenie się kodem z innymi. Jest to obecnie jedno z najpopularniejszych miejsc, gdzie deweloperzy mogą hostować swoje projekty i wspólnie nad nimi pracować."
   ]
  },
  {
   "cell_type": "markdown",
   "metadata": {},
   "source": [
    "## Jak Sklonować Repozytorium na Swoje Konto?"
   ]
  },
  {
   "cell_type": "markdown",
   "metadata": {},
   "source": [
    "Klonowanie repozytorium to proces tworzenia lokalnej kopii projektu na swoim komputerze. Pozwala to na pracę z kodem źródłowym, dokonywanie zmian oraz wysyłanie ich z powrotem do zdalnego repozytorium. Oto jak możesz sklonować repozytorium na swoje konto GitHub i lokalny komputer:\n",
    "1. Utwórz konto na GitHub (jeśli jeszcze nie posiadasz)\n",
    "\n",
    "    Przejdź na stronę GitHub i zarejestruj się, tworząc nowe konto lub zaloguj się na istniejące konto.\n",
    "\n",
    "2. Znajdź Repozytorium do Sklonowania\n",
    "\n",
    "    Przejdź do repozytorium, które chcesz sklonować, np. https://github.com/kkingstoun/Kurs-Pythona.\n",
    "\n",
    "3. \"Forkowanie\" repozytorium -- to proces kopiowania repozytorium na własne konto z możliwością edytowania i publikacji \"własnej wersji\" repozytorium.\n",
    "\n",
    "    Na stronie repozytorium kliknij przycisk \"Fork\" w prawym górnym rogu. Dzięki temu utworzysz na swoim koncie kopię tego repozytorium.\n",
    "\n",
    "    Po utworzeniu forka, aby sklonować repozytorium na lokalny komputer, kliknij przycisk \"Code\" i skopiuj adres URL repozytorium.\n",
    "\n",
    "4. Klonowanie repozytorium - bądź na bieżąco ze wszystkimi zmianami i edytuj pliki lokalnie:\n",
    "\n",
    "    Otwórz terminal na swoim komputerze i użyj polecenia git clone razem z skopiowanym adresem URL:"
   ]
  },
  {
   "cell_type": "markdown",
   "metadata": {},
   "source": [
    "## Upewnij się, że w katalogu domowym masz katalog \"home\"\n",
    "\n",
    "Zastosowanie \"!\" w komórce jupytera powoduje uruchamianie poleceń w powłoce basha"
   ]
  },
  {
   "cell_type": "code",
   "execution_count": 1,
   "metadata": {},
   "outputs": [],
   "source": [
    "!mkdir ~/home"
   ]
  },
  {
   "cell_type": "markdown",
   "metadata": {},
   "source": [
    "Uruchomnienie powyższej komendy, stworzy katalog home\n",
    "\n",
    "Uruchomienie poniższej komendy, spowoduje sklonowanie zdalnego repozytorium do wskazanego katalogu  \"~/\" - oznacza skrót do waszego katalogu domowego."
   ]
  },
  {
   "cell_type": "code",
   "execution_count": 2,
   "metadata": {},
   "outputs": [
    {
     "name": "stdout",
     "output_type": "stream",
     "text": [
      "Cloning into '/home/kkingstoun/home/Kurs-Pythona'...\n",
      "remote: Enumerating objects: 151, done.\u001b[K\n",
      "remote: Counting objects: 100% (151/151), done.\u001b[K\n",
      "remote: Compressing objects: 100% (103/103), done.\u001b[K\n",
      "remote: Total 151 (delta 58), reused 135 (delta 42), pack-reused 0\u001b[K\n",
      "Receiving objects: 100% (151/151), 109.01 KiB | 516.00 KiB/s, done.\n",
      "Resolving deltas: 100% (58/58), done.\n"
     ]
    }
   ],
   "source": [
    "!git clone https://github.com/kkingstoun/Kurs-Pythona.git ~/home/Kurs-Pythona"
   ]
  },
  {
   "cell_type": "markdown",
   "metadata": {},
   "source": [
    "```bash\n",
    "git clone https://github.com/kkingstoun/Kurs-Pythona.git \n",
    "```\n",
    "To polecenie spowoduje sklonowanie zdalnego repozytorium do aktualnego katalogu w którym polecenie jest uruchamiane. "
   ]
  }
 ],
 "metadata": {
  "kernelspec": {
   "display_name": "base",
   "language": "python",
   "name": "python3"
  },
  "language_info": {
   "codemirror_mode": {
    "name": "ipython",
    "version": 3
   },
   "file_extension": ".py",
   "mimetype": "text/x-python",
   "name": "python",
   "nbconvert_exporter": "python",
   "pygments_lexer": "ipython3",
   "version": "3.10.13"
  }
 },
 "nbformat": 4,
 "nbformat_minor": 2
}
